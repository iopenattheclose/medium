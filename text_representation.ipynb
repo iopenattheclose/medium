{
 "cells": [
  {
   "cell_type": "code",
   "execution_count": 1,
   "metadata": {},
   "outputs": [
    {
     "name": "stderr",
     "output_type": "stream",
     "text": [
      "[nltk_data] Downloading package punkt to /Users/prupro/nltk_data...\n",
      "[nltk_data]   Package punkt is already up-to-date!\n",
      "[nltk_data] Downloading package stopwords to\n",
      "[nltk_data]     /Users/prupro/nltk_data...\n",
      "[nltk_data]   Package stopwords is already up-to-date!\n",
      "[nltk_data] Downloading package wordnet to /Users/prupro/nltk_data...\n",
      "[nltk_data]   Package wordnet is already up-to-date!\n",
      "[nltk_data] Downloading package averaged_perceptron_tagger to\n",
      "[nltk_data]     /Users/prupro/nltk_data...\n",
      "[nltk_data]   Package averaged_perceptron_tagger is already up-to-\n",
      "[nltk_data]       date!\n",
      "[nltk_data] Downloading package tagsets to /Users/prupro/nltk_data...\n",
      "[nltk_data]   Package tagsets is already up-to-date!\n",
      "[nltk_data] Downloading package universal_tagset to\n",
      "[nltk_data]     /Users/prupro/nltk_data...\n",
      "[nltk_data]   Package universal_tagset is already up-to-date!\n",
      "[nltk_data] Downloading package treebank to /Users/prupro/nltk_data...\n",
      "[nltk_data]   Package treebank is already up-to-date!\n",
      "[nltk_data] Downloading package punkt_tab to\n",
      "[nltk_data]     /Users/prupro/nltk_data...\n",
      "[nltk_data]   Package punkt_tab is already up-to-date!\n"
     ]
    }
   ],
   "source": [
    "# libraries to display dataframe and images\n",
    "from IPython.display import display\n",
    "from PIL import Image\n",
    "# matplotlib for vizualization\n",
    "import matplotlib.pyplot as plt\n",
    "import seaborn as sns\n",
    "import pandas as pd\n",
    "# inbuild library to work with textual data\n",
    "import string\n",
    "# Setting up the NLTK to pre-processing textual data\n",
    "import nltk\n",
    "from nltk.corpus import stopwords, wordnet\n",
    "from nltk.stem import PorterStemmer, LancasterStemmer, SnowballStemmer, WordNetLemmatizer\n",
    "from nltk.tokenize import word_tokenize, sent_tokenize\n",
    "nltk.download('punkt')\n",
    "nltk.download('stopwords')\n",
    "nltk.download('wordnet')\n",
    "nltk.download('averaged_perceptron_tagger')\n",
    "nltk.download('tagsets')\n",
    "nltk.download('universal_tagset')\n",
    "nltk.download('treebank')\n",
    "nltk.download('punkt_tab')\n",
    "\n",
    "sns.set_theme(style=\"darkgrid\")\n",
    "pd.set_option(\"display.max_columns\", 100)\n",
    "%matplotlib inline"
   ]
  },
  {
   "cell_type": "code",
   "execution_count": 2,
   "metadata": {},
   "outputs": [
    {
     "data": {
      "text/html": [
       "<div>\n",
       "<style scoped>\n",
       "    .dataframe tbody tr th:only-of-type {\n",
       "        vertical-align: middle;\n",
       "    }\n",
       "\n",
       "    .dataframe tbody tr th {\n",
       "        vertical-align: top;\n",
       "    }\n",
       "\n",
       "    .dataframe thead th {\n",
       "        text-align: right;\n",
       "    }\n",
       "</style>\n",
       "<table border=\"1\" class=\"dataframe\">\n",
       "  <thead>\n",
       "    <tr style=\"text-align: right;\">\n",
       "      <th></th>\n",
       "      <th>link</th>\n",
       "      <th>title</th>\n",
       "      <th>sub_title</th>\n",
       "      <th>author</th>\n",
       "      <th>reading_time</th>\n",
       "      <th>text</th>\n",
       "      <th>id</th>\n",
       "    </tr>\n",
       "  </thead>\n",
       "  <tbody>\n",
       "    <tr>\n",
       "      <th>0</th>\n",
       "      <td>https://towardsdatascience.com/ensemble-method...</td>\n",
       "      <td>Ensemble methods: bagging, boosting and stacking</td>\n",
       "      <td>Understanding the key concepts of ensemble lea...</td>\n",
       "      <td>Joseph Rocca</td>\n",
       "      <td>20</td>\n",
       "      <td>This post was co-written with Baptiste Rocca.\\...</td>\n",
       "      <td>1</td>\n",
       "    </tr>\n",
       "    <tr>\n",
       "      <th>1</th>\n",
       "      <td>https://towardsdatascience.com/understanding-a...</td>\n",
       "      <td>Understanding AUC - ROC Curve</td>\n",
       "      <td>In Machine Learning, performance measurement i...</td>\n",
       "      <td>Sarang Narkhede</td>\n",
       "      <td>5</td>\n",
       "      <td>In Machine Learning, performance measurement i...</td>\n",
       "      <td>2</td>\n",
       "    </tr>\n",
       "    <tr>\n",
       "      <th>2</th>\n",
       "      <td>https://towardsdatascience.com/how-to-work-wit...</td>\n",
       "      <td>How to work with object detection datasets in ...</td>\n",
       "      <td>A comprehensive guide to defining, loading, ex...</td>\n",
       "      <td>Eric Hofesmann</td>\n",
       "      <td>10</td>\n",
       "      <td>Microsoft's Common Objects in Context dataset ...</td>\n",
       "      <td>3</td>\n",
       "    </tr>\n",
       "    <tr>\n",
       "      <th>3</th>\n",
       "      <td>https://towardsdatascience.com/11-dimensionali...</td>\n",
       "      <td>11 Dimensionality reduction techniques you sho...</td>\n",
       "      <td>Reduce the size of your dataset while keeping ...</td>\n",
       "      <td>Rukshan Pramoditha</td>\n",
       "      <td>16</td>\n",
       "      <td>In both Statistics and Machine Learning, the n...</td>\n",
       "      <td>4</td>\n",
       "    </tr>\n",
       "    <tr>\n",
       "      <th>4</th>\n",
       "      <td>https://towardsdatascience.com/the-time-series...</td>\n",
       "      <td>The Time Series Transformer</td>\n",
       "      <td>Attention Is All You Need they said. Is it a m...</td>\n",
       "      <td>Theodoros Ntakouris</td>\n",
       "      <td>6</td>\n",
       "      <td>Attention Is All You Need they said. Is it a m...</td>\n",
       "      <td>5</td>\n",
       "    </tr>\n",
       "    <tr>\n",
       "      <th>5</th>\n",
       "      <td>https://netflixtechblog.com/learning-a-persona...</td>\n",
       "      <td>Learning a Personalized Homepage</td>\n",
       "      <td>how to best tailor each member's homepage to m...</td>\n",
       "      <td>Netflix Technology Blog</td>\n",
       "      <td>15</td>\n",
       "      <td>by Chris Alvino and Justin Basilico\\nAs we've ...</td>\n",
       "      <td>6</td>\n",
       "    </tr>\n",
       "    <tr>\n",
       "      <th>6</th>\n",
       "      <td>https://towardsdatascience.com/6-data-science-...</td>\n",
       "      <td>6 Data Science Certificates To Level Up Your C...</td>\n",
       "      <td>Pump up your portfolio and get closer to your ...</td>\n",
       "      <td>Sara A. Metwalli</td>\n",
       "      <td>6</td>\n",
       "      <td>Because of the appeal of the field of data sci...</td>\n",
       "      <td>7</td>\n",
       "    </tr>\n",
       "    <tr>\n",
       "      <th>7</th>\n",
       "      <td>https://towardsdatascience.com/transformers-ex...</td>\n",
       "      <td>Transformers Explained Visually (Part 2): How ...</td>\n",
       "      <td>A Gentle Guide to the Transformer under the ho...</td>\n",
       "      <td>Ketan Doshi</td>\n",
       "      <td>11</td>\n",
       "      <td>This is the second article in my series on Tra...</td>\n",
       "      <td>8</td>\n",
       "    </tr>\n",
       "    <tr>\n",
       "      <th>8</th>\n",
       "      <td>https://medium.com/coders-camp/60-python-proje...</td>\n",
       "      <td>60 Python Projects with Source Code</td>\n",
       "      <td>60 Python Projects with Source code solved and...</td>\n",
       "      <td>Aman Kharwal</td>\n",
       "      <td>2</td>\n",
       "      <td>Python has been in the top 10 popular programm...</td>\n",
       "      <td>9</td>\n",
       "    </tr>\n",
       "    <tr>\n",
       "      <th>9</th>\n",
       "      <td>https://towardsdatascience.com/geometric-found...</td>\n",
       "      <td>Geometric foundations of Deep Learning</td>\n",
       "      <td>Geometric Deep Learning is an attempt to unify...</td>\n",
       "      <td>Michael Bronstein</td>\n",
       "      <td>13</td>\n",
       "      <td>This blog post was co-authored with Joan Bruna...</td>\n",
       "      <td>10</td>\n",
       "    </tr>\n",
       "  </tbody>\n",
       "</table>\n",
       "</div>"
      ],
      "text/plain": [
       "                                                link  \\\n",
       "0  https://towardsdatascience.com/ensemble-method...   \n",
       "1  https://towardsdatascience.com/understanding-a...   \n",
       "2  https://towardsdatascience.com/how-to-work-wit...   \n",
       "3  https://towardsdatascience.com/11-dimensionali...   \n",
       "4  https://towardsdatascience.com/the-time-series...   \n",
       "5  https://netflixtechblog.com/learning-a-persona...   \n",
       "6  https://towardsdatascience.com/6-data-science-...   \n",
       "7  https://towardsdatascience.com/transformers-ex...   \n",
       "8  https://medium.com/coders-camp/60-python-proje...   \n",
       "9  https://towardsdatascience.com/geometric-found...   \n",
       "\n",
       "                                               title  \\\n",
       "0   Ensemble methods: bagging, boosting and stacking   \n",
       "1                      Understanding AUC - ROC Curve   \n",
       "2  How to work with object detection datasets in ...   \n",
       "3  11 Dimensionality reduction techniques you sho...   \n",
       "4                        The Time Series Transformer   \n",
       "5                   Learning a Personalized Homepage   \n",
       "6  6 Data Science Certificates To Level Up Your C...   \n",
       "7  Transformers Explained Visually (Part 2): How ...   \n",
       "8                60 Python Projects with Source Code   \n",
       "9             Geometric foundations of Deep Learning   \n",
       "\n",
       "                                           sub_title                   author  \\\n",
       "0  Understanding the key concepts of ensemble lea...             Joseph Rocca   \n",
       "1  In Machine Learning, performance measurement i...          Sarang Narkhede   \n",
       "2  A comprehensive guide to defining, loading, ex...           Eric Hofesmann   \n",
       "3  Reduce the size of your dataset while keeping ...       Rukshan Pramoditha   \n",
       "4  Attention Is All You Need they said. Is it a m...      Theodoros Ntakouris   \n",
       "5  how to best tailor each member's homepage to m...  Netflix Technology Blog   \n",
       "6  Pump up your portfolio and get closer to your ...         Sara A. Metwalli   \n",
       "7  A Gentle Guide to the Transformer under the ho...              Ketan Doshi   \n",
       "8  60 Python Projects with Source code solved and...             Aman Kharwal   \n",
       "9  Geometric Deep Learning is an attempt to unify...        Michael Bronstein   \n",
       "\n",
       "   reading_time                                               text  id  \n",
       "0            20  This post was co-written with Baptiste Rocca.\\...   1  \n",
       "1             5  In Machine Learning, performance measurement i...   2  \n",
       "2            10  Microsoft's Common Objects in Context dataset ...   3  \n",
       "3            16  In both Statistics and Machine Learning, the n...   4  \n",
       "4             6  Attention Is All You Need they said. Is it a m...   5  \n",
       "5            15  by Chris Alvino and Justin Basilico\\nAs we've ...   6  \n",
       "6             6  Because of the appeal of the field of data sci...   7  \n",
       "7            11  This is the second article in my series on Tra...   8  \n",
       "8             2  Python has been in the top 10 popular programm...   9  \n",
       "9            13  This blog post was co-authored with Joan Bruna...  10  "
      ]
     },
     "metadata": {},
     "output_type": "display_data"
    },
    {
     "name": "stdout",
     "output_type": "stream",
     "text": [
      "Shape of dataframe : (208, 7)\n"
     ]
    }
   ],
   "source": [
    "import numpy as np\n",
    "import pandas as pd\n",
    "import spacy\n",
    "from spacy import displacy\n",
    "import seaborn as sns\n",
    "from matplotlib import pyplot as plt\n",
    "\n",
    "# reading the csv data file\n",
    "articles = pd.read_csv(\"medium_articles_v3.csv\")\n",
    "display(articles.head(10))\n",
    "print(\"Shape of dataframe : {}\".format(articles.shape))"
   ]
  },
  {
   "cell_type": "code",
   "execution_count": 3,
   "metadata": {},
   "outputs": [
    {
     "data": {
      "text/plain": [
       "(208, 7)"
      ]
     },
     "execution_count": 3,
     "metadata": {},
     "output_type": "execute_result"
    }
   ],
   "source": [
    "articles.shape"
   ]
  },
  {
   "cell_type": "code",
   "execution_count": 4,
   "metadata": {},
   "outputs": [
    {
     "data": {
      "text/html": [
       "<div>\n",
       "<style scoped>\n",
       "    .dataframe tbody tr th:only-of-type {\n",
       "        vertical-align: middle;\n",
       "    }\n",
       "\n",
       "    .dataframe tbody tr th {\n",
       "        vertical-align: top;\n",
       "    }\n",
       "\n",
       "    .dataframe thead th {\n",
       "        text-align: right;\n",
       "    }\n",
       "</style>\n",
       "<table border=\"1\" class=\"dataframe\">\n",
       "  <thead>\n",
       "    <tr style=\"text-align: right;\">\n",
       "      <th></th>\n",
       "      <th>link</th>\n",
       "      <th>title</th>\n",
       "      <th>sub_title</th>\n",
       "      <th>author</th>\n",
       "      <th>reading_time</th>\n",
       "      <th>text</th>\n",
       "      <th>id</th>\n",
       "    </tr>\n",
       "  </thead>\n",
       "  <tbody>\n",
       "    <tr>\n",
       "      <th>count</th>\n",
       "      <td>208</td>\n",
       "      <td>208</td>\n",
       "      <td>208</td>\n",
       "      <td>208</td>\n",
       "      <td>208.000000</td>\n",
       "      <td>208</td>\n",
       "      <td>208.000000</td>\n",
       "    </tr>\n",
       "    <tr>\n",
       "      <th>unique</th>\n",
       "      <td>208</td>\n",
       "      <td>208</td>\n",
       "      <td>204</td>\n",
       "      <td>179</td>\n",
       "      <td>NaN</td>\n",
       "      <td>208</td>\n",
       "      <td>NaN</td>\n",
       "    </tr>\n",
       "    <tr>\n",
       "      <th>top</th>\n",
       "      <td>https://towardsdatascience.com/ensemble-method...</td>\n",
       "      <td>Ensemble methods: bagging, boosting and stacking</td>\n",
       "      <td>Update: This article is part of a series. Chec...</td>\n",
       "      <td>Adam Geitgey</td>\n",
       "      <td>NaN</td>\n",
       "      <td>This post was co-written with Baptiste Rocca.\\...</td>\n",
       "      <td>NaN</td>\n",
       "    </tr>\n",
       "    <tr>\n",
       "      <th>freq</th>\n",
       "      <td>1</td>\n",
       "      <td>1</td>\n",
       "      <td>4</td>\n",
       "      <td>5</td>\n",
       "      <td>NaN</td>\n",
       "      <td>1</td>\n",
       "      <td>NaN</td>\n",
       "    </tr>\n",
       "    <tr>\n",
       "      <th>mean</th>\n",
       "      <td>NaN</td>\n",
       "      <td>NaN</td>\n",
       "      <td>NaN</td>\n",
       "      <td>NaN</td>\n",
       "      <td>12.375000</td>\n",
       "      <td>NaN</td>\n",
       "      <td>107.091346</td>\n",
       "    </tr>\n",
       "    <tr>\n",
       "      <th>std</th>\n",
       "      <td>NaN</td>\n",
       "      <td>NaN</td>\n",
       "      <td>NaN</td>\n",
       "      <td>NaN</td>\n",
       "      <td>13.880224</td>\n",
       "      <td>NaN</td>\n",
       "      <td>62.575453</td>\n",
       "    </tr>\n",
       "    <tr>\n",
       "      <th>min</th>\n",
       "      <td>NaN</td>\n",
       "      <td>NaN</td>\n",
       "      <td>NaN</td>\n",
       "      <td>NaN</td>\n",
       "      <td>2.000000</td>\n",
       "      <td>NaN</td>\n",
       "      <td>1.000000</td>\n",
       "    </tr>\n",
       "    <tr>\n",
       "      <th>25%</th>\n",
       "      <td>NaN</td>\n",
       "      <td>NaN</td>\n",
       "      <td>NaN</td>\n",
       "      <td>NaN</td>\n",
       "      <td>6.000000</td>\n",
       "      <td>NaN</td>\n",
       "      <td>52.750000</td>\n",
       "    </tr>\n",
       "    <tr>\n",
       "      <th>50%</th>\n",
       "      <td>NaN</td>\n",
       "      <td>NaN</td>\n",
       "      <td>NaN</td>\n",
       "      <td>NaN</td>\n",
       "      <td>9.000000</td>\n",
       "      <td>NaN</td>\n",
       "      <td>107.500000</td>\n",
       "    </tr>\n",
       "    <tr>\n",
       "      <th>75%</th>\n",
       "      <td>NaN</td>\n",
       "      <td>NaN</td>\n",
       "      <td>NaN</td>\n",
       "      <td>NaN</td>\n",
       "      <td>13.000000</td>\n",
       "      <td>NaN</td>\n",
       "      <td>162.250000</td>\n",
       "    </tr>\n",
       "    <tr>\n",
       "      <th>max</th>\n",
       "      <td>NaN</td>\n",
       "      <td>NaN</td>\n",
       "      <td>NaN</td>\n",
       "      <td>NaN</td>\n",
       "      <td>149.000000</td>\n",
       "      <td>NaN</td>\n",
       "      <td>214.000000</td>\n",
       "    </tr>\n",
       "  </tbody>\n",
       "</table>\n",
       "</div>"
      ],
      "text/plain": [
       "                                                     link  \\\n",
       "count                                                 208   \n",
       "unique                                                208   \n",
       "top     https://towardsdatascience.com/ensemble-method...   \n",
       "freq                                                    1   \n",
       "mean                                                  NaN   \n",
       "std                                                   NaN   \n",
       "min                                                   NaN   \n",
       "25%                                                   NaN   \n",
       "50%                                                   NaN   \n",
       "75%                                                   NaN   \n",
       "max                                                   NaN   \n",
       "\n",
       "                                                   title  \\\n",
       "count                                                208   \n",
       "unique                                               208   \n",
       "top     Ensemble methods: bagging, boosting and stacking   \n",
       "freq                                                   1   \n",
       "mean                                                 NaN   \n",
       "std                                                  NaN   \n",
       "min                                                  NaN   \n",
       "25%                                                  NaN   \n",
       "50%                                                  NaN   \n",
       "75%                                                  NaN   \n",
       "max                                                  NaN   \n",
       "\n",
       "                                                sub_title        author  \\\n",
       "count                                                 208           208   \n",
       "unique                                                204           179   \n",
       "top     Update: This article is part of a series. Chec...  Adam Geitgey   \n",
       "freq                                                    4             5   \n",
       "mean                                                  NaN           NaN   \n",
       "std                                                   NaN           NaN   \n",
       "min                                                   NaN           NaN   \n",
       "25%                                                   NaN           NaN   \n",
       "50%                                                   NaN           NaN   \n",
       "75%                                                   NaN           NaN   \n",
       "max                                                   NaN           NaN   \n",
       "\n",
       "        reading_time                                               text  \\\n",
       "count     208.000000                                                208   \n",
       "unique           NaN                                                208   \n",
       "top              NaN  This post was co-written with Baptiste Rocca.\\...   \n",
       "freq             NaN                                                  1   \n",
       "mean       12.375000                                                NaN   \n",
       "std        13.880224                                                NaN   \n",
       "min         2.000000                                                NaN   \n",
       "25%         6.000000                                                NaN   \n",
       "50%         9.000000                                                NaN   \n",
       "75%        13.000000                                                NaN   \n",
       "max       149.000000                                                NaN   \n",
       "\n",
       "                id  \n",
       "count   208.000000  \n",
       "unique         NaN  \n",
       "top            NaN  \n",
       "freq           NaN  \n",
       "mean    107.091346  \n",
       "std      62.575453  \n",
       "min       1.000000  \n",
       "25%      52.750000  \n",
       "50%     107.500000  \n",
       "75%     162.250000  \n",
       "max     214.000000  "
      ]
     },
     "execution_count": 4,
     "metadata": {},
     "output_type": "execute_result"
    }
   ],
   "source": [
    "articles.describe(include='all')"
   ]
  },
  {
   "cell_type": "code",
   "execution_count": 5,
   "metadata": {},
   "outputs": [
    {
     "data": {
      "image/png": "[encoded data removed]",
      "text/plain": [
       "<Figure size 500x500 with 1 Axes>"
      ]
     },
     "metadata": {},
     "output_type": "display_data"
    }
   ],
   "source": [
    "from scipy.stats import pearsonr\n",
    "\n",
    "articles[\"article_len\"] = articles[\"text\"].apply(lambda x : len(x))\n",
    "# creating scatterplot\n",
    "fig, axes = plt.subplots(figsize = (5, 5))\n",
    "sns.scatterplot(x = articles[\"reading_time\"], y = articles[\"article_len\"])\n",
    "# Pearson correlation coefficient measures the linear relationship between two set of values.\n",
    "corr_coeff, _ = pearsonr(articles[\"reading_time\"], articles[\"article_len\"])\n",
    "# plot title\n",
    "plt.suptitle(\"Reading Time vs. Article Length | Corr. Coeff  : {}\".format(round(corr_coeff, 2)))\n",
    "plt.show()"
   ]
  },
  {
   "cell_type": "code",
   "execution_count": 6,
   "metadata": {},
   "outputs": [
    {
     "name": "stdout",
     "output_type": "stream",
     "text": [
      "Articles by Adam Geitgey :\n",
      "Machine Learning is Fun Part 5: Language Translation with Deep Learning and the Magic of Sequences\n",
      "Machine Learning is Fun! Part 4: Modern Face Recognition with Deep Learning\n",
      "Machine Learning is Fun! Part 3: Deep Learning and Convolutional Neural Networks\n",
      "Machine Learning is Fun! Part 2\n",
      "Machine Learning is Fun Part 6: How to do Speech Recognition with Deep Learning\n",
      "------------------------------------------------------------------------------------------------------------------------\n",
      "Articles by Joseph Rocca :\n",
      "Ensemble methods: bagging, boosting and stacking\n",
      "Understanding Variational Autoencoders (VAEs)\n",
      "Understanding Generative Adversarial Networks (GANs)\n",
      "------------------------------------------------------------------------------------------------------------------------\n",
      "Articles by Natassha Selvaraj :\n",
      "I tripled my income with data science. Here's how.\n",
      "How to Land a Data Analytics Job in 6 Months\n",
      "Top 10 Data Science Projects for Beginners\n",
      "------------------------------------------------------------------------------------------------------------------------\n",
      "Articles by Chris Zaire :\n",
      "5 Online Courses I Took as a Self-Taught Data Scientist\n",
      "Is Data Science Still a Rising Career in 2021\n",
      "------------------------------------------------------------------------------------------------------------------------\n",
      "Articles by Dario Radecic :\n",
      "Are The New M1 Macbooks Any Good for Data Science? Let's Find Out\n",
      "Top 3 Reasons Why I Sold My M1 Macbook Pro as a Data Scientist\n",
      "------------------------------------------------------------------------------------------------------------------------\n",
      "Articles by Adi Bronshtein :\n",
      "Simple and Multiple Linear Regression in Python\n",
      "Train/Test Split and Cross Validation in Python\n",
      "------------------------------------------------------------------------------------------------------------------------\n",
      "Articles by Serge Faguet :\n",
      "How to biohack your intelligence  with everything from sex to modafinil to MDMA\n",
      "I'm 32 and spent $200k on biohacking. Became calmer, thinner, extroverted, healthier & happier.\n",
      "------------------------------------------------------------------------------------------------------------------------\n",
      "Articles by Will Koehrsen :\n",
      "Hyperparameter Tuning the Random Forest in Python\n",
      "Random Forest in Python\n",
      "------------------------------------------------------------------------------------------------------------------------\n",
      "Articles by Madison Hunter :\n",
      "15 Habits I Learned from Highly Effective Data Scientists\n",
      "How to Study for the Google Data Analytics Professional Certificate\n",
      "------------------------------------------------------------------------------------------------------------------------\n",
      "Articles by Andrei Tapalaga  :\n",
      "Chernobyl's Blown Up Reactor 4 Just Woke Up\n",
      "Eben Byers: The Man Who Drank Radioactive Water Until His Jaw Fell Off\n",
      "------------------------------------------------------------------------------------------------------------------------\n",
      "Articles by Susan Li :\n",
      "Building A Logistic Regression in Python, Step by Step\n",
      "An End-to-End Project on Time Series Analysis and Forecasting with Python\n",
      "------------------------------------------------------------------------------------------------------------------------\n",
      "Articles by Yueh :\n",
      "Richart + @GoGo \n",
      "2018  & : KOKO COMBO icash \n",
      "------------------------------------------------------------------------------------------------------------------------\n",
      "Articles by Daniel Jeffries :\n",
      "How to Crush the Crypto Market, Quit Your Job, Move to Paradise and Do Whatever You Want the Rest of Your Life\n",
      "Why People Still Don't Get Cryptocurrency\n",
      "------------------------------------------------------------------------------------------------------------------------\n",
      "Articles by allen farrington :\n",
      "Bitcoin Is Venice\n",
      "Gauge Theory Does Not Fix This\n",
      "------------------------------------------------------------------------------------------------------------------------\n",
      "Articles by Alexandr Nellson :\n",
      "How to invest in Bitcoin properly. Blockchain and other cryptocurrencies\n",
      "How to store Bitcoins and other cryptocurrencies properly.\n",
      "------------------------------------------------------------------------------------------------------------------------\n",
      "Articles by Mercatus Center :\n",
      "Nassim Nicholas Taleb on Self-Education and Doing the Math (Ep. 41  Live at Mercatus)\n",
      "Cliff Asness on Marvel vs. DC and Why Never to Share a Gym with Cirque du Soleil (Ep. 5  Live at Mason)\n",
      "------------------------------------------------------------------------------------------------------------------------\n",
      "Articles by Blake Ross :\n",
      "Wealthfront:Silicon Valley Tech at Wall Street Prices\n",
      "Heroes Give, Superheroes Borrow\n",
      "------------------------------------------------------------------------------------------------------------------------\n",
      "Articles by Tomas Pueyo :\n",
      "Coronavirus: Why You Must Act Now\n",
      "Coronavirus: The Hammer and the Dance\n",
      "------------------------------------------------------------------------------------------------------------------------\n",
      "Articles by Terence Shin :\n",
      "OVER 100 Data Scientist Interview Questions and Answers!\n",
      "50+ Statistics Interview Questions and Answers for Data Scientists for 2022\n",
      "------------------------------------------------------------------------------------------------------------------------\n",
      "Articles by Rukshan Pramoditha :\n",
      "11 Dimensionality reduction techniques you should know in 2021\n",
      "20 Necessary Requirements of a Perfect Laptop for Data Science and Machine Learning Tasks\n",
      "------------------------------------------------------------------------------------------------------------------------\n",
      "Articles by Ketan Doshi :\n",
      "Transformers Explained Visually (Part 2): How it works, step-by-step\n",
      "Transformers Explained Visually (Part 3): Multi-head Attention, deep dive\n",
      "------------------------------------------------------------------------------------------------------------------------\n",
      "Articles by Aman Kharwal :\n",
      "60 Python Projects with Source Code\n",
      "180 Data Science and Machine Learning Projects with Python\n",
      "------------------------------------------------------------------------------------------------------------------------\n",
      "Articles by Mahmoud Harmouch :\n",
      "17 Clustering Algorithms Used In Data Science and Mining\n",
      "17 types of similarity and dissimilarity measures used in data science.\n",
      "------------------------------------------------------------------------------------------------------------------------\n",
      "Articles by Sara A. Metwalli :\n",
      "6 Data Science Certificates To Level Up Your Career\n",
      "6 Machine Learning Certificates to Pursue in 2021\n",
      "------------------------------------------------------------------------------------------------------------------------\n"
     ]
    }
   ],
   "source": [
    "for author, count in dict(articles[\"author\"].value_counts()).items():\n",
    "    if(count < 2):\n",
    "        continue\n",
    "    print(\"Articles by {} :\".format(author))\n",
    "    for title in articles[articles[\"author\"] == author][\"title\"].values:\n",
    "        print(title)\n",
    "    print(\"-\"*120)"
   ]
  },
  {
   "cell_type": "code",
   "execution_count": 7,
   "metadata": {},
   "outputs": [],
   "source": [
    "import contractions"
   ]
  },
  {
   "cell_type": "code",
   "execution_count": 8,
   "metadata": {},
   "outputs": [],
   "source": [
    "corpus = [\n",
    "    \"it was the best of times\",\n",
    "    \"it was the worst of times\",\n",
    "    \"it was the age of wisdom and the age of foolishness\"\n",
    "]"
   ]
  },
  {
   "cell_type": "code",
   "execution_count": 9,
   "metadata": {},
   "outputs": [
    {
     "name": "stdout",
     "output_type": "stream",
     "text": [
      "{'was', 'worst', 'best', 'foolishness', 'times', 'the', 'it', 'and', 'of', 'age', 'wisdom'}\n",
      "{'was': 0, 'worst': 0, 'best': 0, 'foolishness': 0, 'times': 0, 'the': 0, 'it': 0, 'and': 0, 'of': 0, 'age': 0, 'wisdom': 0}\n"
     ]
    }
   ],
   "source": [
    "bow_rep = []\n",
    "vocabulary = set([x for x in \" \".join(corpus).lower().split(\" \")])\n",
    "print(vocabulary)\n",
    "for sentence in corpus:\n",
    "        sentence_rep = dict([(v,0) for v in vocabulary])\n",
    "print(sentence_rep)"
   ]
  },
  {
   "cell_type": "code",
   "execution_count": 10,
   "metadata": {},
   "outputs": [
    {
     "data": {
      "text/html": [
       "<div>\n",
       "<style scoped>\n",
       "    .dataframe tbody tr th:only-of-type {\n",
       "        vertical-align: middle;\n",
       "    }\n",
       "\n",
       "    .dataframe tbody tr th {\n",
       "        vertical-align: top;\n",
       "    }\n",
       "\n",
       "    .dataframe thead th {\n",
       "        text-align: right;\n",
       "    }\n",
       "</style>\n",
       "<table border=\"1\" class=\"dataframe\">\n",
       "  <thead>\n",
       "    <tr style=\"text-align: right;\">\n",
       "      <th></th>\n",
       "      <th>age</th>\n",
       "      <th>and</th>\n",
       "      <th>best</th>\n",
       "      <th>foolishness</th>\n",
       "      <th>it</th>\n",
       "      <th>of</th>\n",
       "      <th>the</th>\n",
       "      <th>times</th>\n",
       "      <th>was</th>\n",
       "      <th>wisdom</th>\n",
       "      <th>worst</th>\n",
       "    </tr>\n",
       "  </thead>\n",
       "  <tbody>\n",
       "    <tr>\n",
       "      <th>it was the best of times</th>\n",
       "      <td>0</td>\n",
       "      <td>0</td>\n",
       "      <td>1</td>\n",
       "      <td>0</td>\n",
       "      <td>1</td>\n",
       "      <td>1</td>\n",
       "      <td>1</td>\n",
       "      <td>1</td>\n",
       "      <td>1</td>\n",
       "      <td>0</td>\n",
       "      <td>0</td>\n",
       "    </tr>\n",
       "    <tr>\n",
       "      <th>it was the worst of times</th>\n",
       "      <td>0</td>\n",
       "      <td>0</td>\n",
       "      <td>0</td>\n",
       "      <td>0</td>\n",
       "      <td>1</td>\n",
       "      <td>1</td>\n",
       "      <td>1</td>\n",
       "      <td>1</td>\n",
       "      <td>1</td>\n",
       "      <td>0</td>\n",
       "      <td>1</td>\n",
       "    </tr>\n",
       "    <tr>\n",
       "      <th>it was the age of wisdom and the age of foolishness</th>\n",
       "      <td>2</td>\n",
       "      <td>1</td>\n",
       "      <td>0</td>\n",
       "      <td>1</td>\n",
       "      <td>1</td>\n",
       "      <td>2</td>\n",
       "      <td>2</td>\n",
       "      <td>0</td>\n",
       "      <td>1</td>\n",
       "      <td>1</td>\n",
       "      <td>0</td>\n",
       "    </tr>\n",
       "  </tbody>\n",
       "</table>\n",
       "</div>"
      ],
      "text/plain": [
       "                                                    age  and  best  \\\n",
       "it was the best of times                              0    0     1   \n",
       "it was the worst of times                             0    0     0   \n",
       "it was the age of wisdom and the age of foolish...    2    1     0   \n",
       "\n",
       "                                                    foolishness  it  of  the  \\\n",
       "it was the best of times                                      0   1   1    1   \n",
       "it was the worst of times                                     0   1   1    1   \n",
       "it was the age of wisdom and the age of foolish...            1   1   2    2   \n",
       "\n",
       "                                                    times  was  wisdom  worst  \n",
       "it was the best of times                                1    1       0      0  \n",
       "it was the worst of times                               1    1       0      1  \n",
       "it was the age of wisdom and the age of foolish...      0    1       1      0  "
      ]
     },
     "metadata": {},
     "output_type": "display_data"
    }
   ],
   "source": [
    "# Using CountVectorizer from scikit-learn\n",
    "from sklearn.feature_extraction.text import CountVectorizer\n",
    "\n",
    "cv = CountVectorizer()\n",
    "# Learn the vocabulary dictionary and return document-term matrix\n",
    "bow_rep = cv.fit_transform(corpus).todense()  # todense() returns a matrix\n",
    "# create dataframe\n",
    "df = pd.DataFrame(bow_rep)\n",
    "# Get output feature names for dataframe columns.\n",
    "df.columns = cv.get_feature_names_out()\n",
    "df.index = corpus\n",
    "display(df)"
   ]
  },
  {
   "cell_type": "code",
   "execution_count": 11,
   "metadata": {},
   "outputs": [
    {
     "data": {
      "text/html": [
       "<div>\n",
       "<style scoped>\n",
       "    .dataframe tbody tr th:only-of-type {\n",
       "        vertical-align: middle;\n",
       "    }\n",
       "\n",
       "    .dataframe tbody tr th {\n",
       "        vertical-align: top;\n",
       "    }\n",
       "\n",
       "    .dataframe thead th {\n",
       "        text-align: right;\n",
       "    }\n",
       "</style>\n",
       "<table border=\"1\" class=\"dataframe\">\n",
       "  <thead>\n",
       "    <tr style=\"text-align: right;\">\n",
       "      <th></th>\n",
       "      <th>age</th>\n",
       "      <th>best</th>\n",
       "      <th>foolishness</th>\n",
       "      <th>times</th>\n",
       "      <th>wisdom</th>\n",
       "      <th>worst</th>\n",
       "    </tr>\n",
       "  </thead>\n",
       "  <tbody>\n",
       "    <tr>\n",
       "      <th>it was the best of times</th>\n",
       "      <td>0</td>\n",
       "      <td>1</td>\n",
       "      <td>0</td>\n",
       "      <td>1</td>\n",
       "      <td>0</td>\n",
       "      <td>0</td>\n",
       "    </tr>\n",
       "    <tr>\n",
       "      <th>it was the worst of times</th>\n",
       "      <td>0</td>\n",
       "      <td>0</td>\n",
       "      <td>0</td>\n",
       "      <td>1</td>\n",
       "      <td>0</td>\n",
       "      <td>1</td>\n",
       "    </tr>\n",
       "    <tr>\n",
       "      <th>it was the age of wisdom and the age of foolishness</th>\n",
       "      <td>2</td>\n",
       "      <td>0</td>\n",
       "      <td>1</td>\n",
       "      <td>0</td>\n",
       "      <td>1</td>\n",
       "      <td>0</td>\n",
       "    </tr>\n",
       "  </tbody>\n",
       "</table>\n",
       "</div>"
      ],
      "text/plain": [
       "                                                    age  best  foolishness  \\\n",
       "it was the best of times                              0     1            0   \n",
       "it was the worst of times                             0     0            0   \n",
       "it was the age of wisdom and the age of foolish...    2     0            1   \n",
       "\n",
       "                                                    times  wisdom  worst  \n",
       "it was the best of times                                1       0      0  \n",
       "it was the worst of times                               1       0      1  \n",
       "it was the age of wisdom and the age of foolish...      0       1      0  "
      ]
     },
     "metadata": {},
     "output_type": "display_data"
    }
   ],
   "source": [
    "# using CountVectorizer for removing stop-words directly from the corpus.\n",
    "cv = CountVectorizer(stop_words=\"english\")\n",
    "bow_rep = cv.fit_transform(corpus).todense()\n",
    "df = pd.DataFrame(bow_rep)\n",
    "df.columns = cv.get_feature_names_out()\n",
    "df.index = corpus\n",
    "display(df)"
   ]
  },
  {
   "cell_type": "code",
   "execution_count": 12,
   "metadata": {},
   "outputs": [
    {
     "data": {
      "text/html": [
       "<div>\n",
       "<style scoped>\n",
       "    .dataframe tbody tr th:only-of-type {\n",
       "        vertical-align: middle;\n",
       "    }\n",
       "\n",
       "    .dataframe tbody tr th {\n",
       "        vertical-align: top;\n",
       "    }\n",
       "\n",
       "    .dataframe thead th {\n",
       "        text-align: right;\n",
       "    }\n",
       "</style>\n",
       "<table border=\"1\" class=\"dataframe\">\n",
       "  <thead>\n",
       "    <tr style=\"text-align: right;\">\n",
       "      <th></th>\n",
       "      <th>age</th>\n",
       "      <th>and</th>\n",
       "      <th>best</th>\n",
       "      <th>foolishness</th>\n",
       "      <th>it</th>\n",
       "      <th>of</th>\n",
       "      <th>the</th>\n",
       "      <th>times</th>\n",
       "      <th>was</th>\n",
       "      <th>wisdom</th>\n",
       "      <th>worst</th>\n",
       "    </tr>\n",
       "  </thead>\n",
       "  <tbody>\n",
       "    <tr>\n",
       "      <th>it was the best of times</th>\n",
       "      <td>0.000000</td>\n",
       "      <td>0.000000</td>\n",
       "      <td>0.579897</td>\n",
       "      <td>0.000000</td>\n",
       "      <td>0.342496</td>\n",
       "      <td>0.342496</td>\n",
       "      <td>0.342496</td>\n",
       "      <td>0.441027</td>\n",
       "      <td>0.342496</td>\n",
       "      <td>0.000000</td>\n",
       "      <td>0.000000</td>\n",
       "    </tr>\n",
       "    <tr>\n",
       "      <th>it was the worst of times</th>\n",
       "      <td>0.000000</td>\n",
       "      <td>0.000000</td>\n",
       "      <td>0.000000</td>\n",
       "      <td>0.000000</td>\n",
       "      <td>0.342496</td>\n",
       "      <td>0.342496</td>\n",
       "      <td>0.342496</td>\n",
       "      <td>0.441027</td>\n",
       "      <td>0.342496</td>\n",
       "      <td>0.000000</td>\n",
       "      <td>0.579897</td>\n",
       "    </tr>\n",
       "    <tr>\n",
       "      <th>it was the age of wisdom and the age of foolishness</th>\n",
       "      <td>0.617558</td>\n",
       "      <td>0.308779</td>\n",
       "      <td>0.000000</td>\n",
       "      <td>0.308779</td>\n",
       "      <td>0.182370</td>\n",
       "      <td>0.364740</td>\n",
       "      <td>0.364740</td>\n",
       "      <td>0.000000</td>\n",
       "      <td>0.182370</td>\n",
       "      <td>0.308779</td>\n",
       "      <td>0.000000</td>\n",
       "    </tr>\n",
       "  </tbody>\n",
       "</table>\n",
       "</div>"
      ],
      "text/plain": [
       "                                                         age       and  \\\n",
       "it was the best of times                            0.000000  0.000000   \n",
       "it was the worst of times                           0.000000  0.000000   \n",
       "it was the age of wisdom and the age of foolish...  0.617558  0.308779   \n",
       "\n",
       "                                                        best  foolishness  \\\n",
       "it was the best of times                            0.579897     0.000000   \n",
       "it was the worst of times                           0.000000     0.000000   \n",
       "it was the age of wisdom and the age of foolish...  0.000000     0.308779   \n",
       "\n",
       "                                                          it        of  \\\n",
       "it was the best of times                            0.342496  0.342496   \n",
       "it was the worst of times                           0.342496  0.342496   \n",
       "it was the age of wisdom and the age of foolish...  0.182370  0.364740   \n",
       "\n",
       "                                                         the     times  \\\n",
       "it was the best of times                            0.342496  0.441027   \n",
       "it was the worst of times                           0.342496  0.441027   \n",
       "it was the age of wisdom and the age of foolish...  0.364740  0.000000   \n",
       "\n",
       "                                                         was    wisdom  \\\n",
       "it was the best of times                            0.342496  0.000000   \n",
       "it was the worst of times                           0.342496  0.000000   \n",
       "it was the age of wisdom and the age of foolish...  0.182370  0.308779   \n",
       "\n",
       "                                                       worst  \n",
       "it was the best of times                            0.000000  \n",
       "it was the worst of times                           0.579897  \n",
       "it was the age of wisdom and the age of foolish...  0.000000  "
      ]
     },
     "metadata": {},
     "output_type": "display_data"
    }
   ],
   "source": [
    "from sklearn.feature_extraction.text import TfidfVectorizer\n",
    "# using inbuilt TfidfVectorizer() function to calculate TF-IDF\n",
    "tf_idf_vectorizer = TfidfVectorizer()\n",
    "tf_idf_rep = tf_idf_vectorizer.fit_transform(corpus).todense()\n",
    "df = pd.DataFrame(tf_idf_rep)\n",
    "df.columns = tf_idf_vectorizer.get_feature_names_out()\n",
    "df.index = corpus\n",
    "display(df)"
   ]
  },
  {
   "cell_type": "code",
   "execution_count": 13,
   "metadata": {},
   "outputs": [
    {
     "data": {
      "text/html": [
       "<div>\n",
       "<style scoped>\n",
       "    .dataframe tbody tr th:only-of-type {\n",
       "        vertical-align: middle;\n",
       "    }\n",
       "\n",
       "    .dataframe tbody tr th {\n",
       "        vertical-align: top;\n",
       "    }\n",
       "\n",
       "    .dataframe thead th {\n",
       "        text-align: right;\n",
       "    }\n",
       "</style>\n",
       "<table border=\"1\" class=\"dataframe\">\n",
       "  <thead>\n",
       "    <tr style=\"text-align: right;\">\n",
       "      <th></th>\n",
       "      <th>age</th>\n",
       "      <th>age of</th>\n",
       "      <th>and</th>\n",
       "      <th>and the</th>\n",
       "      <th>best</th>\n",
       "      <th>best of</th>\n",
       "      <th>foolishness</th>\n",
       "      <th>it</th>\n",
       "      <th>it was</th>\n",
       "      <th>of</th>\n",
       "      <th>of foolishness</th>\n",
       "      <th>of times</th>\n",
       "      <th>of wisdom</th>\n",
       "      <th>the</th>\n",
       "      <th>the age</th>\n",
       "      <th>the best</th>\n",
       "      <th>the worst</th>\n",
       "      <th>times</th>\n",
       "      <th>was</th>\n",
       "      <th>was the</th>\n",
       "      <th>wisdom</th>\n",
       "      <th>wisdom and</th>\n",
       "      <th>worst</th>\n",
       "      <th>worst of</th>\n",
       "    </tr>\n",
       "  </thead>\n",
       "  <tbody>\n",
       "    <tr>\n",
       "      <th>it was the best of times</th>\n",
       "      <td>0.000000</td>\n",
       "      <td>0.000000</td>\n",
       "      <td>0.000000</td>\n",
       "      <td>0.000000</td>\n",
       "      <td>0.400008</td>\n",
       "      <td>0.400008</td>\n",
       "      <td>0.000000</td>\n",
       "      <td>0.236251</td>\n",
       "      <td>0.236251</td>\n",
       "      <td>0.236251</td>\n",
       "      <td>0.000000</td>\n",
       "      <td>0.304216</td>\n",
       "      <td>0.000000</td>\n",
       "      <td>0.236251</td>\n",
       "      <td>0.000000</td>\n",
       "      <td>0.400008</td>\n",
       "      <td>0.000000</td>\n",
       "      <td>0.304216</td>\n",
       "      <td>0.236251</td>\n",
       "      <td>0.236251</td>\n",
       "      <td>0.000000</td>\n",
       "      <td>0.000000</td>\n",
       "      <td>0.000000</td>\n",
       "      <td>0.000000</td>\n",
       "    </tr>\n",
       "    <tr>\n",
       "      <th>it was the worst of times</th>\n",
       "      <td>0.000000</td>\n",
       "      <td>0.000000</td>\n",
       "      <td>0.000000</td>\n",
       "      <td>0.000000</td>\n",
       "      <td>0.000000</td>\n",
       "      <td>0.000000</td>\n",
       "      <td>0.000000</td>\n",
       "      <td>0.236251</td>\n",
       "      <td>0.236251</td>\n",
       "      <td>0.236251</td>\n",
       "      <td>0.000000</td>\n",
       "      <td>0.304216</td>\n",
       "      <td>0.000000</td>\n",
       "      <td>0.236251</td>\n",
       "      <td>0.000000</td>\n",
       "      <td>0.000000</td>\n",
       "      <td>0.400008</td>\n",
       "      <td>0.304216</td>\n",
       "      <td>0.236251</td>\n",
       "      <td>0.236251</td>\n",
       "      <td>0.000000</td>\n",
       "      <td>0.000000</td>\n",
       "      <td>0.400008</td>\n",
       "      <td>0.400008</td>\n",
       "    </tr>\n",
       "    <tr>\n",
       "      <th>it was the age of wisdom and the age of foolishness</th>\n",
       "      <td>0.415353</td>\n",
       "      <td>0.415353</td>\n",
       "      <td>0.207677</td>\n",
       "      <td>0.207677</td>\n",
       "      <td>0.000000</td>\n",
       "      <td>0.000000</td>\n",
       "      <td>0.207677</td>\n",
       "      <td>0.122657</td>\n",
       "      <td>0.122657</td>\n",
       "      <td>0.245314</td>\n",
       "      <td>0.207677</td>\n",
       "      <td>0.000000</td>\n",
       "      <td>0.207677</td>\n",
       "      <td>0.245314</td>\n",
       "      <td>0.415353</td>\n",
       "      <td>0.000000</td>\n",
       "      <td>0.000000</td>\n",
       "      <td>0.000000</td>\n",
       "      <td>0.122657</td>\n",
       "      <td>0.122657</td>\n",
       "      <td>0.207677</td>\n",
       "      <td>0.207677</td>\n",
       "      <td>0.000000</td>\n",
       "      <td>0.000000</td>\n",
       "    </tr>\n",
       "  </tbody>\n",
       "</table>\n",
       "</div>"
      ],
      "text/plain": [
       "                                                         age    age of  \\\n",
       "it was the best of times                            0.000000  0.000000   \n",
       "it was the worst of times                           0.000000  0.000000   \n",
       "it was the age of wisdom and the age of foolish...  0.415353  0.415353   \n",
       "\n",
       "                                                         and   and the  \\\n",
       "it was the best of times                            0.000000  0.000000   \n",
       "it was the worst of times                           0.000000  0.000000   \n",
       "it was the age of wisdom and the age of foolish...  0.207677  0.207677   \n",
       "\n",
       "                                                        best   best of  \\\n",
       "it was the best of times                            0.400008  0.400008   \n",
       "it was the worst of times                           0.000000  0.000000   \n",
       "it was the age of wisdom and the age of foolish...  0.000000  0.000000   \n",
       "\n",
       "                                                    foolishness        it  \\\n",
       "it was the best of times                               0.000000  0.236251   \n",
       "it was the worst of times                              0.000000  0.236251   \n",
       "it was the age of wisdom and the age of foolish...     0.207677  0.122657   \n",
       "\n",
       "                                                      it was        of  \\\n",
       "it was the best of times                            0.236251  0.236251   \n",
       "it was the worst of times                           0.236251  0.236251   \n",
       "it was the age of wisdom and the age of foolish...  0.122657  0.245314   \n",
       "\n",
       "                                                    of foolishness  of times  \\\n",
       "it was the best of times                                  0.000000  0.304216   \n",
       "it was the worst of times                                 0.000000  0.304216   \n",
       "it was the age of wisdom and the age of foolish...        0.207677  0.000000   \n",
       "\n",
       "                                                    of wisdom       the  \\\n",
       "it was the best of times                             0.000000  0.236251   \n",
       "it was the worst of times                            0.000000  0.236251   \n",
       "it was the age of wisdom and the age of foolish...   0.207677  0.245314   \n",
       "\n",
       "                                                     the age  the best  \\\n",
       "it was the best of times                            0.000000  0.400008   \n",
       "it was the worst of times                           0.000000  0.000000   \n",
       "it was the age of wisdom and the age of foolish...  0.415353  0.000000   \n",
       "\n",
       "                                                    the worst     times  \\\n",
       "it was the best of times                             0.000000  0.304216   \n",
       "it was the worst of times                            0.400008  0.304216   \n",
       "it was the age of wisdom and the age of foolish...   0.000000  0.000000   \n",
       "\n",
       "                                                         was   was the  \\\n",
       "it was the best of times                            0.236251  0.236251   \n",
       "it was the worst of times                           0.236251  0.236251   \n",
       "it was the age of wisdom and the age of foolish...  0.122657  0.122657   \n",
       "\n",
       "                                                      wisdom  wisdom and  \\\n",
       "it was the best of times                            0.000000    0.000000   \n",
       "it was the worst of times                           0.000000    0.000000   \n",
       "it was the age of wisdom and the age of foolish...  0.207677    0.207677   \n",
       "\n",
       "                                                       worst  worst of  \n",
       "it was the best of times                            0.000000  0.000000  \n",
       "it was the worst of times                           0.400008  0.400008  \n",
       "it was the age of wisdom and the age of foolish...  0.000000  0.000000  "
      ]
     },
     "metadata": {},
     "output_type": "display_data"
    }
   ],
   "source": [
    "# Bigram using TfidfVectorizer\n",
    "tf_idf_vectorizer = TfidfVectorizer(ngram_range=(1,2))\n",
    "tf_idf_rep = tf_idf_vectorizer.fit_transform(corpus).todense()\n",
    "df = pd.DataFrame(tf_idf_rep)\n",
    "df.columns = tf_idf_vectorizer.get_feature_names_out()\n",
    "df.index = corpus\n",
    "display(df)"
   ]
  },
  {
   "cell_type": "code",
   "execution_count": 14,
   "metadata": {},
   "outputs": [],
   "source": [
    "import re"
   ]
  },
  {
   "cell_type": "code",
   "execution_count": 15,
   "metadata": {},
   "outputs": [],
   "source": [
    "def process_sentence(sentence, nlp_object):\n",
    "    # Convert to lowercase\n",
    "    sentence = sentence.lower()\n",
    "\n",
    "    # Exapnding contractions\n",
    "    sentence = contractions.fix(sentence)\n",
    "\n",
    "    # Lemmatization and removing stopwords\n",
    "    doc = nlp_object(sentence)\n",
    "    sentence = \" \".join([token.lemma_ for token in doc if not token.is_stop])\n",
    "\n",
    "    # Remove punctuation\n",
    "    for p in string.punctuation:\n",
    "        sentence = sentence.replace(p, \" \")\n",
    "    sentence = re.sub(r\"\\s+\", \" \", sentence) # Replace all whitespace characters with space\n",
    "\n",
    "    return sentence"
   ]
  },
  {
   "cell_type": "code",
   "execution_count": 16,
   "metadata": {},
   "outputs": [
    {
     "name": "stdout",
     "output_type": "stream",
     "text": [
      "Collecting en-core-web-sm==3.8.0\n",
      "  Downloading https://github.com/explosion/spacy-models/releases/download/en_core_web_sm-3.8.0/en_core_web_sm-3.8.0-py3-none-any.whl (12.8 MB)\n",
      "\u001b[2K     \u001b[90m━━━━━━━━━━━━━━━━━━━━━━━━━━━━━━━━━━━━━━━━\u001b[0m \u001b[32m12.8/12.8 MB\u001b[0m \u001b[31m22.4 MB/s\u001b[0m eta \u001b[36m0:00:00\u001b[0m \u001b[36m0:00:01\u001b[0m\n",
      "\u001b[?25h\u001b[38;5;2m✔ Download and installation successful\u001b[0m\n",
      "You can now load the package via spacy.load('en_core_web_sm')\n",
      "\u001b[38;5;3m⚠ Restart to reload dependencies\u001b[0m\n",
      "If you are in a Jupyter or Colab notebook, you may need to restart Python in\n",
      "order to load all the package's dependencies. You can do this by selecting the\n",
      "'Restart kernel' or 'Restart runtime' option.\n"
     ]
    },
    {
     "name": "stderr",
     "output_type": "stream",
     "text": [
      "\n",
      "\u001b[1m[\u001b[0m\u001b[34;49mnotice\u001b[0m\u001b[1;39;49m]\u001b[0m\u001b[39;49m A new release of pip is available: \u001b[0m\u001b[31;49m24.2\u001b[0m\u001b[39;49m -> \u001b[0m\u001b[32;49m24.3.1\u001b[0m\n",
      "\u001b[1m[\u001b[0m\u001b[34;49mnotice\u001b[0m\u001b[1;39;49m]\u001b[0m\u001b[39;49m To update, run: \u001b[0m\u001b[32;49mpip3 install --upgrade pip\u001b[0m\n"
     ]
    }
   ],
   "source": [
    "import spacy.cli\n",
    "spacy.cli.download(\"en_core_web_sm\")"
   ]
  },
  {
   "cell_type": "code",
   "execution_count": 17,
   "metadata": {},
   "outputs": [
    {
     "name": "stdout",
     "output_type": "stream",
     "text": [
      "Index(['link', 'title', 'sub_title', 'author', 'reading_time', 'text', 'id',\n",
      "       'article_len'],\n",
      "      dtype='object')\n"
     ]
    }
   ],
   "source": [
    "print(articles.columns)\n"
   ]
  },
  {
   "cell_type": "code",
   "execution_count": 18,
   "metadata": {},
   "outputs": [
    {
     "data": {
      "application/vnd.jupyter.widget-view+json": {
       "model_id": "cfa1275fca1246f7bbc74de7e09ea5f6",
       "version_major": 2,
       "version_minor": 0
      },
      "text/plain": [
       "  0%|          | 0/208 [00:00<?, ?it/s]"
      ]
     },
     "metadata": {},
     "output_type": "display_data"
    }
   ],
   "source": [
    "from tqdm.notebook import tqdm\n",
    "# tqdm to see real time progress\n",
    "tqdm.pandas()\n",
    "\n",
    "nlp = spacy.load('en_core_web_sm') # English pipeline optimized for CPU\n",
    "\n",
    "def process_article(article_text, nlp_object):\n",
    "    processed_article_sentences = []\n",
    "    # using nltk sentence tokenizer\n",
    "    for sentence in sent_tokenize(article_text):\n",
    "        # preprocessing each sentence using our process_sentence function\n",
    "        processed_article_sentences.append(process_sentence(sentence, nlp_object))\n",
    "    # joining preprocessed sentence as a complete paragrams of the article\n",
    "    return \" \".join(processed_article_sentences)\n",
    "\n",
    "articles[\"processed_text\"] = articles[\"text\"].progress_apply(lambda x : process_article(x, nlp))\n"
   ]
  },
  {
   "cell_type": "code",
   "execution_count": 19,
   "metadata": {},
   "outputs": [
    {
     "data": {
      "text/html": [
       "<div>\n",
       "<style scoped>\n",
       "    .dataframe tbody tr th:only-of-type {\n",
       "        vertical-align: middle;\n",
       "    }\n",
       "\n",
       "    .dataframe tbody tr th {\n",
       "        vertical-align: top;\n",
       "    }\n",
       "\n",
       "    .dataframe thead th {\n",
       "        text-align: right;\n",
       "    }\n",
       "</style>\n",
       "<table border=\"1\" class=\"dataframe\">\n",
       "  <thead>\n",
       "    <tr style=\"text-align: right;\">\n",
       "      <th></th>\n",
       "      <th>00</th>\n",
       "      <th>000</th>\n",
       "      <th>01</th>\n",
       "      <th>05</th>\n",
       "      <th>06</th>\n",
       "      <th>07</th>\n",
       "      <th>10</th>\n",
       "      <th>100</th>\n",
       "      <th>1000</th>\n",
       "      <th>101</th>\n",
       "      <th>10k</th>\n",
       "      <th>10x</th>\n",
       "      <th>11</th>\n",
       "      <th>12</th>\n",
       "      <th>120</th>\n",
       "      <th>125</th>\n",
       "      <th>128</th>\n",
       "      <th>13</th>\n",
       "      <th>14</th>\n",
       "      <th>15</th>\n",
       "      <th>150</th>\n",
       "      <th>16</th>\n",
       "      <th>17</th>\n",
       "      <th>18</th>\n",
       "      <th>19</th>\n",
       "      <th>1980</th>\n",
       "      <th>1989</th>\n",
       "      <th>1990</th>\n",
       "      <th>1k</th>\n",
       "      <th>1st</th>\n",
       "      <th>20</th>\n",
       "      <th>200</th>\n",
       "      <th>2000</th>\n",
       "      <th>2001</th>\n",
       "      <th>2005</th>\n",
       "      <th>2008</th>\n",
       "      <th>2009</th>\n",
       "      <th>2010</th>\n",
       "      <th>2011</th>\n",
       "      <th>2012</th>\n",
       "      <th>2013</th>\n",
       "      <th>2014</th>\n",
       "      <th>2015</th>\n",
       "      <th>2016</th>\n",
       "      <th>2017</th>\n",
       "      <th>2018</th>\n",
       "      <th>2019</th>\n",
       "      <th>2020</th>\n",
       "      <th>2021</th>\n",
       "      <th>21</th>\n",
       "      <th>...</th>\n",
       "      <th>winter</th>\n",
       "      <th>wire</th>\n",
       "      <th>wise</th>\n",
       "      <th>wish</th>\n",
       "      <th>withdraw</th>\n",
       "      <th>woman</th>\n",
       "      <th>wonder</th>\n",
       "      <th>wonderful</th>\n",
       "      <th>wood</th>\n",
       "      <th>word</th>\n",
       "      <th>work</th>\n",
       "      <th>worker</th>\n",
       "      <th>workflow</th>\n",
       "      <th>working</th>\n",
       "      <th>workout</th>\n",
       "      <th>world</th>\n",
       "      <th>worried</th>\n",
       "      <th>worry</th>\n",
       "      <th>worsen</th>\n",
       "      <th>worth</th>\n",
       "      <th>wow</th>\n",
       "      <th>wrap</th>\n",
       "      <th>write</th>\n",
       "      <th>writer</th>\n",
       "      <th>writing</th>\n",
       "      <th>wrong</th>\n",
       "      <th>www</th>\n",
       "      <th>xgboost</th>\n",
       "      <th>xi</th>\n",
       "      <th>yeah</th>\n",
       "      <th>year</th>\n",
       "      <th>yearly</th>\n",
       "      <th>yellow</th>\n",
       "      <th>yes</th>\n",
       "      <th>yesterday</th>\n",
       "      <th>yield</th>\n",
       "      <th>yo</th>\n",
       "      <th>york</th>\n",
       "      <th>you</th>\n",
       "      <th>young</th>\n",
       "      <th>youtube</th>\n",
       "      <th>zero</th>\n",
       "      <th>zhou</th>\n",
       "      <th>zip</th>\n",
       "      <th>zombie</th>\n",
       "      <th>zone</th>\n",
       "      <th>zoom</th>\n",
       "      <th>zuckerberg</th>\n",
       "      <th>TITLE</th>\n",
       "      <th>ID</th>\n",
       "    </tr>\n",
       "  </thead>\n",
       "  <tbody>\n",
       "    <tr>\n",
       "      <th>0</th>\n",
       "      <td>0</td>\n",
       "      <td>0</td>\n",
       "      <td>0</td>\n",
       "      <td>0</td>\n",
       "      <td>0</td>\n",
       "      <td>0</td>\n",
       "      <td>0</td>\n",
       "      <td>0</td>\n",
       "      <td>0</td>\n",
       "      <td>0</td>\n",
       "      <td>0</td>\n",
       "      <td>0</td>\n",
       "      <td>0</td>\n",
       "      <td>0</td>\n",
       "      <td>0</td>\n",
       "      <td>0</td>\n",
       "      <td>0</td>\n",
       "      <td>0</td>\n",
       "      <td>0</td>\n",
       "      <td>0</td>\n",
       "      <td>0</td>\n",
       "      <td>0</td>\n",
       "      <td>0</td>\n",
       "      <td>0</td>\n",
       "      <td>0</td>\n",
       "      <td>0</td>\n",
       "      <td>0</td>\n",
       "      <td>0</td>\n",
       "      <td>0</td>\n",
       "      <td>0</td>\n",
       "      <td>0</td>\n",
       "      <td>0</td>\n",
       "      <td>0</td>\n",
       "      <td>0</td>\n",
       "      <td>0</td>\n",
       "      <td>0</td>\n",
       "      <td>0</td>\n",
       "      <td>0</td>\n",
       "      <td>0</td>\n",
       "      <td>0</td>\n",
       "      <td>0</td>\n",
       "      <td>0</td>\n",
       "      <td>0</td>\n",
       "      <td>0</td>\n",
       "      <td>0</td>\n",
       "      <td>0</td>\n",
       "      <td>0</td>\n",
       "      <td>0</td>\n",
       "      <td>0</td>\n",
       "      <td>0</td>\n",
       "      <td>...</td>\n",
       "      <td>0</td>\n",
       "      <td>0</td>\n",
       "      <td>0</td>\n",
       "      <td>0</td>\n",
       "      <td>0</td>\n",
       "      <td>0</td>\n",
       "      <td>0</td>\n",
       "      <td>0</td>\n",
       "      <td>0</td>\n",
       "      <td>2</td>\n",
       "      <td>2</td>\n",
       "      <td>0</td>\n",
       "      <td>0</td>\n",
       "      <td>0</td>\n",
       "      <td>0</td>\n",
       "      <td>0</td>\n",
       "      <td>0</td>\n",
       "      <td>0</td>\n",
       "      <td>0</td>\n",
       "      <td>0</td>\n",
       "      <td>0</td>\n",
       "      <td>0</td>\n",
       "      <td>4</td>\n",
       "      <td>0</td>\n",
       "      <td>0</td>\n",
       "      <td>0</td>\n",
       "      <td>0</td>\n",
       "      <td>1</td>\n",
       "      <td>0</td>\n",
       "      <td>0</td>\n",
       "      <td>0</td>\n",
       "      <td>0</td>\n",
       "      <td>0</td>\n",
       "      <td>0</td>\n",
       "      <td>0</td>\n",
       "      <td>0</td>\n",
       "      <td>0</td>\n",
       "      <td>0</td>\n",
       "      <td>0</td>\n",
       "      <td>0</td>\n",
       "      <td>0</td>\n",
       "      <td>0</td>\n",
       "      <td>0</td>\n",
       "      <td>0</td>\n",
       "      <td>0</td>\n",
       "      <td>0</td>\n",
       "      <td>0</td>\n",
       "      <td>0</td>\n",
       "      <td>Ensemble methods: bagging, boosting and stacking</td>\n",
       "      <td>1</td>\n",
       "    </tr>\n",
       "    <tr>\n",
       "      <th>1</th>\n",
       "      <td>0</td>\n",
       "      <td>0</td>\n",
       "      <td>0</td>\n",
       "      <td>0</td>\n",
       "      <td>0</td>\n",
       "      <td>0</td>\n",
       "      <td>0</td>\n",
       "      <td>0</td>\n",
       "      <td>0</td>\n",
       "      <td>0</td>\n",
       "      <td>0</td>\n",
       "      <td>0</td>\n",
       "      <td>0</td>\n",
       "      <td>0</td>\n",
       "      <td>0</td>\n",
       "      <td>0</td>\n",
       "      <td>0</td>\n",
       "      <td>0</td>\n",
       "      <td>0</td>\n",
       "      <td>0</td>\n",
       "      <td>0</td>\n",
       "      <td>0</td>\n",
       "      <td>0</td>\n",
       "      <td>0</td>\n",
       "      <td>0</td>\n",
       "      <td>0</td>\n",
       "      <td>0</td>\n",
       "      <td>0</td>\n",
       "      <td>0</td>\n",
       "      <td>0</td>\n",
       "      <td>0</td>\n",
       "      <td>0</td>\n",
       "      <td>0</td>\n",
       "      <td>0</td>\n",
       "      <td>0</td>\n",
       "      <td>0</td>\n",
       "      <td>0</td>\n",
       "      <td>0</td>\n",
       "      <td>0</td>\n",
       "      <td>0</td>\n",
       "      <td>0</td>\n",
       "      <td>0</td>\n",
       "      <td>0</td>\n",
       "      <td>0</td>\n",
       "      <td>0</td>\n",
       "      <td>0</td>\n",
       "      <td>0</td>\n",
       "      <td>0</td>\n",
       "      <td>0</td>\n",
       "      <td>0</td>\n",
       "      <td>...</td>\n",
       "      <td>0</td>\n",
       "      <td>0</td>\n",
       "      <td>0</td>\n",
       "      <td>0</td>\n",
       "      <td>0</td>\n",
       "      <td>0</td>\n",
       "      <td>0</td>\n",
       "      <td>0</td>\n",
       "      <td>0</td>\n",
       "      <td>0</td>\n",
       "      <td>0</td>\n",
       "      <td>0</td>\n",
       "      <td>0</td>\n",
       "      <td>0</td>\n",
       "      <td>0</td>\n",
       "      <td>0</td>\n",
       "      <td>0</td>\n",
       "      <td>0</td>\n",
       "      <td>0</td>\n",
       "      <td>0</td>\n",
       "      <td>0</td>\n",
       "      <td>0</td>\n",
       "      <td>1</td>\n",
       "      <td>0</td>\n",
       "      <td>0</td>\n",
       "      <td>0</td>\n",
       "      <td>1</td>\n",
       "      <td>0</td>\n",
       "      <td>0</td>\n",
       "      <td>0</td>\n",
       "      <td>0</td>\n",
       "      <td>0</td>\n",
       "      <td>0</td>\n",
       "      <td>0</td>\n",
       "      <td>0</td>\n",
       "      <td>0</td>\n",
       "      <td>0</td>\n",
       "      <td>0</td>\n",
       "      <td>0</td>\n",
       "      <td>0</td>\n",
       "      <td>0</td>\n",
       "      <td>0</td>\n",
       "      <td>0</td>\n",
       "      <td>0</td>\n",
       "      <td>0</td>\n",
       "      <td>0</td>\n",
       "      <td>0</td>\n",
       "      <td>0</td>\n",
       "      <td>Understanding AUC - ROC Curve</td>\n",
       "      <td>2</td>\n",
       "    </tr>\n",
       "    <tr>\n",
       "      <th>2</th>\n",
       "      <td>0</td>\n",
       "      <td>0</td>\n",
       "      <td>0</td>\n",
       "      <td>0</td>\n",
       "      <td>1</td>\n",
       "      <td>0</td>\n",
       "      <td>1</td>\n",
       "      <td>0</td>\n",
       "      <td>0</td>\n",
       "      <td>0</td>\n",
       "      <td>0</td>\n",
       "      <td>0</td>\n",
       "      <td>0</td>\n",
       "      <td>0</td>\n",
       "      <td>0</td>\n",
       "      <td>0</td>\n",
       "      <td>0</td>\n",
       "      <td>0</td>\n",
       "      <td>0</td>\n",
       "      <td>0</td>\n",
       "      <td>0</td>\n",
       "      <td>0</td>\n",
       "      <td>0</td>\n",
       "      <td>0</td>\n",
       "      <td>0</td>\n",
       "      <td>0</td>\n",
       "      <td>0</td>\n",
       "      <td>0</td>\n",
       "      <td>0</td>\n",
       "      <td>0</td>\n",
       "      <td>0</td>\n",
       "      <td>0</td>\n",
       "      <td>0</td>\n",
       "      <td>0</td>\n",
       "      <td>0</td>\n",
       "      <td>0</td>\n",
       "      <td>0</td>\n",
       "      <td>0</td>\n",
       "      <td>0</td>\n",
       "      <td>0</td>\n",
       "      <td>0</td>\n",
       "      <td>0</td>\n",
       "      <td>0</td>\n",
       "      <td>0</td>\n",
       "      <td>0</td>\n",
       "      <td>0</td>\n",
       "      <td>0</td>\n",
       "      <td>0</td>\n",
       "      <td>1</td>\n",
       "      <td>0</td>\n",
       "      <td>...</td>\n",
       "      <td>0</td>\n",
       "      <td>0</td>\n",
       "      <td>0</td>\n",
       "      <td>0</td>\n",
       "      <td>0</td>\n",
       "      <td>0</td>\n",
       "      <td>0</td>\n",
       "      <td>0</td>\n",
       "      <td>0</td>\n",
       "      <td>0</td>\n",
       "      <td>4</td>\n",
       "      <td>0</td>\n",
       "      <td>0</td>\n",
       "      <td>0</td>\n",
       "      <td>0</td>\n",
       "      <td>0</td>\n",
       "      <td>0</td>\n",
       "      <td>0</td>\n",
       "      <td>0</td>\n",
       "      <td>0</td>\n",
       "      <td>0</td>\n",
       "      <td>0</td>\n",
       "      <td>2</td>\n",
       "      <td>0</td>\n",
       "      <td>0</td>\n",
       "      <td>1</td>\n",
       "      <td>1</td>\n",
       "      <td>0</td>\n",
       "      <td>0</td>\n",
       "      <td>0</td>\n",
       "      <td>1</td>\n",
       "      <td>0</td>\n",
       "      <td>0</td>\n",
       "      <td>0</td>\n",
       "      <td>0</td>\n",
       "      <td>0</td>\n",
       "      <td>0</td>\n",
       "      <td>0</td>\n",
       "      <td>0</td>\n",
       "      <td>0</td>\n",
       "      <td>0</td>\n",
       "      <td>0</td>\n",
       "      <td>0</td>\n",
       "      <td>0</td>\n",
       "      <td>0</td>\n",
       "      <td>0</td>\n",
       "      <td>0</td>\n",
       "      <td>0</td>\n",
       "      <td>How to work with object detection datasets in ...</td>\n",
       "      <td>3</td>\n",
       "    </tr>\n",
       "    <tr>\n",
       "      <th>3</th>\n",
       "      <td>0</td>\n",
       "      <td>0</td>\n",
       "      <td>0</td>\n",
       "      <td>0</td>\n",
       "      <td>0</td>\n",
       "      <td>0</td>\n",
       "      <td>0</td>\n",
       "      <td>0</td>\n",
       "      <td>0</td>\n",
       "      <td>0</td>\n",
       "      <td>0</td>\n",
       "      <td>0</td>\n",
       "      <td>1</td>\n",
       "      <td>0</td>\n",
       "      <td>0</td>\n",
       "      <td>0</td>\n",
       "      <td>0</td>\n",
       "      <td>0</td>\n",
       "      <td>1</td>\n",
       "      <td>1</td>\n",
       "      <td>0</td>\n",
       "      <td>0</td>\n",
       "      <td>0</td>\n",
       "      <td>0</td>\n",
       "      <td>0</td>\n",
       "      <td>0</td>\n",
       "      <td>0</td>\n",
       "      <td>0</td>\n",
       "      <td>0</td>\n",
       "      <td>0</td>\n",
       "      <td>0</td>\n",
       "      <td>0</td>\n",
       "      <td>0</td>\n",
       "      <td>0</td>\n",
       "      <td>0</td>\n",
       "      <td>0</td>\n",
       "      <td>0</td>\n",
       "      <td>0</td>\n",
       "      <td>0</td>\n",
       "      <td>0</td>\n",
       "      <td>0</td>\n",
       "      <td>0</td>\n",
       "      <td>0</td>\n",
       "      <td>0</td>\n",
       "      <td>0</td>\n",
       "      <td>0</td>\n",
       "      <td>0</td>\n",
       "      <td>0</td>\n",
       "      <td>0</td>\n",
       "      <td>0</td>\n",
       "      <td>...</td>\n",
       "      <td>0</td>\n",
       "      <td>0</td>\n",
       "      <td>0</td>\n",
       "      <td>0</td>\n",
       "      <td>0</td>\n",
       "      <td>0</td>\n",
       "      <td>0</td>\n",
       "      <td>0</td>\n",
       "      <td>0</td>\n",
       "      <td>0</td>\n",
       "      <td>4</td>\n",
       "      <td>0</td>\n",
       "      <td>0</td>\n",
       "      <td>0</td>\n",
       "      <td>0</td>\n",
       "      <td>3</td>\n",
       "      <td>0</td>\n",
       "      <td>1</td>\n",
       "      <td>0</td>\n",
       "      <td>0</td>\n",
       "      <td>0</td>\n",
       "      <td>0</td>\n",
       "      <td>4</td>\n",
       "      <td>0</td>\n",
       "      <td>0</td>\n",
       "      <td>0</td>\n",
       "      <td>0</td>\n",
       "      <td>0</td>\n",
       "      <td>0</td>\n",
       "      <td>0</td>\n",
       "      <td>0</td>\n",
       "      <td>0</td>\n",
       "      <td>0</td>\n",
       "      <td>1</td>\n",
       "      <td>0</td>\n",
       "      <td>0</td>\n",
       "      <td>0</td>\n",
       "      <td>0</td>\n",
       "      <td>0</td>\n",
       "      <td>0</td>\n",
       "      <td>0</td>\n",
       "      <td>1</td>\n",
       "      <td>0</td>\n",
       "      <td>0</td>\n",
       "      <td>0</td>\n",
       "      <td>0</td>\n",
       "      <td>0</td>\n",
       "      <td>0</td>\n",
       "      <td>11 Dimensionality reduction techniques you sho...</td>\n",
       "      <td>4</td>\n",
       "    </tr>\n",
       "    <tr>\n",
       "      <th>4</th>\n",
       "      <td>0</td>\n",
       "      <td>0</td>\n",
       "      <td>0</td>\n",
       "      <td>0</td>\n",
       "      <td>0</td>\n",
       "      <td>0</td>\n",
       "      <td>0</td>\n",
       "      <td>0</td>\n",
       "      <td>0</td>\n",
       "      <td>0</td>\n",
       "      <td>0</td>\n",
       "      <td>0</td>\n",
       "      <td>0</td>\n",
       "      <td>0</td>\n",
       "      <td>0</td>\n",
       "      <td>0</td>\n",
       "      <td>0</td>\n",
       "      <td>0</td>\n",
       "      <td>0</td>\n",
       "      <td>0</td>\n",
       "      <td>0</td>\n",
       "      <td>0</td>\n",
       "      <td>0</td>\n",
       "      <td>0</td>\n",
       "      <td>0</td>\n",
       "      <td>0</td>\n",
       "      <td>0</td>\n",
       "      <td>0</td>\n",
       "      <td>0</td>\n",
       "      <td>0</td>\n",
       "      <td>0</td>\n",
       "      <td>0</td>\n",
       "      <td>0</td>\n",
       "      <td>0</td>\n",
       "      <td>0</td>\n",
       "      <td>0</td>\n",
       "      <td>0</td>\n",
       "      <td>0</td>\n",
       "      <td>0</td>\n",
       "      <td>0</td>\n",
       "      <td>0</td>\n",
       "      <td>0</td>\n",
       "      <td>0</td>\n",
       "      <td>0</td>\n",
       "      <td>1</td>\n",
       "      <td>0</td>\n",
       "      <td>1</td>\n",
       "      <td>0</td>\n",
       "      <td>0</td>\n",
       "      <td>0</td>\n",
       "      <td>...</td>\n",
       "      <td>0</td>\n",
       "      <td>0</td>\n",
       "      <td>0</td>\n",
       "      <td>1</td>\n",
       "      <td>0</td>\n",
       "      <td>0</td>\n",
       "      <td>0</td>\n",
       "      <td>0</td>\n",
       "      <td>0</td>\n",
       "      <td>1</td>\n",
       "      <td>2</td>\n",
       "      <td>0</td>\n",
       "      <td>0</td>\n",
       "      <td>0</td>\n",
       "      <td>0</td>\n",
       "      <td>0</td>\n",
       "      <td>0</td>\n",
       "      <td>0</td>\n",
       "      <td>0</td>\n",
       "      <td>0</td>\n",
       "      <td>0</td>\n",
       "      <td>0</td>\n",
       "      <td>0</td>\n",
       "      <td>0</td>\n",
       "      <td>0</td>\n",
       "      <td>0</td>\n",
       "      <td>0</td>\n",
       "      <td>0</td>\n",
       "      <td>0</td>\n",
       "      <td>0</td>\n",
       "      <td>0</td>\n",
       "      <td>0</td>\n",
       "      <td>0</td>\n",
       "      <td>0</td>\n",
       "      <td>0</td>\n",
       "      <td>0</td>\n",
       "      <td>0</td>\n",
       "      <td>0</td>\n",
       "      <td>0</td>\n",
       "      <td>0</td>\n",
       "      <td>0</td>\n",
       "      <td>0</td>\n",
       "      <td>0</td>\n",
       "      <td>0</td>\n",
       "      <td>0</td>\n",
       "      <td>0</td>\n",
       "      <td>0</td>\n",
       "      <td>0</td>\n",
       "      <td>The Time Series Transformer</td>\n",
       "      <td>5</td>\n",
       "    </tr>\n",
       "    <tr>\n",
       "      <th>...</th>\n",
       "      <td>...</td>\n",
       "      <td>...</td>\n",
       "      <td>...</td>\n",
       "      <td>...</td>\n",
       "      <td>...</td>\n",
       "      <td>...</td>\n",
       "      <td>...</td>\n",
       "      <td>...</td>\n",
       "      <td>...</td>\n",
       "      <td>...</td>\n",
       "      <td>...</td>\n",
       "      <td>...</td>\n",
       "      <td>...</td>\n",
       "      <td>...</td>\n",
       "      <td>...</td>\n",
       "      <td>...</td>\n",
       "      <td>...</td>\n",
       "      <td>...</td>\n",
       "      <td>...</td>\n",
       "      <td>...</td>\n",
       "      <td>...</td>\n",
       "      <td>...</td>\n",
       "      <td>...</td>\n",
       "      <td>...</td>\n",
       "      <td>...</td>\n",
       "      <td>...</td>\n",
       "      <td>...</td>\n",
       "      <td>...</td>\n",
       "      <td>...</td>\n",
       "      <td>...</td>\n",
       "      <td>...</td>\n",
       "      <td>...</td>\n",
       "      <td>...</td>\n",
       "      <td>...</td>\n",
       "      <td>...</td>\n",
       "      <td>...</td>\n",
       "      <td>...</td>\n",
       "      <td>...</td>\n",
       "      <td>...</td>\n",
       "      <td>...</td>\n",
       "      <td>...</td>\n",
       "      <td>...</td>\n",
       "      <td>...</td>\n",
       "      <td>...</td>\n",
       "      <td>...</td>\n",
       "      <td>...</td>\n",
       "      <td>...</td>\n",
       "      <td>...</td>\n",
       "      <td>...</td>\n",
       "      <td>...</td>\n",
       "      <td>...</td>\n",
       "      <td>...</td>\n",
       "      <td>...</td>\n",
       "      <td>...</td>\n",
       "      <td>...</td>\n",
       "      <td>...</td>\n",
       "      <td>...</td>\n",
       "      <td>...</td>\n",
       "      <td>...</td>\n",
       "      <td>...</td>\n",
       "      <td>...</td>\n",
       "      <td>...</td>\n",
       "      <td>...</td>\n",
       "      <td>...</td>\n",
       "      <td>...</td>\n",
       "      <td>...</td>\n",
       "      <td>...</td>\n",
       "      <td>...</td>\n",
       "      <td>...</td>\n",
       "      <td>...</td>\n",
       "      <td>...</td>\n",
       "      <td>...</td>\n",
       "      <td>...</td>\n",
       "      <td>...</td>\n",
       "      <td>...</td>\n",
       "      <td>...</td>\n",
       "      <td>...</td>\n",
       "      <td>...</td>\n",
       "      <td>...</td>\n",
       "      <td>...</td>\n",
       "      <td>...</td>\n",
       "      <td>...</td>\n",
       "      <td>...</td>\n",
       "      <td>...</td>\n",
       "      <td>...</td>\n",
       "      <td>...</td>\n",
       "      <td>...</td>\n",
       "      <td>...</td>\n",
       "      <td>...</td>\n",
       "      <td>...</td>\n",
       "      <td>...</td>\n",
       "      <td>...</td>\n",
       "      <td>...</td>\n",
       "      <td>...</td>\n",
       "      <td>...</td>\n",
       "      <td>...</td>\n",
       "      <td>...</td>\n",
       "      <td>...</td>\n",
       "      <td>...</td>\n",
       "      <td>...</td>\n",
       "      <td>...</td>\n",
       "    </tr>\n",
       "    <tr>\n",
       "      <th>203</th>\n",
       "      <td>1</td>\n",
       "      <td>0</td>\n",
       "      <td>0</td>\n",
       "      <td>0</td>\n",
       "      <td>0</td>\n",
       "      <td>0</td>\n",
       "      <td>1</td>\n",
       "      <td>0</td>\n",
       "      <td>0</td>\n",
       "      <td>0</td>\n",
       "      <td>0</td>\n",
       "      <td>0</td>\n",
       "      <td>0</td>\n",
       "      <td>1</td>\n",
       "      <td>0</td>\n",
       "      <td>0</td>\n",
       "      <td>0</td>\n",
       "      <td>0</td>\n",
       "      <td>0</td>\n",
       "      <td>0</td>\n",
       "      <td>0</td>\n",
       "      <td>0</td>\n",
       "      <td>0</td>\n",
       "      <td>0</td>\n",
       "      <td>0</td>\n",
       "      <td>0</td>\n",
       "      <td>0</td>\n",
       "      <td>0</td>\n",
       "      <td>0</td>\n",
       "      <td>0</td>\n",
       "      <td>1</td>\n",
       "      <td>0</td>\n",
       "      <td>1</td>\n",
       "      <td>0</td>\n",
       "      <td>0</td>\n",
       "      <td>1</td>\n",
       "      <td>0</td>\n",
       "      <td>0</td>\n",
       "      <td>0</td>\n",
       "      <td>0</td>\n",
       "      <td>0</td>\n",
       "      <td>0</td>\n",
       "      <td>0</td>\n",
       "      <td>0</td>\n",
       "      <td>0</td>\n",
       "      <td>1</td>\n",
       "      <td>0</td>\n",
       "      <td>0</td>\n",
       "      <td>0</td>\n",
       "      <td>0</td>\n",
       "      <td>...</td>\n",
       "      <td>0</td>\n",
       "      <td>0</td>\n",
       "      <td>0</td>\n",
       "      <td>0</td>\n",
       "      <td>0</td>\n",
       "      <td>0</td>\n",
       "      <td>1</td>\n",
       "      <td>0</td>\n",
       "      <td>0</td>\n",
       "      <td>0</td>\n",
       "      <td>4</td>\n",
       "      <td>0</td>\n",
       "      <td>0</td>\n",
       "      <td>0</td>\n",
       "      <td>0</td>\n",
       "      <td>0</td>\n",
       "      <td>0</td>\n",
       "      <td>0</td>\n",
       "      <td>1</td>\n",
       "      <td>0</td>\n",
       "      <td>0</td>\n",
       "      <td>0</td>\n",
       "      <td>1</td>\n",
       "      <td>0</td>\n",
       "      <td>0</td>\n",
       "      <td>3</td>\n",
       "      <td>0</td>\n",
       "      <td>0</td>\n",
       "      <td>0</td>\n",
       "      <td>0</td>\n",
       "      <td>4</td>\n",
       "      <td>0</td>\n",
       "      <td>0</td>\n",
       "      <td>0</td>\n",
       "      <td>0</td>\n",
       "      <td>0</td>\n",
       "      <td>0</td>\n",
       "      <td>0</td>\n",
       "      <td>0</td>\n",
       "      <td>1</td>\n",
       "      <td>0</td>\n",
       "      <td>0</td>\n",
       "      <td>0</td>\n",
       "      <td>0</td>\n",
       "      <td>0</td>\n",
       "      <td>0</td>\n",
       "      <td>0</td>\n",
       "      <td>0</td>\n",
       "      <td>Type 2 Diabetes Reversal  The Quick Start Guide</td>\n",
       "      <td>210</td>\n",
       "    </tr>\n",
       "    <tr>\n",
       "      <th>204</th>\n",
       "      <td>0</td>\n",
       "      <td>0</td>\n",
       "      <td>0</td>\n",
       "      <td>0</td>\n",
       "      <td>0</td>\n",
       "      <td>0</td>\n",
       "      <td>0</td>\n",
       "      <td>0</td>\n",
       "      <td>0</td>\n",
       "      <td>0</td>\n",
       "      <td>0</td>\n",
       "      <td>0</td>\n",
       "      <td>0</td>\n",
       "      <td>1</td>\n",
       "      <td>0</td>\n",
       "      <td>0</td>\n",
       "      <td>0</td>\n",
       "      <td>0</td>\n",
       "      <td>1</td>\n",
       "      <td>0</td>\n",
       "      <td>0</td>\n",
       "      <td>0</td>\n",
       "      <td>0</td>\n",
       "      <td>0</td>\n",
       "      <td>0</td>\n",
       "      <td>0</td>\n",
       "      <td>0</td>\n",
       "      <td>0</td>\n",
       "      <td>0</td>\n",
       "      <td>0</td>\n",
       "      <td>0</td>\n",
       "      <td>0</td>\n",
       "      <td>0</td>\n",
       "      <td>0</td>\n",
       "      <td>0</td>\n",
       "      <td>0</td>\n",
       "      <td>0</td>\n",
       "      <td>0</td>\n",
       "      <td>0</td>\n",
       "      <td>0</td>\n",
       "      <td>0</td>\n",
       "      <td>0</td>\n",
       "      <td>0</td>\n",
       "      <td>0</td>\n",
       "      <td>0</td>\n",
       "      <td>0</td>\n",
       "      <td>0</td>\n",
       "      <td>0</td>\n",
       "      <td>0</td>\n",
       "      <td>0</td>\n",
       "      <td>...</td>\n",
       "      <td>0</td>\n",
       "      <td>0</td>\n",
       "      <td>0</td>\n",
       "      <td>0</td>\n",
       "      <td>0</td>\n",
       "      <td>0</td>\n",
       "      <td>1</td>\n",
       "      <td>0</td>\n",
       "      <td>0</td>\n",
       "      <td>0</td>\n",
       "      <td>4</td>\n",
       "      <td>0</td>\n",
       "      <td>0</td>\n",
       "      <td>0</td>\n",
       "      <td>0</td>\n",
       "      <td>0</td>\n",
       "      <td>0</td>\n",
       "      <td>0</td>\n",
       "      <td>0</td>\n",
       "      <td>0</td>\n",
       "      <td>0</td>\n",
       "      <td>0</td>\n",
       "      <td>0</td>\n",
       "      <td>0</td>\n",
       "      <td>0</td>\n",
       "      <td>2</td>\n",
       "      <td>3</td>\n",
       "      <td>0</td>\n",
       "      <td>0</td>\n",
       "      <td>0</td>\n",
       "      <td>1</td>\n",
       "      <td>0</td>\n",
       "      <td>0</td>\n",
       "      <td>1</td>\n",
       "      <td>0</td>\n",
       "      <td>0</td>\n",
       "      <td>0</td>\n",
       "      <td>0</td>\n",
       "      <td>1</td>\n",
       "      <td>0</td>\n",
       "      <td>0</td>\n",
       "      <td>0</td>\n",
       "      <td>0</td>\n",
       "      <td>0</td>\n",
       "      <td>0</td>\n",
       "      <td>2</td>\n",
       "      <td>0</td>\n",
       "      <td>0</td>\n",
       "      <td>How a 22 Day Water Fast Changed My Life</td>\n",
       "      <td>211</td>\n",
       "    </tr>\n",
       "    <tr>\n",
       "      <th>205</th>\n",
       "      <td>0</td>\n",
       "      <td>0</td>\n",
       "      <td>0</td>\n",
       "      <td>0</td>\n",
       "      <td>0</td>\n",
       "      <td>0</td>\n",
       "      <td>1</td>\n",
       "      <td>0</td>\n",
       "      <td>0</td>\n",
       "      <td>0</td>\n",
       "      <td>0</td>\n",
       "      <td>0</td>\n",
       "      <td>1</td>\n",
       "      <td>1</td>\n",
       "      <td>0</td>\n",
       "      <td>0</td>\n",
       "      <td>0</td>\n",
       "      <td>0</td>\n",
       "      <td>0</td>\n",
       "      <td>0</td>\n",
       "      <td>0</td>\n",
       "      <td>0</td>\n",
       "      <td>0</td>\n",
       "      <td>0</td>\n",
       "      <td>0</td>\n",
       "      <td>0</td>\n",
       "      <td>0</td>\n",
       "      <td>0</td>\n",
       "      <td>0</td>\n",
       "      <td>0</td>\n",
       "      <td>0</td>\n",
       "      <td>0</td>\n",
       "      <td>0</td>\n",
       "      <td>0</td>\n",
       "      <td>0</td>\n",
       "      <td>0</td>\n",
       "      <td>0</td>\n",
       "      <td>0</td>\n",
       "      <td>0</td>\n",
       "      <td>0</td>\n",
       "      <td>0</td>\n",
       "      <td>0</td>\n",
       "      <td>0</td>\n",
       "      <td>0</td>\n",
       "      <td>0</td>\n",
       "      <td>0</td>\n",
       "      <td>0</td>\n",
       "      <td>0</td>\n",
       "      <td>0</td>\n",
       "      <td>0</td>\n",
       "      <td>...</td>\n",
       "      <td>0</td>\n",
       "      <td>0</td>\n",
       "      <td>0</td>\n",
       "      <td>0</td>\n",
       "      <td>0</td>\n",
       "      <td>0</td>\n",
       "      <td>0</td>\n",
       "      <td>0</td>\n",
       "      <td>0</td>\n",
       "      <td>0</td>\n",
       "      <td>0</td>\n",
       "      <td>0</td>\n",
       "      <td>0</td>\n",
       "      <td>0</td>\n",
       "      <td>0</td>\n",
       "      <td>0</td>\n",
       "      <td>0</td>\n",
       "      <td>0</td>\n",
       "      <td>0</td>\n",
       "      <td>0</td>\n",
       "      <td>0</td>\n",
       "      <td>0</td>\n",
       "      <td>0</td>\n",
       "      <td>0</td>\n",
       "      <td>0</td>\n",
       "      <td>0</td>\n",
       "      <td>0</td>\n",
       "      <td>0</td>\n",
       "      <td>0</td>\n",
       "      <td>0</td>\n",
       "      <td>0</td>\n",
       "      <td>0</td>\n",
       "      <td>0</td>\n",
       "      <td>0</td>\n",
       "      <td>0</td>\n",
       "      <td>0</td>\n",
       "      <td>0</td>\n",
       "      <td>0</td>\n",
       "      <td>0</td>\n",
       "      <td>0</td>\n",
       "      <td>0</td>\n",
       "      <td>1</td>\n",
       "      <td>0</td>\n",
       "      <td>0</td>\n",
       "      <td>0</td>\n",
       "      <td>0</td>\n",
       "      <td>0</td>\n",
       "      <td>0</td>\n",
       "      <td>Breaking Your Fast</td>\n",
       "      <td>212</td>\n",
       "    </tr>\n",
       "    <tr>\n",
       "      <th>206</th>\n",
       "      <td>0</td>\n",
       "      <td>0</td>\n",
       "      <td>0</td>\n",
       "      <td>0</td>\n",
       "      <td>0</td>\n",
       "      <td>0</td>\n",
       "      <td>5</td>\n",
       "      <td>0</td>\n",
       "      <td>0</td>\n",
       "      <td>0</td>\n",
       "      <td>0</td>\n",
       "      <td>0</td>\n",
       "      <td>0</td>\n",
       "      <td>0</td>\n",
       "      <td>0</td>\n",
       "      <td>0</td>\n",
       "      <td>0</td>\n",
       "      <td>0</td>\n",
       "      <td>0</td>\n",
       "      <td>3</td>\n",
       "      <td>0</td>\n",
       "      <td>0</td>\n",
       "      <td>0</td>\n",
       "      <td>2</td>\n",
       "      <td>0</td>\n",
       "      <td>0</td>\n",
       "      <td>0</td>\n",
       "      <td>0</td>\n",
       "      <td>0</td>\n",
       "      <td>0</td>\n",
       "      <td>0</td>\n",
       "      <td>0</td>\n",
       "      <td>0</td>\n",
       "      <td>0</td>\n",
       "      <td>0</td>\n",
       "      <td>0</td>\n",
       "      <td>0</td>\n",
       "      <td>0</td>\n",
       "      <td>0</td>\n",
       "      <td>0</td>\n",
       "      <td>0</td>\n",
       "      <td>0</td>\n",
       "      <td>0</td>\n",
       "      <td>0</td>\n",
       "      <td>1</td>\n",
       "      <td>0</td>\n",
       "      <td>0</td>\n",
       "      <td>0</td>\n",
       "      <td>0</td>\n",
       "      <td>0</td>\n",
       "      <td>...</td>\n",
       "      <td>0</td>\n",
       "      <td>0</td>\n",
       "      <td>0</td>\n",
       "      <td>0</td>\n",
       "      <td>0</td>\n",
       "      <td>0</td>\n",
       "      <td>0</td>\n",
       "      <td>0</td>\n",
       "      <td>0</td>\n",
       "      <td>0</td>\n",
       "      <td>10</td>\n",
       "      <td>0</td>\n",
       "      <td>0</td>\n",
       "      <td>0</td>\n",
       "      <td>0</td>\n",
       "      <td>1</td>\n",
       "      <td>0</td>\n",
       "      <td>0</td>\n",
       "      <td>0</td>\n",
       "      <td>0</td>\n",
       "      <td>0</td>\n",
       "      <td>0</td>\n",
       "      <td>3</td>\n",
       "      <td>0</td>\n",
       "      <td>0</td>\n",
       "      <td>0</td>\n",
       "      <td>1</td>\n",
       "      <td>0</td>\n",
       "      <td>0</td>\n",
       "      <td>0</td>\n",
       "      <td>2</td>\n",
       "      <td>0</td>\n",
       "      <td>0</td>\n",
       "      <td>0</td>\n",
       "      <td>0</td>\n",
       "      <td>0</td>\n",
       "      <td>0</td>\n",
       "      <td>0</td>\n",
       "      <td>0</td>\n",
       "      <td>0</td>\n",
       "      <td>0</td>\n",
       "      <td>0</td>\n",
       "      <td>0</td>\n",
       "      <td>0</td>\n",
       "      <td>1</td>\n",
       "      <td>1</td>\n",
       "      <td>0</td>\n",
       "      <td>0</td>\n",
       "      <td>11 Unusual Tips for How to Wake Up Early</td>\n",
       "      <td>213</td>\n",
       "    </tr>\n",
       "    <tr>\n",
       "      <th>207</th>\n",
       "      <td>0</td>\n",
       "      <td>0</td>\n",
       "      <td>0</td>\n",
       "      <td>0</td>\n",
       "      <td>0</td>\n",
       "      <td>0</td>\n",
       "      <td>1</td>\n",
       "      <td>0</td>\n",
       "      <td>0</td>\n",
       "      <td>0</td>\n",
       "      <td>0</td>\n",
       "      <td>0</td>\n",
       "      <td>0</td>\n",
       "      <td>0</td>\n",
       "      <td>0</td>\n",
       "      <td>0</td>\n",
       "      <td>0</td>\n",
       "      <td>0</td>\n",
       "      <td>0</td>\n",
       "      <td>0</td>\n",
       "      <td>0</td>\n",
       "      <td>0</td>\n",
       "      <td>0</td>\n",
       "      <td>0</td>\n",
       "      <td>0</td>\n",
       "      <td>0</td>\n",
       "      <td>0</td>\n",
       "      <td>0</td>\n",
       "      <td>0</td>\n",
       "      <td>0</td>\n",
       "      <td>1</td>\n",
       "      <td>0</td>\n",
       "      <td>0</td>\n",
       "      <td>0</td>\n",
       "      <td>0</td>\n",
       "      <td>0</td>\n",
       "      <td>0</td>\n",
       "      <td>0</td>\n",
       "      <td>0</td>\n",
       "      <td>0</td>\n",
       "      <td>0</td>\n",
       "      <td>0</td>\n",
       "      <td>0</td>\n",
       "      <td>0</td>\n",
       "      <td>0</td>\n",
       "      <td>0</td>\n",
       "      <td>0</td>\n",
       "      <td>0</td>\n",
       "      <td>0</td>\n",
       "      <td>0</td>\n",
       "      <td>...</td>\n",
       "      <td>0</td>\n",
       "      <td>0</td>\n",
       "      <td>0</td>\n",
       "      <td>0</td>\n",
       "      <td>0</td>\n",
       "      <td>5</td>\n",
       "      <td>0</td>\n",
       "      <td>0</td>\n",
       "      <td>0</td>\n",
       "      <td>3</td>\n",
       "      <td>2</td>\n",
       "      <td>0</td>\n",
       "      <td>0</td>\n",
       "      <td>0</td>\n",
       "      <td>0</td>\n",
       "      <td>0</td>\n",
       "      <td>1</td>\n",
       "      <td>0</td>\n",
       "      <td>0</td>\n",
       "      <td>0</td>\n",
       "      <td>0</td>\n",
       "      <td>0</td>\n",
       "      <td>2</td>\n",
       "      <td>0</td>\n",
       "      <td>0</td>\n",
       "      <td>1</td>\n",
       "      <td>0</td>\n",
       "      <td>0</td>\n",
       "      <td>0</td>\n",
       "      <td>0</td>\n",
       "      <td>1</td>\n",
       "      <td>0</td>\n",
       "      <td>0</td>\n",
       "      <td>2</td>\n",
       "      <td>0</td>\n",
       "      <td>0</td>\n",
       "      <td>2</td>\n",
       "      <td>0</td>\n",
       "      <td>0</td>\n",
       "      <td>0</td>\n",
       "      <td>0</td>\n",
       "      <td>0</td>\n",
       "      <td>0</td>\n",
       "      <td>0</td>\n",
       "      <td>0</td>\n",
       "      <td>0</td>\n",
       "      <td>0</td>\n",
       "      <td>0</td>\n",
       "      <td>The 3 Biggest Mistakes Women Make On The Ketog...</td>\n",
       "      <td>214</td>\n",
       "    </tr>\n",
       "  </tbody>\n",
       "</table>\n",
       "<p>208 rows × 3709 columns</p>\n",
       "</div>"
      ],
      "text/plain": [
       "     00  000  01  05  06  07  10  100  1000  101  10k  10x  11  12  120  125  \\\n",
       "0     0    0   0   0   0   0   0    0     0    0    0    0   0   0    0    0   \n",
       "1     0    0   0   0   0   0   0    0     0    0    0    0   0   0    0    0   \n",
       "2     0    0   0   0   1   0   1    0     0    0    0    0   0   0    0    0   \n",
       "3     0    0   0   0   0   0   0    0     0    0    0    0   1   0    0    0   \n",
       "4     0    0   0   0   0   0   0    0     0    0    0    0   0   0    0    0   \n",
       "..   ..  ...  ..  ..  ..  ..  ..  ...   ...  ...  ...  ...  ..  ..  ...  ...   \n",
       "203   1    0   0   0   0   0   1    0     0    0    0    0   0   1    0    0   \n",
       "204   0    0   0   0   0   0   0    0     0    0    0    0   0   1    0    0   \n",
       "205   0    0   0   0   0   0   1    0     0    0    0    0   1   1    0    0   \n",
       "206   0    0   0   0   0   0   5    0     0    0    0    0   0   0    0    0   \n",
       "207   0    0   0   0   0   0   1    0     0    0    0    0   0   0    0    0   \n",
       "\n",
       "     128  13  14  15  150  16  17  18  19  1980  1989  1990  1k  1st  20  200  \\\n",
       "0      0   0   0   0    0   0   0   0   0     0     0     0   0    0   0    0   \n",
       "1      0   0   0   0    0   0   0   0   0     0     0     0   0    0   0    0   \n",
       "2      0   0   0   0    0   0   0   0   0     0     0     0   0    0   0    0   \n",
       "3      0   0   1   1    0   0   0   0   0     0     0     0   0    0   0    0   \n",
       "4      0   0   0   0    0   0   0   0   0     0     0     0   0    0   0    0   \n",
       "..   ...  ..  ..  ..  ...  ..  ..  ..  ..   ...   ...   ...  ..  ...  ..  ...   \n",
       "203    0   0   0   0    0   0   0   0   0     0     0     0   0    0   1    0   \n",
       "204    0   0   1   0    0   0   0   0   0     0     0     0   0    0   0    0   \n",
       "205    0   0   0   0    0   0   0   0   0     0     0     0   0    0   0    0   \n",
       "206    0   0   0   3    0   0   0   2   0     0     0     0   0    0   0    0   \n",
       "207    0   0   0   0    0   0   0   0   0     0     0     0   0    0   1    0   \n",
       "\n",
       "     2000  2001  2005  2008  2009  2010  2011  2012  2013  2014  2015  2016  \\\n",
       "0       0     0     0     0     0     0     0     0     0     0     0     0   \n",
       "1       0     0     0     0     0     0     0     0     0     0     0     0   \n",
       "2       0     0     0     0     0     0     0     0     0     0     0     0   \n",
       "3       0     0     0     0     0     0     0     0     0     0     0     0   \n",
       "4       0     0     0     0     0     0     0     0     0     0     0     0   \n",
       "..    ...   ...   ...   ...   ...   ...   ...   ...   ...   ...   ...   ...   \n",
       "203     1     0     0     1     0     0     0     0     0     0     0     0   \n",
       "204     0     0     0     0     0     0     0     0     0     0     0     0   \n",
       "205     0     0     0     0     0     0     0     0     0     0     0     0   \n",
       "206     0     0     0     0     0     0     0     0     0     0     0     0   \n",
       "207     0     0     0     0     0     0     0     0     0     0     0     0   \n",
       "\n",
       "     2017  2018  2019  2020  2021  21  ...  winter  wire  wise  wish  \\\n",
       "0       0     0     0     0     0   0  ...       0     0     0     0   \n",
       "1       0     0     0     0     0   0  ...       0     0     0     0   \n",
       "2       0     0     0     0     1   0  ...       0     0     0     0   \n",
       "3       0     0     0     0     0   0  ...       0     0     0     0   \n",
       "4       1     0     1     0     0   0  ...       0     0     0     1   \n",
       "..    ...   ...   ...   ...   ...  ..  ...     ...   ...   ...   ...   \n",
       "203     0     1     0     0     0   0  ...       0     0     0     0   \n",
       "204     0     0     0     0     0   0  ...       0     0     0     0   \n",
       "205     0     0     0     0     0   0  ...       0     0     0     0   \n",
       "206     1     0     0     0     0   0  ...       0     0     0     0   \n",
       "207     0     0     0     0     0   0  ...       0     0     0     0   \n",
       "\n",
       "     withdraw  woman  wonder  wonderful  wood  word  work  worker  workflow  \\\n",
       "0           0      0       0          0     0     2     2       0         0   \n",
       "1           0      0       0          0     0     0     0       0         0   \n",
       "2           0      0       0          0     0     0     4       0         0   \n",
       "3           0      0       0          0     0     0     4       0         0   \n",
       "4           0      0       0          0     0     1     2       0         0   \n",
       "..        ...    ...     ...        ...   ...   ...   ...     ...       ...   \n",
       "203         0      0       1          0     0     0     4       0         0   \n",
       "204         0      0       1          0     0     0     4       0         0   \n",
       "205         0      0       0          0     0     0     0       0         0   \n",
       "206         0      0       0          0     0     0    10       0         0   \n",
       "207         0      5       0          0     0     3     2       0         0   \n",
       "\n",
       "     working  workout  world  worried  worry  worsen  worth  wow  wrap  write  \\\n",
       "0          0        0      0        0      0       0      0    0     0      4   \n",
       "1          0        0      0        0      0       0      0    0     0      1   \n",
       "2          0        0      0        0      0       0      0    0     0      2   \n",
       "3          0        0      3        0      1       0      0    0     0      4   \n",
       "4          0        0      0        0      0       0      0    0     0      0   \n",
       "..       ...      ...    ...      ...    ...     ...    ...  ...   ...    ...   \n",
       "203        0        0      0        0      0       1      0    0     0      1   \n",
       "204        0        0      0        0      0       0      0    0     0      0   \n",
       "205        0        0      0        0      0       0      0    0     0      0   \n",
       "206        0        0      1        0      0       0      0    0     0      3   \n",
       "207        0        0      0        1      0       0      0    0     0      2   \n",
       "\n",
       "     writer  writing  wrong  www  xgboost  xi  yeah  year  yearly  yellow  \\\n",
       "0         0        0      0    0        1   0     0     0       0       0   \n",
       "1         0        0      0    1        0   0     0     0       0       0   \n",
       "2         0        0      1    1        0   0     0     1       0       0   \n",
       "3         0        0      0    0        0   0     0     0       0       0   \n",
       "4         0        0      0    0        0   0     0     0       0       0   \n",
       "..      ...      ...    ...  ...      ...  ..   ...   ...     ...     ...   \n",
       "203       0        0      3    0        0   0     0     4       0       0   \n",
       "204       0        0      2    3        0   0     0     1       0       0   \n",
       "205       0        0      0    0        0   0     0     0       0       0   \n",
       "206       0        0      0    1        0   0     0     2       0       0   \n",
       "207       0        0      1    0        0   0     0     1       0       0   \n",
       "\n",
       "     yes  yesterday  yield  yo  york  you  young  youtube  zero  zhou  zip  \\\n",
       "0      0          0      0   0     0    0      0        0     0     0    0   \n",
       "1      0          0      0   0     0    0      0        0     0     0    0   \n",
       "2      0          0      0   0     0    0      0        0     0     0    0   \n",
       "3      1          0      0   0     0    0      0        0     1     0    0   \n",
       "4      0          0      0   0     0    0      0        0     0     0    0   \n",
       "..   ...        ...    ...  ..   ...  ...    ...      ...   ...   ...  ...   \n",
       "203    0          0      0   0     0    0      1        0     0     0    0   \n",
       "204    1          0      0   0     0    1      0        0     0     0    0   \n",
       "205    0          0      0   0     0    0      0        0     1     0    0   \n",
       "206    0          0      0   0     0    0      0        0     0     0    0   \n",
       "207    2          0      0   2     0    0      0        0     0     0    0   \n",
       "\n",
       "     zombie  zone  zoom  zuckerberg  \\\n",
       "0         0     0     0           0   \n",
       "1         0     0     0           0   \n",
       "2         0     0     0           0   \n",
       "3         0     0     0           0   \n",
       "4         0     0     0           0   \n",
       "..      ...   ...   ...         ...   \n",
       "203       0     0     0           0   \n",
       "204       0     2     0           0   \n",
       "205       0     0     0           0   \n",
       "206       1     1     0           0   \n",
       "207       0     0     0           0   \n",
       "\n",
       "                                                 TITLE   ID  \n",
       "0     Ensemble methods: bagging, boosting and stacking    1  \n",
       "1                        Understanding AUC - ROC Curve    2  \n",
       "2    How to work with object detection datasets in ...    3  \n",
       "3    11 Dimensionality reduction techniques you sho...    4  \n",
       "4                          The Time Series Transformer    5  \n",
       "..                                                 ...  ...  \n",
       "203    Type 2 Diabetes Reversal  The Quick Start Guide  210  \n",
       "204            How a 22 Day Water Fast Changed My Life  211  \n",
       "205                                 Breaking Your Fast  212  \n",
       "206           11 Unusual Tips for How to Wake Up Early  213  \n",
       "207  The 3 Biggest Mistakes Women Make On The Ketog...  214  \n",
       "\n",
       "[208 rows x 3709 columns]"
      ]
     },
     "metadata": {},
     "output_type": "display_data"
    }
   ],
   "source": [
    "# BOW representation of the dataset Using CountVectorizer from scikit-learn\n",
    "count_vectorizer = CountVectorizer(min_df=5)\n",
    "# min_df: ignore terms that have a document frequency strictly lower than the given threshold.\n",
    "\n",
    "# Learn the vocabulary dictionary and return document-term matrix\n",
    "bow_features = count_vectorizer.fit_transform(articles[\"processed_text\"]).todense() # todense() returns a matrix\n",
    "# create dataframe\n",
    "bow_features_df = pd.DataFrame(bow_features)\n",
    "bow_features_df.columns = count_vectorizer.get_feature_names_out() # Get output feature names for dataframe columns.\n",
    "bow_features_df[\"TITLE\"] = articles[\"title\"]\n",
    "bow_features_df[\"ID\"] = articles[\"id\"]\n",
    "display(bow_features_df)"
   ]
  },
  {
   "cell_type": "code",
   "execution_count": 20,
   "metadata": {},
   "outputs": [
    {
     "data": {
      "text/html": [
       "<div>\n",
       "<style scoped>\n",
       "    .dataframe tbody tr th:only-of-type {\n",
       "        vertical-align: middle;\n",
       "    }\n",
       "\n",
       "    .dataframe tbody tr th {\n",
       "        vertical-align: top;\n",
       "    }\n",
       "\n",
       "    .dataframe thead th {\n",
       "        text-align: right;\n",
       "    }\n",
       "</style>\n",
       "<table border=\"1\" class=\"dataframe\">\n",
       "  <thead>\n",
       "    <tr style=\"text-align: right;\">\n",
       "      <th></th>\n",
       "      <th>C1</th>\n",
       "      <th>C2</th>\n",
       "      <th>TITLE</th>\n",
       "      <th>ID</th>\n",
       "    </tr>\n",
       "  </thead>\n",
       "  <tbody>\n",
       "    <tr>\n",
       "      <th>0</th>\n",
       "      <td>-3.479395</td>\n",
       "      <td>1.693394</td>\n",
       "      <td>Ensemble methods: bagging, boosting and stacking</td>\n",
       "      <td>1</td>\n",
       "    </tr>\n",
       "    <tr>\n",
       "      <th>1</th>\n",
       "      <td>0.339253</td>\n",
       "      <td>-0.021971</td>\n",
       "      <td>Understanding AUC - ROC Curve</td>\n",
       "      <td>2</td>\n",
       "    </tr>\n",
       "    <tr>\n",
       "      <th>2</th>\n",
       "      <td>-1.909888</td>\n",
       "      <td>1.552022</td>\n",
       "      <td>How to work with object detection datasets in ...</td>\n",
       "      <td>3</td>\n",
       "    </tr>\n",
       "    <tr>\n",
       "      <th>3</th>\n",
       "      <td>-2.424733</td>\n",
       "      <td>3.119918</td>\n",
       "      <td>11 Dimensionality reduction techniques you sho...</td>\n",
       "      <td>4</td>\n",
       "    </tr>\n",
       "    <tr>\n",
       "      <th>4</th>\n",
       "      <td>-1.552497</td>\n",
       "      <td>0.210301</td>\n",
       "      <td>The Time Series Transformer</td>\n",
       "      <td>5</td>\n",
       "    </tr>\n",
       "    <tr>\n",
       "      <th>...</th>\n",
       "      <td>...</td>\n",
       "      <td>...</td>\n",
       "      <td>...</td>\n",
       "      <td>...</td>\n",
       "    </tr>\n",
       "    <tr>\n",
       "      <th>203</th>\n",
       "      <td>5.013521</td>\n",
       "      <td>-1.001230</td>\n",
       "      <td>Type 2 Diabetes Reversal  The Quick Start Guide</td>\n",
       "      <td>210</td>\n",
       "    </tr>\n",
       "    <tr>\n",
       "      <th>204</th>\n",
       "      <td>5.711399</td>\n",
       "      <td>-0.906098</td>\n",
       "      <td>How a 22 Day Water Fast Changed My Life</td>\n",
       "      <td>211</td>\n",
       "    </tr>\n",
       "    <tr>\n",
       "      <th>205</th>\n",
       "      <td>5.697026</td>\n",
       "      <td>-0.704169</td>\n",
       "      <td>Breaking Your Fast</td>\n",
       "      <td>212</td>\n",
       "    </tr>\n",
       "    <tr>\n",
       "      <th>206</th>\n",
       "      <td>3.995528</td>\n",
       "      <td>-2.792463</td>\n",
       "      <td>11 Unusual Tips for How to Wake Up Early</td>\n",
       "      <td>213</td>\n",
       "    </tr>\n",
       "    <tr>\n",
       "      <th>207</th>\n",
       "      <td>6.292155</td>\n",
       "      <td>-1.714664</td>\n",
       "      <td>The 3 Biggest Mistakes Women Make On The Ketog...</td>\n",
       "      <td>214</td>\n",
       "    </tr>\n",
       "  </tbody>\n",
       "</table>\n",
       "<p>208 rows × 4 columns</p>\n",
       "</div>"
      ],
      "text/plain": [
       "           C1        C2                                              TITLE  \\\n",
       "0   -3.479395  1.693394   Ensemble methods: bagging, boosting and stacking   \n",
       "1    0.339253 -0.021971                      Understanding AUC - ROC Curve   \n",
       "2   -1.909888  1.552022  How to work with object detection datasets in ...   \n",
       "3   -2.424733  3.119918  11 Dimensionality reduction techniques you sho...   \n",
       "4   -1.552497  0.210301                        The Time Series Transformer   \n",
       "..        ...       ...                                                ...   \n",
       "203  5.013521 -1.001230    Type 2 Diabetes Reversal  The Quick Start Guide   \n",
       "204  5.711399 -0.906098            How a 22 Day Water Fast Changed My Life   \n",
       "205  5.697026 -0.704169                                 Breaking Your Fast   \n",
       "206  3.995528 -2.792463           11 Unusual Tips for How to Wake Up Early   \n",
       "207  6.292155 -1.714664  The 3 Biggest Mistakes Women Make On The Ketog...   \n",
       "\n",
       "      ID  \n",
       "0      1  \n",
       "1      2  \n",
       "2      3  \n",
       "3      4  \n",
       "4      5  \n",
       "..   ...  \n",
       "203  210  \n",
       "204  211  \n",
       "205  212  \n",
       "206  213  \n",
       "207  214  \n",
       "\n",
       "[208 rows x 4 columns]"
      ]
     },
     "metadata": {},
     "output_type": "display_data"
    }
   ],
   "source": [
    "from sklearn.manifold import TSNE\n",
    "# using t-sne to observe any trends, and clusters.\n",
    "tsne = TSNE(n_components=2) # n_components: estimated number of components\n",
    "tsne_bow_features = tsne.fit_transform(bow_features_df[count_vectorizer.get_feature_names_out()].values)\n",
    "tsne_bow_features_df = pd.DataFrame(tsne_bow_features)\n",
    "tsne_bow_features_df.columns = [\"C1\", \"C2\"]\n",
    "tsne_bow_features_df[\"TITLE\"] = bow_features_df[\"TITLE\"]\n",
    "tsne_bow_features_df[\"ID\"] = bow_features_df[\"ID\"]\n",
    "\n",
    "display(tsne_bow_features_df)"
   ]
  },
  {
   "cell_type": "code",
   "execution_count": 21,
   "metadata": {},
   "outputs": [
    {
     "data": {
      "application/vnd.plotly.v1+json": {
       "config": {
        "plotlyServerURL": "https://plot.ly"
       },
       "data": [
        {
         "customdata": [
          [
           "Ensemble methods: bagging, boosting and stacking"
          ],
          [
           "Understanding AUC - ROC Curve"
          ],
          [
           "How to work with object detection datasets in COCO format"
          ],
          [
           "11 Dimensionality reduction techniques you should know in 2021"
          ],
          [
           "The Time Series Transformer"
          ],
          [
           "Learning a Personalized Homepage"
          ],
          [
           "6 Data Science Certificates To Level Up Your Career"
          ],
          [
           "Transformers Explained Visually (Part 2): How it works, step-by-step"
          ],
          [
           "60 Python Projects with Source Code"
          ],
          [
           "Geometric foundations of Deep Learning"
          ],
          [
           "Machine Learning Basics with the K-Nearest Neighbors Algorithm"
          ],
          [
           "Building RNN, LSTM, and GRU for time series using PyTorch"
          ],
          [
           "Algorithms of the Mind"
          ],
          [
           "4 Reasons Why Economists Make Great Data Scientists (And Why No One Tells Them)"
          ],
          [
           "How To Create A Chatbot with Python & Deep Learning In Less Than An Hour"
          ],
          [
           "Machine Learning is Fun Part 5: Language Translation with Deep Learning and the Magic of Sequences"
          ],
          [
           "Illustrated Guide to LSTM's and GRU's: A step by step explanation"
          ],
          [
           "How to go from a Python newbie to a Google Certified TensorFlow Developer under two months"
          ],
          [
           "17 Clustering Algorithms Used In Data Science and Mining"
          ],
          [
           "Introduction to Genetic Algorithms  Including Example Code"
          ],
          [
           "Photoreal Roman Emperor Project"
          ],
          [
           "Fundamental Techniques of Feature Engineering for Machine Learning"
          ],
          [
           "How I Got a Job at DeepMind as a Research Engineer (without a Machine Learning Degree!)"
          ],
          [
           "Towards the end of deep learning and the beginning of AGI"
          ],
          [
           "Tutorial: Document Classification using WEKA"
          ],
          [
           "Understanding Random Forest"
          ],
          [
           "Probability concepts explained: Maximum likelihood estimation"
          ],
          [
           "Transformers Explained Visually (Part 3): Multi-head Attention, deep dive"
          ],
          [
           "180 Data Science and Machine Learning Projects with Python"
          ],
          [
           "5 Online Courses I Took as a Self-Taught Data Scientist"
          ],
          [
           "Machine Learning is Fun! Part 4: Modern Face Recognition with Deep Learning"
          ],
          [
           "9 Distance Measures in Data Science"
          ],
          [
           "The Sexiest Job of the 21st Century Isn't \"Sexy\" Anymore"
          ],
          [
           "Machine Learning is Fun! Part 3: Deep Learning and Convolutional Neural Networks"
          ],
          [
           "A Comprehensive Guide to Convolutional Neural Networks  the ELI5 way"
          ],
          [
           "20 Necessary Requirements of a Perfect Laptop for Data Science and Machine Learning Tasks"
          ],
          [
           "3 Beginner Mistakes I've Made in My Data Science Career"
          ],
          [
           "Understanding Variational Autoencoders (VAEs)"
          ],
          [
           "Setting Up a New M1 MacBook for Data Science"
          ],
          [
           "Are The New M1 Macbooks Any Good for Data Science? Let's Find Out"
          ],
          [
           "Simple and Multiple Linear Regression in Python"
          ],
          [
           "I tripled my income with data science. Here's how."
          ],
          [
           "Keyword Extraction process in Python with Natural Language Processing(NLP)"
          ],
          [
           "Machine learning models for 100% better returns in Algo-trading"
          ],
          [
           "How to Install Ubuntu Desktop With a Graphical User Interface in WSL2"
          ],
          [
           "Understanding Contrastive Learning"
          ],
          [
           "Understanding Semantic Segmentation with UNET"
          ],
          [
           "How Transformers Work"
          ],
          [
           "Yes you should understand backprop"
          ],
          [
           "PCA using Python (scikit-learn)"
          ],
          [
           "Hyperparameter Tuning the Random Forest in Python"
          ],
          [
           "Top 3 Reasons Why I Sold My M1 Macbook Pro as a Data Scientist"
          ],
          [
           "TRAIN A CUSTOM YOLOv4 OBJECT DETECTOR (Using Google Colab)"
          ],
          [
           "6 Machine Learning Certificates to Pursue in 2021"
          ],
          [
           "What to do with \"small\" data?"
          ],
          [
           "Time Series Forecasting with PyCaret Regression Module"
          ],
          [
           "15 Habits I Learned from Highly Effective Data Scientists"
          ],
          [
           "OVER 100 Data Scientist Interview Questions and Answers!"
          ],
          [
           "Activation Functions in Neural Networks"
          ],
          [
           "A One-Stop Shop for Principal Component Analysis"
          ],
          [
           "5 Things You Should Know About Covariance"
          ],
          [
           "How to build your own Neural Network from scratch in Python"
          ],
          [
           "The best explanation of Convolutional Neural Networks on the Internet!"
          ],
          [
           "Lambda Functions with Practical Examples in Python"
          ],
          [
           "The Complete Guide to Time Series Analysis and Forecasting"
          ],
          [
           "8 Ways to Filter Pandas Dataframes"
          ],
          [
           "Standing with Dr. Timnit Gebru  #ISupportTimnit #BelieveBlackWomen"
          ],
          [
           "Visualising high-dimensional datasets using PCA and t-SNE in Python"
          ],
          [
           "How to Study for the Google Data Analytics Professional Certificate"
          ],
          [
           "Is Data Science Still a Rising Career in 2021"
          ],
          [
           "Simple Reinforcement Learning with Tensorflow Part 0: Q-Learning with Tables and Neural Networks"
          ],
          [
           "How To Grow From Non-Coder to Data Scientist in 6 Months"
          ],
          [
           "Apple's New M1 Chip is a Machine Learning Beast"
          ],
          [
           "Train/Test Split and Cross Validation in Python"
          ],
          [
           "Text Classification with NLP: Tf-Idf vs Word2Vec vs BERT"
          ],
          [
           "The 5 Clustering Algorithms Data Scientists Need to Know"
          ],
          [
           "Building A Logistic Regression in Python, Step by Step"
          ],
          [
           "Springer has released 65 Machine Learning and Data books for free"
          ],
          [
           "Every single Machine Learning course on the internet, ranked by your reviews"
          ],
          [
           "TensorFlow Tutorial Part 1"
          ],
          [
           "The 7 Best Data Science and Machine Learning Podcasts"
          ],
          [
           "Random Forest in Python"
          ],
          [
           "How to Land a Data Analytics Job in 6 Months"
          ],
          [
           "What is a Transformer?"
          ],
          [
           "Fundamentals Of Statistics For Data Scientists and Analysts"
          ],
          [
           "Is Google's AI research about to implode?"
          ],
          [
           "Machine Learning is Fun! Part 2"
          ],
          [
           "Understanding Generative Adversarial Networks (GANs)"
          ],
          [
           "17 types of similarity and dissimilarity measures used in data science."
          ],
          [
           "Deep Learning Is Going to Teach Us All the Lesson of Our Lives: Jobs Are for Machines"
          ],
          [
           "I interviewed at five top companies in Silicon Valley in five days, and luckily got five job offers"
          ],
          [
           "Advantages and Disadvantages of Artificial Intelligence"
          ],
          [
           "Could Nim Replace Python?"
          ],
          [
           "An End-to-End Project on Time Series Analysis and Forecasting with Python"
          ],
          [
           "Data Scientists Will be Extinct in 10 Years"
          ],
          [
           "Import all Python libraries in one line of code"
          ],
          [
           "Enchanted Random Forest"
          ],
          [
           "Machine Learning in a Week"
          ],
          [
           "50+ Statistics Interview Questions and Answers for Data Scientists for 2022"
          ],
          [
           "Top 10 Data Science Projects for Beginners"
          ],
          [
           "Check For a Substring in a Pandas DataFrame Column"
          ],
          [
           "Machine Learning is Fun Part 6: How to do Speech Recognition with Deep Learning"
          ],
          [
           "Everything You Need to Know About Artificial Neural Networks"
          ],
          [
           "Ways to Detect and Remove the Outliers"
          ],
          [
           "How to Crush the Crypto Market, Quit Your Job, Move to Paradise and Do Whatever You Want the Rest of Your Life"
          ],
          [
           "Bitcoin Is Venice"
          ],
          [
           "How I Built a Net Worth of $500,000 Before Age 30"
          ],
          [
           "Nassim Nicholas Taleb on Self-Education and Doing the Math (Ep. 41  Live at Mercatus)"
          ],
          [
           "Public Mint Polkastarter IDO: Launching 23rd of February, Whitelist Now Open!"
          ],
          [
           "This is How I Made $40k In Passive Income By Age 26"
          ],
          [
           "Introducing The Iron Bank"
          ],
          [
           "I used Acorns, Robinhood, and Stash for 2 years. This is what I learned and earned."
          ],
          [
           "Explaining blockchain  how proof of work enables trustless consensus"
          ],
          [
           "Wealthfront:Silicon Valley Tech at Wall Street Prices"
          ],
          [
           "Crypto Trading Bots  A helpful guide for beginners [2020]"
          ],
          [
           "Why People Still Don't Get Cryptocurrency"
          ],
          [
           "Australia's Economy is a House of Cards"
          ],
          [
           "My First Two Months Trading Stocks with Robinhood"
          ],
          [
           "What It Takes to Go from $0 to $1 Million in Less Than One Year"
          ],
          [
           "Tesla Is Dead (And Elon Musk Knows It)"
          ],
          [
           "Uber's Credit Card Is Bankrupting Restaurants... and It's All Your Fault"
          ],
          [
           "A Quick Starter Guide to Leveraged Trading at BitMEX"
          ],
          [
           "I Made $3 Million in Crypto. These are the 26 Rules I Learned."
          ],
          [
           "The Black-Scholes formula, explained"
          ],
          [
           "You Will Never Be Rich If You Keep Doing These 10 things"
          ],
          [
           "Heroes Give, Superheroes Borrow"
          ],
          [
           "Could Bitcoin's Bull Market End Next Month?"
          ],
          [
           "The Exact Steps I Followed to Make $1,500+ of Passive Income Every Month"
          ],
          [
           "You May Have A Poor Person's Mindset And Not Know It"
          ],
          [
           "A Definitive Guide to Why Life Is So Terrible for Most Millennials"
          ],
          [
           "The Berkshire Hathaway of The Internet"
          ],
          [
           "How to invest in Bitcoin properly. Blockchain and other cryptocurrencies"
          ],
          [
           "Machine learning in finance: Why, what & how"
          ],
          [
           "Minimum Wage Artists"
          ],
          [
           "Richart + @GoGo "
          ],
          [
           "How to store Bitcoins and other cryptocurrencies properly."
          ],
          [
           "I was wrong about Ethereum"
          ],
          [
           "Deep Learning the Stock Market"
          ],
          [
           "Financial Fridays: It's Financial Suicide To Own A House"
          ],
          [
           "Gauge Theory Does Not Fix This"
          ],
          [
           "High Frequency Trading on the Coinbase Exchange"
          ],
          [
           "A $1000 Bitcoin Investment Won't Make You Rich"
          ],
          [
           "How To Legally Own Another Person"
          ],
          [
           "5 Things NOT to Do in the Robinhood App for Stock Trading"
          ],
          [
           "The One Word That Explains Why Economics Professors Are Not Billionaires"
          ],
          [
           "Building your credit history"
          ],
          [
           "I Retired at 35  Here Are 5 Lessons from My First 6 Months of Freedom"
          ],
          [
           "Why you should never use Upwork, ever."
          ],
          [
           "Facebook Can't Be Fixed."
          ],
          [
           "A comprehensive guide to downloading stock prices in Python"
          ],
          [
           "Detecting Credit Card Fraud Using Machine Learning"
          ],
          [
           "2018  & : KOKO COMBO icash "
          ],
          [
           "Is Wealthfront Worth it?"
          ],
          [
           "How I Slowly Became A \"Middle-Class\" Millionaire"
          ],
          [
           "SPY vs. QQQ: Investing in Different Indexes"
          ],
          [
           "I Won $104 Million for Blowing the Whistle on My CompanyBut Somehow I Was the Only One Who Went to Jail"
          ],
          [
           "Robinhood Lends \"Your\" Shares to Short Sellers (and Keeps All the Proceeds)"
          ],
          [
           "The Secret to Making 2000% in Stocks Overnight, the Anavex story."
          ],
          [
           "4 Unusual Side Hustles I Do to Earn an Extra $1,500 a Month"
          ],
          [
           "Meet 'Spoofy'. How a Single entity dominates the price of Bitcoin."
          ],
          [
           "How I Started Saving a TON of Money."
          ],
          [
           "How I transformed $6,000 to $3,000,000"
          ],
          [
           "Cliff Asness on Marvel vs. DC and Why Never to Share a Gym with Cirque du Soleil (Ep. 5  Live at Mason)"
          ],
          [
           "Paypal froze our funds, then offered us a business loan"
          ],
          [
           "A Visual Explanation of Algorithmic Stablecoins"
          ],
          [
           "Algorithmic Trading Bot: Python"
          ],
          [
           "Chernobyl's Blown Up Reactor 4 Just Woke Up"
          ],
          [
           "The Unexpected Case of the Disappearing Flu"
          ],
          [
           "The Diet & Workout Plan of a Full-Time Traveling Family  HIS"
          ],
          [
           "The Cult of Work You Never Meant to Join"
          ],
          [
           "5 Things to do in the First 24 Hours of a Cold or Flu"
          ],
          [
           "The Sweet Spot for Intermittent Fasting"
          ],
          [
           "The 6 Types of ICU Nurse"
          ],
          [
           "How to biohack your intelligence  with everything from sex to modafinil to MDMA"
          ],
          [
           "8 Common Arguments Against Vaccines"
          ],
          [
           "A Reasonably Detailed Guide to Optimizing Your iPhone for Productivity, Focus and Your Own Health"
          ],
          [
           "The cure for type 2 diabetes is known, but few are aware"
          ],
          [
           "Face mapping: how to deal with acne like a true detective"
          ],
          [
           "I'm 32 and spent $200k on biohacking. Became calmer, thinner, extroverted, healthier & happier."
          ],
          [
           "I need more iron"
          ],
          [
           "What I Learned From Quitting Coffee After 15 Years Of Daily Consumption"
          ],
          [
           "The forgotten art of untucking the tail"
          ],
          [
           "Hip Replacement Isn't What It Used To Be 12 Weeks Ago"
          ],
          [
           "Coronavirus: Why You Must Act Now"
          ],
          [
           "Manufacturers have been using nanotechnology-derived graphene in face masks  now there are safety concerns"
          ],
          [
           "Eben Byers: The Man Who Drank Radioactive Water Until His Jaw Fell Off"
          ],
          [
           "My Intermittent Fasting Lifestyle: How I Dropped 50 Pounds"
          ],
          [
           "I Stopped Drinking for 30 Days. Here's What Happened."
          ],
          [
           "How to lose 10+ pounds of fat a month- even if you have a slow metabolism"
          ],
          [
           "If You're Buying Your Weed Solely Based on the THC Level, You're Doing it Wrong."
          ],
          [
           "2016 Is Not Killing People"
          ],
          [
           "How I Learned to Sleep Only Three Hours Per Night (and Why You Should Too)"
          ],
          [
           "I fasted for 11 days, here is what happened."
          ],
          [
           "Coronavirus: The Hammer and the Dance"
          ],
          [
           "What Happens in Your Body When You Quit Drinking"
          ],
          [
           "The Science Behind Fat Metabolism"
          ],
          [
           "The Easiest Way to Lose 125 Pounds Is to Gain 175 Pounds"
          ],
          [
           "7 things I did to reboot my life."
          ],
          [
           "How I lost 10kg in 60 days: My 7-step weight loss plan"
          ],
          [
           "The Foo Fighters' AIDS denialism should be on the record"
          ],
          [
           "The Uncut History of Male Circumcision"
          ],
          [
           "10 Things You Can Do This Morning To Heal Your Anxiety"
          ],
          [
           "I just lost 100 pounds. Here's whyalmost nobody else will!"
          ],
          [
           "Type 2 Diabetes Reversal  The Quick Start Guide"
          ],
          [
           "How a 22 Day Water Fast Changed My Life"
          ],
          [
           "Breaking Your Fast"
          ],
          [
           "11 Unusual Tips for How to Wake Up Early"
          ],
          [
           "The 3 Biggest Mistakes Women Make On The Ketogenic Diet (And How To Fix Them)"
          ]
         ],
         "hovertemplate": "C1=%{x}<br>C2=%{y}<br>TITLE=%{customdata[0]}<extra></extra>",
         "legendgroup": "",
         "marker": {
          "color": "#636efa",
          "symbol": "circle"
         },
         "mode": "markers",
         "name": "",
         "orientation": "v",
         "showlegend": false,
         "type": "scatter",
         "x": [
          -3.4793949127197266,
          0.33925312757492065,
          -1.9098877906799316,
          -2.4247334003448486,
          -1.5524967908859253,
          -0.7409676313400269,
          -0.8866755962371826,
          -0.1609421968460083,
          1.200821876525879,
          1.8821126222610474,
          -1.576560378074646,
          -3.0042223930358887,
          1.0832420587539673,
          -0.1682242602109909,
          -2.437911033630371,
          -3.780022144317627,
          2.7030081748962402,
          0.4453244209289551,
          2.539316177368164,
          1.7841713428497314,
          1.2262890338897705,
          -1.4379868507385254,
          4.489592552185059,
          -0.7529523372650146,
          -0.6150856018066406,
          -4.011347770690918,
          -4.778320789337158,
          -0.15557673573493958,
          1.1649439334869385,
          -0.049224045127630234,
          0.9368869662284851,
          3.472400188446045,
          0.07272026687860489,
          1.8619502782821655,
          1.3690589666366577,
          2.0224390029907227,
          -0.1439361274242401,
          -4.852502346038818,
          1.1109148263931274,
          0.8926064372062683,
          1.5386090278625488,
          0.2571113705635071,
          1.5127686262130737,
          -1.5668736696243286,
          2.1026902198791504,
          -1.1972159147262573,
          1.277385950088501,
          -0.1602666676044464,
          0.18851235508918762,
          -2.2071444988250732,
          -3.2002739906311035,
          1.0270626544952393,
          2.761197805404663,
          -1.170316457748413,
          -2.9252803325653076,
          -1.913390874862671,
          0.18058964610099792,
          0.9074099659919739,
          1.988601565361023,
          1.6834830045700073,
          2.395383834838867,
          2.0862159729003906,
          1.8970942497253418,
          2.0591704845428467,
          -2.3474385738372803,
          -0.358642578125,
          -1.6659760475158691,
          -1.994332194328308,
          -0.0854993462562561,
          0.026043647900223732,
          2.575232982635498,
          0.03050263226032257,
          1.055873155593872,
          -2.8593344688415527,
          -2.807772397994995,
          2.4760501384735107,
          1.3586840629577637,
          2.1146609783172607,
          -1.5685794353485107,
          0.5878682136535645,
          0.475577712059021,
          -3.370664358139038,
          -0.38089025020599365,
          -0.18054337799549103,
          0.9592253565788269,
          -3.5411765575408936,
          -3.584768056869507,
          -5.050748825073242,
          3.469752788543701,
          0.8726981282234192,
          4.387942790985107,
          1.5041650533676147,
          2.222479820251465,
          -2.1571152210235596,
          -0.3115321099758148,
          1.3687735795974731,
          -3.987257957458496,
          -0.04582232981920242,
          0.9095184803009033,
          -0.5817124843597412,
          -0.2434331625699997,
          0.24817198514938354,
          2.208420991897583,
          -0.7709375023841858,
          -1.770990252494812,
          -3.3765766620635986,
          -0.06700515002012253,
          -1.8047966957092285,
          1.350804328918457,
          -0.03970077261328697,
          4.747611999511719,
          -0.451698899269104,
          2.735974073410034,
          0.1711709350347519,
          3.6523594856262207,
          -2.3332648277282715,
          -2.3638696670532227,
          -0.45564717054367065,
          1.0459963083267212,
          -0.03552334010601044,
          3.04036021232605,
          4.015742778778076,
          3.718590259552002,
          -0.838813841342926,
          -1.9574241638183594,
          1.1623783111572266,
          3.302473783493042,
          -1.4362939596176147,
          -2.0425467491149902,
          -1.1315101385116577,
          0.6195343732833862,
          -3.2303555011749268,
          -1.7390105724334717,
          1.0264456272125244,
          1.2581777572631836,
          2.1516966819763184,
          2.605433464050293,
          -2.277172565460205,
          -1.0034359693527222,
          -2.421704053878784,
          3.8164408206939697,
          3.136263608932495,
          -0.5133405327796936,
          -0.5450270175933838,
          -2.3549411296844482,
          1.2273041009902954,
          -0.694145917892456,
          1.3276761770248413,
          0.59002685546875,
          -0.4295346438884735,
          -1.512534260749817,
          1.255946159362793,
          0.11540736258029938,
          0.4375620186328888,
          0.1624467968940735,
          1.2861958742141724,
          1.2040376663208008,
          -0.49811723828315735,
          0.14992524683475494,
          3.8483355045318604,
          1.3148763179779053,
          -0.836371898651123,
          -1.9534541368484497,
          1.0932612419128418,
          4.307404041290283,
          -1.1085079908370972,
          1.3891878128051758,
          2.429774284362793,
          4.5980401039123535,
          4.190371990203857,
          1.3483844995498657,
          5.293092250823975,
          2.02856183052063,
          6.0615644454956055,
          2.0380783081054688,
          6.094722270965576,
          5.682509422302246,
          1.745623230934143,
          6.250463485717773,
          5.075610160827637,
          2.92166805267334,
          2.353916645050049,
          3.4499971866607666,
          -4.670629978179932,
          2.7963945865631104,
          1.5658230781555176,
          5.84234094619751,
          3.5652596950531006,
          5.673375606536865,
          2.395820140838623,
          1.4239990711212158,
          3.6702561378479004,
          6.079995155334473,
          -4.638826847076416,
          3.1676816940307617,
          6.529355049133301,
          5.366664409637451,
          5.0651350021362305,
          5.4073967933654785,
          1.6805459260940552,
          1.671213984489441,
          4.382915496826172,
          5.6546759605407715,
          5.013521194458008,
          5.711398601531982,
          5.697025775909424,
          3.99552845954895,
          6.2921552658081055
         ],
         "xaxis": "x",
         "y": [
          1.693393588066101,
          -0.021971354261040688,
          1.5520216226577759,
          3.11991810798645,
          0.21030069887638092,
          0.6396312117576599,
          4.348827838897705,
          -7.59436559677124,
          -0.08399176597595215,
          -4.359112739562988,
          2.7349562644958496,
          1.476022481918335,
          -3.669884443283081,
          2.614556312561035,
          -0.5189633369445801,
          -0.31767603754997253,
          -4.140573501586914,
          1.5026627779006958,
          4.847114086151123,
          0.47725990414619446,
          -0.35052746534347534,
          1.3309919834136963,
          -4.990556240081787,
          -0.2036382257938385,
          0.9269676804542542,
          4.115842819213867,
          1.6811237335205078,
          -7.591576099395752,
          -0.24797049164772034,
          4.057829856872559,
          -4.24667501449585,
          3.873333215713501,
          3.1688015460968018,
          -4.996864318847656,
          -5.010302543640137,
          1.1005321741104126,
          2.5114896297454834,
          1.789310336112976,
          0.16507196426391602,
          0.7108640074729919,
          3.513171911239624,
          2.1067955493927,
          0.8498243689537048,
          -1.1428192853927612,
          -6.653900146484375,
          -0.0869598388671875,
          -5.311160564422607,
          -7.5571441650390625,
          -0.2395547777414322,
          2.869487762451172,
          2.0170884132385254,
          -0.12039492279291153,
          -6.207855701446533,
          4.717616558074951,
          1.7104579210281372,
          1.5702998638153076,
          3.2024056911468506,
          5.655153751373291,
          -2.6747167110443115,
          3.049811363220215,
          2.5143520832061768,
          -4.36865234375,
          -4.38301944732666,
          -2.7914035320281982,
          0.628804087638855,
          0.54599529504776,
          5.414426326751709,
          2.7091615200042725,
          4.324577808380127,
          3.1507413387298584,
          -3.4155447483062744,
          3.697969675064087,
          1.1968337297439575,
          1.91970956325531,
          -0.4251629710197449,
          4.655009746551514,
          2.740124225616455,
          -1.8889188766479492,
          5.163120269775391,
          0.25196200609207153,
          0.7748973965644836,
          2.516008138656616,
          3.4454193115234375,
          -7.628788471221924,
          5.710011005401611,
          0.218780517578125,
          0.41591644287109375,
          1.5017319917678833,
          4.069703578948975,
          2.19734787940979,
          -4.910759925842285,
          1.609737515449524,
          1.5668796300888062,
          0.6654824614524841,
          2.496359348297119,
          0.8293565511703491,
          4.099443435668945,
          1.4042067527770996,
          5.519172191619873,
          3.527325391769409,
          0.5146675705909729,
          0.864967942237854,
          -4.52285623550415,
          2.290491819381714,
          -4.848299980163574,
          -4.52515983581543,
          -2.0975162982940674,
          -5.432061672210693,
          -0.30581235885620117,
          -2.457998275756836,
          1.9200477600097656,
          -3.9610702991485596,
          0.46301406621932983,
          -2.762557029724121,
          0.897834062576294,
          -3.5784316062927246,
          -4.363419055938721,
          -4.170184135437012,
          -1.4472092390060425,
          -1.382143259048462,
          2.1023900508880615,
          -0.2277860790491104,
          -0.3620895445346832,
          -1.4798643589019775,
          -3.3429131507873535,
          -0.6746765971183777,
          -0.29553911089897156,
          -3.3195700645446777,
          -3.0773324966430664,
          -2.73917555809021,
          -1.9803204536437988,
          -4.45335054397583,
          4.56581974029541,
          -1.014756202697754,
          -0.40817990899086,
          0.08671379834413528,
          -0.6544469594955444,
          -0.4815216660499573,
          -2.4106624126434326,
          -2.298211097717285,
          0.926906943321228,
          -0.35200217366218567,
          -2.906449794769287,
          -4.322602272033691,
          -2.8866894245147705,
          -0.38778284192085266,
          -2.635599374771118,
          -2.099138021469116,
          -0.8501589894294739,
          -0.7508155107498169,
          2.109659194946289,
          -0.4255653917789459,
          -2.7753195762634277,
          -1.5747768878936768,
          -1.341392159461975,
          -1.665785551071167,
          -2.4434735774993896,
          -4.457873344421387,
          -0.7934367656707764,
          0.38305938243865967,
          -1.1280573606491089,
          -4.645061016082764,
          -5.396514892578125,
          -0.7739125490188599,
          2.139133930206299,
          -0.9510233998298645,
          -0.21295243501663208,
          0.43728411197662354,
          -2.1741490364074707,
          -3.112360954284668,
          -0.40941092371940613,
          0.4196595847606659,
          -1.2205463647842407,
          -3.707343339920044,
          -1.509390115737915,
          -4.020124912261963,
          -1.6013787984848022,
          -0.3426361680030823,
          -2.9520699977874756,
          1.9492896795272827,
          -1.5895957946777344,
          -0.455549955368042,
          -2.165691614151001,
          -3.028763771057129,
          1.2528886795043945,
          -0.6176979541778564,
          -0.7736149430274963,
          -2.037590742111206,
          -1.8970801830291748,
          -1.015820026397705,
          -0.6353121995925903,
          -2.85506010055542,
          -0.6343567967414856,
          -3.040705442428589,
          -1.43257474899292,
          -1.8025766611099243,
          -3.1016733646392822,
          -3.311915397644043,
          -2.095885753631592,
          -0.8282653093338013,
          -0.320354163646698,
          -1.7644506692886353,
          -3.0132217407226562,
          -1.0012304782867432,
          -0.9060977697372437,
          -0.7041690945625305,
          -2.7924625873565674,
          -1.714664340019226
         ],
         "yaxis": "y"
        }
       ],
       "layout": {
        "legend": {
         "tracegroupgap": 0
        },
        "template": {
         "data": {
          "bar": [
           {
            "error_x": {
             "color": "#2a3f5f"
            },
            "error_y": {
             "color": "#2a3f5f"
            },
            "marker": {
             "line": {
              "color": "#E5ECF6",
              "width": 0.5
             },
             "pattern": {
              "fillmode": "overlay",
              "size": 10,
              "solidity": 0.2
             }
            },
            "type": "bar"
           }
          ],
          "barpolar": [
           {
            "marker": {
             "line": {
              "color": "#E5ECF6",
              "width": 0.5
             },
             "pattern": {
              "fillmode": "overlay",
              "size": 10,
              "solidity": 0.2
             }
            },
            "type": "barpolar"
           }
          ],
          "carpet": [
           {
            "aaxis": {
             "endlinecolor": "#2a3f5f",
             "gridcolor": "white",
             "linecolor": "white",
             "minorgridcolor": "white",
             "startlinecolor": "#2a3f5f"
            },
            "baxis": {
             "endlinecolor": "#2a3f5f",
             "gridcolor": "white",
             "linecolor": "white",
             "minorgridcolor": "white",
             "startlinecolor": "#2a3f5f"
            },
            "type": "carpet"
           }
          ],
          "choropleth": [
           {
            "colorbar": {
             "outlinewidth": 0,
             "ticks": ""
            },
            "type": "choropleth"
           }
          ],
          "contour": [
           {
            "colorbar": {
             "outlinewidth": 0,
             "ticks": ""
            },
            "colorscale": [
             [
              0,
              "#0d0887"
             ],
             [
              0.1111111111111111,
              "#46039f"
             ],
             [
              0.2222222222222222,
              "#7201a8"
             ],
             [
              0.3333333333333333,
              "#9c179e"
             ],
             [
              0.4444444444444444,
              "#bd3786"
             ],
             [
              0.5555555555555556,
              "#d8576b"
             ],
             [
              0.6666666666666666,
              "#ed7953"
             ],
             [
              0.7777777777777778,
              "#fb9f3a"
             ],
             [
              0.8888888888888888,
              "#fdca26"
             ],
             [
              1,
              "#f0f921"
             ]
            ],
            "type": "contour"
           }
          ],
          "contourcarpet": [
           {
            "colorbar": {
             "outlinewidth": 0,
             "ticks": ""
            },
            "type": "contourcarpet"
           }
          ],
          "heatmap": [
           {
            "colorbar": {
             "outlinewidth": 0,
             "ticks": ""
            },
            "colorscale": [
             [
              0,
              "#0d0887"
             ],
             [
              0.1111111111111111,
              "#46039f"
             ],
             [
              0.2222222222222222,
              "#7201a8"
             ],
             [
              0.3333333333333333,
              "#9c179e"
             ],
             [
              0.4444444444444444,
              "#bd3786"
             ],
             [
              0.5555555555555556,
              "#d8576b"
             ],
             [
              0.6666666666666666,
              "#ed7953"
             ],
             [
              0.7777777777777778,
              "#fb9f3a"
             ],
             [
              0.8888888888888888,
              "#fdca26"
             ],
             [
              1,
              "#f0f921"
             ]
            ],
            "type": "heatmap"
           }
          ],
          "heatmapgl": [
           {
            "colorbar": {
             "outlinewidth": 0,
             "ticks": ""
            },
            "colorscale": [
             [
              0,
              "#0d0887"
             ],
             [
              0.1111111111111111,
              "#46039f"
             ],
             [
              0.2222222222222222,
              "#7201a8"
             ],
             [
              0.3333333333333333,
              "#9c179e"
             ],
             [
              0.4444444444444444,
              "#bd3786"
             ],
             [
              0.5555555555555556,
              "#d8576b"
             ],
             [
              0.6666666666666666,
              "#ed7953"
             ],
             [
              0.7777777777777778,
              "#fb9f3a"
             ],
             [
              0.8888888888888888,
              "#fdca26"
             ],
             [
              1,
              "#f0f921"
             ]
            ],
            "type": "heatmapgl"
           }
          ],
          "histogram": [
           {
            "marker": {
             "pattern": {
              "fillmode": "overlay",
              "size": 10,
              "solidity": 0.2
             }
            },
            "type": "histogram"
           }
          ],
          "histogram2d": [
           {
            "colorbar": {
             "outlinewidth": 0,
             "ticks": ""
            },
            "colorscale": [
             [
              0,
              "#0d0887"
             ],
             [
              0.1111111111111111,
              "#46039f"
             ],
             [
              0.2222222222222222,
              "#7201a8"
             ],
             [
              0.3333333333333333,
              "#9c179e"
             ],
             [
              0.4444444444444444,
              "#bd3786"
             ],
             [
              0.5555555555555556,
              "#d8576b"
             ],
             [
              0.6666666666666666,
              "#ed7953"
             ],
             [
              0.7777777777777778,
              "#fb9f3a"
             ],
             [
              0.8888888888888888,
              "#fdca26"
             ],
             [
              1,
              "#f0f921"
             ]
            ],
            "type": "histogram2d"
           }
          ],
          "histogram2dcontour": [
           {
            "colorbar": {
             "outlinewidth": 0,
             "ticks": ""
            },
            "colorscale": [
             [
              0,
              "#0d0887"
             ],
             [
              0.1111111111111111,
              "#46039f"
             ],
             [
              0.2222222222222222,
              "#7201a8"
             ],
             [
              0.3333333333333333,
              "#9c179e"
             ],
             [
              0.4444444444444444,
              "#bd3786"
             ],
             [
              0.5555555555555556,
              "#d8576b"
             ],
             [
              0.6666666666666666,
              "#ed7953"
             ],
             [
              0.7777777777777778,
              "#fb9f3a"
             ],
             [
              0.8888888888888888,
              "#fdca26"
             ],
             [
              1,
              "#f0f921"
             ]
            ],
            "type": "histogram2dcontour"
           }
          ],
          "mesh3d": [
           {
            "colorbar": {
             "outlinewidth": 0,
             "ticks": ""
            },
            "type": "mesh3d"
           }
          ],
          "parcoords": [
           {
            "line": {
             "colorbar": {
              "outlinewidth": 0,
              "ticks": ""
             }
            },
            "type": "parcoords"
           }
          ],
          "pie": [
           {
            "automargin": true,
            "type": "pie"
           }
          ],
          "scatter": [
           {
            "fillpattern": {
             "fillmode": "overlay",
             "size": 10,
             "solidity": 0.2
            },
            "type": "scatter"
           }
          ],
          "scatter3d": [
           {
            "line": {
             "colorbar": {
              "outlinewidth": 0,
              "ticks": ""
             }
            },
            "marker": {
             "colorbar": {
              "outlinewidth": 0,
              "ticks": ""
             }
            },
            "type": "scatter3d"
           }
          ],
          "scattercarpet": [
           {
            "marker": {
             "colorbar": {
              "outlinewidth": 0,
              "ticks": ""
             }
            },
            "type": "scattercarpet"
           }
          ],
          "scattergeo": [
           {
            "marker": {
             "colorbar": {
              "outlinewidth": 0,
              "ticks": ""
             }
            },
            "type": "scattergeo"
           }
          ],
          "scattergl": [
           {
            "marker": {
             "colorbar": {
              "outlinewidth": 0,
              "ticks": ""
             }
            },
            "type": "scattergl"
           }
          ],
          "scattermapbox": [
           {
            "marker": {
             "colorbar": {
              "outlinewidth": 0,
              "ticks": ""
             }
            },
            "type": "scattermapbox"
           }
          ],
          "scatterpolar": [
           {
            "marker": {
             "colorbar": {
              "outlinewidth": 0,
              "ticks": ""
             }
            },
            "type": "scatterpolar"
           }
          ],
          "scatterpolargl": [
           {
            "marker": {
             "colorbar": {
              "outlinewidth": 0,
              "ticks": ""
             }
            },
            "type": "scatterpolargl"
           }
          ],
          "scatterternary": [
           {
            "marker": {
             "colorbar": {
              "outlinewidth": 0,
              "ticks": ""
             }
            },
            "type": "scatterternary"
           }
          ],
          "surface": [
           {
            "colorbar": {
             "outlinewidth": 0,
             "ticks": ""
            },
            "colorscale": [
             [
              0,
              "#0d0887"
             ],
             [
              0.1111111111111111,
              "#46039f"
             ],
             [
              0.2222222222222222,
              "#7201a8"
             ],
             [
              0.3333333333333333,
              "#9c179e"
             ],
             [
              0.4444444444444444,
              "#bd3786"
             ],
             [
              0.5555555555555556,
              "#d8576b"
             ],
             [
              0.6666666666666666,
              "#ed7953"
             ],
             [
              0.7777777777777778,
              "#fb9f3a"
             ],
             [
              0.8888888888888888,
              "#fdca26"
             ],
             [
              1,
              "#f0f921"
             ]
            ],
            "type": "surface"
           }
          ],
          "table": [
           {
            "cells": {
             "fill": {
              "color": "#EBF0F8"
             },
             "line": {
              "color": "white"
             }
            },
            "header": {
             "fill": {
              "color": "#C8D4E3"
             },
             "line": {
              "color": "white"
             }
            },
            "type": "table"
           }
          ]
         },
         "layout": {
          "annotationdefaults": {
           "arrowcolor": "#2a3f5f",
           "arrowhead": 0,
           "arrowwidth": 1
          },
          "autotypenumbers": "strict",
          "coloraxis": {
           "colorbar": {
            "outlinewidth": 0,
            "ticks": ""
           }
          },
          "colorscale": {
           "diverging": [
            [
             0,
             "#8e0152"
            ],
            [
             0.1,
             "#c51b7d"
            ],
            [
             0.2,
             "#de77ae"
            ],
            [
             0.3,
             "#f1b6da"
            ],
            [
             0.4,
             "#fde0ef"
            ],
            [
             0.5,
             "#f7f7f7"
            ],
            [
             0.6,
             "#e6f5d0"
            ],
            [
             0.7,
             "#b8e186"
            ],
            [
             0.8,
             "#7fbc41"
            ],
            [
             0.9,
             "#4d9221"
            ],
            [
             1,
             "#276419"
            ]
           ],
           "sequential": [
            [
             0,
             "#0d0887"
            ],
            [
             0.1111111111111111,
             "#46039f"
            ],
            [
             0.2222222222222222,
             "#7201a8"
            ],
            [
             0.3333333333333333,
             "#9c179e"
            ],
            [
             0.4444444444444444,
             "#bd3786"
            ],
            [
             0.5555555555555556,
             "#d8576b"
            ],
            [
             0.6666666666666666,
             "#ed7953"
            ],
            [
             0.7777777777777778,
             "#fb9f3a"
            ],
            [
             0.8888888888888888,
             "#fdca26"
            ],
            [
             1,
             "#f0f921"
            ]
           ],
           "sequentialminus": [
            [
             0,
             "#0d0887"
            ],
            [
             0.1111111111111111,
             "#46039f"
            ],
            [
             0.2222222222222222,
             "#7201a8"
            ],
            [
             0.3333333333333333,
             "#9c179e"
            ],
            [
             0.4444444444444444,
             "#bd3786"
            ],
            [
             0.5555555555555556,
             "#d8576b"
            ],
            [
             0.6666666666666666,
             "#ed7953"
            ],
            [
             0.7777777777777778,
             "#fb9f3a"
            ],
            [
             0.8888888888888888,
             "#fdca26"
            ],
            [
             1,
             "#f0f921"
            ]
           ]
          },
          "colorway": [
           "#636efa",
           "#EF553B",
           "#00cc96",
           "#ab63fa",
           "#FFA15A",
           "#19d3f3",
           "#FF6692",
           "#B6E880",
           "#FF97FF",
           "#FECB52"
          ],
          "font": {
           "color": "#2a3f5f"
          },
          "geo": {
           "bgcolor": "white",
           "lakecolor": "white",
           "landcolor": "#E5ECF6",
           "showlakes": true,
           "showland": true,
           "subunitcolor": "white"
          },
          "hoverlabel": {
           "align": "left"
          },
          "hovermode": "closest",
          "mapbox": {
           "style": "light"
          },
          "paper_bgcolor": "white",
          "plot_bgcolor": "#E5ECF6",
          "polar": {
           "angularaxis": {
            "gridcolor": "white",
            "linecolor": "white",
            "ticks": ""
           },
           "bgcolor": "#E5ECF6",
           "radialaxis": {
            "gridcolor": "white",
            "linecolor": "white",
            "ticks": ""
           }
          },
          "scene": {
           "xaxis": {
            "backgroundcolor": "#E5ECF6",
            "gridcolor": "white",
            "gridwidth": 2,
            "linecolor": "white",
            "showbackground": true,
            "ticks": "",
            "zerolinecolor": "white"
           },
           "yaxis": {
            "backgroundcolor": "#E5ECF6",
            "gridcolor": "white",
            "gridwidth": 2,
            "linecolor": "white",
            "showbackground": true,
            "ticks": "",
            "zerolinecolor": "white"
           },
           "zaxis": {
            "backgroundcolor": "#E5ECF6",
            "gridcolor": "white",
            "gridwidth": 2,
            "linecolor": "white",
            "showbackground": true,
            "ticks": "",
            "zerolinecolor": "white"
           }
          },
          "shapedefaults": {
           "line": {
            "color": "#2a3f5f"
           }
          },
          "ternary": {
           "aaxis": {
            "gridcolor": "white",
            "linecolor": "white",
            "ticks": ""
           },
           "baxis": {
            "gridcolor": "white",
            "linecolor": "white",
            "ticks": ""
           },
           "bgcolor": "#E5ECF6",
           "caxis": {
            "gridcolor": "white",
            "linecolor": "white",
            "ticks": ""
           }
          },
          "title": {
           "x": 0.05
          },
          "xaxis": {
           "automargin": true,
           "gridcolor": "white",
           "linecolor": "white",
           "ticks": "",
           "title": {
            "standoff": 15
           },
           "zerolinecolor": "white",
           "zerolinewidth": 2
          },
          "yaxis": {
           "automargin": true,
           "gridcolor": "white",
           "linecolor": "white",
           "ticks": "",
           "title": {
            "standoff": 15
           },
           "zerolinecolor": "white",
           "zerolinewidth": 2
          }
         }
        },
        "title": {
         "text": "T-distributed Stochastic Neighbor Embedding for BOW document representation"
        },
        "xaxis": {
         "anchor": "y",
         "domain": [
          0,
          1
         ],
         "title": {
          "text": "C1"
         }
        },
        "yaxis": {
         "anchor": "x",
         "domain": [
          0,
          1
         ],
         "title": {
          "text": "C2"
         }
        }
       }
      }
     },
     "metadata": {},
     "output_type": "display_data"
    }
   ],
   "source": [
    "import plotly.express as px\n",
    "# scatter plot of t-sne for the BOW representation\n",
    "\n",
    "title = \"T-distributed Stochastic Neighbor Embedding for BOW document representation\"\n",
    "\n",
    "fig = px.scatter(tsne_bow_features_df, x=\"C1\", y=\"C2\", hover_data=['TITLE'], title=title)\n",
    "fig.show()"
   ]
  },
  {
   "cell_type": "code",
   "execution_count": 22,
   "metadata": {},
   "outputs": [
    {
     "name": "stdout",
     "output_type": "stream",
     "text": [
      "Reference Article : 17 types of similarity and dissimilarity measures used in data science.\n",
      "**** Similar Articles ****\n",
      "9 Distance Measures in Data Science\n",
      "17 Clustering Algorithms Used In Data Science and Mining\n",
      "Machine Learning Basics with the K-Nearest Neighbors Algorithm\n",
      "OVER 100 Data Scientist Interview Questions and Answers!\n",
      "Fundamental Techniques of Feature Engineering for Machine Learning\n",
      "\n",
      "Reference Article : TensorFlow Tutorial Part 1\n",
      "**** Similar Articles ****\n",
      "How to go from a Python newbie to a Google Certified TensorFlow Developer under two months\n",
      "Enchanted Random Forest\n",
      "The 7 Best Data Science and Machine Learning Podcasts\n",
      "PCA using Python (scikit-learn)\n",
      "Time Series Forecasting with PyCaret Regression Module\n",
      "\n",
      "Reference Article : The One Word That Explains Why Economics Professors Are Not Billionaires\n",
      "**** Similar Articles ****\n",
      "Why People Still Don't Get Cryptocurrency\n",
      "You May Have A Poor Person's Mindset And Not Know It\n",
      "You Will Never Be Rich If You Keep Doing These 10 things\n",
      "How I transformed $6,000 to $3,000,000\n",
      "The Exact Steps I Followed to Make $1,500+ of Passive Income Every Month\n",
      "\n",
      "Reference Article : How I lost 10kg in 60 days: My 7-step weight loss plan\n",
      "**** Similar Articles ****\n",
      "10 Things You Can Do This Morning To Heal Your Anxiety\n",
      "How to lose 10+ pounds of fat a month- even if you have a slow metabolism\n",
      "The Diet & Workout Plan of a Full-Time Traveling Family  HIS\n",
      "The cure for type 2 diabetes is known, but few are aware\n",
      "The Easiest Way to Lose 125 Pounds Is to Gain 175 Pounds\n",
      "\n"
     ]
    }
   ],
   "source": [
    "from sklearn.metrics.pairwise import cosine_similarity\n",
    "\n",
    "def get_similar_documents(all_article_rep_df, article_id, features):\n",
    "    # extracting features of a article\n",
    "    this_article_rep = all_article_rep_df[all_article_rep_df[\"ID\"] == article_id][features]\n",
    "    other_article_rep = all_article_rep_df[all_article_rep_df[\"ID\"] != article_id][features]\n",
    "    # calculating cosine similarity\n",
    "    similarity_matrix = cosine_similarity(this_article_rep, other_article_rep)\n",
    "    similar_articles = list(zip(similarity_matrix[0].tolist(), all_article_rep_df[\"TITLE\"].tolist()))\n",
    "    # sorting\n",
    "    similar_articles = sorted(similar_articles, key = lambda x : x[0], reverse = True)\n",
    "    print(\"Reference Article : {}\".format(all_article_rep_df[all_article_rep_df[\"ID\"] == article_id][\"TITLE\"].values[0]))\n",
    "\n",
    "    print(\"**** Similar Articles ****\")\n",
    "    # top 5 similar articles\n",
    "    for score, title in similar_articles[:5]:\n",
    "        print(title)\n",
    "    print()\n",
    "\n",
    "# Let us check top 5 similar articles for some of the articles in our corpus\n",
    "get_similar_documents(bow_features_df, 90, count_vectorizer.get_feature_names_out())\n",
    "get_similar_documents(bow_features_df, 80, count_vectorizer.get_feature_names_out())\n",
    "get_similar_documents(bow_features_df, 150, count_vectorizer.get_feature_names_out())\n",
    "get_similar_documents(bow_features_df, 205, count_vectorizer.get_feature_names_out())"
   ]
  },
  {
   "cell_type": "code",
   "execution_count": 23,
   "metadata": {},
   "outputs": [
    {
     "data": {
      "text/html": [
       "<div>\n",
       "<style scoped>\n",
       "    .dataframe tbody tr th:only-of-type {\n",
       "        vertical-align: middle;\n",
       "    }\n",
       "\n",
       "    .dataframe tbody tr th {\n",
       "        vertical-align: top;\n",
       "    }\n",
       "\n",
       "    .dataframe thead th {\n",
       "        text-align: right;\n",
       "    }\n",
       "</style>\n",
       "<table border=\"1\" class=\"dataframe\">\n",
       "  <thead>\n",
       "    <tr style=\"text-align: right;\">\n",
       "      <th></th>\n",
       "      <th>00</th>\n",
       "      <th>000</th>\n",
       "      <th>01</th>\n",
       "      <th>05</th>\n",
       "      <th>06</th>\n",
       "      <th>07</th>\n",
       "      <th>10</th>\n",
       "      <th>100</th>\n",
       "      <th>1000</th>\n",
       "      <th>101</th>\n",
       "      <th>10k</th>\n",
       "      <th>10x</th>\n",
       "      <th>11</th>\n",
       "      <th>12</th>\n",
       "      <th>120</th>\n",
       "      <th>125</th>\n",
       "      <th>128</th>\n",
       "      <th>13</th>\n",
       "      <th>14</th>\n",
       "      <th>15</th>\n",
       "      <th>150</th>\n",
       "      <th>16</th>\n",
       "      <th>17</th>\n",
       "      <th>18</th>\n",
       "      <th>19</th>\n",
       "      <th>1980</th>\n",
       "      <th>1989</th>\n",
       "      <th>1990</th>\n",
       "      <th>1k</th>\n",
       "      <th>1st</th>\n",
       "      <th>20</th>\n",
       "      <th>200</th>\n",
       "      <th>2000</th>\n",
       "      <th>2001</th>\n",
       "      <th>2005</th>\n",
       "      <th>2008</th>\n",
       "      <th>2009</th>\n",
       "      <th>2010</th>\n",
       "      <th>2011</th>\n",
       "      <th>2012</th>\n",
       "      <th>2013</th>\n",
       "      <th>2014</th>\n",
       "      <th>2015</th>\n",
       "      <th>2016</th>\n",
       "      <th>2017</th>\n",
       "      <th>2018</th>\n",
       "      <th>2019</th>\n",
       "      <th>2020</th>\n",
       "      <th>2021</th>\n",
       "      <th>21</th>\n",
       "      <th>...</th>\n",
       "      <th>winter</th>\n",
       "      <th>wire</th>\n",
       "      <th>wise</th>\n",
       "      <th>wish</th>\n",
       "      <th>withdraw</th>\n",
       "      <th>woman</th>\n",
       "      <th>wonder</th>\n",
       "      <th>wonderful</th>\n",
       "      <th>wood</th>\n",
       "      <th>word</th>\n",
       "      <th>work</th>\n",
       "      <th>worker</th>\n",
       "      <th>workflow</th>\n",
       "      <th>working</th>\n",
       "      <th>workout</th>\n",
       "      <th>world</th>\n",
       "      <th>worried</th>\n",
       "      <th>worry</th>\n",
       "      <th>worsen</th>\n",
       "      <th>worth</th>\n",
       "      <th>wow</th>\n",
       "      <th>wrap</th>\n",
       "      <th>write</th>\n",
       "      <th>writer</th>\n",
       "      <th>writing</th>\n",
       "      <th>wrong</th>\n",
       "      <th>www</th>\n",
       "      <th>xgboost</th>\n",
       "      <th>xi</th>\n",
       "      <th>yeah</th>\n",
       "      <th>year</th>\n",
       "      <th>yearly</th>\n",
       "      <th>yellow</th>\n",
       "      <th>yes</th>\n",
       "      <th>yesterday</th>\n",
       "      <th>yield</th>\n",
       "      <th>yo</th>\n",
       "      <th>york</th>\n",
       "      <th>you</th>\n",
       "      <th>young</th>\n",
       "      <th>youtube</th>\n",
       "      <th>zero</th>\n",
       "      <th>zhou</th>\n",
       "      <th>zip</th>\n",
       "      <th>zombie</th>\n",
       "      <th>zone</th>\n",
       "      <th>zoom</th>\n",
       "      <th>zuckerberg</th>\n",
       "      <th>TITLE</th>\n",
       "      <th>ID</th>\n",
       "    </tr>\n",
       "  </thead>\n",
       "  <tbody>\n",
       "    <tr>\n",
       "      <th>0</th>\n",
       "      <td>0.000000</td>\n",
       "      <td>0.0</td>\n",
       "      <td>0.0</td>\n",
       "      <td>0.0</td>\n",
       "      <td>0.000000</td>\n",
       "      <td>0.0</td>\n",
       "      <td>0.000000</td>\n",
       "      <td>0.0</td>\n",
       "      <td>0.0</td>\n",
       "      <td>0.0</td>\n",
       "      <td>0.0</td>\n",
       "      <td>0.0</td>\n",
       "      <td>0.000000</td>\n",
       "      <td>0.000000</td>\n",
       "      <td>0.0</td>\n",
       "      <td>0.0</td>\n",
       "      <td>0.0</td>\n",
       "      <td>0.0</td>\n",
       "      <td>0.000000</td>\n",
       "      <td>0.000000</td>\n",
       "      <td>0.0</td>\n",
       "      <td>0.0</td>\n",
       "      <td>0.0</td>\n",
       "      <td>0.000000</td>\n",
       "      <td>0.0</td>\n",
       "      <td>0.0</td>\n",
       "      <td>0.0</td>\n",
       "      <td>0.0</td>\n",
       "      <td>0.0</td>\n",
       "      <td>0.0</td>\n",
       "      <td>0.000000</td>\n",
       "      <td>0.0</td>\n",
       "      <td>0.000000</td>\n",
       "      <td>0.0</td>\n",
       "      <td>0.0</td>\n",
       "      <td>0.000000</td>\n",
       "      <td>0.0</td>\n",
       "      <td>0.0</td>\n",
       "      <td>0.0</td>\n",
       "      <td>0.0</td>\n",
       "      <td>0.0</td>\n",
       "      <td>0.0</td>\n",
       "      <td>0.0</td>\n",
       "      <td>0.0</td>\n",
       "      <td>0.000000</td>\n",
       "      <td>0.000000</td>\n",
       "      <td>0.000000</td>\n",
       "      <td>0.0</td>\n",
       "      <td>0.000000</td>\n",
       "      <td>0.0</td>\n",
       "      <td>...</td>\n",
       "      <td>0.0</td>\n",
       "      <td>0.0</td>\n",
       "      <td>0.0</td>\n",
       "      <td>0.000000</td>\n",
       "      <td>0.0</td>\n",
       "      <td>0.000000</td>\n",
       "      <td>0.000000</td>\n",
       "      <td>0.0</td>\n",
       "      <td>0.0</td>\n",
       "      <td>0.008056</td>\n",
       "      <td>0.005185</td>\n",
       "      <td>0.0</td>\n",
       "      <td>0.0</td>\n",
       "      <td>0.0</td>\n",
       "      <td>0.0</td>\n",
       "      <td>0.000000</td>\n",
       "      <td>0.000000</td>\n",
       "      <td>0.000000</td>\n",
       "      <td>0.000000</td>\n",
       "      <td>0.0</td>\n",
       "      <td>0.0</td>\n",
       "      <td>0.0</td>\n",
       "      <td>0.013613</td>\n",
       "      <td>0.0</td>\n",
       "      <td>0.0</td>\n",
       "      <td>0.000000</td>\n",
       "      <td>0.000000</td>\n",
       "      <td>0.009264</td>\n",
       "      <td>0.0</td>\n",
       "      <td>0.0</td>\n",
       "      <td>0.000000</td>\n",
       "      <td>0.0</td>\n",
       "      <td>0.0</td>\n",
       "      <td>0.000000</td>\n",
       "      <td>0.0</td>\n",
       "      <td>0.0</td>\n",
       "      <td>0.000000</td>\n",
       "      <td>0.0</td>\n",
       "      <td>0.00000</td>\n",
       "      <td>0.000000</td>\n",
       "      <td>0.0</td>\n",
       "      <td>0.000000</td>\n",
       "      <td>0.0</td>\n",
       "      <td>0.0</td>\n",
       "      <td>0.000000</td>\n",
       "      <td>0.000000</td>\n",
       "      <td>0.0</td>\n",
       "      <td>0.0</td>\n",
       "      <td>Ensemble methods: bagging, boosting and stacking</td>\n",
       "      <td>1</td>\n",
       "    </tr>\n",
       "    <tr>\n",
       "      <th>1</th>\n",
       "      <td>0.000000</td>\n",
       "      <td>0.0</td>\n",
       "      <td>0.0</td>\n",
       "      <td>0.0</td>\n",
       "      <td>0.000000</td>\n",
       "      <td>0.0</td>\n",
       "      <td>0.000000</td>\n",
       "      <td>0.0</td>\n",
       "      <td>0.0</td>\n",
       "      <td>0.0</td>\n",
       "      <td>0.0</td>\n",
       "      <td>0.0</td>\n",
       "      <td>0.000000</td>\n",
       "      <td>0.000000</td>\n",
       "      <td>0.0</td>\n",
       "      <td>0.0</td>\n",
       "      <td>0.0</td>\n",
       "      <td>0.0</td>\n",
       "      <td>0.000000</td>\n",
       "      <td>0.000000</td>\n",
       "      <td>0.0</td>\n",
       "      <td>0.0</td>\n",
       "      <td>0.0</td>\n",
       "      <td>0.000000</td>\n",
       "      <td>0.0</td>\n",
       "      <td>0.0</td>\n",
       "      <td>0.0</td>\n",
       "      <td>0.0</td>\n",
       "      <td>0.0</td>\n",
       "      <td>0.0</td>\n",
       "      <td>0.000000</td>\n",
       "      <td>0.0</td>\n",
       "      <td>0.000000</td>\n",
       "      <td>0.0</td>\n",
       "      <td>0.0</td>\n",
       "      <td>0.000000</td>\n",
       "      <td>0.0</td>\n",
       "      <td>0.0</td>\n",
       "      <td>0.0</td>\n",
       "      <td>0.0</td>\n",
       "      <td>0.0</td>\n",
       "      <td>0.0</td>\n",
       "      <td>0.0</td>\n",
       "      <td>0.0</td>\n",
       "      <td>0.000000</td>\n",
       "      <td>0.000000</td>\n",
       "      <td>0.000000</td>\n",
       "      <td>0.0</td>\n",
       "      <td>0.000000</td>\n",
       "      <td>0.0</td>\n",
       "      <td>...</td>\n",
       "      <td>0.0</td>\n",
       "      <td>0.0</td>\n",
       "      <td>0.0</td>\n",
       "      <td>0.000000</td>\n",
       "      <td>0.0</td>\n",
       "      <td>0.000000</td>\n",
       "      <td>0.000000</td>\n",
       "      <td>0.0</td>\n",
       "      <td>0.0</td>\n",
       "      <td>0.000000</td>\n",
       "      <td>0.000000</td>\n",
       "      <td>0.0</td>\n",
       "      <td>0.0</td>\n",
       "      <td>0.0</td>\n",
       "      <td>0.0</td>\n",
       "      <td>0.000000</td>\n",
       "      <td>0.000000</td>\n",
       "      <td>0.000000</td>\n",
       "      <td>0.000000</td>\n",
       "      <td>0.0</td>\n",
       "      <td>0.0</td>\n",
       "      <td>0.0</td>\n",
       "      <td>0.014092</td>\n",
       "      <td>0.0</td>\n",
       "      <td>0.0</td>\n",
       "      <td>0.000000</td>\n",
       "      <td>0.025664</td>\n",
       "      <td>0.000000</td>\n",
       "      <td>0.0</td>\n",
       "      <td>0.0</td>\n",
       "      <td>0.000000</td>\n",
       "      <td>0.0</td>\n",
       "      <td>0.0</td>\n",
       "      <td>0.000000</td>\n",
       "      <td>0.0</td>\n",
       "      <td>0.0</td>\n",
       "      <td>0.000000</td>\n",
       "      <td>0.0</td>\n",
       "      <td>0.00000</td>\n",
       "      <td>0.000000</td>\n",
       "      <td>0.0</td>\n",
       "      <td>0.000000</td>\n",
       "      <td>0.0</td>\n",
       "      <td>0.0</td>\n",
       "      <td>0.000000</td>\n",
       "      <td>0.000000</td>\n",
       "      <td>0.0</td>\n",
       "      <td>0.0</td>\n",
       "      <td>Understanding AUC - ROC Curve</td>\n",
       "      <td>2</td>\n",
       "    </tr>\n",
       "    <tr>\n",
       "      <th>2</th>\n",
       "      <td>0.000000</td>\n",
       "      <td>0.0</td>\n",
       "      <td>0.0</td>\n",
       "      <td>0.0</td>\n",
       "      <td>0.019288</td>\n",
       "      <td>0.0</td>\n",
       "      <td>0.008322</td>\n",
       "      <td>0.0</td>\n",
       "      <td>0.0</td>\n",
       "      <td>0.0</td>\n",
       "      <td>0.0</td>\n",
       "      <td>0.0</td>\n",
       "      <td>0.000000</td>\n",
       "      <td>0.000000</td>\n",
       "      <td>0.0</td>\n",
       "      <td>0.0</td>\n",
       "      <td>0.0</td>\n",
       "      <td>0.0</td>\n",
       "      <td>0.000000</td>\n",
       "      <td>0.000000</td>\n",
       "      <td>0.0</td>\n",
       "      <td>0.0</td>\n",
       "      <td>0.0</td>\n",
       "      <td>0.000000</td>\n",
       "      <td>0.0</td>\n",
       "      <td>0.0</td>\n",
       "      <td>0.0</td>\n",
       "      <td>0.0</td>\n",
       "      <td>0.0</td>\n",
       "      <td>0.0</td>\n",
       "      <td>0.000000</td>\n",
       "      <td>0.0</td>\n",
       "      <td>0.000000</td>\n",
       "      <td>0.0</td>\n",
       "      <td>0.0</td>\n",
       "      <td>0.000000</td>\n",
       "      <td>0.0</td>\n",
       "      <td>0.0</td>\n",
       "      <td>0.0</td>\n",
       "      <td>0.0</td>\n",
       "      <td>0.0</td>\n",
       "      <td>0.0</td>\n",
       "      <td>0.0</td>\n",
       "      <td>0.0</td>\n",
       "      <td>0.000000</td>\n",
       "      <td>0.000000</td>\n",
       "      <td>0.000000</td>\n",
       "      <td>0.0</td>\n",
       "      <td>0.014724</td>\n",
       "      <td>0.0</td>\n",
       "      <td>...</td>\n",
       "      <td>0.0</td>\n",
       "      <td>0.0</td>\n",
       "      <td>0.0</td>\n",
       "      <td>0.000000</td>\n",
       "      <td>0.0</td>\n",
       "      <td>0.000000</td>\n",
       "      <td>0.000000</td>\n",
       "      <td>0.0</td>\n",
       "      <td>0.0</td>\n",
       "      <td>0.000000</td>\n",
       "      <td>0.022901</td>\n",
       "      <td>0.0</td>\n",
       "      <td>0.0</td>\n",
       "      <td>0.0</td>\n",
       "      <td>0.0</td>\n",
       "      <td>0.000000</td>\n",
       "      <td>0.000000</td>\n",
       "      <td>0.000000</td>\n",
       "      <td>0.000000</td>\n",
       "      <td>0.0</td>\n",
       "      <td>0.0</td>\n",
       "      <td>0.0</td>\n",
       "      <td>0.015030</td>\n",
       "      <td>0.0</td>\n",
       "      <td>0.0</td>\n",
       "      <td>0.010865</td>\n",
       "      <td>0.013686</td>\n",
       "      <td>0.000000</td>\n",
       "      <td>0.0</td>\n",
       "      <td>0.0</td>\n",
       "      <td>0.006687</td>\n",
       "      <td>0.0</td>\n",
       "      <td>0.0</td>\n",
       "      <td>0.000000</td>\n",
       "      <td>0.0</td>\n",
       "      <td>0.0</td>\n",
       "      <td>0.000000</td>\n",
       "      <td>0.0</td>\n",
       "      <td>0.00000</td>\n",
       "      <td>0.000000</td>\n",
       "      <td>0.0</td>\n",
       "      <td>0.000000</td>\n",
       "      <td>0.0</td>\n",
       "      <td>0.0</td>\n",
       "      <td>0.000000</td>\n",
       "      <td>0.000000</td>\n",
       "      <td>0.0</td>\n",
       "      <td>0.0</td>\n",
       "      <td>How to work with object detection datasets in ...</td>\n",
       "      <td>3</td>\n",
       "    </tr>\n",
       "    <tr>\n",
       "      <th>3</th>\n",
       "      <td>0.000000</td>\n",
       "      <td>0.0</td>\n",
       "      <td>0.0</td>\n",
       "      <td>0.0</td>\n",
       "      <td>0.000000</td>\n",
       "      <td>0.0</td>\n",
       "      <td>0.000000</td>\n",
       "      <td>0.0</td>\n",
       "      <td>0.0</td>\n",
       "      <td>0.0</td>\n",
       "      <td>0.0</td>\n",
       "      <td>0.0</td>\n",
       "      <td>0.006738</td>\n",
       "      <td>0.000000</td>\n",
       "      <td>0.0</td>\n",
       "      <td>0.0</td>\n",
       "      <td>0.0</td>\n",
       "      <td>0.0</td>\n",
       "      <td>0.008670</td>\n",
       "      <td>0.006796</td>\n",
       "      <td>0.0</td>\n",
       "      <td>0.0</td>\n",
       "      <td>0.0</td>\n",
       "      <td>0.000000</td>\n",
       "      <td>0.0</td>\n",
       "      <td>0.0</td>\n",
       "      <td>0.0</td>\n",
       "      <td>0.0</td>\n",
       "      <td>0.0</td>\n",
       "      <td>0.0</td>\n",
       "      <td>0.000000</td>\n",
       "      <td>0.0</td>\n",
       "      <td>0.000000</td>\n",
       "      <td>0.0</td>\n",
       "      <td>0.0</td>\n",
       "      <td>0.000000</td>\n",
       "      <td>0.0</td>\n",
       "      <td>0.0</td>\n",
       "      <td>0.0</td>\n",
       "      <td>0.0</td>\n",
       "      <td>0.0</td>\n",
       "      <td>0.0</td>\n",
       "      <td>0.0</td>\n",
       "      <td>0.0</td>\n",
       "      <td>0.000000</td>\n",
       "      <td>0.000000</td>\n",
       "      <td>0.000000</td>\n",
       "      <td>0.0</td>\n",
       "      <td>0.000000</td>\n",
       "      <td>0.0</td>\n",
       "      <td>...</td>\n",
       "      <td>0.0</td>\n",
       "      <td>0.0</td>\n",
       "      <td>0.0</td>\n",
       "      <td>0.000000</td>\n",
       "      <td>0.0</td>\n",
       "      <td>0.000000</td>\n",
       "      <td>0.000000</td>\n",
       "      <td>0.0</td>\n",
       "      <td>0.0</td>\n",
       "      <td>0.000000</td>\n",
       "      <td>0.013306</td>\n",
       "      <td>0.0</td>\n",
       "      <td>0.0</td>\n",
       "      <td>0.0</td>\n",
       "      <td>0.0</td>\n",
       "      <td>0.013772</td>\n",
       "      <td>0.000000</td>\n",
       "      <td>0.008339</td>\n",
       "      <td>0.000000</td>\n",
       "      <td>0.0</td>\n",
       "      <td>0.0</td>\n",
       "      <td>0.0</td>\n",
       "      <td>0.017465</td>\n",
       "      <td>0.0</td>\n",
       "      <td>0.0</td>\n",
       "      <td>0.000000</td>\n",
       "      <td>0.000000</td>\n",
       "      <td>0.000000</td>\n",
       "      <td>0.0</td>\n",
       "      <td>0.0</td>\n",
       "      <td>0.000000</td>\n",
       "      <td>0.0</td>\n",
       "      <td>0.0</td>\n",
       "      <td>0.006571</td>\n",
       "      <td>0.0</td>\n",
       "      <td>0.0</td>\n",
       "      <td>0.000000</td>\n",
       "      <td>0.0</td>\n",
       "      <td>0.00000</td>\n",
       "      <td>0.000000</td>\n",
       "      <td>0.0</td>\n",
       "      <td>0.006363</td>\n",
       "      <td>0.0</td>\n",
       "      <td>0.0</td>\n",
       "      <td>0.000000</td>\n",
       "      <td>0.000000</td>\n",
       "      <td>0.0</td>\n",
       "      <td>0.0</td>\n",
       "      <td>11 Dimensionality reduction techniques you sho...</td>\n",
       "      <td>4</td>\n",
       "    </tr>\n",
       "    <tr>\n",
       "      <th>4</th>\n",
       "      <td>0.000000</td>\n",
       "      <td>0.0</td>\n",
       "      <td>0.0</td>\n",
       "      <td>0.0</td>\n",
       "      <td>0.000000</td>\n",
       "      <td>0.0</td>\n",
       "      <td>0.000000</td>\n",
       "      <td>0.0</td>\n",
       "      <td>0.0</td>\n",
       "      <td>0.0</td>\n",
       "      <td>0.0</td>\n",
       "      <td>0.0</td>\n",
       "      <td>0.000000</td>\n",
       "      <td>0.000000</td>\n",
       "      <td>0.0</td>\n",
       "      <td>0.0</td>\n",
       "      <td>0.0</td>\n",
       "      <td>0.0</td>\n",
       "      <td>0.000000</td>\n",
       "      <td>0.000000</td>\n",
       "      <td>0.0</td>\n",
       "      <td>0.0</td>\n",
       "      <td>0.0</td>\n",
       "      <td>0.000000</td>\n",
       "      <td>0.0</td>\n",
       "      <td>0.0</td>\n",
       "      <td>0.0</td>\n",
       "      <td>0.0</td>\n",
       "      <td>0.0</td>\n",
       "      <td>0.0</td>\n",
       "      <td>0.000000</td>\n",
       "      <td>0.0</td>\n",
       "      <td>0.000000</td>\n",
       "      <td>0.0</td>\n",
       "      <td>0.0</td>\n",
       "      <td>0.000000</td>\n",
       "      <td>0.0</td>\n",
       "      <td>0.0</td>\n",
       "      <td>0.0</td>\n",
       "      <td>0.0</td>\n",
       "      <td>0.0</td>\n",
       "      <td>0.0</td>\n",
       "      <td>0.0</td>\n",
       "      <td>0.0</td>\n",
       "      <td>0.034284</td>\n",
       "      <td>0.000000</td>\n",
       "      <td>0.039491</td>\n",
       "      <td>0.0</td>\n",
       "      <td>0.000000</td>\n",
       "      <td>0.0</td>\n",
       "      <td>...</td>\n",
       "      <td>0.0</td>\n",
       "      <td>0.0</td>\n",
       "      <td>0.0</td>\n",
       "      <td>0.034284</td>\n",
       "      <td>0.0</td>\n",
       "      <td>0.000000</td>\n",
       "      <td>0.000000</td>\n",
       "      <td>0.0</td>\n",
       "      <td>0.0</td>\n",
       "      <td>0.021512</td>\n",
       "      <td>0.027692</td>\n",
       "      <td>0.0</td>\n",
       "      <td>0.0</td>\n",
       "      <td>0.0</td>\n",
       "      <td>0.0</td>\n",
       "      <td>0.000000</td>\n",
       "      <td>0.000000</td>\n",
       "      <td>0.000000</td>\n",
       "      <td>0.000000</td>\n",
       "      <td>0.0</td>\n",
       "      <td>0.0</td>\n",
       "      <td>0.0</td>\n",
       "      <td>0.000000</td>\n",
       "      <td>0.0</td>\n",
       "      <td>0.0</td>\n",
       "      <td>0.000000</td>\n",
       "      <td>0.000000</td>\n",
       "      <td>0.000000</td>\n",
       "      <td>0.0</td>\n",
       "      <td>0.0</td>\n",
       "      <td>0.000000</td>\n",
       "      <td>0.0</td>\n",
       "      <td>0.0</td>\n",
       "      <td>0.000000</td>\n",
       "      <td>0.0</td>\n",
       "      <td>0.0</td>\n",
       "      <td>0.000000</td>\n",
       "      <td>0.0</td>\n",
       "      <td>0.00000</td>\n",
       "      <td>0.000000</td>\n",
       "      <td>0.0</td>\n",
       "      <td>0.000000</td>\n",
       "      <td>0.0</td>\n",
       "      <td>0.0</td>\n",
       "      <td>0.000000</td>\n",
       "      <td>0.000000</td>\n",
       "      <td>0.0</td>\n",
       "      <td>0.0</td>\n",
       "      <td>The Time Series Transformer</td>\n",
       "      <td>5</td>\n",
       "    </tr>\n",
       "    <tr>\n",
       "      <th>...</th>\n",
       "      <td>...</td>\n",
       "      <td>...</td>\n",
       "      <td>...</td>\n",
       "      <td>...</td>\n",
       "      <td>...</td>\n",
       "      <td>...</td>\n",
       "      <td>...</td>\n",
       "      <td>...</td>\n",
       "      <td>...</td>\n",
       "      <td>...</td>\n",
       "      <td>...</td>\n",
       "      <td>...</td>\n",
       "      <td>...</td>\n",
       "      <td>...</td>\n",
       "      <td>...</td>\n",
       "      <td>...</td>\n",
       "      <td>...</td>\n",
       "      <td>...</td>\n",
       "      <td>...</td>\n",
       "      <td>...</td>\n",
       "      <td>...</td>\n",
       "      <td>...</td>\n",
       "      <td>...</td>\n",
       "      <td>...</td>\n",
       "      <td>...</td>\n",
       "      <td>...</td>\n",
       "      <td>...</td>\n",
       "      <td>...</td>\n",
       "      <td>...</td>\n",
       "      <td>...</td>\n",
       "      <td>...</td>\n",
       "      <td>...</td>\n",
       "      <td>...</td>\n",
       "      <td>...</td>\n",
       "      <td>...</td>\n",
       "      <td>...</td>\n",
       "      <td>...</td>\n",
       "      <td>...</td>\n",
       "      <td>...</td>\n",
       "      <td>...</td>\n",
       "      <td>...</td>\n",
       "      <td>...</td>\n",
       "      <td>...</td>\n",
       "      <td>...</td>\n",
       "      <td>...</td>\n",
       "      <td>...</td>\n",
       "      <td>...</td>\n",
       "      <td>...</td>\n",
       "      <td>...</td>\n",
       "      <td>...</td>\n",
       "      <td>...</td>\n",
       "      <td>...</td>\n",
       "      <td>...</td>\n",
       "      <td>...</td>\n",
       "      <td>...</td>\n",
       "      <td>...</td>\n",
       "      <td>...</td>\n",
       "      <td>...</td>\n",
       "      <td>...</td>\n",
       "      <td>...</td>\n",
       "      <td>...</td>\n",
       "      <td>...</td>\n",
       "      <td>...</td>\n",
       "      <td>...</td>\n",
       "      <td>...</td>\n",
       "      <td>...</td>\n",
       "      <td>...</td>\n",
       "      <td>...</td>\n",
       "      <td>...</td>\n",
       "      <td>...</td>\n",
       "      <td>...</td>\n",
       "      <td>...</td>\n",
       "      <td>...</td>\n",
       "      <td>...</td>\n",
       "      <td>...</td>\n",
       "      <td>...</td>\n",
       "      <td>...</td>\n",
       "      <td>...</td>\n",
       "      <td>...</td>\n",
       "      <td>...</td>\n",
       "      <td>...</td>\n",
       "      <td>...</td>\n",
       "      <td>...</td>\n",
       "      <td>...</td>\n",
       "      <td>...</td>\n",
       "      <td>...</td>\n",
       "      <td>...</td>\n",
       "      <td>...</td>\n",
       "      <td>...</td>\n",
       "      <td>...</td>\n",
       "      <td>...</td>\n",
       "      <td>...</td>\n",
       "      <td>...</td>\n",
       "      <td>...</td>\n",
       "      <td>...</td>\n",
       "      <td>...</td>\n",
       "      <td>...</td>\n",
       "      <td>...</td>\n",
       "      <td>...</td>\n",
       "      <td>...</td>\n",
       "      <td>...</td>\n",
       "    </tr>\n",
       "    <tr>\n",
       "      <th>203</th>\n",
       "      <td>0.015118</td>\n",
       "      <td>0.0</td>\n",
       "      <td>0.0</td>\n",
       "      <td>0.0</td>\n",
       "      <td>0.000000</td>\n",
       "      <td>0.0</td>\n",
       "      <td>0.006343</td>\n",
       "      <td>0.0</td>\n",
       "      <td>0.0</td>\n",
       "      <td>0.0</td>\n",
       "      <td>0.0</td>\n",
       "      <td>0.0</td>\n",
       "      <td>0.000000</td>\n",
       "      <td>0.008093</td>\n",
       "      <td>0.0</td>\n",
       "      <td>0.0</td>\n",
       "      <td>0.0</td>\n",
       "      <td>0.0</td>\n",
       "      <td>0.000000</td>\n",
       "      <td>0.000000</td>\n",
       "      <td>0.0</td>\n",
       "      <td>0.0</td>\n",
       "      <td>0.0</td>\n",
       "      <td>0.000000</td>\n",
       "      <td>0.0</td>\n",
       "      <td>0.0</td>\n",
       "      <td>0.0</td>\n",
       "      <td>0.0</td>\n",
       "      <td>0.0</td>\n",
       "      <td>0.0</td>\n",
       "      <td>0.007529</td>\n",
       "      <td>0.0</td>\n",
       "      <td>0.012889</td>\n",
       "      <td>0.0</td>\n",
       "      <td>0.0</td>\n",
       "      <td>0.013989</td>\n",
       "      <td>0.0</td>\n",
       "      <td>0.0</td>\n",
       "      <td>0.0</td>\n",
       "      <td>0.0</td>\n",
       "      <td>0.0</td>\n",
       "      <td>0.0</td>\n",
       "      <td>0.0</td>\n",
       "      <td>0.0</td>\n",
       "      <td>0.000000</td>\n",
       "      <td>0.011077</td>\n",
       "      <td>0.000000</td>\n",
       "      <td>0.0</td>\n",
       "      <td>0.000000</td>\n",
       "      <td>0.0</td>\n",
       "      <td>...</td>\n",
       "      <td>0.0</td>\n",
       "      <td>0.0</td>\n",
       "      <td>0.0</td>\n",
       "      <td>0.000000</td>\n",
       "      <td>0.0</td>\n",
       "      <td>0.000000</td>\n",
       "      <td>0.010314</td>\n",
       "      <td>0.0</td>\n",
       "      <td>0.0</td>\n",
       "      <td>0.000000</td>\n",
       "      <td>0.017453</td>\n",
       "      <td>0.0</td>\n",
       "      <td>0.0</td>\n",
       "      <td>0.0</td>\n",
       "      <td>0.0</td>\n",
       "      <td>0.000000</td>\n",
       "      <td>0.000000</td>\n",
       "      <td>0.000000</td>\n",
       "      <td>0.015592</td>\n",
       "      <td>0.0</td>\n",
       "      <td>0.0</td>\n",
       "      <td>0.0</td>\n",
       "      <td>0.005727</td>\n",
       "      <td>0.0</td>\n",
       "      <td>0.0</td>\n",
       "      <td>0.024843</td>\n",
       "      <td>0.000000</td>\n",
       "      <td>0.000000</td>\n",
       "      <td>0.0</td>\n",
       "      <td>0.0</td>\n",
       "      <td>0.020386</td>\n",
       "      <td>0.0</td>\n",
       "      <td>0.0</td>\n",
       "      <td>0.000000</td>\n",
       "      <td>0.0</td>\n",
       "      <td>0.0</td>\n",
       "      <td>0.000000</td>\n",
       "      <td>0.0</td>\n",
       "      <td>0.00000</td>\n",
       "      <td>0.010093</td>\n",
       "      <td>0.0</td>\n",
       "      <td>0.000000</td>\n",
       "      <td>0.0</td>\n",
       "      <td>0.0</td>\n",
       "      <td>0.000000</td>\n",
       "      <td>0.000000</td>\n",
       "      <td>0.0</td>\n",
       "      <td>0.0</td>\n",
       "      <td>Type 2 Diabetes Reversal  The Quick Start Guide</td>\n",
       "      <td>210</td>\n",
       "    </tr>\n",
       "    <tr>\n",
       "      <th>204</th>\n",
       "      <td>0.000000</td>\n",
       "      <td>0.0</td>\n",
       "      <td>0.0</td>\n",
       "      <td>0.0</td>\n",
       "      <td>0.000000</td>\n",
       "      <td>0.0</td>\n",
       "      <td>0.000000</td>\n",
       "      <td>0.0</td>\n",
       "      <td>0.0</td>\n",
       "      <td>0.0</td>\n",
       "      <td>0.0</td>\n",
       "      <td>0.0</td>\n",
       "      <td>0.000000</td>\n",
       "      <td>0.019866</td>\n",
       "      <td>0.0</td>\n",
       "      <td>0.0</td>\n",
       "      <td>0.0</td>\n",
       "      <td>0.0</td>\n",
       "      <td>0.027918</td>\n",
       "      <td>0.000000</td>\n",
       "      <td>0.0</td>\n",
       "      <td>0.0</td>\n",
       "      <td>0.0</td>\n",
       "      <td>0.000000</td>\n",
       "      <td>0.0</td>\n",
       "      <td>0.0</td>\n",
       "      <td>0.0</td>\n",
       "      <td>0.0</td>\n",
       "      <td>0.0</td>\n",
       "      <td>0.0</td>\n",
       "      <td>0.000000</td>\n",
       "      <td>0.0</td>\n",
       "      <td>0.000000</td>\n",
       "      <td>0.0</td>\n",
       "      <td>0.0</td>\n",
       "      <td>0.000000</td>\n",
       "      <td>0.0</td>\n",
       "      <td>0.0</td>\n",
       "      <td>0.0</td>\n",
       "      <td>0.0</td>\n",
       "      <td>0.0</td>\n",
       "      <td>0.0</td>\n",
       "      <td>0.0</td>\n",
       "      <td>0.0</td>\n",
       "      <td>0.000000</td>\n",
       "      <td>0.000000</td>\n",
       "      <td>0.000000</td>\n",
       "      <td>0.0</td>\n",
       "      <td>0.000000</td>\n",
       "      <td>0.0</td>\n",
       "      <td>...</td>\n",
       "      <td>0.0</td>\n",
       "      <td>0.0</td>\n",
       "      <td>0.0</td>\n",
       "      <td>0.000000</td>\n",
       "      <td>0.0</td>\n",
       "      <td>0.000000</td>\n",
       "      <td>0.025320</td>\n",
       "      <td>0.0</td>\n",
       "      <td>0.0</td>\n",
       "      <td>0.000000</td>\n",
       "      <td>0.042845</td>\n",
       "      <td>0.0</td>\n",
       "      <td>0.0</td>\n",
       "      <td>0.0</td>\n",
       "      <td>0.0</td>\n",
       "      <td>0.000000</td>\n",
       "      <td>0.000000</td>\n",
       "      <td>0.000000</td>\n",
       "      <td>0.000000</td>\n",
       "      <td>0.0</td>\n",
       "      <td>0.0</td>\n",
       "      <td>0.0</td>\n",
       "      <td>0.000000</td>\n",
       "      <td>0.0</td>\n",
       "      <td>0.0</td>\n",
       "      <td>0.040656</td>\n",
       "      <td>0.076815</td>\n",
       "      <td>0.000000</td>\n",
       "      <td>0.0</td>\n",
       "      <td>0.0</td>\n",
       "      <td>0.012511</td>\n",
       "      <td>0.0</td>\n",
       "      <td>0.0</td>\n",
       "      <td>0.021158</td>\n",
       "      <td>0.0</td>\n",
       "      <td>0.0</td>\n",
       "      <td>0.000000</td>\n",
       "      <td>0.0</td>\n",
       "      <td>0.03434</td>\n",
       "      <td>0.000000</td>\n",
       "      <td>0.0</td>\n",
       "      <td>0.000000</td>\n",
       "      <td>0.0</td>\n",
       "      <td>0.0</td>\n",
       "      <td>0.000000</td>\n",
       "      <td>0.068679</td>\n",
       "      <td>0.0</td>\n",
       "      <td>0.0</td>\n",
       "      <td>How a 22 Day Water Fast Changed My Life</td>\n",
       "      <td>211</td>\n",
       "    </tr>\n",
       "    <tr>\n",
       "      <th>205</th>\n",
       "      <td>0.000000</td>\n",
       "      <td>0.0</td>\n",
       "      <td>0.0</td>\n",
       "      <td>0.0</td>\n",
       "      <td>0.000000</td>\n",
       "      <td>0.0</td>\n",
       "      <td>0.016279</td>\n",
       "      <td>0.0</td>\n",
       "      <td>0.0</td>\n",
       "      <td>0.0</td>\n",
       "      <td>0.0</td>\n",
       "      <td>0.0</td>\n",
       "      <td>0.022684</td>\n",
       "      <td>0.020770</td>\n",
       "      <td>0.0</td>\n",
       "      <td>0.0</td>\n",
       "      <td>0.0</td>\n",
       "      <td>0.0</td>\n",
       "      <td>0.000000</td>\n",
       "      <td>0.000000</td>\n",
       "      <td>0.0</td>\n",
       "      <td>0.0</td>\n",
       "      <td>0.0</td>\n",
       "      <td>0.000000</td>\n",
       "      <td>0.0</td>\n",
       "      <td>0.0</td>\n",
       "      <td>0.0</td>\n",
       "      <td>0.0</td>\n",
       "      <td>0.0</td>\n",
       "      <td>0.0</td>\n",
       "      <td>0.000000</td>\n",
       "      <td>0.0</td>\n",
       "      <td>0.000000</td>\n",
       "      <td>0.0</td>\n",
       "      <td>0.0</td>\n",
       "      <td>0.000000</td>\n",
       "      <td>0.0</td>\n",
       "      <td>0.0</td>\n",
       "      <td>0.0</td>\n",
       "      <td>0.0</td>\n",
       "      <td>0.0</td>\n",
       "      <td>0.0</td>\n",
       "      <td>0.0</td>\n",
       "      <td>0.0</td>\n",
       "      <td>0.000000</td>\n",
       "      <td>0.000000</td>\n",
       "      <td>0.000000</td>\n",
       "      <td>0.0</td>\n",
       "      <td>0.000000</td>\n",
       "      <td>0.0</td>\n",
       "      <td>...</td>\n",
       "      <td>0.0</td>\n",
       "      <td>0.0</td>\n",
       "      <td>0.0</td>\n",
       "      <td>0.000000</td>\n",
       "      <td>0.0</td>\n",
       "      <td>0.000000</td>\n",
       "      <td>0.000000</td>\n",
       "      <td>0.0</td>\n",
       "      <td>0.0</td>\n",
       "      <td>0.000000</td>\n",
       "      <td>0.000000</td>\n",
       "      <td>0.0</td>\n",
       "      <td>0.0</td>\n",
       "      <td>0.0</td>\n",
       "      <td>0.0</td>\n",
       "      <td>0.000000</td>\n",
       "      <td>0.000000</td>\n",
       "      <td>0.000000</td>\n",
       "      <td>0.000000</td>\n",
       "      <td>0.0</td>\n",
       "      <td>0.0</td>\n",
       "      <td>0.0</td>\n",
       "      <td>0.000000</td>\n",
       "      <td>0.0</td>\n",
       "      <td>0.0</td>\n",
       "      <td>0.000000</td>\n",
       "      <td>0.000000</td>\n",
       "      <td>0.000000</td>\n",
       "      <td>0.0</td>\n",
       "      <td>0.0</td>\n",
       "      <td>0.000000</td>\n",
       "      <td>0.0</td>\n",
       "      <td>0.0</td>\n",
       "      <td>0.000000</td>\n",
       "      <td>0.0</td>\n",
       "      <td>0.0</td>\n",
       "      <td>0.000000</td>\n",
       "      <td>0.0</td>\n",
       "      <td>0.00000</td>\n",
       "      <td>0.000000</td>\n",
       "      <td>0.0</td>\n",
       "      <td>0.021420</td>\n",
       "      <td>0.0</td>\n",
       "      <td>0.0</td>\n",
       "      <td>0.000000</td>\n",
       "      <td>0.000000</td>\n",
       "      <td>0.0</td>\n",
       "      <td>0.0</td>\n",
       "      <td>Breaking Your Fast</td>\n",
       "      <td>212</td>\n",
       "    </tr>\n",
       "    <tr>\n",
       "      <th>206</th>\n",
       "      <td>0.000000</td>\n",
       "      <td>0.0</td>\n",
       "      <td>0.0</td>\n",
       "      <td>0.0</td>\n",
       "      <td>0.000000</td>\n",
       "      <td>0.0</td>\n",
       "      <td>0.043596</td>\n",
       "      <td>0.0</td>\n",
       "      <td>0.0</td>\n",
       "      <td>0.0</td>\n",
       "      <td>0.0</td>\n",
       "      <td>0.0</td>\n",
       "      <td>0.000000</td>\n",
       "      <td>0.000000</td>\n",
       "      <td>0.0</td>\n",
       "      <td>0.0</td>\n",
       "      <td>0.0</td>\n",
       "      <td>0.0</td>\n",
       "      <td>0.000000</td>\n",
       "      <td>0.036765</td>\n",
       "      <td>0.0</td>\n",
       "      <td>0.0</td>\n",
       "      <td>0.0</td>\n",
       "      <td>0.031268</td>\n",
       "      <td>0.0</td>\n",
       "      <td>0.0</td>\n",
       "      <td>0.0</td>\n",
       "      <td>0.0</td>\n",
       "      <td>0.0</td>\n",
       "      <td>0.0</td>\n",
       "      <td>0.000000</td>\n",
       "      <td>0.0</td>\n",
       "      <td>0.000000</td>\n",
       "      <td>0.0</td>\n",
       "      <td>0.0</td>\n",
       "      <td>0.000000</td>\n",
       "      <td>0.0</td>\n",
       "      <td>0.0</td>\n",
       "      <td>0.0</td>\n",
       "      <td>0.0</td>\n",
       "      <td>0.0</td>\n",
       "      <td>0.0</td>\n",
       "      <td>0.0</td>\n",
       "      <td>0.0</td>\n",
       "      <td>0.014853</td>\n",
       "      <td>0.000000</td>\n",
       "      <td>0.000000</td>\n",
       "      <td>0.0</td>\n",
       "      <td>0.000000</td>\n",
       "      <td>0.0</td>\n",
       "      <td>...</td>\n",
       "      <td>0.0</td>\n",
       "      <td>0.0</td>\n",
       "      <td>0.0</td>\n",
       "      <td>0.000000</td>\n",
       "      <td>0.0</td>\n",
       "      <td>0.000000</td>\n",
       "      <td>0.000000</td>\n",
       "      <td>0.0</td>\n",
       "      <td>0.0</td>\n",
       "      <td>0.000000</td>\n",
       "      <td>0.059983</td>\n",
       "      <td>0.0</td>\n",
       "      <td>0.0</td>\n",
       "      <td>0.0</td>\n",
       "      <td>0.0</td>\n",
       "      <td>0.008278</td>\n",
       "      <td>0.000000</td>\n",
       "      <td>0.000000</td>\n",
       "      <td>0.000000</td>\n",
       "      <td>0.0</td>\n",
       "      <td>0.0</td>\n",
       "      <td>0.0</td>\n",
       "      <td>0.023620</td>\n",
       "      <td>0.0</td>\n",
       "      <td>0.0</td>\n",
       "      <td>0.000000</td>\n",
       "      <td>0.014339</td>\n",
       "      <td>0.000000</td>\n",
       "      <td>0.0</td>\n",
       "      <td>0.0</td>\n",
       "      <td>0.014012</td>\n",
       "      <td>0.0</td>\n",
       "      <td>0.0</td>\n",
       "      <td>0.000000</td>\n",
       "      <td>0.0</td>\n",
       "      <td>0.0</td>\n",
       "      <td>0.000000</td>\n",
       "      <td>0.0</td>\n",
       "      <td>0.00000</td>\n",
       "      <td>0.000000</td>\n",
       "      <td>0.0</td>\n",
       "      <td>0.000000</td>\n",
       "      <td>0.0</td>\n",
       "      <td>0.0</td>\n",
       "      <td>0.021434</td>\n",
       "      <td>0.019230</td>\n",
       "      <td>0.0</td>\n",
       "      <td>0.0</td>\n",
       "      <td>11 Unusual Tips for How to Wake Up Early</td>\n",
       "      <td>213</td>\n",
       "    </tr>\n",
       "    <tr>\n",
       "      <th>207</th>\n",
       "      <td>0.000000</td>\n",
       "      <td>0.0</td>\n",
       "      <td>0.0</td>\n",
       "      <td>0.0</td>\n",
       "      <td>0.000000</td>\n",
       "      <td>0.0</td>\n",
       "      <td>0.007900</td>\n",
       "      <td>0.0</td>\n",
       "      <td>0.0</td>\n",
       "      <td>0.0</td>\n",
       "      <td>0.0</td>\n",
       "      <td>0.0</td>\n",
       "      <td>0.000000</td>\n",
       "      <td>0.000000</td>\n",
       "      <td>0.0</td>\n",
       "      <td>0.0</td>\n",
       "      <td>0.0</td>\n",
       "      <td>0.0</td>\n",
       "      <td>0.000000</td>\n",
       "      <td>0.000000</td>\n",
       "      <td>0.0</td>\n",
       "      <td>0.0</td>\n",
       "      <td>0.0</td>\n",
       "      <td>0.000000</td>\n",
       "      <td>0.0</td>\n",
       "      <td>0.0</td>\n",
       "      <td>0.0</td>\n",
       "      <td>0.0</td>\n",
       "      <td>0.0</td>\n",
       "      <td>0.0</td>\n",
       "      <td>0.009377</td>\n",
       "      <td>0.0</td>\n",
       "      <td>0.000000</td>\n",
       "      <td>0.0</td>\n",
       "      <td>0.0</td>\n",
       "      <td>0.000000</td>\n",
       "      <td>0.0</td>\n",
       "      <td>0.0</td>\n",
       "      <td>0.0</td>\n",
       "      <td>0.0</td>\n",
       "      <td>0.0</td>\n",
       "      <td>0.0</td>\n",
       "      <td>0.0</td>\n",
       "      <td>0.0</td>\n",
       "      <td>0.000000</td>\n",
       "      <td>0.000000</td>\n",
       "      <td>0.000000</td>\n",
       "      <td>0.0</td>\n",
       "      <td>0.000000</td>\n",
       "      <td>0.0</td>\n",
       "      <td>...</td>\n",
       "      <td>0.0</td>\n",
       "      <td>0.0</td>\n",
       "      <td>0.0</td>\n",
       "      <td>0.000000</td>\n",
       "      <td>0.0</td>\n",
       "      <td>0.072839</td>\n",
       "      <td>0.000000</td>\n",
       "      <td>0.0</td>\n",
       "      <td>0.0</td>\n",
       "      <td>0.025332</td>\n",
       "      <td>0.010870</td>\n",
       "      <td>0.0</td>\n",
       "      <td>0.0</td>\n",
       "      <td>0.0</td>\n",
       "      <td>0.0</td>\n",
       "      <td>0.000000</td>\n",
       "      <td>0.017845</td>\n",
       "      <td>0.000000</td>\n",
       "      <td>0.000000</td>\n",
       "      <td>0.0</td>\n",
       "      <td>0.0</td>\n",
       "      <td>0.0</td>\n",
       "      <td>0.014268</td>\n",
       "      <td>0.0</td>\n",
       "      <td>0.0</td>\n",
       "      <td>0.010315</td>\n",
       "      <td>0.000000</td>\n",
       "      <td>0.000000</td>\n",
       "      <td>0.0</td>\n",
       "      <td>0.0</td>\n",
       "      <td>0.006348</td>\n",
       "      <td>0.0</td>\n",
       "      <td>0.0</td>\n",
       "      <td>0.021471</td>\n",
       "      <td>0.0</td>\n",
       "      <td>0.0</td>\n",
       "      <td>0.040204</td>\n",
       "      <td>0.0</td>\n",
       "      <td>0.00000</td>\n",
       "      <td>0.000000</td>\n",
       "      <td>0.0</td>\n",
       "      <td>0.000000</td>\n",
       "      <td>0.0</td>\n",
       "      <td>0.0</td>\n",
       "      <td>0.000000</td>\n",
       "      <td>0.000000</td>\n",
       "      <td>0.0</td>\n",
       "      <td>0.0</td>\n",
       "      <td>The 3 Biggest Mistakes Women Make On The Ketog...</td>\n",
       "      <td>214</td>\n",
       "    </tr>\n",
       "  </tbody>\n",
       "</table>\n",
       "<p>208 rows × 3709 columns</p>\n",
       "</div>"
      ],
      "text/plain": [
       "           00  000   01   05        06   07        10  100  1000  101  10k  \\\n",
       "0    0.000000  0.0  0.0  0.0  0.000000  0.0  0.000000  0.0   0.0  0.0  0.0   \n",
       "1    0.000000  0.0  0.0  0.0  0.000000  0.0  0.000000  0.0   0.0  0.0  0.0   \n",
       "2    0.000000  0.0  0.0  0.0  0.019288  0.0  0.008322  0.0   0.0  0.0  0.0   \n",
       "3    0.000000  0.0  0.0  0.0  0.000000  0.0  0.000000  0.0   0.0  0.0  0.0   \n",
       "4    0.000000  0.0  0.0  0.0  0.000000  0.0  0.000000  0.0   0.0  0.0  0.0   \n",
       "..        ...  ...  ...  ...       ...  ...       ...  ...   ...  ...  ...   \n",
       "203  0.015118  0.0  0.0  0.0  0.000000  0.0  0.006343  0.0   0.0  0.0  0.0   \n",
       "204  0.000000  0.0  0.0  0.0  0.000000  0.0  0.000000  0.0   0.0  0.0  0.0   \n",
       "205  0.000000  0.0  0.0  0.0  0.000000  0.0  0.016279  0.0   0.0  0.0  0.0   \n",
       "206  0.000000  0.0  0.0  0.0  0.000000  0.0  0.043596  0.0   0.0  0.0  0.0   \n",
       "207  0.000000  0.0  0.0  0.0  0.000000  0.0  0.007900  0.0   0.0  0.0  0.0   \n",
       "\n",
       "     10x        11        12  120  125  128   13        14        15  150  \\\n",
       "0    0.0  0.000000  0.000000  0.0  0.0  0.0  0.0  0.000000  0.000000  0.0   \n",
       "1    0.0  0.000000  0.000000  0.0  0.0  0.0  0.0  0.000000  0.000000  0.0   \n",
       "2    0.0  0.000000  0.000000  0.0  0.0  0.0  0.0  0.000000  0.000000  0.0   \n",
       "3    0.0  0.006738  0.000000  0.0  0.0  0.0  0.0  0.008670  0.006796  0.0   \n",
       "4    0.0  0.000000  0.000000  0.0  0.0  0.0  0.0  0.000000  0.000000  0.0   \n",
       "..   ...       ...       ...  ...  ...  ...  ...       ...       ...  ...   \n",
       "203  0.0  0.000000  0.008093  0.0  0.0  0.0  0.0  0.000000  0.000000  0.0   \n",
       "204  0.0  0.000000  0.019866  0.0  0.0  0.0  0.0  0.027918  0.000000  0.0   \n",
       "205  0.0  0.022684  0.020770  0.0  0.0  0.0  0.0  0.000000  0.000000  0.0   \n",
       "206  0.0  0.000000  0.000000  0.0  0.0  0.0  0.0  0.000000  0.036765  0.0   \n",
       "207  0.0  0.000000  0.000000  0.0  0.0  0.0  0.0  0.000000  0.000000  0.0   \n",
       "\n",
       "      16   17        18   19  1980  1989  1990   1k  1st        20  200  \\\n",
       "0    0.0  0.0  0.000000  0.0   0.0   0.0   0.0  0.0  0.0  0.000000  0.0   \n",
       "1    0.0  0.0  0.000000  0.0   0.0   0.0   0.0  0.0  0.0  0.000000  0.0   \n",
       "2    0.0  0.0  0.000000  0.0   0.0   0.0   0.0  0.0  0.0  0.000000  0.0   \n",
       "3    0.0  0.0  0.000000  0.0   0.0   0.0   0.0  0.0  0.0  0.000000  0.0   \n",
       "4    0.0  0.0  0.000000  0.0   0.0   0.0   0.0  0.0  0.0  0.000000  0.0   \n",
       "..   ...  ...       ...  ...   ...   ...   ...  ...  ...       ...  ...   \n",
       "203  0.0  0.0  0.000000  0.0   0.0   0.0   0.0  0.0  0.0  0.007529  0.0   \n",
       "204  0.0  0.0  0.000000  0.0   0.0   0.0   0.0  0.0  0.0  0.000000  0.0   \n",
       "205  0.0  0.0  0.000000  0.0   0.0   0.0   0.0  0.0  0.0  0.000000  0.0   \n",
       "206  0.0  0.0  0.031268  0.0   0.0   0.0   0.0  0.0  0.0  0.000000  0.0   \n",
       "207  0.0  0.0  0.000000  0.0   0.0   0.0   0.0  0.0  0.0  0.009377  0.0   \n",
       "\n",
       "         2000  2001  2005      2008  2009  2010  2011  2012  2013  2014  2015  \\\n",
       "0    0.000000   0.0   0.0  0.000000   0.0   0.0   0.0   0.0   0.0   0.0   0.0   \n",
       "1    0.000000   0.0   0.0  0.000000   0.0   0.0   0.0   0.0   0.0   0.0   0.0   \n",
       "2    0.000000   0.0   0.0  0.000000   0.0   0.0   0.0   0.0   0.0   0.0   0.0   \n",
       "3    0.000000   0.0   0.0  0.000000   0.0   0.0   0.0   0.0   0.0   0.0   0.0   \n",
       "4    0.000000   0.0   0.0  0.000000   0.0   0.0   0.0   0.0   0.0   0.0   0.0   \n",
       "..        ...   ...   ...       ...   ...   ...   ...   ...   ...   ...   ...   \n",
       "203  0.012889   0.0   0.0  0.013989   0.0   0.0   0.0   0.0   0.0   0.0   0.0   \n",
       "204  0.000000   0.0   0.0  0.000000   0.0   0.0   0.0   0.0   0.0   0.0   0.0   \n",
       "205  0.000000   0.0   0.0  0.000000   0.0   0.0   0.0   0.0   0.0   0.0   0.0   \n",
       "206  0.000000   0.0   0.0  0.000000   0.0   0.0   0.0   0.0   0.0   0.0   0.0   \n",
       "207  0.000000   0.0   0.0  0.000000   0.0   0.0   0.0   0.0   0.0   0.0   0.0   \n",
       "\n",
       "     2016      2017      2018      2019  2020      2021   21  ...  winter  \\\n",
       "0     0.0  0.000000  0.000000  0.000000   0.0  0.000000  0.0  ...     0.0   \n",
       "1     0.0  0.000000  0.000000  0.000000   0.0  0.000000  0.0  ...     0.0   \n",
       "2     0.0  0.000000  0.000000  0.000000   0.0  0.014724  0.0  ...     0.0   \n",
       "3     0.0  0.000000  0.000000  0.000000   0.0  0.000000  0.0  ...     0.0   \n",
       "4     0.0  0.034284  0.000000  0.039491   0.0  0.000000  0.0  ...     0.0   \n",
       "..    ...       ...       ...       ...   ...       ...  ...  ...     ...   \n",
       "203   0.0  0.000000  0.011077  0.000000   0.0  0.000000  0.0  ...     0.0   \n",
       "204   0.0  0.000000  0.000000  0.000000   0.0  0.000000  0.0  ...     0.0   \n",
       "205   0.0  0.000000  0.000000  0.000000   0.0  0.000000  0.0  ...     0.0   \n",
       "206   0.0  0.014853  0.000000  0.000000   0.0  0.000000  0.0  ...     0.0   \n",
       "207   0.0  0.000000  0.000000  0.000000   0.0  0.000000  0.0  ...     0.0   \n",
       "\n",
       "     wire  wise      wish  withdraw     woman    wonder  wonderful  wood  \\\n",
       "0     0.0   0.0  0.000000       0.0  0.000000  0.000000        0.0   0.0   \n",
       "1     0.0   0.0  0.000000       0.0  0.000000  0.000000        0.0   0.0   \n",
       "2     0.0   0.0  0.000000       0.0  0.000000  0.000000        0.0   0.0   \n",
       "3     0.0   0.0  0.000000       0.0  0.000000  0.000000        0.0   0.0   \n",
       "4     0.0   0.0  0.034284       0.0  0.000000  0.000000        0.0   0.0   \n",
       "..    ...   ...       ...       ...       ...       ...        ...   ...   \n",
       "203   0.0   0.0  0.000000       0.0  0.000000  0.010314        0.0   0.0   \n",
       "204   0.0   0.0  0.000000       0.0  0.000000  0.025320        0.0   0.0   \n",
       "205   0.0   0.0  0.000000       0.0  0.000000  0.000000        0.0   0.0   \n",
       "206   0.0   0.0  0.000000       0.0  0.000000  0.000000        0.0   0.0   \n",
       "207   0.0   0.0  0.000000       0.0  0.072839  0.000000        0.0   0.0   \n",
       "\n",
       "         word      work  worker  workflow  working  workout     world  \\\n",
       "0    0.008056  0.005185     0.0       0.0      0.0      0.0  0.000000   \n",
       "1    0.000000  0.000000     0.0       0.0      0.0      0.0  0.000000   \n",
       "2    0.000000  0.022901     0.0       0.0      0.0      0.0  0.000000   \n",
       "3    0.000000  0.013306     0.0       0.0      0.0      0.0  0.013772   \n",
       "4    0.021512  0.027692     0.0       0.0      0.0      0.0  0.000000   \n",
       "..        ...       ...     ...       ...      ...      ...       ...   \n",
       "203  0.000000  0.017453     0.0       0.0      0.0      0.0  0.000000   \n",
       "204  0.000000  0.042845     0.0       0.0      0.0      0.0  0.000000   \n",
       "205  0.000000  0.000000     0.0       0.0      0.0      0.0  0.000000   \n",
       "206  0.000000  0.059983     0.0       0.0      0.0      0.0  0.008278   \n",
       "207  0.025332  0.010870     0.0       0.0      0.0      0.0  0.000000   \n",
       "\n",
       "      worried     worry    worsen  worth  wow  wrap     write  writer  \\\n",
       "0    0.000000  0.000000  0.000000    0.0  0.0   0.0  0.013613     0.0   \n",
       "1    0.000000  0.000000  0.000000    0.0  0.0   0.0  0.014092     0.0   \n",
       "2    0.000000  0.000000  0.000000    0.0  0.0   0.0  0.015030     0.0   \n",
       "3    0.000000  0.008339  0.000000    0.0  0.0   0.0  0.017465     0.0   \n",
       "4    0.000000  0.000000  0.000000    0.0  0.0   0.0  0.000000     0.0   \n",
       "..        ...       ...       ...    ...  ...   ...       ...     ...   \n",
       "203  0.000000  0.000000  0.015592    0.0  0.0   0.0  0.005727     0.0   \n",
       "204  0.000000  0.000000  0.000000    0.0  0.0   0.0  0.000000     0.0   \n",
       "205  0.000000  0.000000  0.000000    0.0  0.0   0.0  0.000000     0.0   \n",
       "206  0.000000  0.000000  0.000000    0.0  0.0   0.0  0.023620     0.0   \n",
       "207  0.017845  0.000000  0.000000    0.0  0.0   0.0  0.014268     0.0   \n",
       "\n",
       "     writing     wrong       www   xgboost   xi  yeah      year  yearly  \\\n",
       "0        0.0  0.000000  0.000000  0.009264  0.0   0.0  0.000000     0.0   \n",
       "1        0.0  0.000000  0.025664  0.000000  0.0   0.0  0.000000     0.0   \n",
       "2        0.0  0.010865  0.013686  0.000000  0.0   0.0  0.006687     0.0   \n",
       "3        0.0  0.000000  0.000000  0.000000  0.0   0.0  0.000000     0.0   \n",
       "4        0.0  0.000000  0.000000  0.000000  0.0   0.0  0.000000     0.0   \n",
       "..       ...       ...       ...       ...  ...   ...       ...     ...   \n",
       "203      0.0  0.024843  0.000000  0.000000  0.0   0.0  0.020386     0.0   \n",
       "204      0.0  0.040656  0.076815  0.000000  0.0   0.0  0.012511     0.0   \n",
       "205      0.0  0.000000  0.000000  0.000000  0.0   0.0  0.000000     0.0   \n",
       "206      0.0  0.000000  0.014339  0.000000  0.0   0.0  0.014012     0.0   \n",
       "207      0.0  0.010315  0.000000  0.000000  0.0   0.0  0.006348     0.0   \n",
       "\n",
       "     yellow       yes  yesterday  yield        yo  york      you     young  \\\n",
       "0       0.0  0.000000        0.0    0.0  0.000000   0.0  0.00000  0.000000   \n",
       "1       0.0  0.000000        0.0    0.0  0.000000   0.0  0.00000  0.000000   \n",
       "2       0.0  0.000000        0.0    0.0  0.000000   0.0  0.00000  0.000000   \n",
       "3       0.0  0.006571        0.0    0.0  0.000000   0.0  0.00000  0.000000   \n",
       "4       0.0  0.000000        0.0    0.0  0.000000   0.0  0.00000  0.000000   \n",
       "..      ...       ...        ...    ...       ...   ...      ...       ...   \n",
       "203     0.0  0.000000        0.0    0.0  0.000000   0.0  0.00000  0.010093   \n",
       "204     0.0  0.021158        0.0    0.0  0.000000   0.0  0.03434  0.000000   \n",
       "205     0.0  0.000000        0.0    0.0  0.000000   0.0  0.00000  0.000000   \n",
       "206     0.0  0.000000        0.0    0.0  0.000000   0.0  0.00000  0.000000   \n",
       "207     0.0  0.021471        0.0    0.0  0.040204   0.0  0.00000  0.000000   \n",
       "\n",
       "     youtube      zero  zhou  zip    zombie      zone  zoom  zuckerberg  \\\n",
       "0        0.0  0.000000   0.0  0.0  0.000000  0.000000   0.0         0.0   \n",
       "1        0.0  0.000000   0.0  0.0  0.000000  0.000000   0.0         0.0   \n",
       "2        0.0  0.000000   0.0  0.0  0.000000  0.000000   0.0         0.0   \n",
       "3        0.0  0.006363   0.0  0.0  0.000000  0.000000   0.0         0.0   \n",
       "4        0.0  0.000000   0.0  0.0  0.000000  0.000000   0.0         0.0   \n",
       "..       ...       ...   ...  ...       ...       ...   ...         ...   \n",
       "203      0.0  0.000000   0.0  0.0  0.000000  0.000000   0.0         0.0   \n",
       "204      0.0  0.000000   0.0  0.0  0.000000  0.068679   0.0         0.0   \n",
       "205      0.0  0.021420   0.0  0.0  0.000000  0.000000   0.0         0.0   \n",
       "206      0.0  0.000000   0.0  0.0  0.021434  0.019230   0.0         0.0   \n",
       "207      0.0  0.000000   0.0  0.0  0.000000  0.000000   0.0         0.0   \n",
       "\n",
       "                                                 TITLE   ID  \n",
       "0     Ensemble methods: bagging, boosting and stacking    1  \n",
       "1                        Understanding AUC - ROC Curve    2  \n",
       "2    How to work with object detection datasets in ...    3  \n",
       "3    11 Dimensionality reduction techniques you sho...    4  \n",
       "4                          The Time Series Transformer    5  \n",
       "..                                                 ...  ...  \n",
       "203    Type 2 Diabetes Reversal  The Quick Start Guide  210  \n",
       "204            How a 22 Day Water Fast Changed My Life  211  \n",
       "205                                 Breaking Your Fast  212  \n",
       "206           11 Unusual Tips for How to Wake Up Early  213  \n",
       "207  The 3 Biggest Mistakes Women Make On The Ketog...  214  \n",
       "\n",
       "[208 rows x 3709 columns]"
      ]
     },
     "metadata": {},
     "output_type": "display_data"
    }
   ],
   "source": [
    "# TF-IDF representation of the dataset Using TfidfVectorizer from scikit-learn\n",
    "tfidf_vectorizer = TfidfVectorizer(min_df=5)\n",
    "# min_df: ignore terms that have a document frequency strictly lower than the given threshold.\n",
    "tfidf_features = tfidf_vectorizer.fit_transform(articles[\"processed_text\"]).todense()  # todense() returns a matrix\n",
    "# create dataframe\n",
    "tfidf_features_df = pd.DataFrame(tfidf_features)\n",
    "tfidf_features_df.columns = tfidf_vectorizer.get_feature_names_out()  # Get output feature names for dataframe columns.\n",
    "tfidf_features_df[\"TITLE\"] = articles[\"title\"]\n",
    "tfidf_features_df[\"ID\"] = articles[\"id\"]\n",
    "display(tfidf_features_df)"
   ]
  },
  {
   "cell_type": "code",
   "execution_count": 24,
   "metadata": {},
   "outputs": [
    {
     "data": {
      "text/html": [
       "<div>\n",
       "<style scoped>\n",
       "    .dataframe tbody tr th:only-of-type {\n",
       "        vertical-align: middle;\n",
       "    }\n",
       "\n",
       "    .dataframe tbody tr th {\n",
       "        vertical-align: top;\n",
       "    }\n",
       "\n",
       "    .dataframe thead th {\n",
       "        text-align: right;\n",
       "    }\n",
       "</style>\n",
       "<table border=\"1\" class=\"dataframe\">\n",
       "  <thead>\n",
       "    <tr style=\"text-align: right;\">\n",
       "      <th></th>\n",
       "      <th>C1</th>\n",
       "      <th>C2</th>\n",
       "      <th>TITLE</th>\n",
       "    </tr>\n",
       "  </thead>\n",
       "  <tbody>\n",
       "    <tr>\n",
       "      <th>0</th>\n",
       "      <td>-12.067216</td>\n",
       "      <td>6.955959</td>\n",
       "      <td>Ensemble methods: bagging, boosting and stacking</td>\n",
       "    </tr>\n",
       "    <tr>\n",
       "      <th>1</th>\n",
       "      <td>-17.839005</td>\n",
       "      <td>7.097887</td>\n",
       "      <td>Understanding AUC - ROC Curve</td>\n",
       "    </tr>\n",
       "    <tr>\n",
       "      <th>2</th>\n",
       "      <td>-10.517477</td>\n",
       "      <td>12.543918</td>\n",
       "      <td>How to work with object detection datasets in ...</td>\n",
       "    </tr>\n",
       "    <tr>\n",
       "      <th>3</th>\n",
       "      <td>-14.219508</td>\n",
       "      <td>3.924428</td>\n",
       "      <td>11 Dimensionality reduction techniques you sho...</td>\n",
       "    </tr>\n",
       "    <tr>\n",
       "      <th>4</th>\n",
       "      <td>-6.758780</td>\n",
       "      <td>7.675977</td>\n",
       "      <td>The Time Series Transformer</td>\n",
       "    </tr>\n",
       "    <tr>\n",
       "      <th>...</th>\n",
       "      <td>...</td>\n",
       "      <td>...</td>\n",
       "      <td>...</td>\n",
       "    </tr>\n",
       "    <tr>\n",
       "      <th>203</th>\n",
       "      <td>17.302809</td>\n",
       "      <td>-10.709568</td>\n",
       "      <td>Type 2 Diabetes Reversal  The Quick Start Guide</td>\n",
       "    </tr>\n",
       "    <tr>\n",
       "      <th>204</th>\n",
       "      <td>14.304268</td>\n",
       "      <td>-10.424824</td>\n",
       "      <td>How a 22 Day Water Fast Changed My Life</td>\n",
       "    </tr>\n",
       "    <tr>\n",
       "      <th>205</th>\n",
       "      <td>15.257199</td>\n",
       "      <td>-10.777301</td>\n",
       "      <td>Breaking Your Fast</td>\n",
       "    </tr>\n",
       "    <tr>\n",
       "      <th>206</th>\n",
       "      <td>9.429005</td>\n",
       "      <td>-7.387866</td>\n",
       "      <td>11 Unusual Tips for How to Wake Up Early</td>\n",
       "    </tr>\n",
       "    <tr>\n",
       "      <th>207</th>\n",
       "      <td>17.932489</td>\n",
       "      <td>-7.738770</td>\n",
       "      <td>The 3 Biggest Mistakes Women Make On The Ketog...</td>\n",
       "    </tr>\n",
       "  </tbody>\n",
       "</table>\n",
       "<p>208 rows × 3 columns</p>\n",
       "</div>"
      ],
      "text/plain": [
       "            C1         C2                                              TITLE\n",
       "0   -12.067216   6.955959   Ensemble methods: bagging, boosting and stacking\n",
       "1   -17.839005   7.097887                      Understanding AUC - ROC Curve\n",
       "2   -10.517477  12.543918  How to work with object detection datasets in ...\n",
       "3   -14.219508   3.924428  11 Dimensionality reduction techniques you sho...\n",
       "4    -6.758780   7.675977                        The Time Series Transformer\n",
       "..         ...        ...                                                ...\n",
       "203  17.302809 -10.709568    Type 2 Diabetes Reversal  The Quick Start Guide\n",
       "204  14.304268 -10.424824            How a 22 Day Water Fast Changed My Life\n",
       "205  15.257199 -10.777301                                 Breaking Your Fast\n",
       "206   9.429005  -7.387866           11 Unusual Tips for How to Wake Up Early\n",
       "207  17.932489  -7.738770  The 3 Biggest Mistakes Women Make On The Ketog...\n",
       "\n",
       "[208 rows x 3 columns]"
      ]
     },
     "metadata": {},
     "output_type": "display_data"
    }
   ],
   "source": [
    "tsne = TSNE(n_components=2)\n",
    "tsne_tfidf_features = tsne.fit_transform(tfidf_features_df[tfidf_vectorizer.get_feature_names_out()].values)\n",
    "tsne_tfidf_features_df = pd.DataFrame(tsne_tfidf_features)\n",
    "tsne_tfidf_features_df.columns = [\"C1\", \"C2\"]\n",
    "tsne_tfidf_features_df[\"TITLE\"] = tfidf_features_df[\"TITLE\"]\n",
    "display(tsne_tfidf_features_df)"
   ]
  },
  {
   "cell_type": "code",
   "execution_count": 25,
   "metadata": {},
   "outputs": [
    {
     "data": {
      "application/vnd.plotly.v1+json": {
       "config": {
        "plotlyServerURL": "https://plot.ly"
       },
       "data": [
        {
         "customdata": [
          [
           "Ensemble methods: bagging, boosting and stacking"
          ],
          [
           "Understanding AUC - ROC Curve"
          ],
          [
           "How to work with object detection datasets in COCO format"
          ],
          [
           "11 Dimensionality reduction techniques you should know in 2021"
          ],
          [
           "The Time Series Transformer"
          ],
          [
           "Learning a Personalized Homepage"
          ],
          [
           "6 Data Science Certificates To Level Up Your Career"
          ],
          [
           "Transformers Explained Visually (Part 2): How it works, step-by-step"
          ],
          [
           "60 Python Projects with Source Code"
          ],
          [
           "Geometric foundations of Deep Learning"
          ],
          [
           "Machine Learning Basics with the K-Nearest Neighbors Algorithm"
          ],
          [
           "Building RNN, LSTM, and GRU for time series using PyTorch"
          ],
          [
           "Algorithms of the Mind"
          ],
          [
           "4 Reasons Why Economists Make Great Data Scientists (And Why No One Tells Them)"
          ],
          [
           "How To Create A Chatbot with Python & Deep Learning In Less Than An Hour"
          ],
          [
           "Machine Learning is Fun Part 5: Language Translation with Deep Learning and the Magic of Sequences"
          ],
          [
           "Illustrated Guide to LSTM's and GRU's: A step by step explanation"
          ],
          [
           "How to go from a Python newbie to a Google Certified TensorFlow Developer under two months"
          ],
          [
           "17 Clustering Algorithms Used In Data Science and Mining"
          ],
          [
           "Introduction to Genetic Algorithms  Including Example Code"
          ],
          [
           "Photoreal Roman Emperor Project"
          ],
          [
           "Fundamental Techniques of Feature Engineering for Machine Learning"
          ],
          [
           "How I Got a Job at DeepMind as a Research Engineer (without a Machine Learning Degree!)"
          ],
          [
           "Towards the end of deep learning and the beginning of AGI"
          ],
          [
           "Tutorial: Document Classification using WEKA"
          ],
          [
           "Understanding Random Forest"
          ],
          [
           "Probability concepts explained: Maximum likelihood estimation"
          ],
          [
           "Transformers Explained Visually (Part 3): Multi-head Attention, deep dive"
          ],
          [
           "180 Data Science and Machine Learning Projects with Python"
          ],
          [
           "5 Online Courses I Took as a Self-Taught Data Scientist"
          ],
          [
           "Machine Learning is Fun! Part 4: Modern Face Recognition with Deep Learning"
          ],
          [
           "9 Distance Measures in Data Science"
          ],
          [
           "The Sexiest Job of the 21st Century Isn't \"Sexy\" Anymore"
          ],
          [
           "Machine Learning is Fun! Part 3: Deep Learning and Convolutional Neural Networks"
          ],
          [
           "A Comprehensive Guide to Convolutional Neural Networks  the ELI5 way"
          ],
          [
           "20 Necessary Requirements of a Perfect Laptop for Data Science and Machine Learning Tasks"
          ],
          [
           "3 Beginner Mistakes I've Made in My Data Science Career"
          ],
          [
           "Understanding Variational Autoencoders (VAEs)"
          ],
          [
           "Setting Up a New M1 MacBook for Data Science"
          ],
          [
           "Are The New M1 Macbooks Any Good for Data Science? Let's Find Out"
          ],
          [
           "Simple and Multiple Linear Regression in Python"
          ],
          [
           "I tripled my income with data science. Here's how."
          ],
          [
           "Keyword Extraction process in Python with Natural Language Processing(NLP)"
          ],
          [
           "Machine learning models for 100% better returns in Algo-trading"
          ],
          [
           "How to Install Ubuntu Desktop With a Graphical User Interface in WSL2"
          ],
          [
           "Understanding Contrastive Learning"
          ],
          [
           "Understanding Semantic Segmentation with UNET"
          ],
          [
           "How Transformers Work"
          ],
          [
           "Yes you should understand backprop"
          ],
          [
           "PCA using Python (scikit-learn)"
          ],
          [
           "Hyperparameter Tuning the Random Forest in Python"
          ],
          [
           "Top 3 Reasons Why I Sold My M1 Macbook Pro as a Data Scientist"
          ],
          [
           "TRAIN A CUSTOM YOLOv4 OBJECT DETECTOR (Using Google Colab)"
          ],
          [
           "6 Machine Learning Certificates to Pursue in 2021"
          ],
          [
           "What to do with \"small\" data?"
          ],
          [
           "Time Series Forecasting with PyCaret Regression Module"
          ],
          [
           "15 Habits I Learned from Highly Effective Data Scientists"
          ],
          [
           "OVER 100 Data Scientist Interview Questions and Answers!"
          ],
          [
           "Activation Functions in Neural Networks"
          ],
          [
           "A One-Stop Shop for Principal Component Analysis"
          ],
          [
           "5 Things You Should Know About Covariance"
          ],
          [
           "How to build your own Neural Network from scratch in Python"
          ],
          [
           "The best explanation of Convolutional Neural Networks on the Internet!"
          ],
          [
           "Lambda Functions with Practical Examples in Python"
          ],
          [
           "The Complete Guide to Time Series Analysis and Forecasting"
          ],
          [
           "8 Ways to Filter Pandas Dataframes"
          ],
          [
           "Standing with Dr. Timnit Gebru  #ISupportTimnit #BelieveBlackWomen"
          ],
          [
           "Visualising high-dimensional datasets using PCA and t-SNE in Python"
          ],
          [
           "How to Study for the Google Data Analytics Professional Certificate"
          ],
          [
           "Is Data Science Still a Rising Career in 2021"
          ],
          [
           "Simple Reinforcement Learning with Tensorflow Part 0: Q-Learning with Tables and Neural Networks"
          ],
          [
           "How To Grow From Non-Coder to Data Scientist in 6 Months"
          ],
          [
           "Apple's New M1 Chip is a Machine Learning Beast"
          ],
          [
           "Train/Test Split and Cross Validation in Python"
          ],
          [
           "Text Classification with NLP: Tf-Idf vs Word2Vec vs BERT"
          ],
          [
           "The 5 Clustering Algorithms Data Scientists Need to Know"
          ],
          [
           "Building A Logistic Regression in Python, Step by Step"
          ],
          [
           "Springer has released 65 Machine Learning and Data books for free"
          ],
          [
           "Every single Machine Learning course on the internet, ranked by your reviews"
          ],
          [
           "TensorFlow Tutorial Part 1"
          ],
          [
           "The 7 Best Data Science and Machine Learning Podcasts"
          ],
          [
           "Random Forest in Python"
          ],
          [
           "How to Land a Data Analytics Job in 6 Months"
          ],
          [
           "What is a Transformer?"
          ],
          [
           "Fundamentals Of Statistics For Data Scientists and Analysts"
          ],
          [
           "Is Google's AI research about to implode?"
          ],
          [
           "Machine Learning is Fun! Part 2"
          ],
          [
           "Understanding Generative Adversarial Networks (GANs)"
          ],
          [
           "17 types of similarity and dissimilarity measures used in data science."
          ],
          [
           "Deep Learning Is Going to Teach Us All the Lesson of Our Lives: Jobs Are for Machines"
          ],
          [
           "I interviewed at five top companies in Silicon Valley in five days, and luckily got five job offers"
          ],
          [
           "Advantages and Disadvantages of Artificial Intelligence"
          ],
          [
           "Could Nim Replace Python?"
          ],
          [
           "An End-to-End Project on Time Series Analysis and Forecasting with Python"
          ],
          [
           "Data Scientists Will be Extinct in 10 Years"
          ],
          [
           "Import all Python libraries in one line of code"
          ],
          [
           "Enchanted Random Forest"
          ],
          [
           "Machine Learning in a Week"
          ],
          [
           "50+ Statistics Interview Questions and Answers for Data Scientists for 2022"
          ],
          [
           "Top 10 Data Science Projects for Beginners"
          ],
          [
           "Check For a Substring in a Pandas DataFrame Column"
          ],
          [
           "Machine Learning is Fun Part 6: How to do Speech Recognition with Deep Learning"
          ],
          [
           "Everything You Need to Know About Artificial Neural Networks"
          ],
          [
           "Ways to Detect and Remove the Outliers"
          ],
          [
           "How to Crush the Crypto Market, Quit Your Job, Move to Paradise and Do Whatever You Want the Rest of Your Life"
          ],
          [
           "Bitcoin Is Venice"
          ],
          [
           "How I Built a Net Worth of $500,000 Before Age 30"
          ],
          [
           "Nassim Nicholas Taleb on Self-Education and Doing the Math (Ep. 41  Live at Mercatus)"
          ],
          [
           "Public Mint Polkastarter IDO: Launching 23rd of February, Whitelist Now Open!"
          ],
          [
           "This is How I Made $40k In Passive Income By Age 26"
          ],
          [
           "Introducing The Iron Bank"
          ],
          [
           "I used Acorns, Robinhood, and Stash for 2 years. This is what I learned and earned."
          ],
          [
           "Explaining blockchain  how proof of work enables trustless consensus"
          ],
          [
           "Wealthfront:Silicon Valley Tech at Wall Street Prices"
          ],
          [
           "Crypto Trading Bots  A helpful guide for beginners [2020]"
          ],
          [
           "Why People Still Don't Get Cryptocurrency"
          ],
          [
           "Australia's Economy is a House of Cards"
          ],
          [
           "My First Two Months Trading Stocks with Robinhood"
          ],
          [
           "What It Takes to Go from $0 to $1 Million in Less Than One Year"
          ],
          [
           "Tesla Is Dead (And Elon Musk Knows It)"
          ],
          [
           "Uber's Credit Card Is Bankrupting Restaurants... and It's All Your Fault"
          ],
          [
           "A Quick Starter Guide to Leveraged Trading at BitMEX"
          ],
          [
           "I Made $3 Million in Crypto. These are the 26 Rules I Learned."
          ],
          [
           "The Black-Scholes formula, explained"
          ],
          [
           "You Will Never Be Rich If You Keep Doing These 10 things"
          ],
          [
           "Heroes Give, Superheroes Borrow"
          ],
          [
           "Could Bitcoin's Bull Market End Next Month?"
          ],
          [
           "The Exact Steps I Followed to Make $1,500+ of Passive Income Every Month"
          ],
          [
           "You May Have A Poor Person's Mindset And Not Know It"
          ],
          [
           "A Definitive Guide to Why Life Is So Terrible for Most Millennials"
          ],
          [
           "The Berkshire Hathaway of The Internet"
          ],
          [
           "How to invest in Bitcoin properly. Blockchain and other cryptocurrencies"
          ],
          [
           "Machine learning in finance: Why, what & how"
          ],
          [
           "Minimum Wage Artists"
          ],
          [
           "Richart + @GoGo "
          ],
          [
           "How to store Bitcoins and other cryptocurrencies properly."
          ],
          [
           "I was wrong about Ethereum"
          ],
          [
           "Deep Learning the Stock Market"
          ],
          [
           "Financial Fridays: It's Financial Suicide To Own A House"
          ],
          [
           "Gauge Theory Does Not Fix This"
          ],
          [
           "High Frequency Trading on the Coinbase Exchange"
          ],
          [
           "A $1000 Bitcoin Investment Won't Make You Rich"
          ],
          [
           "How To Legally Own Another Person"
          ],
          [
           "5 Things NOT to Do in the Robinhood App for Stock Trading"
          ],
          [
           "The One Word That Explains Why Economics Professors Are Not Billionaires"
          ],
          [
           "Building your credit history"
          ],
          [
           "I Retired at 35  Here Are 5 Lessons from My First 6 Months of Freedom"
          ],
          [
           "Why you should never use Upwork, ever."
          ],
          [
           "Facebook Can't Be Fixed."
          ],
          [
           "A comprehensive guide to downloading stock prices in Python"
          ],
          [
           "Detecting Credit Card Fraud Using Machine Learning"
          ],
          [
           "2018  & : KOKO COMBO icash "
          ],
          [
           "Is Wealthfront Worth it?"
          ],
          [
           "How I Slowly Became A \"Middle-Class\" Millionaire"
          ],
          [
           "SPY vs. QQQ: Investing in Different Indexes"
          ],
          [
           "I Won $104 Million for Blowing the Whistle on My CompanyBut Somehow I Was the Only One Who Went to Jail"
          ],
          [
           "Robinhood Lends \"Your\" Shares to Short Sellers (and Keeps All the Proceeds)"
          ],
          [
           "The Secret to Making 2000% in Stocks Overnight, the Anavex story."
          ],
          [
           "4 Unusual Side Hustles I Do to Earn an Extra $1,500 a Month"
          ],
          [
           "Meet 'Spoofy'. How a Single entity dominates the price of Bitcoin."
          ],
          [
           "How I Started Saving a TON of Money."
          ],
          [
           "How I transformed $6,000 to $3,000,000"
          ],
          [
           "Cliff Asness on Marvel vs. DC and Why Never to Share a Gym with Cirque du Soleil (Ep. 5  Live at Mason)"
          ],
          [
           "Paypal froze our funds, then offered us a business loan"
          ],
          [
           "A Visual Explanation of Algorithmic Stablecoins"
          ],
          [
           "Algorithmic Trading Bot: Python"
          ],
          [
           "Chernobyl's Blown Up Reactor 4 Just Woke Up"
          ],
          [
           "The Unexpected Case of the Disappearing Flu"
          ],
          [
           "The Diet & Workout Plan of a Full-Time Traveling Family  HIS"
          ],
          [
           "The Cult of Work You Never Meant to Join"
          ],
          [
           "5 Things to do in the First 24 Hours of a Cold or Flu"
          ],
          [
           "The Sweet Spot for Intermittent Fasting"
          ],
          [
           "The 6 Types of ICU Nurse"
          ],
          [
           "How to biohack your intelligence  with everything from sex to modafinil to MDMA"
          ],
          [
           "8 Common Arguments Against Vaccines"
          ],
          [
           "A Reasonably Detailed Guide to Optimizing Your iPhone for Productivity, Focus and Your Own Health"
          ],
          [
           "The cure for type 2 diabetes is known, but few are aware"
          ],
          [
           "Face mapping: how to deal with acne like a true detective"
          ],
          [
           "I'm 32 and spent $200k on biohacking. Became calmer, thinner, extroverted, healthier & happier."
          ],
          [
           "I need more iron"
          ],
          [
           "What I Learned From Quitting Coffee After 15 Years Of Daily Consumption"
          ],
          [
           "The forgotten art of untucking the tail"
          ],
          [
           "Hip Replacement Isn't What It Used To Be 12 Weeks Ago"
          ],
          [
           "Coronavirus: Why You Must Act Now"
          ],
          [
           "Manufacturers have been using nanotechnology-derived graphene in face masks  now there are safety concerns"
          ],
          [
           "Eben Byers: The Man Who Drank Radioactive Water Until His Jaw Fell Off"
          ],
          [
           "My Intermittent Fasting Lifestyle: How I Dropped 50 Pounds"
          ],
          [
           "I Stopped Drinking for 30 Days. Here's What Happened."
          ],
          [
           "How to lose 10+ pounds of fat a month- even if you have a slow metabolism"
          ],
          [
           "If You're Buying Your Weed Solely Based on the THC Level, You're Doing it Wrong."
          ],
          [
           "2016 Is Not Killing People"
          ],
          [
           "How I Learned to Sleep Only Three Hours Per Night (and Why You Should Too)"
          ],
          [
           "I fasted for 11 days, here is what happened."
          ],
          [
           "Coronavirus: The Hammer and the Dance"
          ],
          [
           "What Happens in Your Body When You Quit Drinking"
          ],
          [
           "The Science Behind Fat Metabolism"
          ],
          [
           "The Easiest Way to Lose 125 Pounds Is to Gain 175 Pounds"
          ],
          [
           "7 things I did to reboot my life."
          ],
          [
           "How I lost 10kg in 60 days: My 7-step weight loss plan"
          ],
          [
           "The Foo Fighters' AIDS denialism should be on the record"
          ],
          [
           "The Uncut History of Male Circumcision"
          ],
          [
           "10 Things You Can Do This Morning To Heal Your Anxiety"
          ],
          [
           "I just lost 100 pounds. Here's whyalmost nobody else will!"
          ],
          [
           "Type 2 Diabetes Reversal  The Quick Start Guide"
          ],
          [
           "How a 22 Day Water Fast Changed My Life"
          ],
          [
           "Breaking Your Fast"
          ],
          [
           "11 Unusual Tips for How to Wake Up Early"
          ],
          [
           "The 3 Biggest Mistakes Women Make On The Ketogenic Diet (And How To Fix Them)"
          ]
         ],
         "hovertemplate": "C1=%{x}<br>C2=%{y}<br>TITLE=%{customdata[0]}<extra></extra>",
         "legendgroup": "",
         "marker": {
          "color": "#636efa",
          "symbol": "circle"
         },
         "mode": "markers",
         "name": "",
         "orientation": "v",
         "showlegend": false,
         "type": "scatter",
         "x": [
          -12.067215919494629,
          -17.839004516601562,
          -10.517477035522461,
          -14.219508171081543,
          -6.758779525756836,
          -18.109952926635742,
          0.2179352045059204,
          -5.887252330780029,
          4.169337749481201,
          -3.697871685028076,
          -7.995262622833252,
          -9.477587699890137,
          -5.450188159942627,
          -2.1941702365875244,
          -7.980839729309082,
          -4.602885723114014,
          -7.974574089050293,
          0.13081693649291992,
          -13.886263847351074,
          -12.820677757263184,
          -9.0910062789917,
          -15.373682975769043,
          4.347010135650635,
          -5.605717658996582,
          -9.587274551391602,
          -10.20589828491211,
          -13.63004207611084,
          -5.9454569816589355,
          3.4645164012908936,
          -0.7814197540283203,
          0.2563185691833496,
          -6.996102333068848,
          -2.1065900325775146,
          -1.6675292253494263,
          -1.4765135049819946,
          10.694619178771973,
          -0.09919729828834534,
          -11.363801956176758,
          9.57440185546875,
          8.718035697937012,
          -14.894915580749512,
          -0.36454910039901733,
          5.16887092590332,
          -6.089982509613037,
          -9.096861839294434,
          -6.064904689788818,
          -1.1076902151107788,
          -6.040406703948975,
          -4.097781658172607,
          -14.160276412963867,
          -10.652174949645996,
          9.373844146728516,
          -9.883421897888184,
          0.02355019375681877,
          -11.259247779846191,
          -9.623923301696777,
          -2.0975773334503174,
          -13.438140869140625,
          -19.464750289916992,
          -15.497000694274902,
          -16.792274475097656,
          -2.721959114074707,
          -2.641969680786133,
          -19.232255935668945,
          -12.495463371276855,
          -17.69244384765625,
          1.5026406049728394,
          -14.217053413391113,
          0.0714288204908371,
          -2.0480668544769287,
          -3.059682607650757,
          -0.9737303256988525,
          9.789413452148438,
          -10.362617492675781,
          -7.3838210105896,
          -13.951301574707031,
          -15.977675437927246,
          -8.913490295410156,
          -1.6112192869186401,
          -0.1537042111158371,
          -3.7533352375030518,
          -10.267837524414062,
          0.8870705962181091,
          -5.36676549911499,
          -14.44853401184082,
          -2.638198137283325,
          -3.1242666244506836,
          -10.901494026184082,
          -7.142187118530273,
          4.522563934326172,
          4.3861284255981445,
          4.856471538543701,
          4.605720520019531,
          -12.625946998596191,
          -3.15204119682312,
          3.6916983127593994,
          -10.022676467895508,
          -2.6644070148468018,
          -13.649336814880371,
          0.9917393326759338,
          -17.369691848754883,
          -1.0911966562271118,
          -3.521632671356201,
          -15.596312522888184,
          1.9956059455871582,
          4.562440395355225,
          4.187188625335693,
          2.3095145225524902,
          5.688368797302246,
          0.13206703960895538,
          8.948744773864746,
          -2.9339888095855713,
          2.351634979248047,
          -0.8642390966415405,
          1.100819706916809,
          3.998114585876465,
          1.1233588457107544,
          -3.9000747203826904,
          -1.172601342201233,
          -6.424022197723389,
          -2.300694465637207,
          1.4090782403945923,
          2.4158706665039062,
          -5.074012756347656,
          3.8784804344177246,
          -1.4795539379119873,
          3.924931287765503,
          5.6486592292785645,
          4.44146728515625,
          2.9457452297210693,
          -0.579143226146698,
          5.433969020843506,
          -3.0285439491271973,
          4.0078511238098145,
          10.05795669555664,
          6.388516426086426,
          4.243674278259277,
          -6.387766361236572,
          1.7155044078826904,
          5.34409236907959,
          1.1443397998809814,
          4.004758358001709,
          2.2077813148498535,
          -4.170623779296875,
          5.49594259262085,
          -5.581636905670166,
          4.675837516784668,
          0.1985134482383728,
          -2.4687836170196533,
          -7.250119209289551,
          -12.001846313476562,
          10.239974021911621,
          -0.24146638810634613,
          2.934673309326172,
          -1.8211121559143066,
          0.5160753130912781,
          -4.724435806274414,
          -4.12968111038208,
          1.9567326307296753,
          2.3458564281463623,
          -0.6532118320465088,
          -4.632328987121582,
          1.168785572052002,
          -5.535054683685303,
          7.92962646484375,
          -6.840477466583252,
          -6.116149425506592,
          8.835029602050781,
          14.916097640991211,
          10.413043022155762,
          9.973661422729492,
          18.480566024780273,
          10.399039268493652,
          11.392489433288574,
          6.576081275939941,
          9.637234687805176,
          17.12230682373047,
          2.1841421127319336,
          12.208145141601562,
          9.729717254638672,
          17.34238624572754,
          14.609495162963867,
          11.311422348022461,
          7.699294567108154,
          -5.563687324523926,
          12.733461380004883,
          14.936768531799316,
          16.905803680419922,
          15.605743408203125,
          9.246776580810547,
          13.177094459533691,
          10.017988204956055,
          13.319644927978516,
          7.847530841827393,
          16.848819732666016,
          17.55817413330078,
          12.739538192749023,
          11.739580154418945,
          15.285175323486328,
          12.736228942871094,
          11.838152885437012,
          8.833091735839844,
          14.032418251037598,
          17.30280876159668,
          14.304267883300781,
          15.25719928741455,
          9.429004669189453,
          17.9324893951416
         ],
         "xaxis": "x",
         "y": [
          6.955958843231201,
          7.09788703918457,
          12.543917655944824,
          3.9244284629821777,
          7.6759772300720215,
          13.66639518737793,
          6.153759956359863,
          8.84129524230957,
          7.766606330871582,
          14.532711029052734,
          4.569331645965576,
          8.423972129821777,
          15.203409194946289,
          2.619870901107788,
          12.717777252197266,
          10.728333473205566,
          9.542154312133789,
          7.961007118225098,
          13.319485664367676,
          9.63288688659668,
          17.62872314453125,
          10.230525970458984,
          -0.949211835861206,
          13.526214599609375,
          11.103677749633789,
          2.4149985313415527,
          11.376885414123535,
          8.287422180175781,
          7.212565898895264,
          3.3993446826934814,
          14.659585952758789,
          3.421806812286377,
          0.8713603019714355,
          14.747150421142578,
          16.41581153869629,
          7.738557815551758,
          1.1549010276794434,
          15.740832328796387,
          9.381098747253418,
          8.071245193481445,
          6.245058059692383,
          -0.3569847047328949,
          8.85590648651123,
          -9.862377166748047,
          13.61009407043457,
          15.525650978088379,
          16.25020408630371,
          10.10214900970459,
          17.50538444519043,
          3.457862138748169,
          5.510473251342773,
          7.926371097564697,
          12.869635581970215,
          5.965089321136475,
          7.89710807800293,
          6.902844429016113,
          -0.26778435707092285,
          8.069687843322754,
          10.422430038452148,
          4.64490270614624,
          4.527688503265381,
          14.223624229431152,
          16.150405883789062,
          10.761388778686523,
          -0.8235202431678772,
          12.612604141235352,
          0.6645602583885193,
          2.8307127952575684,
          4.139086723327637,
          1.2118977308273315,
          13.02400016784668,
          2.122495651245117,
          9.247523307800293,
          6.608807563781738,
          11.002585411071777,
          13.531871795654297,
          6.620298385620117,
          0.4778929650783539,
          4.830451011657715,
          8.579833030700684,
          2.8708090782165527,
          4.94618034362793,
          3.5202698707580566,
          9.136085510253906,
          7.363044261932373,
          10.324322700500488,
          10.438623428344727,
          16.182594299316406,
          3.582628011703491,
          2.2423572540283203,
          -0.9658510088920593,
          2.647700071334839,
          7.548182964324951,
          -1.028931975364685,
          0.614233672618866,
          10.00384521484375,
          2.117220163345337,
          5.676833152770996,
          8.37492561340332,
          2.859724760055542,
          12.26867961883545,
          12.858887672424316,
          15.967170715332031,
          9.378445625305176,
          -13.13256549835205,
          -14.666980743408203,
          -7.369336128234863,
          -11.598348617553711,
          -18.852937698364258,
          -10.387911796569824,
          -18.269285202026367,
          -12.748844146728516,
          -3.0293469429016113,
          -9.83903694152832,
          -18.965669631958008,
          -11.25350570678711,
          -8.35921859741211,
          -13.131175994873047,
          -4.907845973968506,
          -12.179932594299316,
          -7.483471870422363,
          -15.424004554748535,
          -14.945449829101562,
          -9.158620834350586,
          -8.973824501037598,
          -16.015626907348633,
          -15.662515640258789,
          -7.831081390380859,
          -10.375064849853516,
          -6.883060932159424,
          -13.144105911254883,
          -15.084511756896973,
          4.573319435119629,
          -5.622775554656982,
          1.711887001991272,
          -15.533699035644531,
          -17.443161010742188,
          11.063014030456543,
          -8.348094940185547,
          -13.233633041381836,
          -18.882219314575195,
          -15.207308769226074,
          -10.38963508605957,
          -12.782118797302246,
          -10.657459259033203,
          -17.873897552490234,
          -8.858626365661621,
          -3.631633758544922,
          -15.383519172668457,
          -10.877017974853516,
          4.171489238739014,
          2.1817543506622314,
          -11.168437004089355,
          -8.224615097045898,
          -10.816807746887207,
          -6.828835964202881,
          -14.034523010253906,
          -10.80111312866211,
          -5.250874042510986,
          -16.632465362548828,
          -8.050618171691895,
          -11.639161109924316,
          -11.56567668914795,
          -17.64017677307129,
          -18.343109130859375,
          -9.602540969848633,
          -4.108600616455078,
          -2.3206357955932617,
          -6.917280673980713,
          -6.959959983825684,
          -2.6730005741119385,
          -9.61330509185791,
          -9.588509559631348,
          -5.542825698852539,
          -4.3423075675964355,
          0.5878590941429138,
          -9.32487678527832,
          14.56281566619873,
          -5.473827838897705,
          -18.104154586791992,
          -3.2196550369262695,
          -5.7843852043151855,
          -9.678342819213867,
          -3.1593613624572754,
          -3.5348939895629883,
          -11.679926872253418,
          -10.00717830657959,
          -4.056398391723633,
          -8.479252815246582,
          -11.973210334777832,
          -1.6722389459609985,
          -6.189119815826416,
          -10.423882484436035,
          -3.158557653427124,
          -4.686779975891113,
          -8.077678680419922,
          -7.9697675704956055,
          -7.614438056945801,
          -7.693029880523682,
          -1.9067094326019287,
          -3.568930149078369,
          -7.8445658683776855,
          -7.753168106079102,
          -10.70956802368164,
          -10.424823760986328,
          -10.777300834655762,
          -7.387866497039795,
          -7.73876953125
         ],
         "yaxis": "y"
        }
       ],
       "layout": {
        "legend": {
         "tracegroupgap": 0
        },
        "template": {
         "data": {
          "bar": [
           {
            "error_x": {
             "color": "#2a3f5f"
            },
            "error_y": {
             "color": "#2a3f5f"
            },
            "marker": {
             "line": {
              "color": "#E5ECF6",
              "width": 0.5
             },
             "pattern": {
              "fillmode": "overlay",
              "size": 10,
              "solidity": 0.2
             }
            },
            "type": "bar"
           }
          ],
          "barpolar": [
           {
            "marker": {
             "line": {
              "color": "#E5ECF6",
              "width": 0.5
             },
             "pattern": {
              "fillmode": "overlay",
              "size": 10,
              "solidity": 0.2
             }
            },
            "type": "barpolar"
           }
          ],
          "carpet": [
           {
            "aaxis": {
             "endlinecolor": "#2a3f5f",
             "gridcolor": "white",
             "linecolor": "white",
             "minorgridcolor": "white",
             "startlinecolor": "#2a3f5f"
            },
            "baxis": {
             "endlinecolor": "#2a3f5f",
             "gridcolor": "white",
             "linecolor": "white",
             "minorgridcolor": "white",
             "startlinecolor": "#2a3f5f"
            },
            "type": "carpet"
           }
          ],
          "choropleth": [
           {
            "colorbar": {
             "outlinewidth": 0,
             "ticks": ""
            },
            "type": "choropleth"
           }
          ],
          "contour": [
           {
            "colorbar": {
             "outlinewidth": 0,
             "ticks": ""
            },
            "colorscale": [
             [
              0,
              "#0d0887"
             ],
             [
              0.1111111111111111,
              "#46039f"
             ],
             [
              0.2222222222222222,
              "#7201a8"
             ],
             [
              0.3333333333333333,
              "#9c179e"
             ],
             [
              0.4444444444444444,
              "#bd3786"
             ],
             [
              0.5555555555555556,
              "#d8576b"
             ],
             [
              0.6666666666666666,
              "#ed7953"
             ],
             [
              0.7777777777777778,
              "#fb9f3a"
             ],
             [
              0.8888888888888888,
              "#fdca26"
             ],
             [
              1,
              "#f0f921"
             ]
            ],
            "type": "contour"
           }
          ],
          "contourcarpet": [
           {
            "colorbar": {
             "outlinewidth": 0,
             "ticks": ""
            },
            "type": "contourcarpet"
           }
          ],
          "heatmap": [
           {
            "colorbar": {
             "outlinewidth": 0,
             "ticks": ""
            },
            "colorscale": [
             [
              0,
              "#0d0887"
             ],
             [
              0.1111111111111111,
              "#46039f"
             ],
             [
              0.2222222222222222,
              "#7201a8"
             ],
             [
              0.3333333333333333,
              "#9c179e"
             ],
             [
              0.4444444444444444,
              "#bd3786"
             ],
             [
              0.5555555555555556,
              "#d8576b"
             ],
             [
              0.6666666666666666,
              "#ed7953"
             ],
             [
              0.7777777777777778,
              "#fb9f3a"
             ],
             [
              0.8888888888888888,
              "#fdca26"
             ],
             [
              1,
              "#f0f921"
             ]
            ],
            "type": "heatmap"
           }
          ],
          "heatmapgl": [
           {
            "colorbar": {
             "outlinewidth": 0,
             "ticks": ""
            },
            "colorscale": [
             [
              0,
              "#0d0887"
             ],
             [
              0.1111111111111111,
              "#46039f"
             ],
             [
              0.2222222222222222,
              "#7201a8"
             ],
             [
              0.3333333333333333,
              "#9c179e"
             ],
             [
              0.4444444444444444,
              "#bd3786"
             ],
             [
              0.5555555555555556,
              "#d8576b"
             ],
             [
              0.6666666666666666,
              "#ed7953"
             ],
             [
              0.7777777777777778,
              "#fb9f3a"
             ],
             [
              0.8888888888888888,
              "#fdca26"
             ],
             [
              1,
              "#f0f921"
             ]
            ],
            "type": "heatmapgl"
           }
          ],
          "histogram": [
           {
            "marker": {
             "pattern": {
              "fillmode": "overlay",
              "size": 10,
              "solidity": 0.2
             }
            },
            "type": "histogram"
           }
          ],
          "histogram2d": [
           {
            "colorbar": {
             "outlinewidth": 0,
             "ticks": ""
            },
            "colorscale": [
             [
              0,
              "#0d0887"
             ],
             [
              0.1111111111111111,
              "#46039f"
             ],
             [
              0.2222222222222222,
              "#7201a8"
             ],
             [
              0.3333333333333333,
              "#9c179e"
             ],
             [
              0.4444444444444444,
              "#bd3786"
             ],
             [
              0.5555555555555556,
              "#d8576b"
             ],
             [
              0.6666666666666666,
              "#ed7953"
             ],
             [
              0.7777777777777778,
              "#fb9f3a"
             ],
             [
              0.8888888888888888,
              "#fdca26"
             ],
             [
              1,
              "#f0f921"
             ]
            ],
            "type": "histogram2d"
           }
          ],
          "histogram2dcontour": [
           {
            "colorbar": {
             "outlinewidth": 0,
             "ticks": ""
            },
            "colorscale": [
             [
              0,
              "#0d0887"
             ],
             [
              0.1111111111111111,
              "#46039f"
             ],
             [
              0.2222222222222222,
              "#7201a8"
             ],
             [
              0.3333333333333333,
              "#9c179e"
             ],
             [
              0.4444444444444444,
              "#bd3786"
             ],
             [
              0.5555555555555556,
              "#d8576b"
             ],
             [
              0.6666666666666666,
              "#ed7953"
             ],
             [
              0.7777777777777778,
              "#fb9f3a"
             ],
             [
              0.8888888888888888,
              "#fdca26"
             ],
             [
              1,
              "#f0f921"
             ]
            ],
            "type": "histogram2dcontour"
           }
          ],
          "mesh3d": [
           {
            "colorbar": {
             "outlinewidth": 0,
             "ticks": ""
            },
            "type": "mesh3d"
           }
          ],
          "parcoords": [
           {
            "line": {
             "colorbar": {
              "outlinewidth": 0,
              "ticks": ""
             }
            },
            "type": "parcoords"
           }
          ],
          "pie": [
           {
            "automargin": true,
            "type": "pie"
           }
          ],
          "scatter": [
           {
            "fillpattern": {
             "fillmode": "overlay",
             "size": 10,
             "solidity": 0.2
            },
            "type": "scatter"
           }
          ],
          "scatter3d": [
           {
            "line": {
             "colorbar": {
              "outlinewidth": 0,
              "ticks": ""
             }
            },
            "marker": {
             "colorbar": {
              "outlinewidth": 0,
              "ticks": ""
             }
            },
            "type": "scatter3d"
           }
          ],
          "scattercarpet": [
           {
            "marker": {
             "colorbar": {
              "outlinewidth": 0,
              "ticks": ""
             }
            },
            "type": "scattercarpet"
           }
          ],
          "scattergeo": [
           {
            "marker": {
             "colorbar": {
              "outlinewidth": 0,
              "ticks": ""
             }
            },
            "type": "scattergeo"
           }
          ],
          "scattergl": [
           {
            "marker": {
             "colorbar": {
              "outlinewidth": 0,
              "ticks": ""
             }
            },
            "type": "scattergl"
           }
          ],
          "scattermapbox": [
           {
            "marker": {
             "colorbar": {
              "outlinewidth": 0,
              "ticks": ""
             }
            },
            "type": "scattermapbox"
           }
          ],
          "scatterpolar": [
           {
            "marker": {
             "colorbar": {
              "outlinewidth": 0,
              "ticks": ""
             }
            },
            "type": "scatterpolar"
           }
          ],
          "scatterpolargl": [
           {
            "marker": {
             "colorbar": {
              "outlinewidth": 0,
              "ticks": ""
             }
            },
            "type": "scatterpolargl"
           }
          ],
          "scatterternary": [
           {
            "marker": {
             "colorbar": {
              "outlinewidth": 0,
              "ticks": ""
             }
            },
            "type": "scatterternary"
           }
          ],
          "surface": [
           {
            "colorbar": {
             "outlinewidth": 0,
             "ticks": ""
            },
            "colorscale": [
             [
              0,
              "#0d0887"
             ],
             [
              0.1111111111111111,
              "#46039f"
             ],
             [
              0.2222222222222222,
              "#7201a8"
             ],
             [
              0.3333333333333333,
              "#9c179e"
             ],
             [
              0.4444444444444444,
              "#bd3786"
             ],
             [
              0.5555555555555556,
              "#d8576b"
             ],
             [
              0.6666666666666666,
              "#ed7953"
             ],
             [
              0.7777777777777778,
              "#fb9f3a"
             ],
             [
              0.8888888888888888,
              "#fdca26"
             ],
             [
              1,
              "#f0f921"
             ]
            ],
            "type": "surface"
           }
          ],
          "table": [
           {
            "cells": {
             "fill": {
              "color": "#EBF0F8"
             },
             "line": {
              "color": "white"
             }
            },
            "header": {
             "fill": {
              "color": "#C8D4E3"
             },
             "line": {
              "color": "white"
             }
            },
            "type": "table"
           }
          ]
         },
         "layout": {
          "annotationdefaults": {
           "arrowcolor": "#2a3f5f",
           "arrowhead": 0,
           "arrowwidth": 1
          },
          "autotypenumbers": "strict",
          "coloraxis": {
           "colorbar": {
            "outlinewidth": 0,
            "ticks": ""
           }
          },
          "colorscale": {
           "diverging": [
            [
             0,
             "#8e0152"
            ],
            [
             0.1,
             "#c51b7d"
            ],
            [
             0.2,
             "#de77ae"
            ],
            [
             0.3,
             "#f1b6da"
            ],
            [
             0.4,
             "#fde0ef"
            ],
            [
             0.5,
             "#f7f7f7"
            ],
            [
             0.6,
             "#e6f5d0"
            ],
            [
             0.7,
             "#b8e186"
            ],
            [
             0.8,
             "#7fbc41"
            ],
            [
             0.9,
             "#4d9221"
            ],
            [
             1,
             "#276419"
            ]
           ],
           "sequential": [
            [
             0,
             "#0d0887"
            ],
            [
             0.1111111111111111,
             "#46039f"
            ],
            [
             0.2222222222222222,
             "#7201a8"
            ],
            [
             0.3333333333333333,
             "#9c179e"
            ],
            [
             0.4444444444444444,
             "#bd3786"
            ],
            [
             0.5555555555555556,
             "#d8576b"
            ],
            [
             0.6666666666666666,
             "#ed7953"
            ],
            [
             0.7777777777777778,
             "#fb9f3a"
            ],
            [
             0.8888888888888888,
             "#fdca26"
            ],
            [
             1,
             "#f0f921"
            ]
           ],
           "sequentialminus": [
            [
             0,
             "#0d0887"
            ],
            [
             0.1111111111111111,
             "#46039f"
            ],
            [
             0.2222222222222222,
             "#7201a8"
            ],
            [
             0.3333333333333333,
             "#9c179e"
            ],
            [
             0.4444444444444444,
             "#bd3786"
            ],
            [
             0.5555555555555556,
             "#d8576b"
            ],
            [
             0.6666666666666666,
             "#ed7953"
            ],
            [
             0.7777777777777778,
             "#fb9f3a"
            ],
            [
             0.8888888888888888,
             "#fdca26"
            ],
            [
             1,
             "#f0f921"
            ]
           ]
          },
          "colorway": [
           "#636efa",
           "#EF553B",
           "#00cc96",
           "#ab63fa",
           "#FFA15A",
           "#19d3f3",
           "#FF6692",
           "#B6E880",
           "#FF97FF",
           "#FECB52"
          ],
          "font": {
           "color": "#2a3f5f"
          },
          "geo": {
           "bgcolor": "white",
           "lakecolor": "white",
           "landcolor": "#E5ECF6",
           "showlakes": true,
           "showland": true,
           "subunitcolor": "white"
          },
          "hoverlabel": {
           "align": "left"
          },
          "hovermode": "closest",
          "mapbox": {
           "style": "light"
          },
          "paper_bgcolor": "white",
          "plot_bgcolor": "#E5ECF6",
          "polar": {
           "angularaxis": {
            "gridcolor": "white",
            "linecolor": "white",
            "ticks": ""
           },
           "bgcolor": "#E5ECF6",
           "radialaxis": {
            "gridcolor": "white",
            "linecolor": "white",
            "ticks": ""
           }
          },
          "scene": {
           "xaxis": {
            "backgroundcolor": "#E5ECF6",
            "gridcolor": "white",
            "gridwidth": 2,
            "linecolor": "white",
            "showbackground": true,
            "ticks": "",
            "zerolinecolor": "white"
           },
           "yaxis": {
            "backgroundcolor": "#E5ECF6",
            "gridcolor": "white",
            "gridwidth": 2,
            "linecolor": "white",
            "showbackground": true,
            "ticks": "",
            "zerolinecolor": "white"
           },
           "zaxis": {
            "backgroundcolor": "#E5ECF6",
            "gridcolor": "white",
            "gridwidth": 2,
            "linecolor": "white",
            "showbackground": true,
            "ticks": "",
            "zerolinecolor": "white"
           }
          },
          "shapedefaults": {
           "line": {
            "color": "#2a3f5f"
           }
          },
          "ternary": {
           "aaxis": {
            "gridcolor": "white",
            "linecolor": "white",
            "ticks": ""
           },
           "baxis": {
            "gridcolor": "white",
            "linecolor": "white",
            "ticks": ""
           },
           "bgcolor": "#E5ECF6",
           "caxis": {
            "gridcolor": "white",
            "linecolor": "white",
            "ticks": ""
           }
          },
          "title": {
           "x": 0.05
          },
          "xaxis": {
           "automargin": true,
           "gridcolor": "white",
           "linecolor": "white",
           "ticks": "",
           "title": {
            "standoff": 15
           },
           "zerolinecolor": "white",
           "zerolinewidth": 2
          },
          "yaxis": {
           "automargin": true,
           "gridcolor": "white",
           "linecolor": "white",
           "ticks": "",
           "title": {
            "standoff": 15
           },
           "zerolinecolor": "white",
           "zerolinewidth": 2
          }
         }
        },
        "title": {
         "text": "T-distributed Stochastic Neighbor Embedding for TFIDF document representation"
        },
        "xaxis": {
         "anchor": "y",
         "domain": [
          0,
          1
         ],
         "title": {
          "text": "C1"
         }
        },
        "yaxis": {
         "anchor": "x",
         "domain": [
          0,
          1
         ],
         "title": {
          "text": "C2"
         }
        }
       }
      }
     },
     "metadata": {},
     "output_type": "display_data"
    }
   ],
   "source": [
    "title = \"T-distributed Stochastic Neighbor Embedding for TFIDF document representation\"\n",
    "fig = px.scatter(tsne_tfidf_features_df, x=\"C1\", y=\"C2\", hover_data=['TITLE'], title=title)\n",
    "fig.show()"
   ]
  },
  {
   "cell_type": "code",
   "execution_count": 26,
   "metadata": {},
   "outputs": [
    {
     "name": "stdout",
     "output_type": "stream",
     "text": [
      "Reference Article : 17 types of similarity and dissimilarity measures used in data science.\n",
      "**** Similar Articles ****\n",
      "9 Distance Measures in Data Science\n",
      "17 Clustering Algorithms Used In Data Science and Mining\n",
      "Machine Learning Basics with the K-Nearest Neighbors Algorithm\n",
      "OVER 100 Data Scientist Interview Questions and Answers!\n",
      "Fundamental Techniques of Feature Engineering for Machine Learning\n",
      "\n",
      "Reference Article : TensorFlow Tutorial Part 1\n",
      "**** Similar Articles ****\n",
      "How to go from a Python newbie to a Google Certified TensorFlow Developer under two months\n",
      "Enchanted Random Forest\n",
      "Building RNN, LSTM, and GRU for time series using PyTorch\n",
      "PCA using Python (scikit-learn)\n",
      "Yes you should understand backprop\n",
      "\n",
      "Reference Article : The One Word That Explains Why Economics Professors Are Not Billionaires\n",
      "**** Similar Articles ****\n",
      "You Will Never Be Rich If You Keep Doing These 10 things\n",
      "Why People Still Don't Get Cryptocurrency\n",
      "You May Have A Poor Person's Mindset And Not Know It\n",
      "How I transformed $6,000 to $3,000,000\n",
      "4 Reasons Why Economists Make Great Data Scientists (And Why No One Tells Them)\n",
      "\n",
      "Reference Article : How I lost 10kg in 60 days: My 7-step weight loss plan\n",
      "**** Similar Articles ****\n",
      "How to lose 10+ pounds of fat a month- even if you have a slow metabolism\n",
      "10 Things You Can Do This Morning To Heal Your Anxiety\n",
      "The Diet & Workout Plan of a Full-Time Traveling Family  HIS\n",
      "The Science Behind Fat Metabolism\n",
      "The cure for type 2 diabetes is known, but few are aware\n",
      "\n"
     ]
    }
   ],
   "source": [
    "# Let us check top 5 similar articles for some of the articles in our corpus\n",
    "get_similar_documents(tfidf_features_df, 90, tfidf_vectorizer.get_feature_names_out())\n",
    "get_similar_documents(tfidf_features_df, 80, tfidf_vectorizer.get_feature_names_out())\n",
    "get_similar_documents(tfidf_features_df, 150, tfidf_vectorizer.get_feature_names_out())\n",
    "get_similar_documents(tfidf_features_df, 205, tfidf_vectorizer.get_feature_names_out())"
   ]
  },
  {
   "cell_type": "code",
   "execution_count": 34,
   "metadata": {},
   "outputs": [
    {
     "data": {
      "text/html": [
       "<div>\n",
       "<style scoped>\n",
       "    .dataframe tbody tr th:only-of-type {\n",
       "        vertical-align: middle;\n",
       "    }\n",
       "\n",
       "    .dataframe tbody tr th {\n",
       "        vertical-align: top;\n",
       "    }\n",
       "\n",
       "    .dataframe thead th {\n",
       "        text-align: right;\n",
       "    }\n",
       "</style>\n",
       "<table border=\"1\" class=\"dataframe\">\n",
       "  <thead>\n",
       "    <tr style=\"text-align: right;\">\n",
       "      <th></th>\n",
       "      <th>c1</th>\n",
       "      <th>TITLE</th>\n",
       "    </tr>\n",
       "  </thead>\n",
       "  <tbody>\n",
       "    <tr>\n",
       "      <th>0</th>\n",
       "      <td>-3.966168</td>\n",
       "      <td>Ensemble methods: bagging, boosting and stacking</td>\n",
       "    </tr>\n",
       "    <tr>\n",
       "      <th>1</th>\n",
       "      <td>-4.459558</td>\n",
       "      <td>Understanding AUC - ROC Curve</td>\n",
       "    </tr>\n",
       "    <tr>\n",
       "      <th>2</th>\n",
       "      <td>-0.200300</td>\n",
       "      <td>How to work with object detection datasets in ...</td>\n",
       "    </tr>\n",
       "    <tr>\n",
       "      <th>3</th>\n",
       "      <td>-4.826541</td>\n",
       "      <td>11 Dimensionality reduction techniques you sho...</td>\n",
       "    </tr>\n",
       "    <tr>\n",
       "      <th>4</th>\n",
       "      <td>1.870220</td>\n",
       "      <td>The Time Series Transformer</td>\n",
       "    </tr>\n",
       "    <tr>\n",
       "      <th>...</th>\n",
       "      <td>...</td>\n",
       "      <td>...</td>\n",
       "    </tr>\n",
       "    <tr>\n",
       "      <th>203</th>\n",
       "      <td>-11.557941</td>\n",
       "      <td>Type 2 Diabetes Reversal  The Quick Start Guide</td>\n",
       "    </tr>\n",
       "    <tr>\n",
       "      <th>204</th>\n",
       "      <td>-10.707207</td>\n",
       "      <td>How a 22 Day Water Fast Changed My Life</td>\n",
       "    </tr>\n",
       "    <tr>\n",
       "      <th>205</th>\n",
       "      <td>-10.905888</td>\n",
       "      <td>Breaking Your Fast</td>\n",
       "    </tr>\n",
       "    <tr>\n",
       "      <th>206</th>\n",
       "      <td>4.180761</td>\n",
       "      <td>11 Unusual Tips for How to Wake Up Early</td>\n",
       "    </tr>\n",
       "    <tr>\n",
       "      <th>207</th>\n",
       "      <td>-11.485965</td>\n",
       "      <td>The 3 Biggest Mistakes Women Make On The Ketog...</td>\n",
       "    </tr>\n",
       "  </tbody>\n",
       "</table>\n",
       "<p>208 rows × 2 columns</p>\n",
       "</div>"
      ],
      "text/plain": [
       "            c1                                              TITLE\n",
       "0    -3.966168   Ensemble methods: bagging, boosting and stacking\n",
       "1    -4.459558                      Understanding AUC - ROC Curve\n",
       "2    -0.200300  How to work with object detection datasets in ...\n",
       "3    -4.826541  11 Dimensionality reduction techniques you sho...\n",
       "4     1.870220                        The Time Series Transformer\n",
       "..         ...                                                ...\n",
       "203 -11.557941    Type 2 Diabetes Reversal  The Quick Start Guide\n",
       "204 -10.707207            How a 22 Day Water Fast Changed My Life\n",
       "205 -10.905888                                 Breaking Your Fast\n",
       "206   4.180761           11 Unusual Tips for How to Wake Up Early\n",
       "207 -11.485965  The 3 Biggest Mistakes Women Make On The Ketog...\n",
       "\n",
       "[208 rows x 2 columns]"
      ]
     },
     "metadata": {},
     "output_type": "display_data"
    },
    {
     "data": {
      "text/html": [
       "<div>\n",
       "<style scoped>\n",
       "    .dataframe tbody tr th:only-of-type {\n",
       "        vertical-align: middle;\n",
       "    }\n",
       "\n",
       "    .dataframe tbody tr th {\n",
       "        vertical-align: top;\n",
       "    }\n",
       "\n",
       "    .dataframe thead th {\n",
       "        text-align: right;\n",
       "    }\n",
       "</style>\n",
       "<table border=\"1\" class=\"dataframe\">\n",
       "  <thead>\n",
       "    <tr style=\"text-align: right;\">\n",
       "      <th></th>\n",
       "      <th>c1</th>\n",
       "      <th>c2</th>\n",
       "      <th>TITLE</th>\n",
       "    </tr>\n",
       "  </thead>\n",
       "  <tbody>\n",
       "    <tr>\n",
       "      <th>0</th>\n",
       "      <td>-11.753958</td>\n",
       "      <td>-6.265234</td>\n",
       "      <td>Ensemble methods: bagging, boosting and stacking</td>\n",
       "    </tr>\n",
       "    <tr>\n",
       "      <th>1</th>\n",
       "      <td>-11.916732</td>\n",
       "      <td>-9.842438</td>\n",
       "      <td>Understanding AUC - ROC Curve</td>\n",
       "    </tr>\n",
       "    <tr>\n",
       "      <th>2</th>\n",
       "      <td>-9.778111</td>\n",
       "      <td>-11.529096</td>\n",
       "      <td>How to work with object detection datasets in ...</td>\n",
       "    </tr>\n",
       "    <tr>\n",
       "      <th>3</th>\n",
       "      <td>-15.446827</td>\n",
       "      <td>-4.259702</td>\n",
       "      <td>11 Dimensionality reduction techniques you sho...</td>\n",
       "    </tr>\n",
       "    <tr>\n",
       "      <th>4</th>\n",
       "      <td>1.644326</td>\n",
       "      <td>-12.237198</td>\n",
       "      <td>The Time Series Transformer</td>\n",
       "    </tr>\n",
       "    <tr>\n",
       "      <th>...</th>\n",
       "      <td>...</td>\n",
       "      <td>...</td>\n",
       "      <td>...</td>\n",
       "    </tr>\n",
       "    <tr>\n",
       "      <th>203</th>\n",
       "      <td>0.381288</td>\n",
       "      <td>18.360159</td>\n",
       "      <td>Type 2 Diabetes Reversal  The Quick Start Guide</td>\n",
       "    </tr>\n",
       "    <tr>\n",
       "      <th>204</th>\n",
       "      <td>2.657346</td>\n",
       "      <td>16.438616</td>\n",
       "      <td>How a 22 Day Water Fast Changed My Life</td>\n",
       "    </tr>\n",
       "    <tr>\n",
       "      <th>205</th>\n",
       "      <td>2.114476</td>\n",
       "      <td>17.284046</td>\n",
       "      <td>Breaking Your Fast</td>\n",
       "    </tr>\n",
       "    <tr>\n",
       "      <th>206</th>\n",
       "      <td>5.585313</td>\n",
       "      <td>11.775803</td>\n",
       "      <td>11 Unusual Tips for How to Wake Up Early</td>\n",
       "    </tr>\n",
       "    <tr>\n",
       "      <th>207</th>\n",
       "      <td>-1.524273</td>\n",
       "      <td>15.889767</td>\n",
       "      <td>The 3 Biggest Mistakes Women Make On The Ketog...</td>\n",
       "    </tr>\n",
       "  </tbody>\n",
       "</table>\n",
       "<p>208 rows × 3 columns</p>\n",
       "</div>"
      ],
      "text/plain": [
       "            c1         c2                                              TITLE\n",
       "0   -11.753958  -6.265234   Ensemble methods: bagging, boosting and stacking\n",
       "1   -11.916732  -9.842438                      Understanding AUC - ROC Curve\n",
       "2    -9.778111 -11.529096  How to work with object detection datasets in ...\n",
       "3   -15.446827  -4.259702  11 Dimensionality reduction techniques you sho...\n",
       "4     1.644326 -12.237198                        The Time Series Transformer\n",
       "..         ...        ...                                                ...\n",
       "203   0.381288  18.360159    Type 2 Diabetes Reversal  The Quick Start Guide\n",
       "204   2.657346  16.438616            How a 22 Day Water Fast Changed My Life\n",
       "205   2.114476  17.284046                                 Breaking Your Fast\n",
       "206   5.585313  11.775803           11 Unusual Tips for How to Wake Up Early\n",
       "207  -1.524273  15.889767  The 3 Biggest Mistakes Women Make On The Ketog...\n",
       "\n",
       "[208 rows x 3 columns]"
      ]
     },
     "metadata": {},
     "output_type": "display_data"
    },
    {
     "data": {
      "text/html": [
       "<div>\n",
       "<style scoped>\n",
       "    .dataframe tbody tr th:only-of-type {\n",
       "        vertical-align: middle;\n",
       "    }\n",
       "\n",
       "    .dataframe tbody tr th {\n",
       "        vertical-align: top;\n",
       "    }\n",
       "\n",
       "    .dataframe thead th {\n",
       "        text-align: right;\n",
       "    }\n",
       "</style>\n",
       "<table border=\"1\" class=\"dataframe\">\n",
       "  <thead>\n",
       "    <tr style=\"text-align: right;\">\n",
       "      <th></th>\n",
       "      <th>c1</th>\n",
       "      <th>c2</th>\n",
       "      <th>c3</th>\n",
       "      <th>TITLE</th>\n",
       "    </tr>\n",
       "  </thead>\n",
       "  <tbody>\n",
       "    <tr>\n",
       "      <th>0</th>\n",
       "      <td>-36.330566</td>\n",
       "      <td>-33.796314</td>\n",
       "      <td>-35.155228</td>\n",
       "      <td>Ensemble methods: bagging, boosting and stacking</td>\n",
       "    </tr>\n",
       "    <tr>\n",
       "      <th>1</th>\n",
       "      <td>-37.924934</td>\n",
       "      <td>-25.021219</td>\n",
       "      <td>-65.017387</td>\n",
       "      <td>Understanding AUC - ROC Curve</td>\n",
       "    </tr>\n",
       "    <tr>\n",
       "      <th>2</th>\n",
       "      <td>25.521399</td>\n",
       "      <td>-0.539542</td>\n",
       "      <td>-51.339321</td>\n",
       "      <td>How to work with object detection datasets in ...</td>\n",
       "    </tr>\n",
       "    <tr>\n",
       "      <th>3</th>\n",
       "      <td>2.513573</td>\n",
       "      <td>-38.296432</td>\n",
       "      <td>-40.032688</td>\n",
       "      <td>11 Dimensionality reduction techniques you sho...</td>\n",
       "    </tr>\n",
       "    <tr>\n",
       "      <th>4</th>\n",
       "      <td>-1.592306</td>\n",
       "      <td>36.473785</td>\n",
       "      <td>-61.124916</td>\n",
       "      <td>The Time Series Transformer</td>\n",
       "    </tr>\n",
       "    <tr>\n",
       "      <th>...</th>\n",
       "      <td>...</td>\n",
       "      <td>...</td>\n",
       "      <td>...</td>\n",
       "      <td>...</td>\n",
       "    </tr>\n",
       "    <tr>\n",
       "      <th>203</th>\n",
       "      <td>-39.871952</td>\n",
       "      <td>-34.569736</td>\n",
       "      <td>63.965702</td>\n",
       "      <td>Type 2 Diabetes Reversal  The Quick Start Guide</td>\n",
       "    </tr>\n",
       "    <tr>\n",
       "      <th>204</th>\n",
       "      <td>-5.963677</td>\n",
       "      <td>-9.467737</td>\n",
       "      <td>61.452091</td>\n",
       "      <td>How a 22 Day Water Fast Changed My Life</td>\n",
       "    </tr>\n",
       "    <tr>\n",
       "      <th>205</th>\n",
       "      <td>-18.388548</td>\n",
       "      <td>-6.794148</td>\n",
       "      <td>64.460861</td>\n",
       "      <td>Breaking Your Fast</td>\n",
       "    </tr>\n",
       "    <tr>\n",
       "      <th>206</th>\n",
       "      <td>3.472416</td>\n",
       "      <td>-55.288544</td>\n",
       "      <td>35.106380</td>\n",
       "      <td>11 Unusual Tips for How to Wake Up Early</td>\n",
       "    </tr>\n",
       "    <tr>\n",
       "      <th>207</th>\n",
       "      <td>-34.884304</td>\n",
       "      <td>-7.470083</td>\n",
       "      <td>52.788143</td>\n",
       "      <td>The 3 Biggest Mistakes Women Make On The Ketog...</td>\n",
       "    </tr>\n",
       "  </tbody>\n",
       "</table>\n",
       "<p>208 rows × 4 columns</p>\n",
       "</div>"
      ],
      "text/plain": [
       "            c1         c2         c3  \\\n",
       "0   -36.330566 -33.796314 -35.155228   \n",
       "1   -37.924934 -25.021219 -65.017387   \n",
       "2    25.521399  -0.539542 -51.339321   \n",
       "3     2.513573 -38.296432 -40.032688   \n",
       "4    -1.592306  36.473785 -61.124916   \n",
       "..         ...        ...        ...   \n",
       "203 -39.871952 -34.569736  63.965702   \n",
       "204  -5.963677  -9.467737  61.452091   \n",
       "205 -18.388548  -6.794148  64.460861   \n",
       "206   3.472416 -55.288544  35.106380   \n",
       "207 -34.884304  -7.470083  52.788143   \n",
       "\n",
       "                                                 TITLE  \n",
       "0     Ensemble methods: bagging, boosting and stacking  \n",
       "1                        Understanding AUC - ROC Curve  \n",
       "2    How to work with object detection datasets in ...  \n",
       "3    11 Dimensionality reduction techniques you sho...  \n",
       "4                          The Time Series Transformer  \n",
       "..                                                 ...  \n",
       "203    Type 2 Diabetes Reversal  The Quick Start Guide  \n",
       "204            How a 22 Day Water Fast Changed My Life  \n",
       "205                                 Breaking Your Fast  \n",
       "206           11 Unusual Tips for How to Wake Up Early  \n",
       "207  The 3 Biggest Mistakes Women Make On The Ketog...  \n",
       "\n",
       "[208 rows x 4 columns]"
      ]
     },
     "metadata": {},
     "output_type": "display_data"
    }
   ],
   "source": [
    "for i in range(1,4):\n",
    "    tsne = TSNE(n_components=i)\n",
    "    tsne_tfidf_features = tsne.fit_transform(tfidf_features_df[tfidf_vectorizer.get_feature_names_out()].values)\n",
    "    tsne_tfidf_features_df = pd.DataFrame(tsne_tfidf_features)\n",
    "    # tsne_tfidf_features_df.columns = [\"C1\", \"C2\"]\n",
    "    tsne_tfidf_features_df.columns = [f'c{i}' for i in range(1, len(tsne_tfidf_features_df.columns) + 1)]\n",
    "    tsne_tfidf_features_df[\"TITLE\"] = tfidf_features_df[\"TITLE\"]\n",
    "    display(tsne_tfidf_features_df)"
   ]
  },
  {
   "cell_type": "code",
   "execution_count": null,
   "metadata": {},
   "outputs": [],
   "source": [
    "# Let us check top 5 similar articles for some of the articles in our corpus\n",
    "get_similar_documents(tfidf_features_df, 90, tfidf_vectorizer.get_feature_names_out())\n",
    "get_similar_documents(tfidf_features_df, 80, tfidf_vectorizer.get_feature_names_out())\n",
    "get_similar_documents(tfidf_features_df, 150, tfidf_vectorizer.get_feature_names_out())\n",
    "get_similar_documents(tfidf_features_df, 205, tfidf_vectorizer.get_feature_names_out())"
   ]
  }
 ],
 "metadata": {
  "kernelspec": {
   "display_name": "Python 3",
   "language": "python",
   "name": "python3"
  },
  "language_info": {
   "codemirror_mode": {
    "name": "ipython",
    "version": 3
   },
   "file_extension": ".py",
   "mimetype": "text/x-python",
   "name": "python",
   "nbconvert_exporter": "python",
   "pygments_lexer": "ipython3",
   "version": "3.12.4"
  }
 },
 "nbformat": 4,
 "nbformat_minor": 2
}
