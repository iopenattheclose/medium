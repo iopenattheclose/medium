{
 "cells": [
  {
   "cell_type": "code",
   "execution_count": 20,
   "metadata": {},
   "outputs": [
    {
     "name": "stderr",
     "output_type": "stream",
     "text": [
      "[nltk_data] Downloading package punkt to /Users/prupro/nltk_data...\n",
      "[nltk_data]   Package punkt is already up-to-date!\n",
      "[nltk_data] Downloading package stopwords to\n",
      "[nltk_data]     /Users/prupro/nltk_data...\n",
      "[nltk_data]   Package stopwords is already up-to-date!\n",
      "[nltk_data] Downloading package wordnet to /Users/prupro/nltk_data...\n",
      "[nltk_data]   Package wordnet is already up-to-date!\n",
      "[nltk_data] Downloading package averaged_perceptron_tagger to\n",
      "[nltk_data]     /Users/prupro/nltk_data...\n",
      "[nltk_data]   Package averaged_perceptron_tagger is already up-to-\n",
      "[nltk_data]       date!\n",
      "[nltk_data] Downloading package tagsets to /Users/prupro/nltk_data...\n",
      "[nltk_data]   Package tagsets is already up-to-date!\n",
      "[nltk_data] Downloading package universal_tagset to\n",
      "[nltk_data]     /Users/prupro/nltk_data...\n",
      "[nltk_data]   Package universal_tagset is already up-to-date!\n",
      "[nltk_data] Downloading package treebank to /Users/prupro/nltk_data...\n",
      "[nltk_data]   Package treebank is already up-to-date!\n",
      "[nltk_data] Downloading package punkt_tab to\n",
      "[nltk_data]     /Users/prupro/nltk_data...\n",
      "[nltk_data]   Unzipping tokenizers/punkt_tab.zip.\n"
     ]
    }
   ],
   "source": [
    "# libraries to display dataframe and images\n",
    "from IPython.display import display\n",
    "from PIL import Image\n",
    "# matplotlib for vizualization\n",
    "import matplotlib.pyplot as plt\n",
    "import seaborn as sns\n",
    "import pandas as pd\n",
    "# inbuild library to work with textual data\n",
    "import string\n",
    "# Setting up the NLTK to pre-processing textual data\n",
    "import nltk\n",
    "from nltk.corpus import stopwords, wordnet\n",
    "from nltk.stem import PorterStemmer, LancasterStemmer, SnowballStemmer, WordNetLemmatizer\n",
    "from nltk.tokenize import word_tokenize, sent_tokenize\n",
    "nltk.download('punkt')\n",
    "nltk.download('stopwords')\n",
    "nltk.download('wordnet')\n",
    "nltk.download('averaged_perceptron_tagger')\n",
    "nltk.download('tagsets')\n",
    "nltk.download('universal_tagset')\n",
    "nltk.download('treebank')\n",
    "nltk.download('punkt_tab')\n",
    "\n",
    "sns.set_theme(style=\"darkgrid\")\n",
    "pd.set_option(\"display.max_columns\", 100)\n",
    "%matplotlib inline"
   ]
  },
  {
   "cell_type": "code",
   "execution_count": 2,
   "metadata": {},
   "outputs": [
    {
     "data": {
      "text/html": [
       "<div>\n",
       "<style scoped>\n",
       "    .dataframe tbody tr th:only-of-type {\n",
       "        vertical-align: middle;\n",
       "    }\n",
       "\n",
       "    .dataframe tbody tr th {\n",
       "        vertical-align: top;\n",
       "    }\n",
       "\n",
       "    .dataframe thead th {\n",
       "        text-align: right;\n",
       "    }\n",
       "</style>\n",
       "<table border=\"1\" class=\"dataframe\">\n",
       "  <thead>\n",
       "    <tr style=\"text-align: right;\">\n",
       "      <th></th>\n",
       "      <th>link</th>\n",
       "      <th>title</th>\n",
       "      <th>sub_title</th>\n",
       "      <th>author</th>\n",
       "      <th>reading_time</th>\n",
       "      <th>text</th>\n",
       "      <th>id</th>\n",
       "    </tr>\n",
       "  </thead>\n",
       "  <tbody>\n",
       "    <tr>\n",
       "      <th>0</th>\n",
       "      <td>https://towardsdatascience.com/ensemble-method...</td>\n",
       "      <td>Ensemble methods: bagging, boosting and stacking</td>\n",
       "      <td>Understanding the key concepts of ensemble lea...</td>\n",
       "      <td>Joseph Rocca</td>\n",
       "      <td>20</td>\n",
       "      <td>This post was co-written with Baptiste Rocca.\\...</td>\n",
       "      <td>1</td>\n",
       "    </tr>\n",
       "    <tr>\n",
       "      <th>1</th>\n",
       "      <td>https://towardsdatascience.com/understanding-a...</td>\n",
       "      <td>Understanding AUC - ROC Curve</td>\n",
       "      <td>In Machine Learning, performance measurement i...</td>\n",
       "      <td>Sarang Narkhede</td>\n",
       "      <td>5</td>\n",
       "      <td>In Machine Learning, performance measurement i...</td>\n",
       "      <td>2</td>\n",
       "    </tr>\n",
       "    <tr>\n",
       "      <th>2</th>\n",
       "      <td>https://towardsdatascience.com/how-to-work-wit...</td>\n",
       "      <td>How to work with object detection datasets in ...</td>\n",
       "      <td>A comprehensive guide to defining, loading, ex...</td>\n",
       "      <td>Eric Hofesmann</td>\n",
       "      <td>10</td>\n",
       "      <td>Microsoft's Common Objects in Context dataset ...</td>\n",
       "      <td>3</td>\n",
       "    </tr>\n",
       "    <tr>\n",
       "      <th>3</th>\n",
       "      <td>https://towardsdatascience.com/11-dimensionali...</td>\n",
       "      <td>11 Dimensionality reduction techniques you sho...</td>\n",
       "      <td>Reduce the size of your dataset while keeping ...</td>\n",
       "      <td>Rukshan Pramoditha</td>\n",
       "      <td>16</td>\n",
       "      <td>In both Statistics and Machine Learning, the n...</td>\n",
       "      <td>4</td>\n",
       "    </tr>\n",
       "    <tr>\n",
       "      <th>4</th>\n",
       "      <td>https://towardsdatascience.com/the-time-series...</td>\n",
       "      <td>The Time Series Transformer</td>\n",
       "      <td>Attention Is All You Need they said. Is it a m...</td>\n",
       "      <td>Theodoros Ntakouris</td>\n",
       "      <td>6</td>\n",
       "      <td>Attention Is All You Need they said. Is it a m...</td>\n",
       "      <td>5</td>\n",
       "    </tr>\n",
       "    <tr>\n",
       "      <th>5</th>\n",
       "      <td>https://netflixtechblog.com/learning-a-persona...</td>\n",
       "      <td>Learning a Personalized Homepage</td>\n",
       "      <td>how to best tailor each member's homepage to m...</td>\n",
       "      <td>Netflix Technology Blog</td>\n",
       "      <td>15</td>\n",
       "      <td>by Chris Alvino and Justin Basilico\\nAs we've ...</td>\n",
       "      <td>6</td>\n",
       "    </tr>\n",
       "    <tr>\n",
       "      <th>6</th>\n",
       "      <td>https://towardsdatascience.com/6-data-science-...</td>\n",
       "      <td>6 Data Science Certificates To Level Up Your C...</td>\n",
       "      <td>Pump up your portfolio and get closer to your ...</td>\n",
       "      <td>Sara A. Metwalli</td>\n",
       "      <td>6</td>\n",
       "      <td>Because of the appeal of the field of data sci...</td>\n",
       "      <td>7</td>\n",
       "    </tr>\n",
       "    <tr>\n",
       "      <th>7</th>\n",
       "      <td>https://towardsdatascience.com/transformers-ex...</td>\n",
       "      <td>Transformers Explained Visually (Part 2): How ...</td>\n",
       "      <td>A Gentle Guide to the Transformer under the ho...</td>\n",
       "      <td>Ketan Doshi</td>\n",
       "      <td>11</td>\n",
       "      <td>This is the second article in my series on Tra...</td>\n",
       "      <td>8</td>\n",
       "    </tr>\n",
       "    <tr>\n",
       "      <th>8</th>\n",
       "      <td>https://medium.com/coders-camp/60-python-proje...</td>\n",
       "      <td>60 Python Projects with Source Code</td>\n",
       "      <td>60 Python Projects with Source code solved and...</td>\n",
       "      <td>Aman Kharwal</td>\n",
       "      <td>2</td>\n",
       "      <td>Python has been in the top 10 popular programm...</td>\n",
       "      <td>9</td>\n",
       "    </tr>\n",
       "    <tr>\n",
       "      <th>9</th>\n",
       "      <td>https://towardsdatascience.com/geometric-found...</td>\n",
       "      <td>Geometric foundations of Deep Learning</td>\n",
       "      <td>Geometric Deep Learning is an attempt to unify...</td>\n",
       "      <td>Michael Bronstein</td>\n",
       "      <td>13</td>\n",
       "      <td>This blog post was co-authored with Joan Bruna...</td>\n",
       "      <td>10</td>\n",
       "    </tr>\n",
       "  </tbody>\n",
       "</table>\n",
       "</div>"
      ],
      "text/plain": [
       "                                                link  \\\n",
       "0  https://towardsdatascience.com/ensemble-method...   \n",
       "1  https://towardsdatascience.com/understanding-a...   \n",
       "2  https://towardsdatascience.com/how-to-work-wit...   \n",
       "3  https://towardsdatascience.com/11-dimensionali...   \n",
       "4  https://towardsdatascience.com/the-time-series...   \n",
       "5  https://netflixtechblog.com/learning-a-persona...   \n",
       "6  https://towardsdatascience.com/6-data-science-...   \n",
       "7  https://towardsdatascience.com/transformers-ex...   \n",
       "8  https://medium.com/coders-camp/60-python-proje...   \n",
       "9  https://towardsdatascience.com/geometric-found...   \n",
       "\n",
       "                                               title  \\\n",
       "0   Ensemble methods: bagging, boosting and stacking   \n",
       "1                      Understanding AUC - ROC Curve   \n",
       "2  How to work with object detection datasets in ...   \n",
       "3  11 Dimensionality reduction techniques you sho...   \n",
       "4                        The Time Series Transformer   \n",
       "5                   Learning a Personalized Homepage   \n",
       "6  6 Data Science Certificates To Level Up Your C...   \n",
       "7  Transformers Explained Visually (Part 2): How ...   \n",
       "8                60 Python Projects with Source Code   \n",
       "9             Geometric foundations of Deep Learning   \n",
       "\n",
       "                                           sub_title                   author  \\\n",
       "0  Understanding the key concepts of ensemble lea...             Joseph Rocca   \n",
       "1  In Machine Learning, performance measurement i...          Sarang Narkhede   \n",
       "2  A comprehensive guide to defining, loading, ex...           Eric Hofesmann   \n",
       "3  Reduce the size of your dataset while keeping ...       Rukshan Pramoditha   \n",
       "4  Attention Is All You Need they said. Is it a m...      Theodoros Ntakouris   \n",
       "5  how to best tailor each member's homepage to m...  Netflix Technology Blog   \n",
       "6  Pump up your portfolio and get closer to your ...         Sara A. Metwalli   \n",
       "7  A Gentle Guide to the Transformer under the ho...              Ketan Doshi   \n",
       "8  60 Python Projects with Source code solved and...             Aman Kharwal   \n",
       "9  Geometric Deep Learning is an attempt to unify...        Michael Bronstein   \n",
       "\n",
       "   reading_time                                               text  id  \n",
       "0            20  This post was co-written with Baptiste Rocca.\\...   1  \n",
       "1             5  In Machine Learning, performance measurement i...   2  \n",
       "2            10  Microsoft's Common Objects in Context dataset ...   3  \n",
       "3            16  In both Statistics and Machine Learning, the n...   4  \n",
       "4             6  Attention Is All You Need they said. Is it a m...   5  \n",
       "5            15  by Chris Alvino and Justin Basilico\\nAs we've ...   6  \n",
       "6             6  Because of the appeal of the field of data sci...   7  \n",
       "7            11  This is the second article in my series on Tra...   8  \n",
       "8             2  Python has been in the top 10 popular programm...   9  \n",
       "9            13  This blog post was co-authored with Joan Bruna...  10  "
      ]
     },
     "metadata": {},
     "output_type": "display_data"
    },
    {
     "name": "stdout",
     "output_type": "stream",
     "text": [
      "Shape of dataframe : (208, 7)\n"
     ]
    }
   ],
   "source": [
    "import numpy as np\n",
    "import pandas as pd\n",
    "import spacy\n",
    "from spacy import displacy\n",
    "import seaborn as sns\n",
    "from matplotlib import pyplot as plt\n",
    "\n",
    "# reading the csv data file\n",
    "articles = pd.read_csv(\"medium_articles_v3.csv\")\n",
    "display(articles.head(10))\n",
    "print(\"Shape of dataframe : {}\".format(articles.shape))"
   ]
  },
  {
   "cell_type": "code",
   "execution_count": 3,
   "metadata": {},
   "outputs": [
    {
     "data": {
      "text/plain": [
       "(208, 7)"
      ]
     },
     "execution_count": 3,
     "metadata": {},
     "output_type": "execute_result"
    }
   ],
   "source": [
    "articles.shape"
   ]
  },
  {
   "cell_type": "code",
   "execution_count": 4,
   "metadata": {},
   "outputs": [
    {
     "data": {
      "text/html": [
       "<div>\n",
       "<style scoped>\n",
       "    .dataframe tbody tr th:only-of-type {\n",
       "        vertical-align: middle;\n",
       "    }\n",
       "\n",
       "    .dataframe tbody tr th {\n",
       "        vertical-align: top;\n",
       "    }\n",
       "\n",
       "    .dataframe thead th {\n",
       "        text-align: right;\n",
       "    }\n",
       "</style>\n",
       "<table border=\"1\" class=\"dataframe\">\n",
       "  <thead>\n",
       "    <tr style=\"text-align: right;\">\n",
       "      <th></th>\n",
       "      <th>link</th>\n",
       "      <th>title</th>\n",
       "      <th>sub_title</th>\n",
       "      <th>author</th>\n",
       "      <th>reading_time</th>\n",
       "      <th>text</th>\n",
       "      <th>id</th>\n",
       "    </tr>\n",
       "  </thead>\n",
       "  <tbody>\n",
       "    <tr>\n",
       "      <th>count</th>\n",
       "      <td>208</td>\n",
       "      <td>208</td>\n",
       "      <td>208</td>\n",
       "      <td>208</td>\n",
       "      <td>208.000000</td>\n",
       "      <td>208</td>\n",
       "      <td>208.000000</td>\n",
       "    </tr>\n",
       "    <tr>\n",
       "      <th>unique</th>\n",
       "      <td>208</td>\n",
       "      <td>208</td>\n",
       "      <td>204</td>\n",
       "      <td>179</td>\n",
       "      <td>NaN</td>\n",
       "      <td>208</td>\n",
       "      <td>NaN</td>\n",
       "    </tr>\n",
       "    <tr>\n",
       "      <th>top</th>\n",
       "      <td>https://towardsdatascience.com/ensemble-method...</td>\n",
       "      <td>Ensemble methods: bagging, boosting and stacking</td>\n",
       "      <td>Update: This article is part of a series. Chec...</td>\n",
       "      <td>Adam Geitgey</td>\n",
       "      <td>NaN</td>\n",
       "      <td>This post was co-written with Baptiste Rocca.\\...</td>\n",
       "      <td>NaN</td>\n",
       "    </tr>\n",
       "    <tr>\n",
       "      <th>freq</th>\n",
       "      <td>1</td>\n",
       "      <td>1</td>\n",
       "      <td>4</td>\n",
       "      <td>5</td>\n",
       "      <td>NaN</td>\n",
       "      <td>1</td>\n",
       "      <td>NaN</td>\n",
       "    </tr>\n",
       "    <tr>\n",
       "      <th>mean</th>\n",
       "      <td>NaN</td>\n",
       "      <td>NaN</td>\n",
       "      <td>NaN</td>\n",
       "      <td>NaN</td>\n",
       "      <td>12.375000</td>\n",
       "      <td>NaN</td>\n",
       "      <td>107.091346</td>\n",
       "    </tr>\n",
       "    <tr>\n",
       "      <th>std</th>\n",
       "      <td>NaN</td>\n",
       "      <td>NaN</td>\n",
       "      <td>NaN</td>\n",
       "      <td>NaN</td>\n",
       "      <td>13.880224</td>\n",
       "      <td>NaN</td>\n",
       "      <td>62.575453</td>\n",
       "    </tr>\n",
       "    <tr>\n",
       "      <th>min</th>\n",
       "      <td>NaN</td>\n",
       "      <td>NaN</td>\n",
       "      <td>NaN</td>\n",
       "      <td>NaN</td>\n",
       "      <td>2.000000</td>\n",
       "      <td>NaN</td>\n",
       "      <td>1.000000</td>\n",
       "    </tr>\n",
       "    <tr>\n",
       "      <th>25%</th>\n",
       "      <td>NaN</td>\n",
       "      <td>NaN</td>\n",
       "      <td>NaN</td>\n",
       "      <td>NaN</td>\n",
       "      <td>6.000000</td>\n",
       "      <td>NaN</td>\n",
       "      <td>52.750000</td>\n",
       "    </tr>\n",
       "    <tr>\n",
       "      <th>50%</th>\n",
       "      <td>NaN</td>\n",
       "      <td>NaN</td>\n",
       "      <td>NaN</td>\n",
       "      <td>NaN</td>\n",
       "      <td>9.000000</td>\n",
       "      <td>NaN</td>\n",
       "      <td>107.500000</td>\n",
       "    </tr>\n",
       "    <tr>\n",
       "      <th>75%</th>\n",
       "      <td>NaN</td>\n",
       "      <td>NaN</td>\n",
       "      <td>NaN</td>\n",
       "      <td>NaN</td>\n",
       "      <td>13.000000</td>\n",
       "      <td>NaN</td>\n",
       "      <td>162.250000</td>\n",
       "    </tr>\n",
       "    <tr>\n",
       "      <th>max</th>\n",
       "      <td>NaN</td>\n",
       "      <td>NaN</td>\n",
       "      <td>NaN</td>\n",
       "      <td>NaN</td>\n",
       "      <td>149.000000</td>\n",
       "      <td>NaN</td>\n",
       "      <td>214.000000</td>\n",
       "    </tr>\n",
       "  </tbody>\n",
       "</table>\n",
       "</div>"
      ],
      "text/plain": [
       "                                                     link  \\\n",
       "count                                                 208   \n",
       "unique                                                208   \n",
       "top     https://towardsdatascience.com/ensemble-method...   \n",
       "freq                                                    1   \n",
       "mean                                                  NaN   \n",
       "std                                                   NaN   \n",
       "min                                                   NaN   \n",
       "25%                                                   NaN   \n",
       "50%                                                   NaN   \n",
       "75%                                                   NaN   \n",
       "max                                                   NaN   \n",
       "\n",
       "                                                   title  \\\n",
       "count                                                208   \n",
       "unique                                               208   \n",
       "top     Ensemble methods: bagging, boosting and stacking   \n",
       "freq                                                   1   \n",
       "mean                                                 NaN   \n",
       "std                                                  NaN   \n",
       "min                                                  NaN   \n",
       "25%                                                  NaN   \n",
       "50%                                                  NaN   \n",
       "75%                                                  NaN   \n",
       "max                                                  NaN   \n",
       "\n",
       "                                                sub_title        author  \\\n",
       "count                                                 208           208   \n",
       "unique                                                204           179   \n",
       "top     Update: This article is part of a series. Chec...  Adam Geitgey   \n",
       "freq                                                    4             5   \n",
       "mean                                                  NaN           NaN   \n",
       "std                                                   NaN           NaN   \n",
       "min                                                   NaN           NaN   \n",
       "25%                                                   NaN           NaN   \n",
       "50%                                                   NaN           NaN   \n",
       "75%                                                   NaN           NaN   \n",
       "max                                                   NaN           NaN   \n",
       "\n",
       "        reading_time                                               text  \\\n",
       "count     208.000000                                                208   \n",
       "unique           NaN                                                208   \n",
       "top              NaN  This post was co-written with Baptiste Rocca.\\...   \n",
       "freq             NaN                                                  1   \n",
       "mean       12.375000                                                NaN   \n",
       "std        13.880224                                                NaN   \n",
       "min         2.000000                                                NaN   \n",
       "25%         6.000000                                                NaN   \n",
       "50%         9.000000                                                NaN   \n",
       "75%        13.000000                                                NaN   \n",
       "max       149.000000                                                NaN   \n",
       "\n",
       "                id  \n",
       "count   208.000000  \n",
       "unique         NaN  \n",
       "top            NaN  \n",
       "freq           NaN  \n",
       "mean    107.091346  \n",
       "std      62.575453  \n",
       "min       1.000000  \n",
       "25%      52.750000  \n",
       "50%     107.500000  \n",
       "75%     162.250000  \n",
       "max     214.000000  "
      ]
     },
     "execution_count": 4,
     "metadata": {},
     "output_type": "execute_result"
    }
   ],
   "source": [
    "articles.describe(include='all')"
   ]
  },
  {
   "cell_type": "code",
   "execution_count": 5,
   "metadata": {},
   "outputs": [
    {
     "data": {
      "image/png": "[encoded data removed]",
      "text/plain": [
       "<Figure size 500x500 with 1 Axes>"
      ]
     },
     "metadata": {},
     "output_type": "display_data"
    }
   ],
   "source": [
    "from scipy.stats import pearsonr\n",
    "\n",
    "articles[\"article_len\"] = articles[\"text\"].apply(lambda x : len(x))\n",
    "# creating scatterplot\n",
    "fig, axes = plt.subplots(figsize = (5, 5))\n",
    "sns.scatterplot(x = articles[\"reading_time\"], y = articles[\"article_len\"])\n",
    "# Pearson correlation coefficient measures the linear relationship between two set of values.\n",
    "corr_coeff, _ = pearsonr(articles[\"reading_time\"], articles[\"article_len\"])\n",
    "# plot title\n",
    "plt.suptitle(\"Reading Time vs. Article Length | Corr. Coeff  : {}\".format(round(corr_coeff, 2)))\n",
    "plt.show()"
   ]
  },
  {
   "cell_type": "code",
   "execution_count": 6,
   "metadata": {},
   "outputs": [
    {
     "name": "stdout",
     "output_type": "stream",
     "text": [
      "Articles by Adam Geitgey :\n",
      "Machine Learning is Fun Part 5: Language Translation with Deep Learning and the Magic of Sequences\n",
      "Machine Learning is Fun! Part 4: Modern Face Recognition with Deep Learning\n",
      "Machine Learning is Fun! Part 3: Deep Learning and Convolutional Neural Networks\n",
      "Machine Learning is Fun! Part 2\n",
      "Machine Learning is Fun Part 6: How to do Speech Recognition with Deep Learning\n",
      "------------------------------------------------------------------------------------------------------------------------\n",
      "Articles by Joseph Rocca :\n",
      "Ensemble methods: bagging, boosting and stacking\n",
      "Understanding Variational Autoencoders (VAEs)\n",
      "Understanding Generative Adversarial Networks (GANs)\n",
      "------------------------------------------------------------------------------------------------------------------------\n",
      "Articles by Natassha Selvaraj :\n",
      "I tripled my income with data science. Here's how.\n",
      "How to Land a Data Analytics Job in 6 Months\n",
      "Top 10 Data Science Projects for Beginners\n",
      "------------------------------------------------------------------------------------------------------------------------\n",
      "Articles by Chris Zaire :\n",
      "5 Online Courses I Took as a Self-Taught Data Scientist\n",
      "Is Data Science Still a Rising Career in 2021\n",
      "------------------------------------------------------------------------------------------------------------------------\n",
      "Articles by Dario Radecic :\n",
      "Are The New M1 Macbooks Any Good for Data Science? Let's Find Out\n",
      "Top 3 Reasons Why I Sold My M1 Macbook Pro as a Data Scientist\n",
      "------------------------------------------------------------------------------------------------------------------------\n",
      "Articles by Adi Bronshtein :\n",
      "Simple and Multiple Linear Regression in Python\n",
      "Train/Test Split and Cross Validation in Python\n",
      "------------------------------------------------------------------------------------------------------------------------\n",
      "Articles by Serge Faguet :\n",
      "How to biohack your intelligence  with everything from sex to modafinil to MDMA\n",
      "I'm 32 and spent $200k on biohacking. Became calmer, thinner, extroverted, healthier & happier.\n",
      "------------------------------------------------------------------------------------------------------------------------\n",
      "Articles by Will Koehrsen :\n",
      "Hyperparameter Tuning the Random Forest in Python\n",
      "Random Forest in Python\n",
      "------------------------------------------------------------------------------------------------------------------------\n",
      "Articles by Madison Hunter :\n",
      "15 Habits I Learned from Highly Effective Data Scientists\n",
      "How to Study for the Google Data Analytics Professional Certificate\n",
      "------------------------------------------------------------------------------------------------------------------------\n",
      "Articles by Andrei Tapalaga  :\n",
      "Chernobyl's Blown Up Reactor 4 Just Woke Up\n",
      "Eben Byers: The Man Who Drank Radioactive Water Until His Jaw Fell Off\n",
      "------------------------------------------------------------------------------------------------------------------------\n",
      "Articles by Susan Li :\n",
      "Building A Logistic Regression in Python, Step by Step\n",
      "An End-to-End Project on Time Series Analysis and Forecasting with Python\n",
      "------------------------------------------------------------------------------------------------------------------------\n",
      "Articles by Yueh :\n",
      "Richart + @GoGo \n",
      "2018  & : KOKO COMBO icash \n",
      "------------------------------------------------------------------------------------------------------------------------\n",
      "Articles by Daniel Jeffries :\n",
      "How to Crush the Crypto Market, Quit Your Job, Move to Paradise and Do Whatever You Want the Rest of Your Life\n",
      "Why People Still Don't Get Cryptocurrency\n",
      "------------------------------------------------------------------------------------------------------------------------\n",
      "Articles by allen farrington :\n",
      "Bitcoin Is Venice\n",
      "Gauge Theory Does Not Fix This\n",
      "------------------------------------------------------------------------------------------------------------------------\n",
      "Articles by Alexandr Nellson :\n",
      "How to invest in Bitcoin properly. Blockchain and other cryptocurrencies\n",
      "How to store Bitcoins and other cryptocurrencies properly.\n",
      "------------------------------------------------------------------------------------------------------------------------\n",
      "Articles by Mercatus Center :\n",
      "Nassim Nicholas Taleb on Self-Education and Doing the Math (Ep. 41  Live at Mercatus)\n",
      "Cliff Asness on Marvel vs. DC and Why Never to Share a Gym with Cirque du Soleil (Ep. 5  Live at Mason)\n",
      "------------------------------------------------------------------------------------------------------------------------\n",
      "Articles by Blake Ross :\n",
      "Wealthfront:Silicon Valley Tech at Wall Street Prices\n",
      "Heroes Give, Superheroes Borrow\n",
      "------------------------------------------------------------------------------------------------------------------------\n",
      "Articles by Tomas Pueyo :\n",
      "Coronavirus: Why You Must Act Now\n",
      "Coronavirus: The Hammer and the Dance\n",
      "------------------------------------------------------------------------------------------------------------------------\n",
      "Articles by Terence Shin :\n",
      "OVER 100 Data Scientist Interview Questions and Answers!\n",
      "50+ Statistics Interview Questions and Answers for Data Scientists for 2022\n",
      "------------------------------------------------------------------------------------------------------------------------\n",
      "Articles by Rukshan Pramoditha :\n",
      "11 Dimensionality reduction techniques you should know in 2021\n",
      "20 Necessary Requirements of a Perfect Laptop for Data Science and Machine Learning Tasks\n",
      "------------------------------------------------------------------------------------------------------------------------\n",
      "Articles by Ketan Doshi :\n",
      "Transformers Explained Visually (Part 2): How it works, step-by-step\n",
      "Transformers Explained Visually (Part 3): Multi-head Attention, deep dive\n",
      "------------------------------------------------------------------------------------------------------------------------\n",
      "Articles by Aman Kharwal :\n",
      "60 Python Projects with Source Code\n",
      "180 Data Science and Machine Learning Projects with Python\n",
      "------------------------------------------------------------------------------------------------------------------------\n",
      "Articles by Mahmoud Harmouch :\n",
      "17 Clustering Algorithms Used In Data Science and Mining\n",
      "17 types of similarity and dissimilarity measures used in data science.\n",
      "------------------------------------------------------------------------------------------------------------------------\n",
      "Articles by Sara A. Metwalli :\n",
      "6 Data Science Certificates To Level Up Your Career\n",
      "6 Machine Learning Certificates to Pursue in 2021\n",
      "------------------------------------------------------------------------------------------------------------------------\n"
     ]
    }
   ],
   "source": [
    "for author, count in dict(articles[\"author\"].value_counts()).items():\n",
    "    if(count < 2):\n",
    "        continue\n",
    "    print(\"Articles by {} :\".format(author))\n",
    "    for title in articles[articles[\"author\"] == author][\"title\"].values:\n",
    "        print(title)\n",
    "    print(\"-\"*120)"
   ]
  },
  {
   "cell_type": "code",
   "execution_count": 7,
   "metadata": {},
   "outputs": [],
   "source": [
    "import contractions"
   ]
  },
  {
   "cell_type": "code",
   "execution_count": 8,
   "metadata": {},
   "outputs": [],
   "source": [
    "corpus = [\n",
    "    \"it was the best of times\",\n",
    "    \"it was the worst of times\",\n",
    "    \"it was the age of wisdom and the age of foolishness\"\n",
    "]"
   ]
  },
  {
   "cell_type": "code",
   "execution_count": 9,
   "metadata": {},
   "outputs": [
    {
     "name": "stdout",
     "output_type": "stream",
     "text": [
      "{'was', 'best', 'age', 'wisdom', 'times', 'of', 'it', 'the', 'foolishness', 'and', 'worst'}\n",
      "{'was': 0, 'best': 0, 'age': 0, 'wisdom': 0, 'times': 0, 'of': 0, 'it': 0, 'the': 0, 'foolishness': 0, 'and': 0, 'worst': 0}\n"
     ]
    }
   ],
   "source": [
    "bow_rep = []\n",
    "vocabulary = set([x for x in \" \".join(corpus).lower().split(\" \")])\n",
    "print(vocabulary)\n",
    "for sentence in corpus:\n",
    "        sentence_rep = dict([(v,0) for v in vocabulary])\n",
    "print(sentence_rep)"
   ]
  },
  {
   "cell_type": "code",
   "execution_count": 10,
   "metadata": {},
   "outputs": [
    {
     "data": {
      "text/html": [
       "<div>\n",
       "<style scoped>\n",
       "    .dataframe tbody tr th:only-of-type {\n",
       "        vertical-align: middle;\n",
       "    }\n",
       "\n",
       "    .dataframe tbody tr th {\n",
       "        vertical-align: top;\n",
       "    }\n",
       "\n",
       "    .dataframe thead th {\n",
       "        text-align: right;\n",
       "    }\n",
       "</style>\n",
       "<table border=\"1\" class=\"dataframe\">\n",
       "  <thead>\n",
       "    <tr style=\"text-align: right;\">\n",
       "      <th></th>\n",
       "      <th>age</th>\n",
       "      <th>and</th>\n",
       "      <th>best</th>\n",
       "      <th>foolishness</th>\n",
       "      <th>it</th>\n",
       "      <th>of</th>\n",
       "      <th>the</th>\n",
       "      <th>times</th>\n",
       "      <th>was</th>\n",
       "      <th>wisdom</th>\n",
       "      <th>worst</th>\n",
       "    </tr>\n",
       "  </thead>\n",
       "  <tbody>\n",
       "    <tr>\n",
       "      <th>it was the best of times</th>\n",
       "      <td>0</td>\n",
       "      <td>0</td>\n",
       "      <td>1</td>\n",
       "      <td>0</td>\n",
       "      <td>1</td>\n",
       "      <td>1</td>\n",
       "      <td>1</td>\n",
       "      <td>1</td>\n",
       "      <td>1</td>\n",
       "      <td>0</td>\n",
       "      <td>0</td>\n",
       "    </tr>\n",
       "    <tr>\n",
       "      <th>it was the worst of times</th>\n",
       "      <td>0</td>\n",
       "      <td>0</td>\n",
       "      <td>0</td>\n",
       "      <td>0</td>\n",
       "      <td>1</td>\n",
       "      <td>1</td>\n",
       "      <td>1</td>\n",
       "      <td>1</td>\n",
       "      <td>1</td>\n",
       "      <td>0</td>\n",
       "      <td>1</td>\n",
       "    </tr>\n",
       "    <tr>\n",
       "      <th>it was the age of wisdom and the age of foolishness</th>\n",
       "      <td>2</td>\n",
       "      <td>1</td>\n",
       "      <td>0</td>\n",
       "      <td>1</td>\n",
       "      <td>1</td>\n",
       "      <td>2</td>\n",
       "      <td>2</td>\n",
       "      <td>0</td>\n",
       "      <td>1</td>\n",
       "      <td>1</td>\n",
       "      <td>0</td>\n",
       "    </tr>\n",
       "  </tbody>\n",
       "</table>\n",
       "</div>"
      ],
      "text/plain": [
       "                                                    age  and  best  \\\n",
       "it was the best of times                              0    0     1   \n",
       "it was the worst of times                             0    0     0   \n",
       "it was the age of wisdom and the age of foolish...    2    1     0   \n",
       "\n",
       "                                                    foolishness  it  of  the  \\\n",
       "it was the best of times                                      0   1   1    1   \n",
       "it was the worst of times                                     0   1   1    1   \n",
       "it was the age of wisdom and the age of foolish...            1   1   2    2   \n",
       "\n",
       "                                                    times  was  wisdom  worst  \n",
       "it was the best of times                                1    1       0      0  \n",
       "it was the worst of times                               1    1       0      1  \n",
       "it was the age of wisdom and the age of foolish...      0    1       1      0  "
      ]
     },
     "metadata": {},
     "output_type": "display_data"
    }
   ],
   "source": [
    "# Using CountVectorizer from scikit-learn\n",
    "from sklearn.feature_extraction.text import CountVectorizer\n",
    "\n",
    "cv = CountVectorizer()\n",
    "# Learn the vocabulary dictionary and return document-term matrix\n",
    "bow_rep = cv.fit_transform(corpus).todense()  # todense() returns a matrix\n",
    "# create dataframe\n",
    "df = pd.DataFrame(bow_rep)\n",
    "# Get output feature names for dataframe columns.\n",
    "df.columns = cv.get_feature_names_out()\n",
    "df.index = corpus\n",
    "display(df)"
   ]
  },
  {
   "cell_type": "code",
   "execution_count": 11,
   "metadata": {},
   "outputs": [
    {
     "data": {
      "text/html": [
       "<div>\n",
       "<style scoped>\n",
       "    .dataframe tbody tr th:only-of-type {\n",
       "        vertical-align: middle;\n",
       "    }\n",
       "\n",
       "    .dataframe tbody tr th {\n",
       "        vertical-align: top;\n",
       "    }\n",
       "\n",
       "    .dataframe thead th {\n",
       "        text-align: right;\n",
       "    }\n",
       "</style>\n",
       "<table border=\"1\" class=\"dataframe\">\n",
       "  <thead>\n",
       "    <tr style=\"text-align: right;\">\n",
       "      <th></th>\n",
       "      <th>age</th>\n",
       "      <th>best</th>\n",
       "      <th>foolishness</th>\n",
       "      <th>times</th>\n",
       "      <th>wisdom</th>\n",
       "      <th>worst</th>\n",
       "    </tr>\n",
       "  </thead>\n",
       "  <tbody>\n",
       "    <tr>\n",
       "      <th>it was the best of times</th>\n",
       "      <td>0</td>\n",
       "      <td>1</td>\n",
       "      <td>0</td>\n",
       "      <td>1</td>\n",
       "      <td>0</td>\n",
       "      <td>0</td>\n",
       "    </tr>\n",
       "    <tr>\n",
       "      <th>it was the worst of times</th>\n",
       "      <td>0</td>\n",
       "      <td>0</td>\n",
       "      <td>0</td>\n",
       "      <td>1</td>\n",
       "      <td>0</td>\n",
       "      <td>1</td>\n",
       "    </tr>\n",
       "    <tr>\n",
       "      <th>it was the age of wisdom and the age of foolishness</th>\n",
       "      <td>2</td>\n",
       "      <td>0</td>\n",
       "      <td>1</td>\n",
       "      <td>0</td>\n",
       "      <td>1</td>\n",
       "      <td>0</td>\n",
       "    </tr>\n",
       "  </tbody>\n",
       "</table>\n",
       "</div>"
      ],
      "text/plain": [
       "                                                    age  best  foolishness  \\\n",
       "it was the best of times                              0     1            0   \n",
       "it was the worst of times                             0     0            0   \n",
       "it was the age of wisdom and the age of foolish...    2     0            1   \n",
       "\n",
       "                                                    times  wisdom  worst  \n",
       "it was the best of times                                1       0      0  \n",
       "it was the worst of times                               1       0      1  \n",
       "it was the age of wisdom and the age of foolish...      0       1      0  "
      ]
     },
     "metadata": {},
     "output_type": "display_data"
    }
   ],
   "source": [
    "# using CountVectorizer for removing stop-words directly from the corpus.\n",
    "cv = CountVectorizer(stop_words=\"english\")\n",
    "bow_rep = cv.fit_transform(corpus).todense()\n",
    "df = pd.DataFrame(bow_rep)\n",
    "df.columns = cv.get_feature_names_out()\n",
    "df.index = corpus\n",
    "display(df)"
   ]
  },
  {
   "cell_type": "code",
   "execution_count": 12,
   "metadata": {},
   "outputs": [
    {
     "data": {
      "text/html": [
       "<div>\n",
       "<style scoped>\n",
       "    .dataframe tbody tr th:only-of-type {\n",
       "        vertical-align: middle;\n",
       "    }\n",
       "\n",
       "    .dataframe tbody tr th {\n",
       "        vertical-align: top;\n",
       "    }\n",
       "\n",
       "    .dataframe thead th {\n",
       "        text-align: right;\n",
       "    }\n",
       "</style>\n",
       "<table border=\"1\" class=\"dataframe\">\n",
       "  <thead>\n",
       "    <tr style=\"text-align: right;\">\n",
       "      <th></th>\n",
       "      <th>age</th>\n",
       "      <th>and</th>\n",
       "      <th>best</th>\n",
       "      <th>foolishness</th>\n",
       "      <th>it</th>\n",
       "      <th>of</th>\n",
       "      <th>the</th>\n",
       "      <th>times</th>\n",
       "      <th>was</th>\n",
       "      <th>wisdom</th>\n",
       "      <th>worst</th>\n",
       "    </tr>\n",
       "  </thead>\n",
       "  <tbody>\n",
       "    <tr>\n",
       "      <th>it was the best of times</th>\n",
       "      <td>0.000000</td>\n",
       "      <td>0.000000</td>\n",
       "      <td>0.579897</td>\n",
       "      <td>0.000000</td>\n",
       "      <td>0.342496</td>\n",
       "      <td>0.342496</td>\n",
       "      <td>0.342496</td>\n",
       "      <td>0.441027</td>\n",
       "      <td>0.342496</td>\n",
       "      <td>0.000000</td>\n",
       "      <td>0.000000</td>\n",
       "    </tr>\n",
       "    <tr>\n",
       "      <th>it was the worst of times</th>\n",
       "      <td>0.000000</td>\n",
       "      <td>0.000000</td>\n",
       "      <td>0.000000</td>\n",
       "      <td>0.000000</td>\n",
       "      <td>0.342496</td>\n",
       "      <td>0.342496</td>\n",
       "      <td>0.342496</td>\n",
       "      <td>0.441027</td>\n",
       "      <td>0.342496</td>\n",
       "      <td>0.000000</td>\n",
       "      <td>0.579897</td>\n",
       "    </tr>\n",
       "    <tr>\n",
       "      <th>it was the age of wisdom and the age of foolishness</th>\n",
       "      <td>0.617558</td>\n",
       "      <td>0.308779</td>\n",
       "      <td>0.000000</td>\n",
       "      <td>0.308779</td>\n",
       "      <td>0.182370</td>\n",
       "      <td>0.364740</td>\n",
       "      <td>0.364740</td>\n",
       "      <td>0.000000</td>\n",
       "      <td>0.182370</td>\n",
       "      <td>0.308779</td>\n",
       "      <td>0.000000</td>\n",
       "    </tr>\n",
       "  </tbody>\n",
       "</table>\n",
       "</div>"
      ],
      "text/plain": [
       "                                                         age       and  \\\n",
       "it was the best of times                            0.000000  0.000000   \n",
       "it was the worst of times                           0.000000  0.000000   \n",
       "it was the age of wisdom and the age of foolish...  0.617558  0.308779   \n",
       "\n",
       "                                                        best  foolishness  \\\n",
       "it was the best of times                            0.579897     0.000000   \n",
       "it was the worst of times                           0.000000     0.000000   \n",
       "it was the age of wisdom and the age of foolish...  0.000000     0.308779   \n",
       "\n",
       "                                                          it        of  \\\n",
       "it was the best of times                            0.342496  0.342496   \n",
       "it was the worst of times                           0.342496  0.342496   \n",
       "it was the age of wisdom and the age of foolish...  0.182370  0.364740   \n",
       "\n",
       "                                                         the     times  \\\n",
       "it was the best of times                            0.342496  0.441027   \n",
       "it was the worst of times                           0.342496  0.441027   \n",
       "it was the age of wisdom and the age of foolish...  0.364740  0.000000   \n",
       "\n",
       "                                                         was    wisdom  \\\n",
       "it was the best of times                            0.342496  0.000000   \n",
       "it was the worst of times                           0.342496  0.000000   \n",
       "it was the age of wisdom and the age of foolish...  0.182370  0.308779   \n",
       "\n",
       "                                                       worst  \n",
       "it was the best of times                            0.000000  \n",
       "it was the worst of times                           0.579897  \n",
       "it was the age of wisdom and the age of foolish...  0.000000  "
      ]
     },
     "metadata": {},
     "output_type": "display_data"
    }
   ],
   "source": [
    "from sklearn.feature_extraction.text import TfidfVectorizer\n",
    "# using inbuilt TfidfVectorizer() function to calculate TF-IDF\n",
    "tf_idf_vectorizer = TfidfVectorizer()\n",
    "tf_idf_rep = tf_idf_vectorizer.fit_transform(corpus).todense()\n",
    "df = pd.DataFrame(tf_idf_rep)\n",
    "df.columns = tf_idf_vectorizer.get_feature_names_out()\n",
    "df.index = corpus\n",
    "display(df)"
   ]
  },
  {
   "cell_type": "code",
   "execution_count": 13,
   "metadata": {},
   "outputs": [
    {
     "data": {
      "text/html": [
       "<div>\n",
       "<style scoped>\n",
       "    .dataframe tbody tr th:only-of-type {\n",
       "        vertical-align: middle;\n",
       "    }\n",
       "\n",
       "    .dataframe tbody tr th {\n",
       "        vertical-align: top;\n",
       "    }\n",
       "\n",
       "    .dataframe thead th {\n",
       "        text-align: right;\n",
       "    }\n",
       "</style>\n",
       "<table border=\"1\" class=\"dataframe\">\n",
       "  <thead>\n",
       "    <tr style=\"text-align: right;\">\n",
       "      <th></th>\n",
       "      <th>age</th>\n",
       "      <th>age of</th>\n",
       "      <th>and</th>\n",
       "      <th>and the</th>\n",
       "      <th>best</th>\n",
       "      <th>best of</th>\n",
       "      <th>foolishness</th>\n",
       "      <th>it</th>\n",
       "      <th>it was</th>\n",
       "      <th>of</th>\n",
       "      <th>of foolishness</th>\n",
       "      <th>of times</th>\n",
       "      <th>of wisdom</th>\n",
       "      <th>the</th>\n",
       "      <th>the age</th>\n",
       "      <th>the best</th>\n",
       "      <th>the worst</th>\n",
       "      <th>times</th>\n",
       "      <th>was</th>\n",
       "      <th>was the</th>\n",
       "      <th>wisdom</th>\n",
       "      <th>wisdom and</th>\n",
       "      <th>worst</th>\n",
       "      <th>worst of</th>\n",
       "    </tr>\n",
       "  </thead>\n",
       "  <tbody>\n",
       "    <tr>\n",
       "      <th>it was the best of times</th>\n",
       "      <td>0.000000</td>\n",
       "      <td>0.000000</td>\n",
       "      <td>0.000000</td>\n",
       "      <td>0.000000</td>\n",
       "      <td>0.400008</td>\n",
       "      <td>0.400008</td>\n",
       "      <td>0.000000</td>\n",
       "      <td>0.236251</td>\n",
       "      <td>0.236251</td>\n",
       "      <td>0.236251</td>\n",
       "      <td>0.000000</td>\n",
       "      <td>0.304216</td>\n",
       "      <td>0.000000</td>\n",
       "      <td>0.236251</td>\n",
       "      <td>0.000000</td>\n",
       "      <td>0.400008</td>\n",
       "      <td>0.000000</td>\n",
       "      <td>0.304216</td>\n",
       "      <td>0.236251</td>\n",
       "      <td>0.236251</td>\n",
       "      <td>0.000000</td>\n",
       "      <td>0.000000</td>\n",
       "      <td>0.000000</td>\n",
       "      <td>0.000000</td>\n",
       "    </tr>\n",
       "    <tr>\n",
       "      <th>it was the worst of times</th>\n",
       "      <td>0.000000</td>\n",
       "      <td>0.000000</td>\n",
       "      <td>0.000000</td>\n",
       "      <td>0.000000</td>\n",
       "      <td>0.000000</td>\n",
       "      <td>0.000000</td>\n",
       "      <td>0.000000</td>\n",
       "      <td>0.236251</td>\n",
       "      <td>0.236251</td>\n",
       "      <td>0.236251</td>\n",
       "      <td>0.000000</td>\n",
       "      <td>0.304216</td>\n",
       "      <td>0.000000</td>\n",
       "      <td>0.236251</td>\n",
       "      <td>0.000000</td>\n",
       "      <td>0.000000</td>\n",
       "      <td>0.400008</td>\n",
       "      <td>0.304216</td>\n",
       "      <td>0.236251</td>\n",
       "      <td>0.236251</td>\n",
       "      <td>0.000000</td>\n",
       "      <td>0.000000</td>\n",
       "      <td>0.400008</td>\n",
       "      <td>0.400008</td>\n",
       "    </tr>\n",
       "    <tr>\n",
       "      <th>it was the age of wisdom and the age of foolishness</th>\n",
       "      <td>0.415353</td>\n",
       "      <td>0.415353</td>\n",
       "      <td>0.207677</td>\n",
       "      <td>0.207677</td>\n",
       "      <td>0.000000</td>\n",
       "      <td>0.000000</td>\n",
       "      <td>0.207677</td>\n",
       "      <td>0.122657</td>\n",
       "      <td>0.122657</td>\n",
       "      <td>0.245314</td>\n",
       "      <td>0.207677</td>\n",
       "      <td>0.000000</td>\n",
       "      <td>0.207677</td>\n",
       "      <td>0.245314</td>\n",
       "      <td>0.415353</td>\n",
       "      <td>0.000000</td>\n",
       "      <td>0.000000</td>\n",
       "      <td>0.000000</td>\n",
       "      <td>0.122657</td>\n",
       "      <td>0.122657</td>\n",
       "      <td>0.207677</td>\n",
       "      <td>0.207677</td>\n",
       "      <td>0.000000</td>\n",
       "      <td>0.000000</td>\n",
       "    </tr>\n",
       "  </tbody>\n",
       "</table>\n",
       "</div>"
      ],
      "text/plain": [
       "                                                         age    age of  \\\n",
       "it was the best of times                            0.000000  0.000000   \n",
       "it was the worst of times                           0.000000  0.000000   \n",
       "it was the age of wisdom and the age of foolish...  0.415353  0.415353   \n",
       "\n",
       "                                                         and   and the  \\\n",
       "it was the best of times                            0.000000  0.000000   \n",
       "it was the worst of times                           0.000000  0.000000   \n",
       "it was the age of wisdom and the age of foolish...  0.207677  0.207677   \n",
       "\n",
       "                                                        best   best of  \\\n",
       "it was the best of times                            0.400008  0.400008   \n",
       "it was the worst of times                           0.000000  0.000000   \n",
       "it was the age of wisdom and the age of foolish...  0.000000  0.000000   \n",
       "\n",
       "                                                    foolishness        it  \\\n",
       "it was the best of times                               0.000000  0.236251   \n",
       "it was the worst of times                              0.000000  0.236251   \n",
       "it was the age of wisdom and the age of foolish...     0.207677  0.122657   \n",
       "\n",
       "                                                      it was        of  \\\n",
       "it was the best of times                            0.236251  0.236251   \n",
       "it was the worst of times                           0.236251  0.236251   \n",
       "it was the age of wisdom and the age of foolish...  0.122657  0.245314   \n",
       "\n",
       "                                                    of foolishness  of times  \\\n",
       "it was the best of times                                  0.000000  0.304216   \n",
       "it was the worst of times                                 0.000000  0.304216   \n",
       "it was the age of wisdom and the age of foolish...        0.207677  0.000000   \n",
       "\n",
       "                                                    of wisdom       the  \\\n",
       "it was the best of times                             0.000000  0.236251   \n",
       "it was the worst of times                            0.000000  0.236251   \n",
       "it was the age of wisdom and the age of foolish...   0.207677  0.245314   \n",
       "\n",
       "                                                     the age  the best  \\\n",
       "it was the best of times                            0.000000  0.400008   \n",
       "it was the worst of times                           0.000000  0.000000   \n",
       "it was the age of wisdom and the age of foolish...  0.415353  0.000000   \n",
       "\n",
       "                                                    the worst     times  \\\n",
       "it was the best of times                             0.000000  0.304216   \n",
       "it was the worst of times                            0.400008  0.304216   \n",
       "it was the age of wisdom and the age of foolish...   0.000000  0.000000   \n",
       "\n",
       "                                                         was   was the  \\\n",
       "it was the best of times                            0.236251  0.236251   \n",
       "it was the worst of times                           0.236251  0.236251   \n",
       "it was the age of wisdom and the age of foolish...  0.122657  0.122657   \n",
       "\n",
       "                                                      wisdom  wisdom and  \\\n",
       "it was the best of times                            0.000000    0.000000   \n",
       "it was the worst of times                           0.000000    0.000000   \n",
       "it was the age of wisdom and the age of foolish...  0.207677    0.207677   \n",
       "\n",
       "                                                       worst  worst of  \n",
       "it was the best of times                            0.000000  0.000000  \n",
       "it was the worst of times                           0.400008  0.400008  \n",
       "it was the age of wisdom and the age of foolish...  0.000000  0.000000  "
      ]
     },
     "metadata": {},
     "output_type": "display_data"
    }
   ],
   "source": [
    "# Bigram using TfidfVectorizer\n",
    "tf_idf_vectorizer = TfidfVectorizer(ngram_range=(1,2))\n",
    "tf_idf_rep = tf_idf_vectorizer.fit_transform(corpus).todense()\n",
    "df = pd.DataFrame(tf_idf_rep)\n",
    "df.columns = tf_idf_vectorizer.get_feature_names_out()\n",
    "df.index = corpus\n",
    "display(df)"
   ]
  },
  {
   "cell_type": "code",
   "execution_count": 14,
   "metadata": {},
   "outputs": [],
   "source": [
    "import re"
   ]
  },
  {
   "cell_type": "code",
   "execution_count": 15,
   "metadata": {},
   "outputs": [],
   "source": [
    "def process_sentence(sentence, nlp_object):\n",
    "    # Convert to lowercase\n",
    "    sentence = sentence.lower()\n",
    "\n",
    "    # Exapnding contractions\n",
    "    sentence = contractions.fix(sentence)\n",
    "\n",
    "    # Lemmatization and removing stopwords\n",
    "    doc = nlp_object(sentence)\n",
    "    sentence = \" \".join([token.lemma_ for token in doc if not token.is_stop])\n",
    "\n",
    "    # Remove punctuation\n",
    "    for p in string.punctuation:\n",
    "        sentence = sentence.replace(p, \" \")\n",
    "    sentence = re.sub(r\"\\s+\", \" \", sentence) # Replace all whitespace characters with space\n",
    "\n",
    "    return sentence"
   ]
  },
  {
   "cell_type": "code",
   "execution_count": 16,
   "metadata": {},
   "outputs": [
    {
     "name": "stdout",
     "output_type": "stream",
     "text": [
      "Collecting en-core-web-sm==3.8.0\n",
      "  Downloading https://github.com/explosion/spacy-models/releases/download/en_core_web_sm-3.8.0/en_core_web_sm-3.8.0-py3-none-any.whl (12.8 MB)\n",
      "\u001b[2K     \u001b[90m━━━━━━━━━━━━━━━━━━━━━━━━━━━━━━━━━━━━━━━━\u001b[0m \u001b[32m12.8/12.8 MB\u001b[0m \u001b[31m22.6 MB/s\u001b[0m eta \u001b[36m0:00:00\u001b[0m \u001b[36m0:00:01\u001b[0m\n",
      "\u001b[?25h\u001b[38;5;2m✔ Download and installation successful\u001b[0m\n",
      "You can now load the package via spacy.load('en_core_web_sm')\n",
      "\u001b[38;5;3m⚠ Restart to reload dependencies\u001b[0m\n",
      "If you are in a Jupyter or Colab notebook, you may need to restart Python in\n",
      "order to load all the package's dependencies. You can do this by selecting the\n",
      "'Restart kernel' or 'Restart runtime' option.\n"
     ]
    },
    {
     "name": "stderr",
     "output_type": "stream",
     "text": [
      "\n",
      "\u001b[1m[\u001b[0m\u001b[34;49mnotice\u001b[0m\u001b[1;39;49m]\u001b[0m\u001b[39;49m A new release of pip is available: \u001b[0m\u001b[31;49m24.2\u001b[0m\u001b[39;49m -> \u001b[0m\u001b[32;49m24.3.1\u001b[0m\n",
      "\u001b[1m[\u001b[0m\u001b[34;49mnotice\u001b[0m\u001b[1;39;49m]\u001b[0m\u001b[39;49m To update, run: \u001b[0m\u001b[32;49mpip3 install --upgrade pip\u001b[0m\n"
     ]
    }
   ],
   "source": [
    "import spacy.cli\n",
    "spacy.cli.download(\"en_core_web_sm\")"
   ]
  },
  {
   "cell_type": "code",
   "execution_count": 17,
   "metadata": {},
   "outputs": [
    {
     "name": "stdout",
     "output_type": "stream",
     "text": [
      "Index(['link', 'title', 'sub_title', 'author', 'reading_time', 'text', 'id',\n",
      "       'article_len'],\n",
      "      dtype='object')\n"
     ]
    }
   ],
   "source": [
    "print(articles.columns)\n"
   ]
  },
  {
   "cell_type": "code",
   "execution_count": 21,
   "metadata": {},
   "outputs": [
    {
     "data": {
      "application/vnd.jupyter.widget-view+json": {
       "model_id": "cdd61c1af295484a8a556eef243ccece",
       "version_major": 2,
       "version_minor": 0
      },
      "text/plain": [
       "  0%|          | 0/208 [00:00<?, ?it/s]"
      ]
     },
     "metadata": {},
     "output_type": "display_data"
    }
   ],
   "source": [
    "from tqdm.notebook import tqdm\n",
    "# tqdm to see real time progress\n",
    "tqdm.pandas()\n",
    "\n",
    "nlp = spacy.load('en_core_web_sm') # English pipeline optimized for CPU\n",
    "\n",
    "def process_article(article_text, nlp_object):\n",
    "    processed_article_sentences = []\n",
    "    # using nltk sentence tokenizer\n",
    "    for sentence in sent_tokenize(article_text):\n",
    "        # preprocessing each sentence using our process_sentence function\n",
    "        processed_article_sentences.append(process_sentence(sentence, nlp_object))\n",
    "    # joining preprocessed sentence as a complete paragrams of the article\n",
    "    return \" \".join(processed_article_sentences)\n",
    "\n",
    "articles[\"processed_text\"] = articles[\"text\"].progress_apply(lambda x : process_article(x, nlp))\n"
   ]
  },
  {
   "cell_type": "code",
   "execution_count": 22,
   "metadata": {},
   "outputs": [
    {
     "data": {
      "text/html": [
       "<div>\n",
       "<style scoped>\n",
       "    .dataframe tbody tr th:only-of-type {\n",
       "        vertical-align: middle;\n",
       "    }\n",
       "\n",
       "    .dataframe tbody tr th {\n",
       "        vertical-align: top;\n",
       "    }\n",
       "\n",
       "    .dataframe thead th {\n",
       "        text-align: right;\n",
       "    }\n",
       "</style>\n",
       "<table border=\"1\" class=\"dataframe\">\n",
       "  <thead>\n",
       "    <tr style=\"text-align: right;\">\n",
       "      <th></th>\n",
       "      <th>00</th>\n",
       "      <th>000</th>\n",
       "      <th>01</th>\n",
       "      <th>05</th>\n",
       "      <th>06</th>\n",
       "      <th>07</th>\n",
       "      <th>10</th>\n",
       "      <th>100</th>\n",
       "      <th>1000</th>\n",
       "      <th>101</th>\n",
       "      <th>10k</th>\n",
       "      <th>10x</th>\n",
       "      <th>11</th>\n",
       "      <th>12</th>\n",
       "      <th>120</th>\n",
       "      <th>125</th>\n",
       "      <th>128</th>\n",
       "      <th>13</th>\n",
       "      <th>14</th>\n",
       "      <th>15</th>\n",
       "      <th>150</th>\n",
       "      <th>16</th>\n",
       "      <th>17</th>\n",
       "      <th>18</th>\n",
       "      <th>19</th>\n",
       "      <th>1980</th>\n",
       "      <th>1989</th>\n",
       "      <th>1990</th>\n",
       "      <th>1k</th>\n",
       "      <th>1st</th>\n",
       "      <th>20</th>\n",
       "      <th>200</th>\n",
       "      <th>2000</th>\n",
       "      <th>2001</th>\n",
       "      <th>2005</th>\n",
       "      <th>2008</th>\n",
       "      <th>2009</th>\n",
       "      <th>2010</th>\n",
       "      <th>2011</th>\n",
       "      <th>2012</th>\n",
       "      <th>2013</th>\n",
       "      <th>2014</th>\n",
       "      <th>2015</th>\n",
       "      <th>2016</th>\n",
       "      <th>2017</th>\n",
       "      <th>2018</th>\n",
       "      <th>2019</th>\n",
       "      <th>2020</th>\n",
       "      <th>2021</th>\n",
       "      <th>21</th>\n",
       "      <th>...</th>\n",
       "      <th>winter</th>\n",
       "      <th>wire</th>\n",
       "      <th>wise</th>\n",
       "      <th>wish</th>\n",
       "      <th>withdraw</th>\n",
       "      <th>woman</th>\n",
       "      <th>wonder</th>\n",
       "      <th>wonderful</th>\n",
       "      <th>wood</th>\n",
       "      <th>word</th>\n",
       "      <th>work</th>\n",
       "      <th>worker</th>\n",
       "      <th>workflow</th>\n",
       "      <th>working</th>\n",
       "      <th>workout</th>\n",
       "      <th>world</th>\n",
       "      <th>worried</th>\n",
       "      <th>worry</th>\n",
       "      <th>worsen</th>\n",
       "      <th>worth</th>\n",
       "      <th>wow</th>\n",
       "      <th>wrap</th>\n",
       "      <th>write</th>\n",
       "      <th>writer</th>\n",
       "      <th>writing</th>\n",
       "      <th>wrong</th>\n",
       "      <th>www</th>\n",
       "      <th>xgboost</th>\n",
       "      <th>xi</th>\n",
       "      <th>yeah</th>\n",
       "      <th>year</th>\n",
       "      <th>yearly</th>\n",
       "      <th>yellow</th>\n",
       "      <th>yes</th>\n",
       "      <th>yesterday</th>\n",
       "      <th>yield</th>\n",
       "      <th>yo</th>\n",
       "      <th>york</th>\n",
       "      <th>you</th>\n",
       "      <th>young</th>\n",
       "      <th>youtube</th>\n",
       "      <th>zero</th>\n",
       "      <th>zhou</th>\n",
       "      <th>zip</th>\n",
       "      <th>zombie</th>\n",
       "      <th>zone</th>\n",
       "      <th>zoom</th>\n",
       "      <th>zuckerberg</th>\n",
       "      <th>TITLE</th>\n",
       "      <th>ID</th>\n",
       "    </tr>\n",
       "  </thead>\n",
       "  <tbody>\n",
       "    <tr>\n",
       "      <th>0</th>\n",
       "      <td>0</td>\n",
       "      <td>0</td>\n",
       "      <td>0</td>\n",
       "      <td>0</td>\n",
       "      <td>0</td>\n",
       "      <td>0</td>\n",
       "      <td>0</td>\n",
       "      <td>0</td>\n",
       "      <td>0</td>\n",
       "      <td>0</td>\n",
       "      <td>0</td>\n",
       "      <td>0</td>\n",
       "      <td>0</td>\n",
       "      <td>0</td>\n",
       "      <td>0</td>\n",
       "      <td>0</td>\n",
       "      <td>0</td>\n",
       "      <td>0</td>\n",
       "      <td>0</td>\n",
       "      <td>0</td>\n",
       "      <td>0</td>\n",
       "      <td>0</td>\n",
       "      <td>0</td>\n",
       "      <td>0</td>\n",
       "      <td>0</td>\n",
       "      <td>0</td>\n",
       "      <td>0</td>\n",
       "      <td>0</td>\n",
       "      <td>0</td>\n",
       "      <td>0</td>\n",
       "      <td>0</td>\n",
       "      <td>0</td>\n",
       "      <td>0</td>\n",
       "      <td>0</td>\n",
       "      <td>0</td>\n",
       "      <td>0</td>\n",
       "      <td>0</td>\n",
       "      <td>0</td>\n",
       "      <td>0</td>\n",
       "      <td>0</td>\n",
       "      <td>0</td>\n",
       "      <td>0</td>\n",
       "      <td>0</td>\n",
       "      <td>0</td>\n",
       "      <td>0</td>\n",
       "      <td>0</td>\n",
       "      <td>0</td>\n",
       "      <td>0</td>\n",
       "      <td>0</td>\n",
       "      <td>0</td>\n",
       "      <td>...</td>\n",
       "      <td>0</td>\n",
       "      <td>0</td>\n",
       "      <td>0</td>\n",
       "      <td>0</td>\n",
       "      <td>0</td>\n",
       "      <td>0</td>\n",
       "      <td>0</td>\n",
       "      <td>0</td>\n",
       "      <td>0</td>\n",
       "      <td>2</td>\n",
       "      <td>2</td>\n",
       "      <td>0</td>\n",
       "      <td>0</td>\n",
       "      <td>0</td>\n",
       "      <td>0</td>\n",
       "      <td>0</td>\n",
       "      <td>0</td>\n",
       "      <td>0</td>\n",
       "      <td>0</td>\n",
       "      <td>0</td>\n",
       "      <td>0</td>\n",
       "      <td>0</td>\n",
       "      <td>4</td>\n",
       "      <td>0</td>\n",
       "      <td>0</td>\n",
       "      <td>0</td>\n",
       "      <td>0</td>\n",
       "      <td>1</td>\n",
       "      <td>0</td>\n",
       "      <td>0</td>\n",
       "      <td>0</td>\n",
       "      <td>0</td>\n",
       "      <td>0</td>\n",
       "      <td>0</td>\n",
       "      <td>0</td>\n",
       "      <td>0</td>\n",
       "      <td>0</td>\n",
       "      <td>0</td>\n",
       "      <td>0</td>\n",
       "      <td>0</td>\n",
       "      <td>0</td>\n",
       "      <td>0</td>\n",
       "      <td>0</td>\n",
       "      <td>0</td>\n",
       "      <td>0</td>\n",
       "      <td>0</td>\n",
       "      <td>0</td>\n",
       "      <td>0</td>\n",
       "      <td>Ensemble methods: bagging, boosting and stacking</td>\n",
       "      <td>1</td>\n",
       "    </tr>\n",
       "    <tr>\n",
       "      <th>1</th>\n",
       "      <td>0</td>\n",
       "      <td>0</td>\n",
       "      <td>0</td>\n",
       "      <td>0</td>\n",
       "      <td>0</td>\n",
       "      <td>0</td>\n",
       "      <td>0</td>\n",
       "      <td>0</td>\n",
       "      <td>0</td>\n",
       "      <td>0</td>\n",
       "      <td>0</td>\n",
       "      <td>0</td>\n",
       "      <td>0</td>\n",
       "      <td>0</td>\n",
       "      <td>0</td>\n",
       "      <td>0</td>\n",
       "      <td>0</td>\n",
       "      <td>0</td>\n",
       "      <td>0</td>\n",
       "      <td>0</td>\n",
       "      <td>0</td>\n",
       "      <td>0</td>\n",
       "      <td>0</td>\n",
       "      <td>0</td>\n",
       "      <td>0</td>\n",
       "      <td>0</td>\n",
       "      <td>0</td>\n",
       "      <td>0</td>\n",
       "      <td>0</td>\n",
       "      <td>0</td>\n",
       "      <td>0</td>\n",
       "      <td>0</td>\n",
       "      <td>0</td>\n",
       "      <td>0</td>\n",
       "      <td>0</td>\n",
       "      <td>0</td>\n",
       "      <td>0</td>\n",
       "      <td>0</td>\n",
       "      <td>0</td>\n",
       "      <td>0</td>\n",
       "      <td>0</td>\n",
       "      <td>0</td>\n",
       "      <td>0</td>\n",
       "      <td>0</td>\n",
       "      <td>0</td>\n",
       "      <td>0</td>\n",
       "      <td>0</td>\n",
       "      <td>0</td>\n",
       "      <td>0</td>\n",
       "      <td>0</td>\n",
       "      <td>...</td>\n",
       "      <td>0</td>\n",
       "      <td>0</td>\n",
       "      <td>0</td>\n",
       "      <td>0</td>\n",
       "      <td>0</td>\n",
       "      <td>0</td>\n",
       "      <td>0</td>\n",
       "      <td>0</td>\n",
       "      <td>0</td>\n",
       "      <td>0</td>\n",
       "      <td>0</td>\n",
       "      <td>0</td>\n",
       "      <td>0</td>\n",
       "      <td>0</td>\n",
       "      <td>0</td>\n",
       "      <td>0</td>\n",
       "      <td>0</td>\n",
       "      <td>0</td>\n",
       "      <td>0</td>\n",
       "      <td>0</td>\n",
       "      <td>0</td>\n",
       "      <td>0</td>\n",
       "      <td>1</td>\n",
       "      <td>0</td>\n",
       "      <td>0</td>\n",
       "      <td>0</td>\n",
       "      <td>1</td>\n",
       "      <td>0</td>\n",
       "      <td>0</td>\n",
       "      <td>0</td>\n",
       "      <td>0</td>\n",
       "      <td>0</td>\n",
       "      <td>0</td>\n",
       "      <td>0</td>\n",
       "      <td>0</td>\n",
       "      <td>0</td>\n",
       "      <td>0</td>\n",
       "      <td>0</td>\n",
       "      <td>0</td>\n",
       "      <td>0</td>\n",
       "      <td>0</td>\n",
       "      <td>0</td>\n",
       "      <td>0</td>\n",
       "      <td>0</td>\n",
       "      <td>0</td>\n",
       "      <td>0</td>\n",
       "      <td>0</td>\n",
       "      <td>0</td>\n",
       "      <td>Understanding AUC - ROC Curve</td>\n",
       "      <td>2</td>\n",
       "    </tr>\n",
       "    <tr>\n",
       "      <th>2</th>\n",
       "      <td>0</td>\n",
       "      <td>0</td>\n",
       "      <td>0</td>\n",
       "      <td>0</td>\n",
       "      <td>1</td>\n",
       "      <td>0</td>\n",
       "      <td>1</td>\n",
       "      <td>0</td>\n",
       "      <td>0</td>\n",
       "      <td>0</td>\n",
       "      <td>0</td>\n",
       "      <td>0</td>\n",
       "      <td>0</td>\n",
       "      <td>0</td>\n",
       "      <td>0</td>\n",
       "      <td>0</td>\n",
       "      <td>0</td>\n",
       "      <td>0</td>\n",
       "      <td>0</td>\n",
       "      <td>0</td>\n",
       "      <td>0</td>\n",
       "      <td>0</td>\n",
       "      <td>0</td>\n",
       "      <td>0</td>\n",
       "      <td>0</td>\n",
       "      <td>0</td>\n",
       "      <td>0</td>\n",
       "      <td>0</td>\n",
       "      <td>0</td>\n",
       "      <td>0</td>\n",
       "      <td>0</td>\n",
       "      <td>0</td>\n",
       "      <td>0</td>\n",
       "      <td>0</td>\n",
       "      <td>0</td>\n",
       "      <td>0</td>\n",
       "      <td>0</td>\n",
       "      <td>0</td>\n",
       "      <td>0</td>\n",
       "      <td>0</td>\n",
       "      <td>0</td>\n",
       "      <td>0</td>\n",
       "      <td>0</td>\n",
       "      <td>0</td>\n",
       "      <td>0</td>\n",
       "      <td>0</td>\n",
       "      <td>0</td>\n",
       "      <td>0</td>\n",
       "      <td>1</td>\n",
       "      <td>0</td>\n",
       "      <td>...</td>\n",
       "      <td>0</td>\n",
       "      <td>0</td>\n",
       "      <td>0</td>\n",
       "      <td>0</td>\n",
       "      <td>0</td>\n",
       "      <td>0</td>\n",
       "      <td>0</td>\n",
       "      <td>0</td>\n",
       "      <td>0</td>\n",
       "      <td>0</td>\n",
       "      <td>4</td>\n",
       "      <td>0</td>\n",
       "      <td>0</td>\n",
       "      <td>0</td>\n",
       "      <td>0</td>\n",
       "      <td>0</td>\n",
       "      <td>0</td>\n",
       "      <td>0</td>\n",
       "      <td>0</td>\n",
       "      <td>0</td>\n",
       "      <td>0</td>\n",
       "      <td>0</td>\n",
       "      <td>2</td>\n",
       "      <td>0</td>\n",
       "      <td>0</td>\n",
       "      <td>1</td>\n",
       "      <td>1</td>\n",
       "      <td>0</td>\n",
       "      <td>0</td>\n",
       "      <td>0</td>\n",
       "      <td>1</td>\n",
       "      <td>0</td>\n",
       "      <td>0</td>\n",
       "      <td>0</td>\n",
       "      <td>0</td>\n",
       "      <td>0</td>\n",
       "      <td>0</td>\n",
       "      <td>0</td>\n",
       "      <td>0</td>\n",
       "      <td>0</td>\n",
       "      <td>0</td>\n",
       "      <td>0</td>\n",
       "      <td>0</td>\n",
       "      <td>0</td>\n",
       "      <td>0</td>\n",
       "      <td>0</td>\n",
       "      <td>0</td>\n",
       "      <td>0</td>\n",
       "      <td>How to work with object detection datasets in ...</td>\n",
       "      <td>3</td>\n",
       "    </tr>\n",
       "    <tr>\n",
       "      <th>3</th>\n",
       "      <td>0</td>\n",
       "      <td>0</td>\n",
       "      <td>0</td>\n",
       "      <td>0</td>\n",
       "      <td>0</td>\n",
       "      <td>0</td>\n",
       "      <td>0</td>\n",
       "      <td>0</td>\n",
       "      <td>0</td>\n",
       "      <td>0</td>\n",
       "      <td>0</td>\n",
       "      <td>0</td>\n",
       "      <td>1</td>\n",
       "      <td>0</td>\n",
       "      <td>0</td>\n",
       "      <td>0</td>\n",
       "      <td>0</td>\n",
       "      <td>0</td>\n",
       "      <td>1</td>\n",
       "      <td>1</td>\n",
       "      <td>0</td>\n",
       "      <td>0</td>\n",
       "      <td>0</td>\n",
       "      <td>0</td>\n",
       "      <td>0</td>\n",
       "      <td>0</td>\n",
       "      <td>0</td>\n",
       "      <td>0</td>\n",
       "      <td>0</td>\n",
       "      <td>0</td>\n",
       "      <td>0</td>\n",
       "      <td>0</td>\n",
       "      <td>0</td>\n",
       "      <td>0</td>\n",
       "      <td>0</td>\n",
       "      <td>0</td>\n",
       "      <td>0</td>\n",
       "      <td>0</td>\n",
       "      <td>0</td>\n",
       "      <td>0</td>\n",
       "      <td>0</td>\n",
       "      <td>0</td>\n",
       "      <td>0</td>\n",
       "      <td>0</td>\n",
       "      <td>0</td>\n",
       "      <td>0</td>\n",
       "      <td>0</td>\n",
       "      <td>0</td>\n",
       "      <td>0</td>\n",
       "      <td>0</td>\n",
       "      <td>...</td>\n",
       "      <td>0</td>\n",
       "      <td>0</td>\n",
       "      <td>0</td>\n",
       "      <td>0</td>\n",
       "      <td>0</td>\n",
       "      <td>0</td>\n",
       "      <td>0</td>\n",
       "      <td>0</td>\n",
       "      <td>0</td>\n",
       "      <td>0</td>\n",
       "      <td>4</td>\n",
       "      <td>0</td>\n",
       "      <td>0</td>\n",
       "      <td>0</td>\n",
       "      <td>0</td>\n",
       "      <td>3</td>\n",
       "      <td>0</td>\n",
       "      <td>1</td>\n",
       "      <td>0</td>\n",
       "      <td>0</td>\n",
       "      <td>0</td>\n",
       "      <td>0</td>\n",
       "      <td>4</td>\n",
       "      <td>0</td>\n",
       "      <td>0</td>\n",
       "      <td>0</td>\n",
       "      <td>0</td>\n",
       "      <td>0</td>\n",
       "      <td>0</td>\n",
       "      <td>0</td>\n",
       "      <td>0</td>\n",
       "      <td>0</td>\n",
       "      <td>0</td>\n",
       "      <td>1</td>\n",
       "      <td>0</td>\n",
       "      <td>0</td>\n",
       "      <td>0</td>\n",
       "      <td>0</td>\n",
       "      <td>0</td>\n",
       "      <td>0</td>\n",
       "      <td>0</td>\n",
       "      <td>1</td>\n",
       "      <td>0</td>\n",
       "      <td>0</td>\n",
       "      <td>0</td>\n",
       "      <td>0</td>\n",
       "      <td>0</td>\n",
       "      <td>0</td>\n",
       "      <td>11 Dimensionality reduction techniques you sho...</td>\n",
       "      <td>4</td>\n",
       "    </tr>\n",
       "    <tr>\n",
       "      <th>4</th>\n",
       "      <td>0</td>\n",
       "      <td>0</td>\n",
       "      <td>0</td>\n",
       "      <td>0</td>\n",
       "      <td>0</td>\n",
       "      <td>0</td>\n",
       "      <td>0</td>\n",
       "      <td>0</td>\n",
       "      <td>0</td>\n",
       "      <td>0</td>\n",
       "      <td>0</td>\n",
       "      <td>0</td>\n",
       "      <td>0</td>\n",
       "      <td>0</td>\n",
       "      <td>0</td>\n",
       "      <td>0</td>\n",
       "      <td>0</td>\n",
       "      <td>0</td>\n",
       "      <td>0</td>\n",
       "      <td>0</td>\n",
       "      <td>0</td>\n",
       "      <td>0</td>\n",
       "      <td>0</td>\n",
       "      <td>0</td>\n",
       "      <td>0</td>\n",
       "      <td>0</td>\n",
       "      <td>0</td>\n",
       "      <td>0</td>\n",
       "      <td>0</td>\n",
       "      <td>0</td>\n",
       "      <td>0</td>\n",
       "      <td>0</td>\n",
       "      <td>0</td>\n",
       "      <td>0</td>\n",
       "      <td>0</td>\n",
       "      <td>0</td>\n",
       "      <td>0</td>\n",
       "      <td>0</td>\n",
       "      <td>0</td>\n",
       "      <td>0</td>\n",
       "      <td>0</td>\n",
       "      <td>0</td>\n",
       "      <td>0</td>\n",
       "      <td>0</td>\n",
       "      <td>1</td>\n",
       "      <td>0</td>\n",
       "      <td>1</td>\n",
       "      <td>0</td>\n",
       "      <td>0</td>\n",
       "      <td>0</td>\n",
       "      <td>...</td>\n",
       "      <td>0</td>\n",
       "      <td>0</td>\n",
       "      <td>0</td>\n",
       "      <td>1</td>\n",
       "      <td>0</td>\n",
       "      <td>0</td>\n",
       "      <td>0</td>\n",
       "      <td>0</td>\n",
       "      <td>0</td>\n",
       "      <td>1</td>\n",
       "      <td>2</td>\n",
       "      <td>0</td>\n",
       "      <td>0</td>\n",
       "      <td>0</td>\n",
       "      <td>0</td>\n",
       "      <td>0</td>\n",
       "      <td>0</td>\n",
       "      <td>0</td>\n",
       "      <td>0</td>\n",
       "      <td>0</td>\n",
       "      <td>0</td>\n",
       "      <td>0</td>\n",
       "      <td>0</td>\n",
       "      <td>0</td>\n",
       "      <td>0</td>\n",
       "      <td>0</td>\n",
       "      <td>0</td>\n",
       "      <td>0</td>\n",
       "      <td>0</td>\n",
       "      <td>0</td>\n",
       "      <td>0</td>\n",
       "      <td>0</td>\n",
       "      <td>0</td>\n",
       "      <td>0</td>\n",
       "      <td>0</td>\n",
       "      <td>0</td>\n",
       "      <td>0</td>\n",
       "      <td>0</td>\n",
       "      <td>0</td>\n",
       "      <td>0</td>\n",
       "      <td>0</td>\n",
       "      <td>0</td>\n",
       "      <td>0</td>\n",
       "      <td>0</td>\n",
       "      <td>0</td>\n",
       "      <td>0</td>\n",
       "      <td>0</td>\n",
       "      <td>0</td>\n",
       "      <td>The Time Series Transformer</td>\n",
       "      <td>5</td>\n",
       "    </tr>\n",
       "    <tr>\n",
       "      <th>...</th>\n",
       "      <td>...</td>\n",
       "      <td>...</td>\n",
       "      <td>...</td>\n",
       "      <td>...</td>\n",
       "      <td>...</td>\n",
       "      <td>...</td>\n",
       "      <td>...</td>\n",
       "      <td>...</td>\n",
       "      <td>...</td>\n",
       "      <td>...</td>\n",
       "      <td>...</td>\n",
       "      <td>...</td>\n",
       "      <td>...</td>\n",
       "      <td>...</td>\n",
       "      <td>...</td>\n",
       "      <td>...</td>\n",
       "      <td>...</td>\n",
       "      <td>...</td>\n",
       "      <td>...</td>\n",
       "      <td>...</td>\n",
       "      <td>...</td>\n",
       "      <td>...</td>\n",
       "      <td>...</td>\n",
       "      <td>...</td>\n",
       "      <td>...</td>\n",
       "      <td>...</td>\n",
       "      <td>...</td>\n",
       "      <td>...</td>\n",
       "      <td>...</td>\n",
       "      <td>...</td>\n",
       "      <td>...</td>\n",
       "      <td>...</td>\n",
       "      <td>...</td>\n",
       "      <td>...</td>\n",
       "      <td>...</td>\n",
       "      <td>...</td>\n",
       "      <td>...</td>\n",
       "      <td>...</td>\n",
       "      <td>...</td>\n",
       "      <td>...</td>\n",
       "      <td>...</td>\n",
       "      <td>...</td>\n",
       "      <td>...</td>\n",
       "      <td>...</td>\n",
       "      <td>...</td>\n",
       "      <td>...</td>\n",
       "      <td>...</td>\n",
       "      <td>...</td>\n",
       "      <td>...</td>\n",
       "      <td>...</td>\n",
       "      <td>...</td>\n",
       "      <td>...</td>\n",
       "      <td>...</td>\n",
       "      <td>...</td>\n",
       "      <td>...</td>\n",
       "      <td>...</td>\n",
       "      <td>...</td>\n",
       "      <td>...</td>\n",
       "      <td>...</td>\n",
       "      <td>...</td>\n",
       "      <td>...</td>\n",
       "      <td>...</td>\n",
       "      <td>...</td>\n",
       "      <td>...</td>\n",
       "      <td>...</td>\n",
       "      <td>...</td>\n",
       "      <td>...</td>\n",
       "      <td>...</td>\n",
       "      <td>...</td>\n",
       "      <td>...</td>\n",
       "      <td>...</td>\n",
       "      <td>...</td>\n",
       "      <td>...</td>\n",
       "      <td>...</td>\n",
       "      <td>...</td>\n",
       "      <td>...</td>\n",
       "      <td>...</td>\n",
       "      <td>...</td>\n",
       "      <td>...</td>\n",
       "      <td>...</td>\n",
       "      <td>...</td>\n",
       "      <td>...</td>\n",
       "      <td>...</td>\n",
       "      <td>...</td>\n",
       "      <td>...</td>\n",
       "      <td>...</td>\n",
       "      <td>...</td>\n",
       "      <td>...</td>\n",
       "      <td>...</td>\n",
       "      <td>...</td>\n",
       "      <td>...</td>\n",
       "      <td>...</td>\n",
       "      <td>...</td>\n",
       "      <td>...</td>\n",
       "      <td>...</td>\n",
       "      <td>...</td>\n",
       "      <td>...</td>\n",
       "      <td>...</td>\n",
       "      <td>...</td>\n",
       "      <td>...</td>\n",
       "      <td>...</td>\n",
       "    </tr>\n",
       "    <tr>\n",
       "      <th>203</th>\n",
       "      <td>1</td>\n",
       "      <td>0</td>\n",
       "      <td>0</td>\n",
       "      <td>0</td>\n",
       "      <td>0</td>\n",
       "      <td>0</td>\n",
       "      <td>1</td>\n",
       "      <td>0</td>\n",
       "      <td>0</td>\n",
       "      <td>0</td>\n",
       "      <td>0</td>\n",
       "      <td>0</td>\n",
       "      <td>0</td>\n",
       "      <td>1</td>\n",
       "      <td>0</td>\n",
       "      <td>0</td>\n",
       "      <td>0</td>\n",
       "      <td>0</td>\n",
       "      <td>0</td>\n",
       "      <td>0</td>\n",
       "      <td>0</td>\n",
       "      <td>0</td>\n",
       "      <td>0</td>\n",
       "      <td>0</td>\n",
       "      <td>0</td>\n",
       "      <td>0</td>\n",
       "      <td>0</td>\n",
       "      <td>0</td>\n",
       "      <td>0</td>\n",
       "      <td>0</td>\n",
       "      <td>1</td>\n",
       "      <td>0</td>\n",
       "      <td>1</td>\n",
       "      <td>0</td>\n",
       "      <td>0</td>\n",
       "      <td>1</td>\n",
       "      <td>0</td>\n",
       "      <td>0</td>\n",
       "      <td>0</td>\n",
       "      <td>0</td>\n",
       "      <td>0</td>\n",
       "      <td>0</td>\n",
       "      <td>0</td>\n",
       "      <td>0</td>\n",
       "      <td>0</td>\n",
       "      <td>1</td>\n",
       "      <td>0</td>\n",
       "      <td>0</td>\n",
       "      <td>0</td>\n",
       "      <td>0</td>\n",
       "      <td>...</td>\n",
       "      <td>0</td>\n",
       "      <td>0</td>\n",
       "      <td>0</td>\n",
       "      <td>0</td>\n",
       "      <td>0</td>\n",
       "      <td>0</td>\n",
       "      <td>1</td>\n",
       "      <td>0</td>\n",
       "      <td>0</td>\n",
       "      <td>0</td>\n",
       "      <td>4</td>\n",
       "      <td>0</td>\n",
       "      <td>0</td>\n",
       "      <td>0</td>\n",
       "      <td>0</td>\n",
       "      <td>0</td>\n",
       "      <td>0</td>\n",
       "      <td>0</td>\n",
       "      <td>1</td>\n",
       "      <td>0</td>\n",
       "      <td>0</td>\n",
       "      <td>0</td>\n",
       "      <td>1</td>\n",
       "      <td>0</td>\n",
       "      <td>0</td>\n",
       "      <td>3</td>\n",
       "      <td>0</td>\n",
       "      <td>0</td>\n",
       "      <td>0</td>\n",
       "      <td>0</td>\n",
       "      <td>4</td>\n",
       "      <td>0</td>\n",
       "      <td>0</td>\n",
       "      <td>0</td>\n",
       "      <td>0</td>\n",
       "      <td>0</td>\n",
       "      <td>0</td>\n",
       "      <td>0</td>\n",
       "      <td>0</td>\n",
       "      <td>1</td>\n",
       "      <td>0</td>\n",
       "      <td>0</td>\n",
       "      <td>0</td>\n",
       "      <td>0</td>\n",
       "      <td>0</td>\n",
       "      <td>0</td>\n",
       "      <td>0</td>\n",
       "      <td>0</td>\n",
       "      <td>Type 2 Diabetes Reversal  The Quick Start Guide</td>\n",
       "      <td>210</td>\n",
       "    </tr>\n",
       "    <tr>\n",
       "      <th>204</th>\n",
       "      <td>0</td>\n",
       "      <td>0</td>\n",
       "      <td>0</td>\n",
       "      <td>0</td>\n",
       "      <td>0</td>\n",
       "      <td>0</td>\n",
       "      <td>0</td>\n",
       "      <td>0</td>\n",
       "      <td>0</td>\n",
       "      <td>0</td>\n",
       "      <td>0</td>\n",
       "      <td>0</td>\n",
       "      <td>0</td>\n",
       "      <td>1</td>\n",
       "      <td>0</td>\n",
       "      <td>0</td>\n",
       "      <td>0</td>\n",
       "      <td>0</td>\n",
       "      <td>1</td>\n",
       "      <td>0</td>\n",
       "      <td>0</td>\n",
       "      <td>0</td>\n",
       "      <td>0</td>\n",
       "      <td>0</td>\n",
       "      <td>0</td>\n",
       "      <td>0</td>\n",
       "      <td>0</td>\n",
       "      <td>0</td>\n",
       "      <td>0</td>\n",
       "      <td>0</td>\n",
       "      <td>0</td>\n",
       "      <td>0</td>\n",
       "      <td>0</td>\n",
       "      <td>0</td>\n",
       "      <td>0</td>\n",
       "      <td>0</td>\n",
       "      <td>0</td>\n",
       "      <td>0</td>\n",
       "      <td>0</td>\n",
       "      <td>0</td>\n",
       "      <td>0</td>\n",
       "      <td>0</td>\n",
       "      <td>0</td>\n",
       "      <td>0</td>\n",
       "      <td>0</td>\n",
       "      <td>0</td>\n",
       "      <td>0</td>\n",
       "      <td>0</td>\n",
       "      <td>0</td>\n",
       "      <td>0</td>\n",
       "      <td>...</td>\n",
       "      <td>0</td>\n",
       "      <td>0</td>\n",
       "      <td>0</td>\n",
       "      <td>0</td>\n",
       "      <td>0</td>\n",
       "      <td>0</td>\n",
       "      <td>1</td>\n",
       "      <td>0</td>\n",
       "      <td>0</td>\n",
       "      <td>0</td>\n",
       "      <td>4</td>\n",
       "      <td>0</td>\n",
       "      <td>0</td>\n",
       "      <td>0</td>\n",
       "      <td>0</td>\n",
       "      <td>0</td>\n",
       "      <td>0</td>\n",
       "      <td>0</td>\n",
       "      <td>0</td>\n",
       "      <td>0</td>\n",
       "      <td>0</td>\n",
       "      <td>0</td>\n",
       "      <td>0</td>\n",
       "      <td>0</td>\n",
       "      <td>0</td>\n",
       "      <td>2</td>\n",
       "      <td>3</td>\n",
       "      <td>0</td>\n",
       "      <td>0</td>\n",
       "      <td>0</td>\n",
       "      <td>1</td>\n",
       "      <td>0</td>\n",
       "      <td>0</td>\n",
       "      <td>1</td>\n",
       "      <td>0</td>\n",
       "      <td>0</td>\n",
       "      <td>0</td>\n",
       "      <td>0</td>\n",
       "      <td>1</td>\n",
       "      <td>0</td>\n",
       "      <td>0</td>\n",
       "      <td>0</td>\n",
       "      <td>0</td>\n",
       "      <td>0</td>\n",
       "      <td>0</td>\n",
       "      <td>2</td>\n",
       "      <td>0</td>\n",
       "      <td>0</td>\n",
       "      <td>How a 22 Day Water Fast Changed My Life</td>\n",
       "      <td>211</td>\n",
       "    </tr>\n",
       "    <tr>\n",
       "      <th>205</th>\n",
       "      <td>0</td>\n",
       "      <td>0</td>\n",
       "      <td>0</td>\n",
       "      <td>0</td>\n",
       "      <td>0</td>\n",
       "      <td>0</td>\n",
       "      <td>1</td>\n",
       "      <td>0</td>\n",
       "      <td>0</td>\n",
       "      <td>0</td>\n",
       "      <td>0</td>\n",
       "      <td>0</td>\n",
       "      <td>1</td>\n",
       "      <td>1</td>\n",
       "      <td>0</td>\n",
       "      <td>0</td>\n",
       "      <td>0</td>\n",
       "      <td>0</td>\n",
       "      <td>0</td>\n",
       "      <td>0</td>\n",
       "      <td>0</td>\n",
       "      <td>0</td>\n",
       "      <td>0</td>\n",
       "      <td>0</td>\n",
       "      <td>0</td>\n",
       "      <td>0</td>\n",
       "      <td>0</td>\n",
       "      <td>0</td>\n",
       "      <td>0</td>\n",
       "      <td>0</td>\n",
       "      <td>0</td>\n",
       "      <td>0</td>\n",
       "      <td>0</td>\n",
       "      <td>0</td>\n",
       "      <td>0</td>\n",
       "      <td>0</td>\n",
       "      <td>0</td>\n",
       "      <td>0</td>\n",
       "      <td>0</td>\n",
       "      <td>0</td>\n",
       "      <td>0</td>\n",
       "      <td>0</td>\n",
       "      <td>0</td>\n",
       "      <td>0</td>\n",
       "      <td>0</td>\n",
       "      <td>0</td>\n",
       "      <td>0</td>\n",
       "      <td>0</td>\n",
       "      <td>0</td>\n",
       "      <td>0</td>\n",
       "      <td>...</td>\n",
       "      <td>0</td>\n",
       "      <td>0</td>\n",
       "      <td>0</td>\n",
       "      <td>0</td>\n",
       "      <td>0</td>\n",
       "      <td>0</td>\n",
       "      <td>0</td>\n",
       "      <td>0</td>\n",
       "      <td>0</td>\n",
       "      <td>0</td>\n",
       "      <td>0</td>\n",
       "      <td>0</td>\n",
       "      <td>0</td>\n",
       "      <td>0</td>\n",
       "      <td>0</td>\n",
       "      <td>0</td>\n",
       "      <td>0</td>\n",
       "      <td>0</td>\n",
       "      <td>0</td>\n",
       "      <td>0</td>\n",
       "      <td>0</td>\n",
       "      <td>0</td>\n",
       "      <td>0</td>\n",
       "      <td>0</td>\n",
       "      <td>0</td>\n",
       "      <td>0</td>\n",
       "      <td>0</td>\n",
       "      <td>0</td>\n",
       "      <td>0</td>\n",
       "      <td>0</td>\n",
       "      <td>0</td>\n",
       "      <td>0</td>\n",
       "      <td>0</td>\n",
       "      <td>0</td>\n",
       "      <td>0</td>\n",
       "      <td>0</td>\n",
       "      <td>0</td>\n",
       "      <td>0</td>\n",
       "      <td>0</td>\n",
       "      <td>0</td>\n",
       "      <td>0</td>\n",
       "      <td>1</td>\n",
       "      <td>0</td>\n",
       "      <td>0</td>\n",
       "      <td>0</td>\n",
       "      <td>0</td>\n",
       "      <td>0</td>\n",
       "      <td>0</td>\n",
       "      <td>Breaking Your Fast</td>\n",
       "      <td>212</td>\n",
       "    </tr>\n",
       "    <tr>\n",
       "      <th>206</th>\n",
       "      <td>0</td>\n",
       "      <td>0</td>\n",
       "      <td>0</td>\n",
       "      <td>0</td>\n",
       "      <td>0</td>\n",
       "      <td>0</td>\n",
       "      <td>5</td>\n",
       "      <td>0</td>\n",
       "      <td>0</td>\n",
       "      <td>0</td>\n",
       "      <td>0</td>\n",
       "      <td>0</td>\n",
       "      <td>0</td>\n",
       "      <td>0</td>\n",
       "      <td>0</td>\n",
       "      <td>0</td>\n",
       "      <td>0</td>\n",
       "      <td>0</td>\n",
       "      <td>0</td>\n",
       "      <td>3</td>\n",
       "      <td>0</td>\n",
       "      <td>0</td>\n",
       "      <td>0</td>\n",
       "      <td>2</td>\n",
       "      <td>0</td>\n",
       "      <td>0</td>\n",
       "      <td>0</td>\n",
       "      <td>0</td>\n",
       "      <td>0</td>\n",
       "      <td>0</td>\n",
       "      <td>0</td>\n",
       "      <td>0</td>\n",
       "      <td>0</td>\n",
       "      <td>0</td>\n",
       "      <td>0</td>\n",
       "      <td>0</td>\n",
       "      <td>0</td>\n",
       "      <td>0</td>\n",
       "      <td>0</td>\n",
       "      <td>0</td>\n",
       "      <td>0</td>\n",
       "      <td>0</td>\n",
       "      <td>0</td>\n",
       "      <td>0</td>\n",
       "      <td>1</td>\n",
       "      <td>0</td>\n",
       "      <td>0</td>\n",
       "      <td>0</td>\n",
       "      <td>0</td>\n",
       "      <td>0</td>\n",
       "      <td>...</td>\n",
       "      <td>0</td>\n",
       "      <td>0</td>\n",
       "      <td>0</td>\n",
       "      <td>0</td>\n",
       "      <td>0</td>\n",
       "      <td>0</td>\n",
       "      <td>0</td>\n",
       "      <td>0</td>\n",
       "      <td>0</td>\n",
       "      <td>0</td>\n",
       "      <td>10</td>\n",
       "      <td>0</td>\n",
       "      <td>0</td>\n",
       "      <td>0</td>\n",
       "      <td>0</td>\n",
       "      <td>1</td>\n",
       "      <td>0</td>\n",
       "      <td>0</td>\n",
       "      <td>0</td>\n",
       "      <td>0</td>\n",
       "      <td>0</td>\n",
       "      <td>0</td>\n",
       "      <td>3</td>\n",
       "      <td>0</td>\n",
       "      <td>0</td>\n",
       "      <td>0</td>\n",
       "      <td>1</td>\n",
       "      <td>0</td>\n",
       "      <td>0</td>\n",
       "      <td>0</td>\n",
       "      <td>2</td>\n",
       "      <td>0</td>\n",
       "      <td>0</td>\n",
       "      <td>0</td>\n",
       "      <td>0</td>\n",
       "      <td>0</td>\n",
       "      <td>0</td>\n",
       "      <td>0</td>\n",
       "      <td>0</td>\n",
       "      <td>0</td>\n",
       "      <td>0</td>\n",
       "      <td>0</td>\n",
       "      <td>0</td>\n",
       "      <td>0</td>\n",
       "      <td>1</td>\n",
       "      <td>1</td>\n",
       "      <td>0</td>\n",
       "      <td>0</td>\n",
       "      <td>11 Unusual Tips for How to Wake Up Early</td>\n",
       "      <td>213</td>\n",
       "    </tr>\n",
       "    <tr>\n",
       "      <th>207</th>\n",
       "      <td>0</td>\n",
       "      <td>0</td>\n",
       "      <td>0</td>\n",
       "      <td>0</td>\n",
       "      <td>0</td>\n",
       "      <td>0</td>\n",
       "      <td>1</td>\n",
       "      <td>0</td>\n",
       "      <td>0</td>\n",
       "      <td>0</td>\n",
       "      <td>0</td>\n",
       "      <td>0</td>\n",
       "      <td>0</td>\n",
       "      <td>0</td>\n",
       "      <td>0</td>\n",
       "      <td>0</td>\n",
       "      <td>0</td>\n",
       "      <td>0</td>\n",
       "      <td>0</td>\n",
       "      <td>0</td>\n",
       "      <td>0</td>\n",
       "      <td>0</td>\n",
       "      <td>0</td>\n",
       "      <td>0</td>\n",
       "      <td>0</td>\n",
       "      <td>0</td>\n",
       "      <td>0</td>\n",
       "      <td>0</td>\n",
       "      <td>0</td>\n",
       "      <td>0</td>\n",
       "      <td>1</td>\n",
       "      <td>0</td>\n",
       "      <td>0</td>\n",
       "      <td>0</td>\n",
       "      <td>0</td>\n",
       "      <td>0</td>\n",
       "      <td>0</td>\n",
       "      <td>0</td>\n",
       "      <td>0</td>\n",
       "      <td>0</td>\n",
       "      <td>0</td>\n",
       "      <td>0</td>\n",
       "      <td>0</td>\n",
       "      <td>0</td>\n",
       "      <td>0</td>\n",
       "      <td>0</td>\n",
       "      <td>0</td>\n",
       "      <td>0</td>\n",
       "      <td>0</td>\n",
       "      <td>0</td>\n",
       "      <td>...</td>\n",
       "      <td>0</td>\n",
       "      <td>0</td>\n",
       "      <td>0</td>\n",
       "      <td>0</td>\n",
       "      <td>0</td>\n",
       "      <td>5</td>\n",
       "      <td>0</td>\n",
       "      <td>0</td>\n",
       "      <td>0</td>\n",
       "      <td>3</td>\n",
       "      <td>2</td>\n",
       "      <td>0</td>\n",
       "      <td>0</td>\n",
       "      <td>0</td>\n",
       "      <td>0</td>\n",
       "      <td>0</td>\n",
       "      <td>1</td>\n",
       "      <td>0</td>\n",
       "      <td>0</td>\n",
       "      <td>0</td>\n",
       "      <td>0</td>\n",
       "      <td>0</td>\n",
       "      <td>2</td>\n",
       "      <td>0</td>\n",
       "      <td>0</td>\n",
       "      <td>1</td>\n",
       "      <td>0</td>\n",
       "      <td>0</td>\n",
       "      <td>0</td>\n",
       "      <td>0</td>\n",
       "      <td>1</td>\n",
       "      <td>0</td>\n",
       "      <td>0</td>\n",
       "      <td>2</td>\n",
       "      <td>0</td>\n",
       "      <td>0</td>\n",
       "      <td>2</td>\n",
       "      <td>0</td>\n",
       "      <td>0</td>\n",
       "      <td>0</td>\n",
       "      <td>0</td>\n",
       "      <td>0</td>\n",
       "      <td>0</td>\n",
       "      <td>0</td>\n",
       "      <td>0</td>\n",
       "      <td>0</td>\n",
       "      <td>0</td>\n",
       "      <td>0</td>\n",
       "      <td>The 3 Biggest Mistakes Women Make On The Ketog...</td>\n",
       "      <td>214</td>\n",
       "    </tr>\n",
       "  </tbody>\n",
       "</table>\n",
       "<p>208 rows × 3709 columns</p>\n",
       "</div>"
      ],
      "text/plain": [
       "     00  000  01  05  06  07  10  100  1000  101  10k  10x  11  12  120  125  \\\n",
       "0     0    0   0   0   0   0   0    0     0    0    0    0   0   0    0    0   \n",
       "1     0    0   0   0   0   0   0    0     0    0    0    0   0   0    0    0   \n",
       "2     0    0   0   0   1   0   1    0     0    0    0    0   0   0    0    0   \n",
       "3     0    0   0   0   0   0   0    0     0    0    0    0   1   0    0    0   \n",
       "4     0    0   0   0   0   0   0    0     0    0    0    0   0   0    0    0   \n",
       "..   ..  ...  ..  ..  ..  ..  ..  ...   ...  ...  ...  ...  ..  ..  ...  ...   \n",
       "203   1    0   0   0   0   0   1    0     0    0    0    0   0   1    0    0   \n",
       "204   0    0   0   0   0   0   0    0     0    0    0    0   0   1    0    0   \n",
       "205   0    0   0   0   0   0   1    0     0    0    0    0   1   1    0    0   \n",
       "206   0    0   0   0   0   0   5    0     0    0    0    0   0   0    0    0   \n",
       "207   0    0   0   0   0   0   1    0     0    0    0    0   0   0    0    0   \n",
       "\n",
       "     128  13  14  15  150  16  17  18  19  1980  1989  1990  1k  1st  20  200  \\\n",
       "0      0   0   0   0    0   0   0   0   0     0     0     0   0    0   0    0   \n",
       "1      0   0   0   0    0   0   0   0   0     0     0     0   0    0   0    0   \n",
       "2      0   0   0   0    0   0   0   0   0     0     0     0   0    0   0    0   \n",
       "3      0   0   1   1    0   0   0   0   0     0     0     0   0    0   0    0   \n",
       "4      0   0   0   0    0   0   0   0   0     0     0     0   0    0   0    0   \n",
       "..   ...  ..  ..  ..  ...  ..  ..  ..  ..   ...   ...   ...  ..  ...  ..  ...   \n",
       "203    0   0   0   0    0   0   0   0   0     0     0     0   0    0   1    0   \n",
       "204    0   0   1   0    0   0   0   0   0     0     0     0   0    0   0    0   \n",
       "205    0   0   0   0    0   0   0   0   0     0     0     0   0    0   0    0   \n",
       "206    0   0   0   3    0   0   0   2   0     0     0     0   0    0   0    0   \n",
       "207    0   0   0   0    0   0   0   0   0     0     0     0   0    0   1    0   \n",
       "\n",
       "     2000  2001  2005  2008  2009  2010  2011  2012  2013  2014  2015  2016  \\\n",
       "0       0     0     0     0     0     0     0     0     0     0     0     0   \n",
       "1       0     0     0     0     0     0     0     0     0     0     0     0   \n",
       "2       0     0     0     0     0     0     0     0     0     0     0     0   \n",
       "3       0     0     0     0     0     0     0     0     0     0     0     0   \n",
       "4       0     0     0     0     0     0     0     0     0     0     0     0   \n",
       "..    ...   ...   ...   ...   ...   ...   ...   ...   ...   ...   ...   ...   \n",
       "203     1     0     0     1     0     0     0     0     0     0     0     0   \n",
       "204     0     0     0     0     0     0     0     0     0     0     0     0   \n",
       "205     0     0     0     0     0     0     0     0     0     0     0     0   \n",
       "206     0     0     0     0     0     0     0     0     0     0     0     0   \n",
       "207     0     0     0     0     0     0     0     0     0     0     0     0   \n",
       "\n",
       "     2017  2018  2019  2020  2021  21  ...  winter  wire  wise  wish  \\\n",
       "0       0     0     0     0     0   0  ...       0     0     0     0   \n",
       "1       0     0     0     0     0   0  ...       0     0     0     0   \n",
       "2       0     0     0     0     1   0  ...       0     0     0     0   \n",
       "3       0     0     0     0     0   0  ...       0     0     0     0   \n",
       "4       1     0     1     0     0   0  ...       0     0     0     1   \n",
       "..    ...   ...   ...   ...   ...  ..  ...     ...   ...   ...   ...   \n",
       "203     0     1     0     0     0   0  ...       0     0     0     0   \n",
       "204     0     0     0     0     0   0  ...       0     0     0     0   \n",
       "205     0     0     0     0     0   0  ...       0     0     0     0   \n",
       "206     1     0     0     0     0   0  ...       0     0     0     0   \n",
       "207     0     0     0     0     0   0  ...       0     0     0     0   \n",
       "\n",
       "     withdraw  woman  wonder  wonderful  wood  word  work  worker  workflow  \\\n",
       "0           0      0       0          0     0     2     2       0         0   \n",
       "1           0      0       0          0     0     0     0       0         0   \n",
       "2           0      0       0          0     0     0     4       0         0   \n",
       "3           0      0       0          0     0     0     4       0         0   \n",
       "4           0      0       0          0     0     1     2       0         0   \n",
       "..        ...    ...     ...        ...   ...   ...   ...     ...       ...   \n",
       "203         0      0       1          0     0     0     4       0         0   \n",
       "204         0      0       1          0     0     0     4       0         0   \n",
       "205         0      0       0          0     0     0     0       0         0   \n",
       "206         0      0       0          0     0     0    10       0         0   \n",
       "207         0      5       0          0     0     3     2       0         0   \n",
       "\n",
       "     working  workout  world  worried  worry  worsen  worth  wow  wrap  write  \\\n",
       "0          0        0      0        0      0       0      0    0     0      4   \n",
       "1          0        0      0        0      0       0      0    0     0      1   \n",
       "2          0        0      0        0      0       0      0    0     0      2   \n",
       "3          0        0      3        0      1       0      0    0     0      4   \n",
       "4          0        0      0        0      0       0      0    0     0      0   \n",
       "..       ...      ...    ...      ...    ...     ...    ...  ...   ...    ...   \n",
       "203        0        0      0        0      0       1      0    0     0      1   \n",
       "204        0        0      0        0      0       0      0    0     0      0   \n",
       "205        0        0      0        0      0       0      0    0     0      0   \n",
       "206        0        0      1        0      0       0      0    0     0      3   \n",
       "207        0        0      0        1      0       0      0    0     0      2   \n",
       "\n",
       "     writer  writing  wrong  www  xgboost  xi  yeah  year  yearly  yellow  \\\n",
       "0         0        0      0    0        1   0     0     0       0       0   \n",
       "1         0        0      0    1        0   0     0     0       0       0   \n",
       "2         0        0      1    1        0   0     0     1       0       0   \n",
       "3         0        0      0    0        0   0     0     0       0       0   \n",
       "4         0        0      0    0        0   0     0     0       0       0   \n",
       "..      ...      ...    ...  ...      ...  ..   ...   ...     ...     ...   \n",
       "203       0        0      3    0        0   0     0     4       0       0   \n",
       "204       0        0      2    3        0   0     0     1       0       0   \n",
       "205       0        0      0    0        0   0     0     0       0       0   \n",
       "206       0        0      0    1        0   0     0     2       0       0   \n",
       "207       0        0      1    0        0   0     0     1       0       0   \n",
       "\n",
       "     yes  yesterday  yield  yo  york  you  young  youtube  zero  zhou  zip  \\\n",
       "0      0          0      0   0     0    0      0        0     0     0    0   \n",
       "1      0          0      0   0     0    0      0        0     0     0    0   \n",
       "2      0          0      0   0     0    0      0        0     0     0    0   \n",
       "3      1          0      0   0     0    0      0        0     1     0    0   \n",
       "4      0          0      0   0     0    0      0        0     0     0    0   \n",
       "..   ...        ...    ...  ..   ...  ...    ...      ...   ...   ...  ...   \n",
       "203    0          0      0   0     0    0      1        0     0     0    0   \n",
       "204    1          0      0   0     0    1      0        0     0     0    0   \n",
       "205    0          0      0   0     0    0      0        0     1     0    0   \n",
       "206    0          0      0   0     0    0      0        0     0     0    0   \n",
       "207    2          0      0   2     0    0      0        0     0     0    0   \n",
       "\n",
       "     zombie  zone  zoom  zuckerberg  \\\n",
       "0         0     0     0           0   \n",
       "1         0     0     0           0   \n",
       "2         0     0     0           0   \n",
       "3         0     0     0           0   \n",
       "4         0     0     0           0   \n",
       "..      ...   ...   ...         ...   \n",
       "203       0     0     0           0   \n",
       "204       0     2     0           0   \n",
       "205       0     0     0           0   \n",
       "206       1     1     0           0   \n",
       "207       0     0     0           0   \n",
       "\n",
       "                                                 TITLE   ID  \n",
       "0     Ensemble methods: bagging, boosting and stacking    1  \n",
       "1                        Understanding AUC - ROC Curve    2  \n",
       "2    How to work with object detection datasets in ...    3  \n",
       "3    11 Dimensionality reduction techniques you sho...    4  \n",
       "4                          The Time Series Transformer    5  \n",
       "..                                                 ...  ...  \n",
       "203    Type 2 Diabetes Reversal  The Quick Start Guide  210  \n",
       "204            How a 22 Day Water Fast Changed My Life  211  \n",
       "205                                 Breaking Your Fast  212  \n",
       "206           11 Unusual Tips for How to Wake Up Early  213  \n",
       "207  The 3 Biggest Mistakes Women Make On The Ketog...  214  \n",
       "\n",
       "[208 rows x 3709 columns]"
      ]
     },
     "metadata": {},
     "output_type": "display_data"
    }
   ],
   "source": [
    "# BOW representation of the dataset Using CountVectorizer from scikit-learn\n",
    "count_vectorizer = CountVectorizer(min_df=5)\n",
    "# min_df: ignore terms that have a document frequency strictly lower than the given threshold.\n",
    "\n",
    "# Learn the vocabulary dictionary and return document-term matrix\n",
    "bow_features = count_vectorizer.fit_transform(articles[\"processed_text\"]).todense() # todense() returns a matrix\n",
    "# create dataframe\n",
    "bow_features_df = pd.DataFrame(bow_features)\n",
    "bow_features_df.columns = count_vectorizer.get_feature_names_out() # Get output feature names for dataframe columns.\n",
    "bow_features_df[\"TITLE\"] = articles[\"title\"]\n",
    "bow_features_df[\"ID\"] = articles[\"id\"]\n",
    "display(bow_features_df)"
   ]
  },
  {
   "cell_type": "code",
   "execution_count": 23,
   "metadata": {},
   "outputs": [
    {
     "data": {
      "text/html": [
       "<div>\n",
       "<style scoped>\n",
       "    .dataframe tbody tr th:only-of-type {\n",
       "        vertical-align: middle;\n",
       "    }\n",
       "\n",
       "    .dataframe tbody tr th {\n",
       "        vertical-align: top;\n",
       "    }\n",
       "\n",
       "    .dataframe thead th {\n",
       "        text-align: right;\n",
       "    }\n",
       "</style>\n",
       "<table border=\"1\" class=\"dataframe\">\n",
       "  <thead>\n",
       "    <tr style=\"text-align: right;\">\n",
       "      <th></th>\n",
       "      <th>C1</th>\n",
       "      <th>C2</th>\n",
       "      <th>TITLE</th>\n",
       "      <th>ID</th>\n",
       "    </tr>\n",
       "  </thead>\n",
       "  <tbody>\n",
       "    <tr>\n",
       "      <th>0</th>\n",
       "      <td>1.383940</td>\n",
       "      <td>-4.536492</td>\n",
       "      <td>Ensemble methods: bagging, boosting and stacking</td>\n",
       "      <td>1</td>\n",
       "    </tr>\n",
       "    <tr>\n",
       "      <th>1</th>\n",
       "      <td>-0.719068</td>\n",
       "      <td>-0.520001</td>\n",
       "      <td>Understanding AUC - ROC Curve</td>\n",
       "      <td>2</td>\n",
       "    </tr>\n",
       "    <tr>\n",
       "      <th>2</th>\n",
       "      <td>0.298191</td>\n",
       "      <td>-2.954882</td>\n",
       "      <td>How to work with object detection datasets in ...</td>\n",
       "      <td>3</td>\n",
       "    </tr>\n",
       "    <tr>\n",
       "      <th>3</th>\n",
       "      <td>-0.420509</td>\n",
       "      <td>-4.320594</td>\n",
       "      <td>11 Dimensionality reduction techniques you sho...</td>\n",
       "      <td>4</td>\n",
       "    </tr>\n",
       "    <tr>\n",
       "      <th>4</th>\n",
       "      <td>1.005822</td>\n",
       "      <td>-1.902081</td>\n",
       "      <td>The Time Series Transformer</td>\n",
       "      <td>5</td>\n",
       "    </tr>\n",
       "    <tr>\n",
       "      <th>...</th>\n",
       "      <td>...</td>\n",
       "      <td>...</td>\n",
       "      <td>...</td>\n",
       "      <td>...</td>\n",
       "    </tr>\n",
       "    <tr>\n",
       "      <th>203</th>\n",
       "      <td>1.157165</td>\n",
       "      <td>3.990360</td>\n",
       "      <td>Type 2 Diabetes Reversal  The Quick Start Guide</td>\n",
       "      <td>210</td>\n",
       "    </tr>\n",
       "    <tr>\n",
       "      <th>204</th>\n",
       "      <td>0.242183</td>\n",
       "      <td>5.346517</td>\n",
       "      <td>How a 22 Day Water Fast Changed My Life</td>\n",
       "      <td>211</td>\n",
       "    </tr>\n",
       "    <tr>\n",
       "      <th>205</th>\n",
       "      <td>0.377055</td>\n",
       "      <td>5.256718</td>\n",
       "      <td>Breaking Your Fast</td>\n",
       "      <td>212</td>\n",
       "    </tr>\n",
       "    <tr>\n",
       "      <th>206</th>\n",
       "      <td>-1.552275</td>\n",
       "      <td>4.267197</td>\n",
       "      <td>11 Unusual Tips for How to Wake Up Early</td>\n",
       "      <td>213</td>\n",
       "    </tr>\n",
       "    <tr>\n",
       "      <th>207</th>\n",
       "      <td>1.202114</td>\n",
       "      <td>4.753850</td>\n",
       "      <td>The 3 Biggest Mistakes Women Make On The Ketog...</td>\n",
       "      <td>214</td>\n",
       "    </tr>\n",
       "  </tbody>\n",
       "</table>\n",
       "<p>208 rows × 4 columns</p>\n",
       "</div>"
      ],
      "text/plain": [
       "           C1        C2                                              TITLE  \\\n",
       "0    1.383940 -4.536492   Ensemble methods: bagging, boosting and stacking   \n",
       "1   -0.719068 -0.520001                      Understanding AUC - ROC Curve   \n",
       "2    0.298191 -2.954882  How to work with object detection datasets in ...   \n",
       "3   -0.420509 -4.320594  11 Dimensionality reduction techniques you sho...   \n",
       "4    1.005822 -1.902081                        The Time Series Transformer   \n",
       "..        ...       ...                                                ...   \n",
       "203  1.157165  3.990360    Type 2 Diabetes Reversal  The Quick Start Guide   \n",
       "204  0.242183  5.346517            How a 22 Day Water Fast Changed My Life   \n",
       "205  0.377055  5.256718                                 Breaking Your Fast   \n",
       "206 -1.552275  4.267197           11 Unusual Tips for How to Wake Up Early   \n",
       "207  1.202114  4.753850  The 3 Biggest Mistakes Women Make On The Ketog...   \n",
       "\n",
       "      ID  \n",
       "0      1  \n",
       "1      2  \n",
       "2      3  \n",
       "3      4  \n",
       "4      5  \n",
       "..   ...  \n",
       "203  210  \n",
       "204  211  \n",
       "205  212  \n",
       "206  213  \n",
       "207  214  \n",
       "\n",
       "[208 rows x 4 columns]"
      ]
     },
     "metadata": {},
     "output_type": "display_data"
    }
   ],
   "source": [
    "from sklearn.manifold import TSNE\n",
    "# using t-sne to observe any trends, and clusters.\n",
    "tsne = TSNE(n_components=2) # n_components: estimated number of components\n",
    "tsne_bow_features = tsne.fit_transform(bow_features_df[count_vectorizer.get_feature_names_out()].values)\n",
    "tsne_bow_features_df = pd.DataFrame(tsne_bow_features)\n",
    "tsne_bow_features_df.columns = [\"C1\", \"C2\"]\n",
    "tsne_bow_features_df[\"TITLE\"] = bow_features_df[\"TITLE\"]\n",
    "tsne_bow_features_df[\"ID\"] = bow_features_df[\"ID\"]\n",
    "\n",
    "display(tsne_bow_features_df)"
   ]
  },
  {
   "cell_type": "code",
   "execution_count": 24,
   "metadata": {},
   "outputs": [
    {
     "data": {
      "application/vnd.plotly.v1+json": {
       "config": {
        "plotlyServerURL": "https://plot.ly"
       },
       "data": [
        {
         "customdata": [
          [
           "Ensemble methods: bagging, boosting and stacking"
          ],
          [
           "Understanding AUC - ROC Curve"
          ],
          [
           "How to work with object detection datasets in COCO format"
          ],
          [
           "11 Dimensionality reduction techniques you should know in 2021"
          ],
          [
           "The Time Series Transformer"
          ],
          [
           "Learning a Personalized Homepage"
          ],
          [
           "6 Data Science Certificates To Level Up Your Career"
          ],
          [
           "Transformers Explained Visually (Part 2): How it works, step-by-step"
          ],
          [
           "60 Python Projects with Source Code"
          ],
          [
           "Geometric foundations of Deep Learning"
          ],
          [
           "Machine Learning Basics with the K-Nearest Neighbors Algorithm"
          ],
          [
           "Building RNN, LSTM, and GRU for time series using PyTorch"
          ],
          [
           "Algorithms of the Mind"
          ],
          [
           "4 Reasons Why Economists Make Great Data Scientists (And Why No One Tells Them)"
          ],
          [
           "How To Create A Chatbot with Python & Deep Learning In Less Than An Hour"
          ],
          [
           "Machine Learning is Fun Part 5: Language Translation with Deep Learning and the Magic of Sequences"
          ],
          [
           "Illustrated Guide to LSTM's and GRU's: A step by step explanation"
          ],
          [
           "How to go from a Python newbie to a Google Certified TensorFlow Developer under two months"
          ],
          [
           "17 Clustering Algorithms Used In Data Science and Mining"
          ],
          [
           "Introduction to Genetic Algorithms  Including Example Code"
          ],
          [
           "Photoreal Roman Emperor Project"
          ],
          [
           "Fundamental Techniques of Feature Engineering for Machine Learning"
          ],
          [
           "How I Got a Job at DeepMind as a Research Engineer (without a Machine Learning Degree!)"
          ],
          [
           "Towards the end of deep learning and the beginning of AGI"
          ],
          [
           "Tutorial: Document Classification using WEKA"
          ],
          [
           "Understanding Random Forest"
          ],
          [
           "Probability concepts explained: Maximum likelihood estimation"
          ],
          [
           "Transformers Explained Visually (Part 3): Multi-head Attention, deep dive"
          ],
          [
           "180 Data Science and Machine Learning Projects with Python"
          ],
          [
           "5 Online Courses I Took as a Self-Taught Data Scientist"
          ],
          [
           "Machine Learning is Fun! Part 4: Modern Face Recognition with Deep Learning"
          ],
          [
           "9 Distance Measures in Data Science"
          ],
          [
           "The Sexiest Job of the 21st Century Isn't \"Sexy\" Anymore"
          ],
          [
           "Machine Learning is Fun! Part 3: Deep Learning and Convolutional Neural Networks"
          ],
          [
           "A Comprehensive Guide to Convolutional Neural Networks  the ELI5 way"
          ],
          [
           "20 Necessary Requirements of a Perfect Laptop for Data Science and Machine Learning Tasks"
          ],
          [
           "3 Beginner Mistakes I've Made in My Data Science Career"
          ],
          [
           "Understanding Variational Autoencoders (VAEs)"
          ],
          [
           "Setting Up a New M1 MacBook for Data Science"
          ],
          [
           "Are The New M1 Macbooks Any Good for Data Science? Let's Find Out"
          ],
          [
           "Simple and Multiple Linear Regression in Python"
          ],
          [
           "I tripled my income with data science. Here's how."
          ],
          [
           "Keyword Extraction process in Python with Natural Language Processing(NLP)"
          ],
          [
           "Machine learning models for 100% better returns in Algo-trading"
          ],
          [
           "How to Install Ubuntu Desktop With a Graphical User Interface in WSL2"
          ],
          [
           "Understanding Contrastive Learning"
          ],
          [
           "Understanding Semantic Segmentation with UNET"
          ],
          [
           "How Transformers Work"
          ],
          [
           "Yes you should understand backprop"
          ],
          [
           "PCA using Python (scikit-learn)"
          ],
          [
           "Hyperparameter Tuning the Random Forest in Python"
          ],
          [
           "Top 3 Reasons Why I Sold My M1 Macbook Pro as a Data Scientist"
          ],
          [
           "TRAIN A CUSTOM YOLOv4 OBJECT DETECTOR (Using Google Colab)"
          ],
          [
           "6 Machine Learning Certificates to Pursue in 2021"
          ],
          [
           "What to do with \"small\" data?"
          ],
          [
           "Time Series Forecasting with PyCaret Regression Module"
          ],
          [
           "15 Habits I Learned from Highly Effective Data Scientists"
          ],
          [
           "OVER 100 Data Scientist Interview Questions and Answers!"
          ],
          [
           "Activation Functions in Neural Networks"
          ],
          [
           "A One-Stop Shop for Principal Component Analysis"
          ],
          [
           "5 Things You Should Know About Covariance"
          ],
          [
           "How to build your own Neural Network from scratch in Python"
          ],
          [
           "The best explanation of Convolutional Neural Networks on the Internet!"
          ],
          [
           "Lambda Functions with Practical Examples in Python"
          ],
          [
           "The Complete Guide to Time Series Analysis and Forecasting"
          ],
          [
           "8 Ways to Filter Pandas Dataframes"
          ],
          [
           "Standing with Dr. Timnit Gebru  #ISupportTimnit #BelieveBlackWomen"
          ],
          [
           "Visualising high-dimensional datasets using PCA and t-SNE in Python"
          ],
          [
           "How to Study for the Google Data Analytics Professional Certificate"
          ],
          [
           "Is Data Science Still a Rising Career in 2021"
          ],
          [
           "Simple Reinforcement Learning with Tensorflow Part 0: Q-Learning with Tables and Neural Networks"
          ],
          [
           "How To Grow From Non-Coder to Data Scientist in 6 Months"
          ],
          [
           "Apple's New M1 Chip is a Machine Learning Beast"
          ],
          [
           "Train/Test Split and Cross Validation in Python"
          ],
          [
           "Text Classification with NLP: Tf-Idf vs Word2Vec vs BERT"
          ],
          [
           "The 5 Clustering Algorithms Data Scientists Need to Know"
          ],
          [
           "Building A Logistic Regression in Python, Step by Step"
          ],
          [
           "Springer has released 65 Machine Learning and Data books for free"
          ],
          [
           "Every single Machine Learning course on the internet, ranked by your reviews"
          ],
          [
           "TensorFlow Tutorial Part 1"
          ],
          [
           "The 7 Best Data Science and Machine Learning Podcasts"
          ],
          [
           "Random Forest in Python"
          ],
          [
           "How to Land a Data Analytics Job in 6 Months"
          ],
          [
           "What is a Transformer?"
          ],
          [
           "Fundamentals Of Statistics For Data Scientists and Analysts"
          ],
          [
           "Is Google's AI research about to implode?"
          ],
          [
           "Machine Learning is Fun! Part 2"
          ],
          [
           "Understanding Generative Adversarial Networks (GANs)"
          ],
          [
           "17 types of similarity and dissimilarity measures used in data science."
          ],
          [
           "Deep Learning Is Going to Teach Us All the Lesson of Our Lives: Jobs Are for Machines"
          ],
          [
           "I interviewed at five top companies in Silicon Valley in five days, and luckily got five job offers"
          ],
          [
           "Advantages and Disadvantages of Artificial Intelligence"
          ],
          [
           "Could Nim Replace Python?"
          ],
          [
           "An End-to-End Project on Time Series Analysis and Forecasting with Python"
          ],
          [
           "Data Scientists Will be Extinct in 10 Years"
          ],
          [
           "Import all Python libraries in one line of code"
          ],
          [
           "Enchanted Random Forest"
          ],
          [
           "Machine Learning in a Week"
          ],
          [
           "50+ Statistics Interview Questions and Answers for Data Scientists for 2022"
          ],
          [
           "Top 10 Data Science Projects for Beginners"
          ],
          [
           "Check For a Substring in a Pandas DataFrame Column"
          ],
          [
           "Machine Learning is Fun Part 6: How to do Speech Recognition with Deep Learning"
          ],
          [
           "Everything You Need to Know About Artificial Neural Networks"
          ],
          [
           "Ways to Detect and Remove the Outliers"
          ],
          [
           "How to Crush the Crypto Market, Quit Your Job, Move to Paradise and Do Whatever You Want the Rest of Your Life"
          ],
          [
           "Bitcoin Is Venice"
          ],
          [
           "How I Built a Net Worth of $500,000 Before Age 30"
          ],
          [
           "Nassim Nicholas Taleb on Self-Education and Doing the Math (Ep. 41  Live at Mercatus)"
          ],
          [
           "Public Mint Polkastarter IDO: Launching 23rd of February, Whitelist Now Open!"
          ],
          [
           "This is How I Made $40k In Passive Income By Age 26"
          ],
          [
           "Introducing The Iron Bank"
          ],
          [
           "I used Acorns, Robinhood, and Stash for 2 years. This is what I learned and earned."
          ],
          [
           "Explaining blockchain  how proof of work enables trustless consensus"
          ],
          [
           "Wealthfront:Silicon Valley Tech at Wall Street Prices"
          ],
          [
           "Crypto Trading Bots  A helpful guide for beginners [2020]"
          ],
          [
           "Why People Still Don't Get Cryptocurrency"
          ],
          [
           "Australia's Economy is a House of Cards"
          ],
          [
           "My First Two Months Trading Stocks with Robinhood"
          ],
          [
           "What It Takes to Go from $0 to $1 Million in Less Than One Year"
          ],
          [
           "Tesla Is Dead (And Elon Musk Knows It)"
          ],
          [
           "Uber's Credit Card Is Bankrupting Restaurants... and It's All Your Fault"
          ],
          [
           "A Quick Starter Guide to Leveraged Trading at BitMEX"
          ],
          [
           "I Made $3 Million in Crypto. These are the 26 Rules I Learned."
          ],
          [
           "The Black-Scholes formula, explained"
          ],
          [
           "You Will Never Be Rich If You Keep Doing These 10 things"
          ],
          [
           "Heroes Give, Superheroes Borrow"
          ],
          [
           "Could Bitcoin's Bull Market End Next Month?"
          ],
          [
           "The Exact Steps I Followed to Make $1,500+ of Passive Income Every Month"
          ],
          [
           "You May Have A Poor Person's Mindset And Not Know It"
          ],
          [
           "A Definitive Guide to Why Life Is So Terrible for Most Millennials"
          ],
          [
           "The Berkshire Hathaway of The Internet"
          ],
          [
           "How to invest in Bitcoin properly. Blockchain and other cryptocurrencies"
          ],
          [
           "Machine learning in finance: Why, what & how"
          ],
          [
           "Minimum Wage Artists"
          ],
          [
           "Richart + @GoGo "
          ],
          [
           "How to store Bitcoins and other cryptocurrencies properly."
          ],
          [
           "I was wrong about Ethereum"
          ],
          [
           "Deep Learning the Stock Market"
          ],
          [
           "Financial Fridays: It's Financial Suicide To Own A House"
          ],
          [
           "Gauge Theory Does Not Fix This"
          ],
          [
           "High Frequency Trading on the Coinbase Exchange"
          ],
          [
           "A $1000 Bitcoin Investment Won't Make You Rich"
          ],
          [
           "How To Legally Own Another Person"
          ],
          [
           "5 Things NOT to Do in the Robinhood App for Stock Trading"
          ],
          [
           "The One Word That Explains Why Economics Professors Are Not Billionaires"
          ],
          [
           "Building your credit history"
          ],
          [
           "I Retired at 35  Here Are 5 Lessons from My First 6 Months of Freedom"
          ],
          [
           "Why you should never use Upwork, ever."
          ],
          [
           "Facebook Can't Be Fixed."
          ],
          [
           "A comprehensive guide to downloading stock prices in Python"
          ],
          [
           "Detecting Credit Card Fraud Using Machine Learning"
          ],
          [
           "2018  & : KOKO COMBO icash "
          ],
          [
           "Is Wealthfront Worth it?"
          ],
          [
           "How I Slowly Became A \"Middle-Class\" Millionaire"
          ],
          [
           "SPY vs. QQQ: Investing in Different Indexes"
          ],
          [
           "I Won $104 Million for Blowing the Whistle on My CompanyBut Somehow I Was the Only One Who Went to Jail"
          ],
          [
           "Robinhood Lends \"Your\" Shares to Short Sellers (and Keeps All the Proceeds)"
          ],
          [
           "The Secret to Making 2000% in Stocks Overnight, the Anavex story."
          ],
          [
           "4 Unusual Side Hustles I Do to Earn an Extra $1,500 a Month"
          ],
          [
           "Meet 'Spoofy'. How a Single entity dominates the price of Bitcoin."
          ],
          [
           "How I Started Saving a TON of Money."
          ],
          [
           "How I transformed $6,000 to $3,000,000"
          ],
          [
           "Cliff Asness on Marvel vs. DC and Why Never to Share a Gym with Cirque du Soleil (Ep. 5  Live at Mason)"
          ],
          [
           "Paypal froze our funds, then offered us a business loan"
          ],
          [
           "A Visual Explanation of Algorithmic Stablecoins"
          ],
          [
           "Algorithmic Trading Bot: Python"
          ],
          [
           "Chernobyl's Blown Up Reactor 4 Just Woke Up"
          ],
          [
           "The Unexpected Case of the Disappearing Flu"
          ],
          [
           "The Diet & Workout Plan of a Full-Time Traveling Family  HIS"
          ],
          [
           "The Cult of Work You Never Meant to Join"
          ],
          [
           "5 Things to do in the First 24 Hours of a Cold or Flu"
          ],
          [
           "The Sweet Spot for Intermittent Fasting"
          ],
          [
           "The 6 Types of ICU Nurse"
          ],
          [
           "How to biohack your intelligence  with everything from sex to modafinil to MDMA"
          ],
          [
           "8 Common Arguments Against Vaccines"
          ],
          [
           "A Reasonably Detailed Guide to Optimizing Your iPhone for Productivity, Focus and Your Own Health"
          ],
          [
           "The cure for type 2 diabetes is known, but few are aware"
          ],
          [
           "Face mapping: how to deal with acne like a true detective"
          ],
          [
           "I'm 32 and spent $200k on biohacking. Became calmer, thinner, extroverted, healthier & happier."
          ],
          [
           "I need more iron"
          ],
          [
           "What I Learned From Quitting Coffee After 15 Years Of Daily Consumption"
          ],
          [
           "The forgotten art of untucking the tail"
          ],
          [
           "Hip Replacement Isn't What It Used To Be 12 Weeks Ago"
          ],
          [
           "Coronavirus: Why You Must Act Now"
          ],
          [
           "Manufacturers have been using nanotechnology-derived graphene in face masks  now there are safety concerns"
          ],
          [
           "Eben Byers: The Man Who Drank Radioactive Water Until His Jaw Fell Off"
          ],
          [
           "My Intermittent Fasting Lifestyle: How I Dropped 50 Pounds"
          ],
          [
           "I Stopped Drinking for 30 Days. Here's What Happened."
          ],
          [
           "How to lose 10+ pounds of fat a month- even if you have a slow metabolism"
          ],
          [
           "If You're Buying Your Weed Solely Based on the THC Level, You're Doing it Wrong."
          ],
          [
           "2016 Is Not Killing People"
          ],
          [
           "How I Learned to Sleep Only Three Hours Per Night (and Why You Should Too)"
          ],
          [
           "I fasted for 11 days, here is what happened."
          ],
          [
           "Coronavirus: The Hammer and the Dance"
          ],
          [
           "What Happens in Your Body When You Quit Drinking"
          ],
          [
           "The Science Behind Fat Metabolism"
          ],
          [
           "The Easiest Way to Lose 125 Pounds Is to Gain 175 Pounds"
          ],
          [
           "7 things I did to reboot my life."
          ],
          [
           "How I lost 10kg in 60 days: My 7-step weight loss plan"
          ],
          [
           "The Foo Fighters' AIDS denialism should be on the record"
          ],
          [
           "The Uncut History of Male Circumcision"
          ],
          [
           "10 Things You Can Do This Morning To Heal Your Anxiety"
          ],
          [
           "I just lost 100 pounds. Here's whyalmost nobody else will!"
          ],
          [
           "Type 2 Diabetes Reversal  The Quick Start Guide"
          ],
          [
           "How a 22 Day Water Fast Changed My Life"
          ],
          [
           "Breaking Your Fast"
          ],
          [
           "11 Unusual Tips for How to Wake Up Early"
          ],
          [
           "The 3 Biggest Mistakes Women Make On The Ketogenic Diet (And How To Fix Them)"
          ]
         ],
         "hovertemplate": "C1=%{x}<br>C2=%{y}<br>TITLE=%{customdata[0]}<extra></extra>",
         "legendgroup": "",
         "marker": {
          "color": "#636efa",
          "symbol": "circle"
         },
         "mode": "markers",
         "name": "",
         "orientation": "v",
         "showlegend": false,
         "type": "scatter",
         "x": [
          1.38394033908844,
          -0.7190678715705872,
          0.298191100358963,
          -0.42050889134407043,
          1.0058215856552124,
          -0.8912243247032166,
          1.8248380422592163,
          6.486353874206543,
          -0.3111139237880707,
          3.863276243209839,
          -0.3530508875846863,
          1.106278896331787,
          2.669924259185791,
          2.1096298694610596,
          1.3537718057632446,
          2.5768280029296875,
          4.384117603302002,
          1.1560044288635254,
          -3.1881086826324463,
          -0.8146679997444153,
          -0.5810125470161438,
          -0.6188216805458069,
          2.977055788040161,
          0.5284923315048218,
          0.025317402556538582,
          -0.2828786075115204,
          3.0059282779693604,
          6.489923000335693,
          -0.5018081665039062,
          2.6388320922851562,
          2.875840425491333,
          4.589802265167236,
          2.6255736351013184,
          4.3717570304870605,
          4.177886962890625,
          0.5899252891540527,
          2.0346157550811768,
          2.9906022548675537,
          -0.2570929527282715,
          0.12900647521018982,
          -1.5616322755813599,
          1.8389601707458496,
          0.42454734444618225,
          -4.055647373199463,
          -3.5200517177581787,
          2.20271897315979,
          4.369140148162842,
          6.420868396759033,
          -0.1605130285024643,
          -0.2336156666278839,
          1.0600208044052124,
          -0.2547658383846283,
          0.9642027020454407,
          -4.568319320678711,
          1.1368296146392822,
          0.3800032138824463,
          2.874377489089966,
          -1.9508740901947021,
          -1.4240679740905762,
          -1.7023954391479492,
          -1.180080771446228,
          4.077416896820068,
          3.9612715244293213,
          -1.6182117462158203,
          0.978959321975708,
          -0.7098981142044067,
          -5.2014288902282715,
          -0.2714090645313263,
          3.0458900928497314,
          2.532569169998169,
          3.9961133003234863,
          2.8703317642211914,
          0.26524150371551514,
          0.88005131483078,
          1.656794548034668,
          -3.133723497390747,
          -1.175775170326233,
          -1.6136974096298218,
          -5.020279884338379,
          0.16709640622138977,
          0.46887221932411194,
          0.8721363544464111,
          3.003884792327881,
          6.517426490783691,
          -2.0083508491516113,
          2.283724784851074,
          2.165393590927124,
          3.346453905105591,
          4.697258949279785,
          1.9015800952911377,
          2.876844644546509,
          1.2109910249710083,
          0.7464514970779419,
          0.866206169128418,
          1.6131584644317627,
          0.43792396783828735,
          -0.2777993083000183,
          1.0583150386810303,
          -1.9107788801193237,
          3.394570827484131,
          -0.581380307674408,
          1.4722012281417847,
          4.225980281829834,
          0.08321866393089294,
          -6.096609115600586,
          -5.327254772186279,
          -2.560853958129883,
          -6.524451732635498,
          -0.7353890538215637,
          -3.3021388053894043,
          -2.3855576515197754,
          -4.70728874206543,
          -2.202388048171997,
          -3.4494130611419678,
          -2.9788920879364014,
          -5.216344356536865,
          -5.916543960571289,
          -4.753226280212402,
          -1.3241674900054932,
          -2.44846510887146,
          -1.6557739973068237,
          -4.665177345275879,
          -4.624650955200195,
          -3.4485104084014893,
          -4.798685073852539,
          -0.9947602152824402,
          -4.292854309082031,
          1.7740501165390015,
          -4.537420272827148,
          -3.577489137649536,
          -2.237419605255127,
          -5.175595283508301,
          -4.810517311096191,
          -1.185479760169983,
          -0.6853503584861755,
          -1.4298954010009766,
          -2.7221856117248535,
          1.451185703277588,
          -3.2672228813171387,
          -4.210280895233154,
          -3.124462604522705,
          -4.319019794464111,
          -3.6415224075317383,
          -4.910937309265137,
          -4.588265419006348,
          -0.8629558682441711,
          -2.97309947013855,
          0.790043830871582,
          -1.3783549070358276,
          -1.3376085758209229,
          -0.29230064153671265,
          -0.6988628506660461,
          -3.5176594257354736,
          -2.4261746406555176,
          -2.372851610183716,
          -1.6291816234588623,
          -1.968623161315918,
          -4.860167026519775,
          0.1439865231513977,
          -3.712017297744751,
          -1.6931910514831543,
          -5.318317890167236,
          -6.573090076446533,
          -1.1270778179168701,
          -2.3637611865997314,
          -2.0406880378723145,
          -0.5382773280143738,
          0.24140822887420654,
          -0.3880510926246643,
          -1.786884069442749,
          -0.6268473863601685,
          0.7406307458877563,
          -0.7328867316246033,
          -0.9327958822250366,
          -0.5347655415534973,
          -1.0723577737808228,
          0.9536459445953369,
          -0.3534395396709442,
          -0.3426193594932556,
          -2.532823085784912,
          -0.546067476272583,
          -0.18331699073314667,
          -1.1087636947631836,
          2.1822617053985596,
          0.47655126452445984,
          -0.6966485977172852,
          0.3247143626213074,
          -0.9325072169303894,
          0.346556693315506,
          -1.188103437423706,
          -0.8062857389450073,
          -1.8404422998428345,
          0.38335102796554565,
          2.1580846309661865,
          -0.4865756034851074,
          1.3715814352035522,
          -1.0981178283691406,
          -1.353277564048767,
          0.1604277342557907,
          -0.567088782787323,
          -0.4606211483478546,
          -0.7251477241516113,
          -0.9726691842079163,
          1.1571648120880127,
          0.2421833574771881,
          0.3770551085472107,
          -1.55227530002594,
          1.202114462852478
         ],
         "xaxis": "x",
         "y": [
          -4.536492347717285,
          -0.5200012922286987,
          -2.9548819065093994,
          -4.32059383392334,
          -1.9020805358886719,
          -1.7986679077148438,
          0.9102214574813843,
          -0.23729480803012848,
          0.4893651604652405,
          -1.8166173696517944,
          -3.6166086196899414,
          -4.072271347045898,
          -1.4305773973464966,
          0.2139357477426529,
          -1.6066457033157349,
          -2.4257328510284424,
          -0.7089129090309143,
          0.046545036137104034,
          6.645877838134766,
          -0.4053402245044708,
          0.4995119571685791,
          -2.587080955505371,
          3.577893018722534,
          -0.9945099353790283,
          -1.4094749689102173,
          -6.1928887367248535,
          -4.19984769821167,
          -0.22320643067359924,
          0.47008657455444336,
          1.4420651197433472,
          -1.334879994392395,
          2.5323166847229004,
          0.5263491272926331,
          -1.9447638988494873,
          -2.3678479194641113,
          0.9383977651596069,
          0.5153727531433105,
          -4.402472972869873,
          0.2993679642677307,
          -0.2114630490541458,
          -3.568615674972534,
          1.1766425371170044,
          0.4426425099372864,
          2.7280473709106445,
          4.035097599029541,
          -1.3742812871932983,
          -2.637345552444458,
          -0.2900170385837555,
          -0.5686143040657043,
          -4.016469955444336,
          -4.511745452880859,
          0.4644295573234558,
          -1.1300691366195679,
          5.108234882354736,
          -3.940544843673706,
          -3.0020041465759277,
          0.40417858958244324,
          -4.962474346160889,
          -1.5120865106582642,
          -3.164433717727661,
          2.2245070934295654,
          -1.6614106893539429,
          -1.6824049949645996,
          -1.7883819341659546,
          -3.009856700897217,
          -1.4739381074905396,
          5.559383392333984,
          -3.7621865272521973,
          1.6737861633300781,
          0.5449018478393555,
          -0.31401777267456055,
          0.9820978045463562,
          -0.5354889035224915,
          -4.194761276245117,
          -2.2632734775543213,
          6.491049766540527,
          -2.9529523849487305,
          -0.7597611546516418,
          5.4279680252075195,
          -0.17886024713516235,
          0.06986064463853836,
          -4.943304538726807,
          1.2030298709869385,
          -0.23816519975662231,
          -4.968106269836426,
          -2.7001750469207764,
          -3.0814051628112793,
          -4.082908630371094,
          2.5640523433685303,
          2.0276269912719727,
          3.444272994995117,
          1.9416369199752808,
          1.0427398681640625,
          -2.8459932804107666,
          0.20917141437530518,
          0.4705909490585327,
          -6.166593074798584,
          -0.19286751747131348,
          -4.8391008377075195,
          1.1521589756011963,
          -1.328518271446228,
          -0.6538195610046387,
          -1.4272068738937378,
          -2.0928807258605957,
          0.907737135887146,
          -1.0781651735305786,
          0.7377578020095825,
          1.6403716802597046,
          0.4490896165370941,
          1.1580954790115356,
          2.953589916229248,
          1.955543875694275,
          -0.2278623729944229,
          1.4676265716552734,
          -1.6341019868850708,
          0.4739217162132263,
          0.4909322261810303,
          2.293398380279541,
          1.252213478088379,
          1.770660400390625,
          1.6736009120941162,
          -1.8951501846313477,
          -1.3974874019622803,
          2.261298418045044,
          0.6683700084686279,
          0.5758371353149414,
          -1.0861479043960571,
          3.0605990886688232,
          0.5177154541015625,
          0.519321620464325,
          0.5551479458808899,
          -0.9702906608581543,
          5.196383476257324,
          1.0674985647201538,
          0.5349180698394775,
          -0.13249069452285767,
          -0.5746802687644958,
          -1.8687238693237305,
          0.29855281114578247,
          -0.39224350452423096,
          -1.8091871738433838,
          -0.990473210811615,
          0.8260828852653503,
          2.3218066692352295,
          0.33547475934028625,
          0.5313069820404053,
          0.9220348000526428,
          2.4324746131896973,
          0.6825934052467346,
          -0.3196776807308197,
          -3.055128335952759,
          0.5491505265235901,
          1.4455163478851318,
          0.5853170156478882,
          1.454884648323059,
          1.0117449760437012,
          2.0042641162872314,
          2.7028415203094482,
          2.183126926422119,
          -1.759186029434204,
          0.567774772644043,
          2.2260656356811523,
          1.356560230255127,
          0.6793686151504517,
          2.712263822555542,
          -0.790684163570404,
          0.5893850922584534,
          1.4938488006591797,
          4.021169185638428,
          4.474400520324707,
          0.6877676248550415,
          3.1818416118621826,
          1.7974952459335327,
          6.421651363372803,
          1.9367871284484863,
          6.6650285720825195,
          4.362205982208252,
          0.9901869297027588,
          6.079010963439941,
          3.261986017227173,
          2.7409772872924805,
          1.64076566696167,
          3.7040185928344727,
          6.742048263549805,
          1.7349200248718262,
          1.0358672142028809,
          5.405350208282471,
          3.4341392517089844,
          4.711401462554932,
          2.0911409854888916,
          0.8687776923179626,
          3.992152452468872,
          5.6895341873168945,
          6.7250165939331055,
          2.8271231651306152,
          4.850813388824463,
          5.462617874145508,
          5.313653469085693,
          4.391881465911865,
          1.1265650987625122,
          0.8899403810501099,
          4.2466559410095215,
          5.628892421722412,
          3.9903604984283447,
          5.346517086029053,
          5.256717681884766,
          4.267197132110596,
          4.753849983215332
         ],
         "yaxis": "y"
        }
       ],
       "layout": {
        "legend": {
         "tracegroupgap": 0
        },
        "template": {
         "data": {
          "bar": [
           {
            "error_x": {
             "color": "#2a3f5f"
            },
            "error_y": {
             "color": "#2a3f5f"
            },
            "marker": {
             "line": {
              "color": "#E5ECF6",
              "width": 0.5
             },
             "pattern": {
              "fillmode": "overlay",
              "size": 10,
              "solidity": 0.2
             }
            },
            "type": "bar"
           }
          ],
          "barpolar": [
           {
            "marker": {
             "line": {
              "color": "#E5ECF6",
              "width": 0.5
             },
             "pattern": {
              "fillmode": "overlay",
              "size": 10,
              "solidity": 0.2
             }
            },
            "type": "barpolar"
           }
          ],
          "carpet": [
           {
            "aaxis": {
             "endlinecolor": "#2a3f5f",
             "gridcolor": "white",
             "linecolor": "white",
             "minorgridcolor": "white",
             "startlinecolor": "#2a3f5f"
            },
            "baxis": {
             "endlinecolor": "#2a3f5f",
             "gridcolor": "white",
             "linecolor": "white",
             "minorgridcolor": "white",
             "startlinecolor": "#2a3f5f"
            },
            "type": "carpet"
           }
          ],
          "choropleth": [
           {
            "colorbar": {
             "outlinewidth": 0,
             "ticks": ""
            },
            "type": "choropleth"
           }
          ],
          "contour": [
           {
            "colorbar": {
             "outlinewidth": 0,
             "ticks": ""
            },
            "colorscale": [
             [
              0,
              "#0d0887"
             ],
             [
              0.1111111111111111,
              "#46039f"
             ],
             [
              0.2222222222222222,
              "#7201a8"
             ],
             [
              0.3333333333333333,
              "#9c179e"
             ],
             [
              0.4444444444444444,
              "#bd3786"
             ],
             [
              0.5555555555555556,
              "#d8576b"
             ],
             [
              0.6666666666666666,
              "#ed7953"
             ],
             [
              0.7777777777777778,
              "#fb9f3a"
             ],
             [
              0.8888888888888888,
              "#fdca26"
             ],
             [
              1,
              "#f0f921"
             ]
            ],
            "type": "contour"
           }
          ],
          "contourcarpet": [
           {
            "colorbar": {
             "outlinewidth": 0,
             "ticks": ""
            },
            "type": "contourcarpet"
           }
          ],
          "heatmap": [
           {
            "colorbar": {
             "outlinewidth": 0,
             "ticks": ""
            },
            "colorscale": [
             [
              0,
              "#0d0887"
             ],
             [
              0.1111111111111111,
              "#46039f"
             ],
             [
              0.2222222222222222,
              "#7201a8"
             ],
             [
              0.3333333333333333,
              "#9c179e"
             ],
             [
              0.4444444444444444,
              "#bd3786"
             ],
             [
              0.5555555555555556,
              "#d8576b"
             ],
             [
              0.6666666666666666,
              "#ed7953"
             ],
             [
              0.7777777777777778,
              "#fb9f3a"
             ],
             [
              0.8888888888888888,
              "#fdca26"
             ],
             [
              1,
              "#f0f921"
             ]
            ],
            "type": "heatmap"
           }
          ],
          "heatmapgl": [
           {
            "colorbar": {
             "outlinewidth": 0,
             "ticks": ""
            },
            "colorscale": [
             [
              0,
              "#0d0887"
             ],
             [
              0.1111111111111111,
              "#46039f"
             ],
             [
              0.2222222222222222,
              "#7201a8"
             ],
             [
              0.3333333333333333,
              "#9c179e"
             ],
             [
              0.4444444444444444,
              "#bd3786"
             ],
             [
              0.5555555555555556,
              "#d8576b"
             ],
             [
              0.6666666666666666,
              "#ed7953"
             ],
             [
              0.7777777777777778,
              "#fb9f3a"
             ],
             [
              0.8888888888888888,
              "#fdca26"
             ],
             [
              1,
              "#f0f921"
             ]
            ],
            "type": "heatmapgl"
           }
          ],
          "histogram": [
           {
            "marker": {
             "pattern": {
              "fillmode": "overlay",
              "size": 10,
              "solidity": 0.2
             }
            },
            "type": "histogram"
           }
          ],
          "histogram2d": [
           {
            "colorbar": {
             "outlinewidth": 0,
             "ticks": ""
            },
            "colorscale": [
             [
              0,
              "#0d0887"
             ],
             [
              0.1111111111111111,
              "#46039f"
             ],
             [
              0.2222222222222222,
              "#7201a8"
             ],
             [
              0.3333333333333333,
              "#9c179e"
             ],
             [
              0.4444444444444444,
              "#bd3786"
             ],
             [
              0.5555555555555556,
              "#d8576b"
             ],
             [
              0.6666666666666666,
              "#ed7953"
             ],
             [
              0.7777777777777778,
              "#fb9f3a"
             ],
             [
              0.8888888888888888,
              "#fdca26"
             ],
             [
              1,
              "#f0f921"
             ]
            ],
            "type": "histogram2d"
           }
          ],
          "histogram2dcontour": [
           {
            "colorbar": {
             "outlinewidth": 0,
             "ticks": ""
            },
            "colorscale": [
             [
              0,
              "#0d0887"
             ],
             [
              0.1111111111111111,
              "#46039f"
             ],
             [
              0.2222222222222222,
              "#7201a8"
             ],
             [
              0.3333333333333333,
              "#9c179e"
             ],
             [
              0.4444444444444444,
              "#bd3786"
             ],
             [
              0.5555555555555556,
              "#d8576b"
             ],
             [
              0.6666666666666666,
              "#ed7953"
             ],
             [
              0.7777777777777778,
              "#fb9f3a"
             ],
             [
              0.8888888888888888,
              "#fdca26"
             ],
             [
              1,
              "#f0f921"
             ]
            ],
            "type": "histogram2dcontour"
           }
          ],
          "mesh3d": [
           {
            "colorbar": {
             "outlinewidth": 0,
             "ticks": ""
            },
            "type": "mesh3d"
           }
          ],
          "parcoords": [
           {
            "line": {
             "colorbar": {
              "outlinewidth": 0,
              "ticks": ""
             }
            },
            "type": "parcoords"
           }
          ],
          "pie": [
           {
            "automargin": true,
            "type": "pie"
           }
          ],
          "scatter": [
           {
            "fillpattern": {
             "fillmode": "overlay",
             "size": 10,
             "solidity": 0.2
            },
            "type": "scatter"
           }
          ],
          "scatter3d": [
           {
            "line": {
             "colorbar": {
              "outlinewidth": 0,
              "ticks": ""
             }
            },
            "marker": {
             "colorbar": {
              "outlinewidth": 0,
              "ticks": ""
             }
            },
            "type": "scatter3d"
           }
          ],
          "scattercarpet": [
           {
            "marker": {
             "colorbar": {
              "outlinewidth": 0,
              "ticks": ""
             }
            },
            "type": "scattercarpet"
           }
          ],
          "scattergeo": [
           {
            "marker": {
             "colorbar": {
              "outlinewidth": 0,
              "ticks": ""
             }
            },
            "type": "scattergeo"
           }
          ],
          "scattergl": [
           {
            "marker": {
             "colorbar": {
              "outlinewidth": 0,
              "ticks": ""
             }
            },
            "type": "scattergl"
           }
          ],
          "scattermapbox": [
           {
            "marker": {
             "colorbar": {
              "outlinewidth": 0,
              "ticks": ""
             }
            },
            "type": "scattermapbox"
           }
          ],
          "scatterpolar": [
           {
            "marker": {
             "colorbar": {
              "outlinewidth": 0,
              "ticks": ""
             }
            },
            "type": "scatterpolar"
           }
          ],
          "scatterpolargl": [
           {
            "marker": {
             "colorbar": {
              "outlinewidth": 0,
              "ticks": ""
             }
            },
            "type": "scatterpolargl"
           }
          ],
          "scatterternary": [
           {
            "marker": {
             "colorbar": {
              "outlinewidth": 0,
              "ticks": ""
             }
            },
            "type": "scatterternary"
           }
          ],
          "surface": [
           {
            "colorbar": {
             "outlinewidth": 0,
             "ticks": ""
            },
            "colorscale": [
             [
              0,
              "#0d0887"
             ],
             [
              0.1111111111111111,
              "#46039f"
             ],
             [
              0.2222222222222222,
              "#7201a8"
             ],
             [
              0.3333333333333333,
              "#9c179e"
             ],
             [
              0.4444444444444444,
              "#bd3786"
             ],
             [
              0.5555555555555556,
              "#d8576b"
             ],
             [
              0.6666666666666666,
              "#ed7953"
             ],
             [
              0.7777777777777778,
              "#fb9f3a"
             ],
             [
              0.8888888888888888,
              "#fdca26"
             ],
             [
              1,
              "#f0f921"
             ]
            ],
            "type": "surface"
           }
          ],
          "table": [
           {
            "cells": {
             "fill": {
              "color": "#EBF0F8"
             },
             "line": {
              "color": "white"
             }
            },
            "header": {
             "fill": {
              "color": "#C8D4E3"
             },
             "line": {
              "color": "white"
             }
            },
            "type": "table"
           }
          ]
         },
         "layout": {
          "annotationdefaults": {
           "arrowcolor": "#2a3f5f",
           "arrowhead": 0,
           "arrowwidth": 1
          },
          "autotypenumbers": "strict",
          "coloraxis": {
           "colorbar": {
            "outlinewidth": 0,
            "ticks": ""
           }
          },
          "colorscale": {
           "diverging": [
            [
             0,
             "#8e0152"
            ],
            [
             0.1,
             "#c51b7d"
            ],
            [
             0.2,
             "#de77ae"
            ],
            [
             0.3,
             "#f1b6da"
            ],
            [
             0.4,
             "#fde0ef"
            ],
            [
             0.5,
             "#f7f7f7"
            ],
            [
             0.6,
             "#e6f5d0"
            ],
            [
             0.7,
             "#b8e186"
            ],
            [
             0.8,
             "#7fbc41"
            ],
            [
             0.9,
             "#4d9221"
            ],
            [
             1,
             "#276419"
            ]
           ],
           "sequential": [
            [
             0,
             "#0d0887"
            ],
            [
             0.1111111111111111,
             "#46039f"
            ],
            [
             0.2222222222222222,
             "#7201a8"
            ],
            [
             0.3333333333333333,
             "#9c179e"
            ],
            [
             0.4444444444444444,
             "#bd3786"
            ],
            [
             0.5555555555555556,
             "#d8576b"
            ],
            [
             0.6666666666666666,
             "#ed7953"
            ],
            [
             0.7777777777777778,
             "#fb9f3a"
            ],
            [
             0.8888888888888888,
             "#fdca26"
            ],
            [
             1,
             "#f0f921"
            ]
           ],
           "sequentialminus": [
            [
             0,
             "#0d0887"
            ],
            [
             0.1111111111111111,
             "#46039f"
            ],
            [
             0.2222222222222222,
             "#7201a8"
            ],
            [
             0.3333333333333333,
             "#9c179e"
            ],
            [
             0.4444444444444444,
             "#bd3786"
            ],
            [
             0.5555555555555556,
             "#d8576b"
            ],
            [
             0.6666666666666666,
             "#ed7953"
            ],
            [
             0.7777777777777778,
             "#fb9f3a"
            ],
            [
             0.8888888888888888,
             "#fdca26"
            ],
            [
             1,
             "#f0f921"
            ]
           ]
          },
          "colorway": [
           "#636efa",
           "#EF553B",
           "#00cc96",
           "#ab63fa",
           "#FFA15A",
           "#19d3f3",
           "#FF6692",
           "#B6E880",
           "#FF97FF",
           "#FECB52"
          ],
          "font": {
           "color": "#2a3f5f"
          },
          "geo": {
           "bgcolor": "white",
           "lakecolor": "white",
           "landcolor": "#E5ECF6",
           "showlakes": true,
           "showland": true,
           "subunitcolor": "white"
          },
          "hoverlabel": {
           "align": "left"
          },
          "hovermode": "closest",
          "mapbox": {
           "style": "light"
          },
          "paper_bgcolor": "white",
          "plot_bgcolor": "#E5ECF6",
          "polar": {
           "angularaxis": {
            "gridcolor": "white",
            "linecolor": "white",
            "ticks": ""
           },
           "bgcolor": "#E5ECF6",
           "radialaxis": {
            "gridcolor": "white",
            "linecolor": "white",
            "ticks": ""
           }
          },
          "scene": {
           "xaxis": {
            "backgroundcolor": "#E5ECF6",
            "gridcolor": "white",
            "gridwidth": 2,
            "linecolor": "white",
            "showbackground": true,
            "ticks": "",
            "zerolinecolor": "white"
           },
           "yaxis": {
            "backgroundcolor": "#E5ECF6",
            "gridcolor": "white",
            "gridwidth": 2,
            "linecolor": "white",
            "showbackground": true,
            "ticks": "",
            "zerolinecolor": "white"
           },
           "zaxis": {
            "backgroundcolor": "#E5ECF6",
            "gridcolor": "white",
            "gridwidth": 2,
            "linecolor": "white",
            "showbackground": true,
            "ticks": "",
            "zerolinecolor": "white"
           }
          },
          "shapedefaults": {
           "line": {
            "color": "#2a3f5f"
           }
          },
          "ternary": {
           "aaxis": {
            "gridcolor": "white",
            "linecolor": "white",
            "ticks": ""
           },
           "baxis": {
            "gridcolor": "white",
            "linecolor": "white",
            "ticks": ""
           },
           "bgcolor": "#E5ECF6",
           "caxis": {
            "gridcolor": "white",
            "linecolor": "white",
            "ticks": ""
           }
          },
          "title": {
           "x": 0.05
          },
          "xaxis": {
           "automargin": true,
           "gridcolor": "white",
           "linecolor": "white",
           "ticks": "",
           "title": {
            "standoff": 15
           },
           "zerolinecolor": "white",
           "zerolinewidth": 2
          },
          "yaxis": {
           "automargin": true,
           "gridcolor": "white",
           "linecolor": "white",
           "ticks": "",
           "title": {
            "standoff": 15
           },
           "zerolinecolor": "white",
           "zerolinewidth": 2
          }
         }
        },
        "title": {
         "text": "T-distributed Stochastic Neighbor Embedding for BOW document representation"
        },
        "xaxis": {
         "anchor": "y",
         "domain": [
          0,
          1
         ],
         "title": {
          "text": "C1"
         }
        },
        "yaxis": {
         "anchor": "x",
         "domain": [
          0,
          1
         ],
         "title": {
          "text": "C2"
         }
        }
       }
      }
     },
     "metadata": {},
     "output_type": "display_data"
    }
   ],
   "source": [
    "import plotly.express as px\n",
    "# scatter plot of t-sne for the BOW representation\n",
    "\n",
    "title = \"T-distributed Stochastic Neighbor Embedding for BOW document representation\"\n",
    "\n",
    "fig = px.scatter(tsne_bow_features_df, x=\"C1\", y=\"C2\", hover_data=['TITLE'], title=title)\n",
    "fig.show()"
   ]
  },
  {
   "cell_type": "code",
   "execution_count": 25,
   "metadata": {},
   "outputs": [
    {
     "name": "stdout",
     "output_type": "stream",
     "text": [
      "Reference Article : 17 types of similarity and dissimilarity measures used in data science.\n",
      "**** Similar Articles ****\n",
      "9 Distance Measures in Data Science\n",
      "17 Clustering Algorithms Used In Data Science and Mining\n",
      "Machine Learning Basics with the K-Nearest Neighbors Algorithm\n",
      "OVER 100 Data Scientist Interview Questions and Answers!\n",
      "Fundamental Techniques of Feature Engineering for Machine Learning\n",
      "\n",
      "Reference Article : TensorFlow Tutorial Part 1\n",
      "**** Similar Articles ****\n",
      "How to go from a Python newbie to a Google Certified TensorFlow Developer under two months\n",
      "Enchanted Random Forest\n",
      "The 7 Best Data Science and Machine Learning Podcasts\n",
      "PCA using Python (scikit-learn)\n",
      "Time Series Forecasting with PyCaret Regression Module\n",
      "\n",
      "Reference Article : The One Word That Explains Why Economics Professors Are Not Billionaires\n",
      "**** Similar Articles ****\n",
      "Why People Still Don't Get Cryptocurrency\n",
      "You May Have A Poor Person's Mindset And Not Know It\n",
      "You Will Never Be Rich If You Keep Doing These 10 things\n",
      "How I transformed $6,000 to $3,000,000\n",
      "The Exact Steps I Followed to Make $1,500+ of Passive Income Every Month\n",
      "\n",
      "Reference Article : How I lost 10kg in 60 days: My 7-step weight loss plan\n",
      "**** Similar Articles ****\n",
      "10 Things You Can Do This Morning To Heal Your Anxiety\n",
      "How to lose 10+ pounds of fat a month- even if you have a slow metabolism\n",
      "The Diet & Workout Plan of a Full-Time Traveling Family  HIS\n",
      "The cure for type 2 diabetes is known, but few are aware\n",
      "The Easiest Way to Lose 125 Pounds Is to Gain 175 Pounds\n",
      "\n"
     ]
    }
   ],
   "source": [
    "from sklearn.metrics.pairwise import cosine_similarity\n",
    "\n",
    "def get_similar_documents(all_article_rep_df, article_id, features):\n",
    "    # extracting features of a article\n",
    "    this_article_rep = all_article_rep_df[all_article_rep_df[\"ID\"] == article_id][features]\n",
    "    other_article_rep = all_article_rep_df[all_article_rep_df[\"ID\"] != article_id][features]\n",
    "    # calculating cosine similarity\n",
    "    similarity_matrix = cosine_similarity(this_article_rep, other_article_rep)\n",
    "    similar_articles = list(zip(similarity_matrix[0].tolist(), all_article_rep_df[\"TITLE\"].tolist()))\n",
    "    # sorting\n",
    "    similar_articles = sorted(similar_articles, key = lambda x : x[0], reverse = True)\n",
    "    print(\"Reference Article : {}\".format(all_article_rep_df[all_article_rep_df[\"ID\"] == article_id][\"TITLE\"].values[0]))\n",
    "\n",
    "    print(\"**** Similar Articles ****\")\n",
    "    # top 5 similar articles\n",
    "    for score, title in similar_articles[:5]:\n",
    "        print(title)\n",
    "    print()\n",
    "\n",
    "# Let us check top 5 similar articles for some of the articles in our corpus\n",
    "get_similar_documents(bow_features_df, 90, count_vectorizer.get_feature_names_out())\n",
    "get_similar_documents(bow_features_df, 80, count_vectorizer.get_feature_names_out())\n",
    "get_similar_documents(bow_features_df, 150, count_vectorizer.get_feature_names_out())\n",
    "get_similar_documents(bow_features_df, 205, count_vectorizer.get_feature_names_out())"
   ]
  },
  {
   "cell_type": "code",
   "execution_count": 27,
   "metadata": {},
   "outputs": [
    {
     "data": {
      "text/html": [
       "<div>\n",
       "<style scoped>\n",
       "    .dataframe tbody tr th:only-of-type {\n",
       "        vertical-align: middle;\n",
       "    }\n",
       "\n",
       "    .dataframe tbody tr th {\n",
       "        vertical-align: top;\n",
       "    }\n",
       "\n",
       "    .dataframe thead th {\n",
       "        text-align: right;\n",
       "    }\n",
       "</style>\n",
       "<table border=\"1\" class=\"dataframe\">\n",
       "  <thead>\n",
       "    <tr style=\"text-align: right;\">\n",
       "      <th></th>\n",
       "      <th>00</th>\n",
       "      <th>000</th>\n",
       "      <th>01</th>\n",
       "      <th>05</th>\n",
       "      <th>06</th>\n",
       "      <th>07</th>\n",
       "      <th>10</th>\n",
       "      <th>100</th>\n",
       "      <th>1000</th>\n",
       "      <th>101</th>\n",
       "      <th>10k</th>\n",
       "      <th>10x</th>\n",
       "      <th>11</th>\n",
       "      <th>12</th>\n",
       "      <th>120</th>\n",
       "      <th>125</th>\n",
       "      <th>128</th>\n",
       "      <th>13</th>\n",
       "      <th>14</th>\n",
       "      <th>15</th>\n",
       "      <th>150</th>\n",
       "      <th>16</th>\n",
       "      <th>17</th>\n",
       "      <th>18</th>\n",
       "      <th>19</th>\n",
       "      <th>1980</th>\n",
       "      <th>1989</th>\n",
       "      <th>1990</th>\n",
       "      <th>1k</th>\n",
       "      <th>1st</th>\n",
       "      <th>20</th>\n",
       "      <th>200</th>\n",
       "      <th>2000</th>\n",
       "      <th>2001</th>\n",
       "      <th>2005</th>\n",
       "      <th>2008</th>\n",
       "      <th>2009</th>\n",
       "      <th>2010</th>\n",
       "      <th>2011</th>\n",
       "      <th>2012</th>\n",
       "      <th>2013</th>\n",
       "      <th>2014</th>\n",
       "      <th>2015</th>\n",
       "      <th>2016</th>\n",
       "      <th>2017</th>\n",
       "      <th>2018</th>\n",
       "      <th>2019</th>\n",
       "      <th>2020</th>\n",
       "      <th>2021</th>\n",
       "      <th>21</th>\n",
       "      <th>...</th>\n",
       "      <th>winter</th>\n",
       "      <th>wire</th>\n",
       "      <th>wise</th>\n",
       "      <th>wish</th>\n",
       "      <th>withdraw</th>\n",
       "      <th>woman</th>\n",
       "      <th>wonder</th>\n",
       "      <th>wonderful</th>\n",
       "      <th>wood</th>\n",
       "      <th>word</th>\n",
       "      <th>work</th>\n",
       "      <th>worker</th>\n",
       "      <th>workflow</th>\n",
       "      <th>working</th>\n",
       "      <th>workout</th>\n",
       "      <th>world</th>\n",
       "      <th>worried</th>\n",
       "      <th>worry</th>\n",
       "      <th>worsen</th>\n",
       "      <th>worth</th>\n",
       "      <th>wow</th>\n",
       "      <th>wrap</th>\n",
       "      <th>write</th>\n",
       "      <th>writer</th>\n",
       "      <th>writing</th>\n",
       "      <th>wrong</th>\n",
       "      <th>www</th>\n",
       "      <th>xgboost</th>\n",
       "      <th>xi</th>\n",
       "      <th>yeah</th>\n",
       "      <th>year</th>\n",
       "      <th>yearly</th>\n",
       "      <th>yellow</th>\n",
       "      <th>yes</th>\n",
       "      <th>yesterday</th>\n",
       "      <th>yield</th>\n",
       "      <th>yo</th>\n",
       "      <th>york</th>\n",
       "      <th>you</th>\n",
       "      <th>young</th>\n",
       "      <th>youtube</th>\n",
       "      <th>zero</th>\n",
       "      <th>zhou</th>\n",
       "      <th>zip</th>\n",
       "      <th>zombie</th>\n",
       "      <th>zone</th>\n",
       "      <th>zoom</th>\n",
       "      <th>zuckerberg</th>\n",
       "      <th>TITLE</th>\n",
       "      <th>ID</th>\n",
       "    </tr>\n",
       "  </thead>\n",
       "  <tbody>\n",
       "    <tr>\n",
       "      <th>0</th>\n",
       "      <td>0.000000</td>\n",
       "      <td>0.0</td>\n",
       "      <td>0.0</td>\n",
       "      <td>0.0</td>\n",
       "      <td>0.000000</td>\n",
       "      <td>0.0</td>\n",
       "      <td>0.000000</td>\n",
       "      <td>0.0</td>\n",
       "      <td>0.0</td>\n",
       "      <td>0.0</td>\n",
       "      <td>0.0</td>\n",
       "      <td>0.0</td>\n",
       "      <td>0.000000</td>\n",
       "      <td>0.000000</td>\n",
       "      <td>0.0</td>\n",
       "      <td>0.0</td>\n",
       "      <td>0.0</td>\n",
       "      <td>0.0</td>\n",
       "      <td>0.000000</td>\n",
       "      <td>0.000000</td>\n",
       "      <td>0.0</td>\n",
       "      <td>0.0</td>\n",
       "      <td>0.0</td>\n",
       "      <td>0.000000</td>\n",
       "      <td>0.0</td>\n",
       "      <td>0.0</td>\n",
       "      <td>0.0</td>\n",
       "      <td>0.0</td>\n",
       "      <td>0.0</td>\n",
       "      <td>0.0</td>\n",
       "      <td>0.000000</td>\n",
       "      <td>0.0</td>\n",
       "      <td>0.000000</td>\n",
       "      <td>0.0</td>\n",
       "      <td>0.0</td>\n",
       "      <td>0.000000</td>\n",
       "      <td>0.0</td>\n",
       "      <td>0.0</td>\n",
       "      <td>0.0</td>\n",
       "      <td>0.0</td>\n",
       "      <td>0.0</td>\n",
       "      <td>0.0</td>\n",
       "      <td>0.0</td>\n",
       "      <td>0.0</td>\n",
       "      <td>0.000000</td>\n",
       "      <td>0.000000</td>\n",
       "      <td>0.000000</td>\n",
       "      <td>0.0</td>\n",
       "      <td>0.000000</td>\n",
       "      <td>0.0</td>\n",
       "      <td>...</td>\n",
       "      <td>0.0</td>\n",
       "      <td>0.0</td>\n",
       "      <td>0.0</td>\n",
       "      <td>0.000000</td>\n",
       "      <td>0.0</td>\n",
       "      <td>0.000000</td>\n",
       "      <td>0.000000</td>\n",
       "      <td>0.0</td>\n",
       "      <td>0.0</td>\n",
       "      <td>0.008056</td>\n",
       "      <td>0.005185</td>\n",
       "      <td>0.0</td>\n",
       "      <td>0.0</td>\n",
       "      <td>0.0</td>\n",
       "      <td>0.0</td>\n",
       "      <td>0.000000</td>\n",
       "      <td>0.000000</td>\n",
       "      <td>0.000000</td>\n",
       "      <td>0.000000</td>\n",
       "      <td>0.0</td>\n",
       "      <td>0.0</td>\n",
       "      <td>0.0</td>\n",
       "      <td>0.013613</td>\n",
       "      <td>0.0</td>\n",
       "      <td>0.0</td>\n",
       "      <td>0.000000</td>\n",
       "      <td>0.000000</td>\n",
       "      <td>0.009264</td>\n",
       "      <td>0.0</td>\n",
       "      <td>0.0</td>\n",
       "      <td>0.000000</td>\n",
       "      <td>0.0</td>\n",
       "      <td>0.0</td>\n",
       "      <td>0.000000</td>\n",
       "      <td>0.0</td>\n",
       "      <td>0.0</td>\n",
       "      <td>0.000000</td>\n",
       "      <td>0.0</td>\n",
       "      <td>0.00000</td>\n",
       "      <td>0.000000</td>\n",
       "      <td>0.0</td>\n",
       "      <td>0.000000</td>\n",
       "      <td>0.0</td>\n",
       "      <td>0.0</td>\n",
       "      <td>0.000000</td>\n",
       "      <td>0.000000</td>\n",
       "      <td>0.0</td>\n",
       "      <td>0.0</td>\n",
       "      <td>Ensemble methods: bagging, boosting and stacking</td>\n",
       "      <td>1</td>\n",
       "    </tr>\n",
       "    <tr>\n",
       "      <th>1</th>\n",
       "      <td>0.000000</td>\n",
       "      <td>0.0</td>\n",
       "      <td>0.0</td>\n",
       "      <td>0.0</td>\n",
       "      <td>0.000000</td>\n",
       "      <td>0.0</td>\n",
       "      <td>0.000000</td>\n",
       "      <td>0.0</td>\n",
       "      <td>0.0</td>\n",
       "      <td>0.0</td>\n",
       "      <td>0.0</td>\n",
       "      <td>0.0</td>\n",
       "      <td>0.000000</td>\n",
       "      <td>0.000000</td>\n",
       "      <td>0.0</td>\n",
       "      <td>0.0</td>\n",
       "      <td>0.0</td>\n",
       "      <td>0.0</td>\n",
       "      <td>0.000000</td>\n",
       "      <td>0.000000</td>\n",
       "      <td>0.0</td>\n",
       "      <td>0.0</td>\n",
       "      <td>0.0</td>\n",
       "      <td>0.000000</td>\n",
       "      <td>0.0</td>\n",
       "      <td>0.0</td>\n",
       "      <td>0.0</td>\n",
       "      <td>0.0</td>\n",
       "      <td>0.0</td>\n",
       "      <td>0.0</td>\n",
       "      <td>0.000000</td>\n",
       "      <td>0.0</td>\n",
       "      <td>0.000000</td>\n",
       "      <td>0.0</td>\n",
       "      <td>0.0</td>\n",
       "      <td>0.000000</td>\n",
       "      <td>0.0</td>\n",
       "      <td>0.0</td>\n",
       "      <td>0.0</td>\n",
       "      <td>0.0</td>\n",
       "      <td>0.0</td>\n",
       "      <td>0.0</td>\n",
       "      <td>0.0</td>\n",
       "      <td>0.0</td>\n",
       "      <td>0.000000</td>\n",
       "      <td>0.000000</td>\n",
       "      <td>0.000000</td>\n",
       "      <td>0.0</td>\n",
       "      <td>0.000000</td>\n",
       "      <td>0.0</td>\n",
       "      <td>...</td>\n",
       "      <td>0.0</td>\n",
       "      <td>0.0</td>\n",
       "      <td>0.0</td>\n",
       "      <td>0.000000</td>\n",
       "      <td>0.0</td>\n",
       "      <td>0.000000</td>\n",
       "      <td>0.000000</td>\n",
       "      <td>0.0</td>\n",
       "      <td>0.0</td>\n",
       "      <td>0.000000</td>\n",
       "      <td>0.000000</td>\n",
       "      <td>0.0</td>\n",
       "      <td>0.0</td>\n",
       "      <td>0.0</td>\n",
       "      <td>0.0</td>\n",
       "      <td>0.000000</td>\n",
       "      <td>0.000000</td>\n",
       "      <td>0.000000</td>\n",
       "      <td>0.000000</td>\n",
       "      <td>0.0</td>\n",
       "      <td>0.0</td>\n",
       "      <td>0.0</td>\n",
       "      <td>0.014092</td>\n",
       "      <td>0.0</td>\n",
       "      <td>0.0</td>\n",
       "      <td>0.000000</td>\n",
       "      <td>0.025664</td>\n",
       "      <td>0.000000</td>\n",
       "      <td>0.0</td>\n",
       "      <td>0.0</td>\n",
       "      <td>0.000000</td>\n",
       "      <td>0.0</td>\n",
       "      <td>0.0</td>\n",
       "      <td>0.000000</td>\n",
       "      <td>0.0</td>\n",
       "      <td>0.0</td>\n",
       "      <td>0.000000</td>\n",
       "      <td>0.0</td>\n",
       "      <td>0.00000</td>\n",
       "      <td>0.000000</td>\n",
       "      <td>0.0</td>\n",
       "      <td>0.000000</td>\n",
       "      <td>0.0</td>\n",
       "      <td>0.0</td>\n",
       "      <td>0.000000</td>\n",
       "      <td>0.000000</td>\n",
       "      <td>0.0</td>\n",
       "      <td>0.0</td>\n",
       "      <td>Understanding AUC - ROC Curve</td>\n",
       "      <td>2</td>\n",
       "    </tr>\n",
       "    <tr>\n",
       "      <th>2</th>\n",
       "      <td>0.000000</td>\n",
       "      <td>0.0</td>\n",
       "      <td>0.0</td>\n",
       "      <td>0.0</td>\n",
       "      <td>0.019288</td>\n",
       "      <td>0.0</td>\n",
       "      <td>0.008322</td>\n",
       "      <td>0.0</td>\n",
       "      <td>0.0</td>\n",
       "      <td>0.0</td>\n",
       "      <td>0.0</td>\n",
       "      <td>0.0</td>\n",
       "      <td>0.000000</td>\n",
       "      <td>0.000000</td>\n",
       "      <td>0.0</td>\n",
       "      <td>0.0</td>\n",
       "      <td>0.0</td>\n",
       "      <td>0.0</td>\n",
       "      <td>0.000000</td>\n",
       "      <td>0.000000</td>\n",
       "      <td>0.0</td>\n",
       "      <td>0.0</td>\n",
       "      <td>0.0</td>\n",
       "      <td>0.000000</td>\n",
       "      <td>0.0</td>\n",
       "      <td>0.0</td>\n",
       "      <td>0.0</td>\n",
       "      <td>0.0</td>\n",
       "      <td>0.0</td>\n",
       "      <td>0.0</td>\n",
       "      <td>0.000000</td>\n",
       "      <td>0.0</td>\n",
       "      <td>0.000000</td>\n",
       "      <td>0.0</td>\n",
       "      <td>0.0</td>\n",
       "      <td>0.000000</td>\n",
       "      <td>0.0</td>\n",
       "      <td>0.0</td>\n",
       "      <td>0.0</td>\n",
       "      <td>0.0</td>\n",
       "      <td>0.0</td>\n",
       "      <td>0.0</td>\n",
       "      <td>0.0</td>\n",
       "      <td>0.0</td>\n",
       "      <td>0.000000</td>\n",
       "      <td>0.000000</td>\n",
       "      <td>0.000000</td>\n",
       "      <td>0.0</td>\n",
       "      <td>0.014724</td>\n",
       "      <td>0.0</td>\n",
       "      <td>...</td>\n",
       "      <td>0.0</td>\n",
       "      <td>0.0</td>\n",
       "      <td>0.0</td>\n",
       "      <td>0.000000</td>\n",
       "      <td>0.0</td>\n",
       "      <td>0.000000</td>\n",
       "      <td>0.000000</td>\n",
       "      <td>0.0</td>\n",
       "      <td>0.0</td>\n",
       "      <td>0.000000</td>\n",
       "      <td>0.022901</td>\n",
       "      <td>0.0</td>\n",
       "      <td>0.0</td>\n",
       "      <td>0.0</td>\n",
       "      <td>0.0</td>\n",
       "      <td>0.000000</td>\n",
       "      <td>0.000000</td>\n",
       "      <td>0.000000</td>\n",
       "      <td>0.000000</td>\n",
       "      <td>0.0</td>\n",
       "      <td>0.0</td>\n",
       "      <td>0.0</td>\n",
       "      <td>0.015030</td>\n",
       "      <td>0.0</td>\n",
       "      <td>0.0</td>\n",
       "      <td>0.010865</td>\n",
       "      <td>0.013686</td>\n",
       "      <td>0.000000</td>\n",
       "      <td>0.0</td>\n",
       "      <td>0.0</td>\n",
       "      <td>0.006687</td>\n",
       "      <td>0.0</td>\n",
       "      <td>0.0</td>\n",
       "      <td>0.000000</td>\n",
       "      <td>0.0</td>\n",
       "      <td>0.0</td>\n",
       "      <td>0.000000</td>\n",
       "      <td>0.0</td>\n",
       "      <td>0.00000</td>\n",
       "      <td>0.000000</td>\n",
       "      <td>0.0</td>\n",
       "      <td>0.000000</td>\n",
       "      <td>0.0</td>\n",
       "      <td>0.0</td>\n",
       "      <td>0.000000</td>\n",
       "      <td>0.000000</td>\n",
       "      <td>0.0</td>\n",
       "      <td>0.0</td>\n",
       "      <td>How to work with object detection datasets in ...</td>\n",
       "      <td>3</td>\n",
       "    </tr>\n",
       "    <tr>\n",
       "      <th>3</th>\n",
       "      <td>0.000000</td>\n",
       "      <td>0.0</td>\n",
       "      <td>0.0</td>\n",
       "      <td>0.0</td>\n",
       "      <td>0.000000</td>\n",
       "      <td>0.0</td>\n",
       "      <td>0.000000</td>\n",
       "      <td>0.0</td>\n",
       "      <td>0.0</td>\n",
       "      <td>0.0</td>\n",
       "      <td>0.0</td>\n",
       "      <td>0.0</td>\n",
       "      <td>0.006738</td>\n",
       "      <td>0.000000</td>\n",
       "      <td>0.0</td>\n",
       "      <td>0.0</td>\n",
       "      <td>0.0</td>\n",
       "      <td>0.0</td>\n",
       "      <td>0.008670</td>\n",
       "      <td>0.006796</td>\n",
       "      <td>0.0</td>\n",
       "      <td>0.0</td>\n",
       "      <td>0.0</td>\n",
       "      <td>0.000000</td>\n",
       "      <td>0.0</td>\n",
       "      <td>0.0</td>\n",
       "      <td>0.0</td>\n",
       "      <td>0.0</td>\n",
       "      <td>0.0</td>\n",
       "      <td>0.0</td>\n",
       "      <td>0.000000</td>\n",
       "      <td>0.0</td>\n",
       "      <td>0.000000</td>\n",
       "      <td>0.0</td>\n",
       "      <td>0.0</td>\n",
       "      <td>0.000000</td>\n",
       "      <td>0.0</td>\n",
       "      <td>0.0</td>\n",
       "      <td>0.0</td>\n",
       "      <td>0.0</td>\n",
       "      <td>0.0</td>\n",
       "      <td>0.0</td>\n",
       "      <td>0.0</td>\n",
       "      <td>0.0</td>\n",
       "      <td>0.000000</td>\n",
       "      <td>0.000000</td>\n",
       "      <td>0.000000</td>\n",
       "      <td>0.0</td>\n",
       "      <td>0.000000</td>\n",
       "      <td>0.0</td>\n",
       "      <td>...</td>\n",
       "      <td>0.0</td>\n",
       "      <td>0.0</td>\n",
       "      <td>0.0</td>\n",
       "      <td>0.000000</td>\n",
       "      <td>0.0</td>\n",
       "      <td>0.000000</td>\n",
       "      <td>0.000000</td>\n",
       "      <td>0.0</td>\n",
       "      <td>0.0</td>\n",
       "      <td>0.000000</td>\n",
       "      <td>0.013306</td>\n",
       "      <td>0.0</td>\n",
       "      <td>0.0</td>\n",
       "      <td>0.0</td>\n",
       "      <td>0.0</td>\n",
       "      <td>0.013772</td>\n",
       "      <td>0.000000</td>\n",
       "      <td>0.008339</td>\n",
       "      <td>0.000000</td>\n",
       "      <td>0.0</td>\n",
       "      <td>0.0</td>\n",
       "      <td>0.0</td>\n",
       "      <td>0.017465</td>\n",
       "      <td>0.0</td>\n",
       "      <td>0.0</td>\n",
       "      <td>0.000000</td>\n",
       "      <td>0.000000</td>\n",
       "      <td>0.000000</td>\n",
       "      <td>0.0</td>\n",
       "      <td>0.0</td>\n",
       "      <td>0.000000</td>\n",
       "      <td>0.0</td>\n",
       "      <td>0.0</td>\n",
       "      <td>0.006571</td>\n",
       "      <td>0.0</td>\n",
       "      <td>0.0</td>\n",
       "      <td>0.000000</td>\n",
       "      <td>0.0</td>\n",
       "      <td>0.00000</td>\n",
       "      <td>0.000000</td>\n",
       "      <td>0.0</td>\n",
       "      <td>0.006363</td>\n",
       "      <td>0.0</td>\n",
       "      <td>0.0</td>\n",
       "      <td>0.000000</td>\n",
       "      <td>0.000000</td>\n",
       "      <td>0.0</td>\n",
       "      <td>0.0</td>\n",
       "      <td>11 Dimensionality reduction techniques you sho...</td>\n",
       "      <td>4</td>\n",
       "    </tr>\n",
       "    <tr>\n",
       "      <th>4</th>\n",
       "      <td>0.000000</td>\n",
       "      <td>0.0</td>\n",
       "      <td>0.0</td>\n",
       "      <td>0.0</td>\n",
       "      <td>0.000000</td>\n",
       "      <td>0.0</td>\n",
       "      <td>0.000000</td>\n",
       "      <td>0.0</td>\n",
       "      <td>0.0</td>\n",
       "      <td>0.0</td>\n",
       "      <td>0.0</td>\n",
       "      <td>0.0</td>\n",
       "      <td>0.000000</td>\n",
       "      <td>0.000000</td>\n",
       "      <td>0.0</td>\n",
       "      <td>0.0</td>\n",
       "      <td>0.0</td>\n",
       "      <td>0.0</td>\n",
       "      <td>0.000000</td>\n",
       "      <td>0.000000</td>\n",
       "      <td>0.0</td>\n",
       "      <td>0.0</td>\n",
       "      <td>0.0</td>\n",
       "      <td>0.000000</td>\n",
       "      <td>0.0</td>\n",
       "      <td>0.0</td>\n",
       "      <td>0.0</td>\n",
       "      <td>0.0</td>\n",
       "      <td>0.0</td>\n",
       "      <td>0.0</td>\n",
       "      <td>0.000000</td>\n",
       "      <td>0.0</td>\n",
       "      <td>0.000000</td>\n",
       "      <td>0.0</td>\n",
       "      <td>0.0</td>\n",
       "      <td>0.000000</td>\n",
       "      <td>0.0</td>\n",
       "      <td>0.0</td>\n",
       "      <td>0.0</td>\n",
       "      <td>0.0</td>\n",
       "      <td>0.0</td>\n",
       "      <td>0.0</td>\n",
       "      <td>0.0</td>\n",
       "      <td>0.0</td>\n",
       "      <td>0.034284</td>\n",
       "      <td>0.000000</td>\n",
       "      <td>0.039491</td>\n",
       "      <td>0.0</td>\n",
       "      <td>0.000000</td>\n",
       "      <td>0.0</td>\n",
       "      <td>...</td>\n",
       "      <td>0.0</td>\n",
       "      <td>0.0</td>\n",
       "      <td>0.0</td>\n",
       "      <td>0.034284</td>\n",
       "      <td>0.0</td>\n",
       "      <td>0.000000</td>\n",
       "      <td>0.000000</td>\n",
       "      <td>0.0</td>\n",
       "      <td>0.0</td>\n",
       "      <td>0.021512</td>\n",
       "      <td>0.027692</td>\n",
       "      <td>0.0</td>\n",
       "      <td>0.0</td>\n",
       "      <td>0.0</td>\n",
       "      <td>0.0</td>\n",
       "      <td>0.000000</td>\n",
       "      <td>0.000000</td>\n",
       "      <td>0.000000</td>\n",
       "      <td>0.000000</td>\n",
       "      <td>0.0</td>\n",
       "      <td>0.0</td>\n",
       "      <td>0.0</td>\n",
       "      <td>0.000000</td>\n",
       "      <td>0.0</td>\n",
       "      <td>0.0</td>\n",
       "      <td>0.000000</td>\n",
       "      <td>0.000000</td>\n",
       "      <td>0.000000</td>\n",
       "      <td>0.0</td>\n",
       "      <td>0.0</td>\n",
       "      <td>0.000000</td>\n",
       "      <td>0.0</td>\n",
       "      <td>0.0</td>\n",
       "      <td>0.000000</td>\n",
       "      <td>0.0</td>\n",
       "      <td>0.0</td>\n",
       "      <td>0.000000</td>\n",
       "      <td>0.0</td>\n",
       "      <td>0.00000</td>\n",
       "      <td>0.000000</td>\n",
       "      <td>0.0</td>\n",
       "      <td>0.000000</td>\n",
       "      <td>0.0</td>\n",
       "      <td>0.0</td>\n",
       "      <td>0.000000</td>\n",
       "      <td>0.000000</td>\n",
       "      <td>0.0</td>\n",
       "      <td>0.0</td>\n",
       "      <td>The Time Series Transformer</td>\n",
       "      <td>5</td>\n",
       "    </tr>\n",
       "    <tr>\n",
       "      <th>...</th>\n",
       "      <td>...</td>\n",
       "      <td>...</td>\n",
       "      <td>...</td>\n",
       "      <td>...</td>\n",
       "      <td>...</td>\n",
       "      <td>...</td>\n",
       "      <td>...</td>\n",
       "      <td>...</td>\n",
       "      <td>...</td>\n",
       "      <td>...</td>\n",
       "      <td>...</td>\n",
       "      <td>...</td>\n",
       "      <td>...</td>\n",
       "      <td>...</td>\n",
       "      <td>...</td>\n",
       "      <td>...</td>\n",
       "      <td>...</td>\n",
       "      <td>...</td>\n",
       "      <td>...</td>\n",
       "      <td>...</td>\n",
       "      <td>...</td>\n",
       "      <td>...</td>\n",
       "      <td>...</td>\n",
       "      <td>...</td>\n",
       "      <td>...</td>\n",
       "      <td>...</td>\n",
       "      <td>...</td>\n",
       "      <td>...</td>\n",
       "      <td>...</td>\n",
       "      <td>...</td>\n",
       "      <td>...</td>\n",
       "      <td>...</td>\n",
       "      <td>...</td>\n",
       "      <td>...</td>\n",
       "      <td>...</td>\n",
       "      <td>...</td>\n",
       "      <td>...</td>\n",
       "      <td>...</td>\n",
       "      <td>...</td>\n",
       "      <td>...</td>\n",
       "      <td>...</td>\n",
       "      <td>...</td>\n",
       "      <td>...</td>\n",
       "      <td>...</td>\n",
       "      <td>...</td>\n",
       "      <td>...</td>\n",
       "      <td>...</td>\n",
       "      <td>...</td>\n",
       "      <td>...</td>\n",
       "      <td>...</td>\n",
       "      <td>...</td>\n",
       "      <td>...</td>\n",
       "      <td>...</td>\n",
       "      <td>...</td>\n",
       "      <td>...</td>\n",
       "      <td>...</td>\n",
       "      <td>...</td>\n",
       "      <td>...</td>\n",
       "      <td>...</td>\n",
       "      <td>...</td>\n",
       "      <td>...</td>\n",
       "      <td>...</td>\n",
       "      <td>...</td>\n",
       "      <td>...</td>\n",
       "      <td>...</td>\n",
       "      <td>...</td>\n",
       "      <td>...</td>\n",
       "      <td>...</td>\n",
       "      <td>...</td>\n",
       "      <td>...</td>\n",
       "      <td>...</td>\n",
       "      <td>...</td>\n",
       "      <td>...</td>\n",
       "      <td>...</td>\n",
       "      <td>...</td>\n",
       "      <td>...</td>\n",
       "      <td>...</td>\n",
       "      <td>...</td>\n",
       "      <td>...</td>\n",
       "      <td>...</td>\n",
       "      <td>...</td>\n",
       "      <td>...</td>\n",
       "      <td>...</td>\n",
       "      <td>...</td>\n",
       "      <td>...</td>\n",
       "      <td>...</td>\n",
       "      <td>...</td>\n",
       "      <td>...</td>\n",
       "      <td>...</td>\n",
       "      <td>...</td>\n",
       "      <td>...</td>\n",
       "      <td>...</td>\n",
       "      <td>...</td>\n",
       "      <td>...</td>\n",
       "      <td>...</td>\n",
       "      <td>...</td>\n",
       "      <td>...</td>\n",
       "      <td>...</td>\n",
       "      <td>...</td>\n",
       "      <td>...</td>\n",
       "      <td>...</td>\n",
       "    </tr>\n",
       "    <tr>\n",
       "      <th>203</th>\n",
       "      <td>0.015118</td>\n",
       "      <td>0.0</td>\n",
       "      <td>0.0</td>\n",
       "      <td>0.0</td>\n",
       "      <td>0.000000</td>\n",
       "      <td>0.0</td>\n",
       "      <td>0.006343</td>\n",
       "      <td>0.0</td>\n",
       "      <td>0.0</td>\n",
       "      <td>0.0</td>\n",
       "      <td>0.0</td>\n",
       "      <td>0.0</td>\n",
       "      <td>0.000000</td>\n",
       "      <td>0.008093</td>\n",
       "      <td>0.0</td>\n",
       "      <td>0.0</td>\n",
       "      <td>0.0</td>\n",
       "      <td>0.0</td>\n",
       "      <td>0.000000</td>\n",
       "      <td>0.000000</td>\n",
       "      <td>0.0</td>\n",
       "      <td>0.0</td>\n",
       "      <td>0.0</td>\n",
       "      <td>0.000000</td>\n",
       "      <td>0.0</td>\n",
       "      <td>0.0</td>\n",
       "      <td>0.0</td>\n",
       "      <td>0.0</td>\n",
       "      <td>0.0</td>\n",
       "      <td>0.0</td>\n",
       "      <td>0.007529</td>\n",
       "      <td>0.0</td>\n",
       "      <td>0.012889</td>\n",
       "      <td>0.0</td>\n",
       "      <td>0.0</td>\n",
       "      <td>0.013989</td>\n",
       "      <td>0.0</td>\n",
       "      <td>0.0</td>\n",
       "      <td>0.0</td>\n",
       "      <td>0.0</td>\n",
       "      <td>0.0</td>\n",
       "      <td>0.0</td>\n",
       "      <td>0.0</td>\n",
       "      <td>0.0</td>\n",
       "      <td>0.000000</td>\n",
       "      <td>0.011077</td>\n",
       "      <td>0.000000</td>\n",
       "      <td>0.0</td>\n",
       "      <td>0.000000</td>\n",
       "      <td>0.0</td>\n",
       "      <td>...</td>\n",
       "      <td>0.0</td>\n",
       "      <td>0.0</td>\n",
       "      <td>0.0</td>\n",
       "      <td>0.000000</td>\n",
       "      <td>0.0</td>\n",
       "      <td>0.000000</td>\n",
       "      <td>0.010314</td>\n",
       "      <td>0.0</td>\n",
       "      <td>0.0</td>\n",
       "      <td>0.000000</td>\n",
       "      <td>0.017453</td>\n",
       "      <td>0.0</td>\n",
       "      <td>0.0</td>\n",
       "      <td>0.0</td>\n",
       "      <td>0.0</td>\n",
       "      <td>0.000000</td>\n",
       "      <td>0.000000</td>\n",
       "      <td>0.000000</td>\n",
       "      <td>0.015592</td>\n",
       "      <td>0.0</td>\n",
       "      <td>0.0</td>\n",
       "      <td>0.0</td>\n",
       "      <td>0.005727</td>\n",
       "      <td>0.0</td>\n",
       "      <td>0.0</td>\n",
       "      <td>0.024843</td>\n",
       "      <td>0.000000</td>\n",
       "      <td>0.000000</td>\n",
       "      <td>0.0</td>\n",
       "      <td>0.0</td>\n",
       "      <td>0.020386</td>\n",
       "      <td>0.0</td>\n",
       "      <td>0.0</td>\n",
       "      <td>0.000000</td>\n",
       "      <td>0.0</td>\n",
       "      <td>0.0</td>\n",
       "      <td>0.000000</td>\n",
       "      <td>0.0</td>\n",
       "      <td>0.00000</td>\n",
       "      <td>0.010093</td>\n",
       "      <td>0.0</td>\n",
       "      <td>0.000000</td>\n",
       "      <td>0.0</td>\n",
       "      <td>0.0</td>\n",
       "      <td>0.000000</td>\n",
       "      <td>0.000000</td>\n",
       "      <td>0.0</td>\n",
       "      <td>0.0</td>\n",
       "      <td>Type 2 Diabetes Reversal  The Quick Start Guide</td>\n",
       "      <td>210</td>\n",
       "    </tr>\n",
       "    <tr>\n",
       "      <th>204</th>\n",
       "      <td>0.000000</td>\n",
       "      <td>0.0</td>\n",
       "      <td>0.0</td>\n",
       "      <td>0.0</td>\n",
       "      <td>0.000000</td>\n",
       "      <td>0.0</td>\n",
       "      <td>0.000000</td>\n",
       "      <td>0.0</td>\n",
       "      <td>0.0</td>\n",
       "      <td>0.0</td>\n",
       "      <td>0.0</td>\n",
       "      <td>0.0</td>\n",
       "      <td>0.000000</td>\n",
       "      <td>0.019866</td>\n",
       "      <td>0.0</td>\n",
       "      <td>0.0</td>\n",
       "      <td>0.0</td>\n",
       "      <td>0.0</td>\n",
       "      <td>0.027918</td>\n",
       "      <td>0.000000</td>\n",
       "      <td>0.0</td>\n",
       "      <td>0.0</td>\n",
       "      <td>0.0</td>\n",
       "      <td>0.000000</td>\n",
       "      <td>0.0</td>\n",
       "      <td>0.0</td>\n",
       "      <td>0.0</td>\n",
       "      <td>0.0</td>\n",
       "      <td>0.0</td>\n",
       "      <td>0.0</td>\n",
       "      <td>0.000000</td>\n",
       "      <td>0.0</td>\n",
       "      <td>0.000000</td>\n",
       "      <td>0.0</td>\n",
       "      <td>0.0</td>\n",
       "      <td>0.000000</td>\n",
       "      <td>0.0</td>\n",
       "      <td>0.0</td>\n",
       "      <td>0.0</td>\n",
       "      <td>0.0</td>\n",
       "      <td>0.0</td>\n",
       "      <td>0.0</td>\n",
       "      <td>0.0</td>\n",
       "      <td>0.0</td>\n",
       "      <td>0.000000</td>\n",
       "      <td>0.000000</td>\n",
       "      <td>0.000000</td>\n",
       "      <td>0.0</td>\n",
       "      <td>0.000000</td>\n",
       "      <td>0.0</td>\n",
       "      <td>...</td>\n",
       "      <td>0.0</td>\n",
       "      <td>0.0</td>\n",
       "      <td>0.0</td>\n",
       "      <td>0.000000</td>\n",
       "      <td>0.0</td>\n",
       "      <td>0.000000</td>\n",
       "      <td>0.025320</td>\n",
       "      <td>0.0</td>\n",
       "      <td>0.0</td>\n",
       "      <td>0.000000</td>\n",
       "      <td>0.042845</td>\n",
       "      <td>0.0</td>\n",
       "      <td>0.0</td>\n",
       "      <td>0.0</td>\n",
       "      <td>0.0</td>\n",
       "      <td>0.000000</td>\n",
       "      <td>0.000000</td>\n",
       "      <td>0.000000</td>\n",
       "      <td>0.000000</td>\n",
       "      <td>0.0</td>\n",
       "      <td>0.0</td>\n",
       "      <td>0.0</td>\n",
       "      <td>0.000000</td>\n",
       "      <td>0.0</td>\n",
       "      <td>0.0</td>\n",
       "      <td>0.040656</td>\n",
       "      <td>0.076815</td>\n",
       "      <td>0.000000</td>\n",
       "      <td>0.0</td>\n",
       "      <td>0.0</td>\n",
       "      <td>0.012511</td>\n",
       "      <td>0.0</td>\n",
       "      <td>0.0</td>\n",
       "      <td>0.021158</td>\n",
       "      <td>0.0</td>\n",
       "      <td>0.0</td>\n",
       "      <td>0.000000</td>\n",
       "      <td>0.0</td>\n",
       "      <td>0.03434</td>\n",
       "      <td>0.000000</td>\n",
       "      <td>0.0</td>\n",
       "      <td>0.000000</td>\n",
       "      <td>0.0</td>\n",
       "      <td>0.0</td>\n",
       "      <td>0.000000</td>\n",
       "      <td>0.068679</td>\n",
       "      <td>0.0</td>\n",
       "      <td>0.0</td>\n",
       "      <td>How a 22 Day Water Fast Changed My Life</td>\n",
       "      <td>211</td>\n",
       "    </tr>\n",
       "    <tr>\n",
       "      <th>205</th>\n",
       "      <td>0.000000</td>\n",
       "      <td>0.0</td>\n",
       "      <td>0.0</td>\n",
       "      <td>0.0</td>\n",
       "      <td>0.000000</td>\n",
       "      <td>0.0</td>\n",
       "      <td>0.016279</td>\n",
       "      <td>0.0</td>\n",
       "      <td>0.0</td>\n",
       "      <td>0.0</td>\n",
       "      <td>0.0</td>\n",
       "      <td>0.0</td>\n",
       "      <td>0.022684</td>\n",
       "      <td>0.020770</td>\n",
       "      <td>0.0</td>\n",
       "      <td>0.0</td>\n",
       "      <td>0.0</td>\n",
       "      <td>0.0</td>\n",
       "      <td>0.000000</td>\n",
       "      <td>0.000000</td>\n",
       "      <td>0.0</td>\n",
       "      <td>0.0</td>\n",
       "      <td>0.0</td>\n",
       "      <td>0.000000</td>\n",
       "      <td>0.0</td>\n",
       "      <td>0.0</td>\n",
       "      <td>0.0</td>\n",
       "      <td>0.0</td>\n",
       "      <td>0.0</td>\n",
       "      <td>0.0</td>\n",
       "      <td>0.000000</td>\n",
       "      <td>0.0</td>\n",
       "      <td>0.000000</td>\n",
       "      <td>0.0</td>\n",
       "      <td>0.0</td>\n",
       "      <td>0.000000</td>\n",
       "      <td>0.0</td>\n",
       "      <td>0.0</td>\n",
       "      <td>0.0</td>\n",
       "      <td>0.0</td>\n",
       "      <td>0.0</td>\n",
       "      <td>0.0</td>\n",
       "      <td>0.0</td>\n",
       "      <td>0.0</td>\n",
       "      <td>0.000000</td>\n",
       "      <td>0.000000</td>\n",
       "      <td>0.000000</td>\n",
       "      <td>0.0</td>\n",
       "      <td>0.000000</td>\n",
       "      <td>0.0</td>\n",
       "      <td>...</td>\n",
       "      <td>0.0</td>\n",
       "      <td>0.0</td>\n",
       "      <td>0.0</td>\n",
       "      <td>0.000000</td>\n",
       "      <td>0.0</td>\n",
       "      <td>0.000000</td>\n",
       "      <td>0.000000</td>\n",
       "      <td>0.0</td>\n",
       "      <td>0.0</td>\n",
       "      <td>0.000000</td>\n",
       "      <td>0.000000</td>\n",
       "      <td>0.0</td>\n",
       "      <td>0.0</td>\n",
       "      <td>0.0</td>\n",
       "      <td>0.0</td>\n",
       "      <td>0.000000</td>\n",
       "      <td>0.000000</td>\n",
       "      <td>0.000000</td>\n",
       "      <td>0.000000</td>\n",
       "      <td>0.0</td>\n",
       "      <td>0.0</td>\n",
       "      <td>0.0</td>\n",
       "      <td>0.000000</td>\n",
       "      <td>0.0</td>\n",
       "      <td>0.0</td>\n",
       "      <td>0.000000</td>\n",
       "      <td>0.000000</td>\n",
       "      <td>0.000000</td>\n",
       "      <td>0.0</td>\n",
       "      <td>0.0</td>\n",
       "      <td>0.000000</td>\n",
       "      <td>0.0</td>\n",
       "      <td>0.0</td>\n",
       "      <td>0.000000</td>\n",
       "      <td>0.0</td>\n",
       "      <td>0.0</td>\n",
       "      <td>0.000000</td>\n",
       "      <td>0.0</td>\n",
       "      <td>0.00000</td>\n",
       "      <td>0.000000</td>\n",
       "      <td>0.0</td>\n",
       "      <td>0.021420</td>\n",
       "      <td>0.0</td>\n",
       "      <td>0.0</td>\n",
       "      <td>0.000000</td>\n",
       "      <td>0.000000</td>\n",
       "      <td>0.0</td>\n",
       "      <td>0.0</td>\n",
       "      <td>Breaking Your Fast</td>\n",
       "      <td>212</td>\n",
       "    </tr>\n",
       "    <tr>\n",
       "      <th>206</th>\n",
       "      <td>0.000000</td>\n",
       "      <td>0.0</td>\n",
       "      <td>0.0</td>\n",
       "      <td>0.0</td>\n",
       "      <td>0.000000</td>\n",
       "      <td>0.0</td>\n",
       "      <td>0.043596</td>\n",
       "      <td>0.0</td>\n",
       "      <td>0.0</td>\n",
       "      <td>0.0</td>\n",
       "      <td>0.0</td>\n",
       "      <td>0.0</td>\n",
       "      <td>0.000000</td>\n",
       "      <td>0.000000</td>\n",
       "      <td>0.0</td>\n",
       "      <td>0.0</td>\n",
       "      <td>0.0</td>\n",
       "      <td>0.0</td>\n",
       "      <td>0.000000</td>\n",
       "      <td>0.036765</td>\n",
       "      <td>0.0</td>\n",
       "      <td>0.0</td>\n",
       "      <td>0.0</td>\n",
       "      <td>0.031268</td>\n",
       "      <td>0.0</td>\n",
       "      <td>0.0</td>\n",
       "      <td>0.0</td>\n",
       "      <td>0.0</td>\n",
       "      <td>0.0</td>\n",
       "      <td>0.0</td>\n",
       "      <td>0.000000</td>\n",
       "      <td>0.0</td>\n",
       "      <td>0.000000</td>\n",
       "      <td>0.0</td>\n",
       "      <td>0.0</td>\n",
       "      <td>0.000000</td>\n",
       "      <td>0.0</td>\n",
       "      <td>0.0</td>\n",
       "      <td>0.0</td>\n",
       "      <td>0.0</td>\n",
       "      <td>0.0</td>\n",
       "      <td>0.0</td>\n",
       "      <td>0.0</td>\n",
       "      <td>0.0</td>\n",
       "      <td>0.014853</td>\n",
       "      <td>0.000000</td>\n",
       "      <td>0.000000</td>\n",
       "      <td>0.0</td>\n",
       "      <td>0.000000</td>\n",
       "      <td>0.0</td>\n",
       "      <td>...</td>\n",
       "      <td>0.0</td>\n",
       "      <td>0.0</td>\n",
       "      <td>0.0</td>\n",
       "      <td>0.000000</td>\n",
       "      <td>0.0</td>\n",
       "      <td>0.000000</td>\n",
       "      <td>0.000000</td>\n",
       "      <td>0.0</td>\n",
       "      <td>0.0</td>\n",
       "      <td>0.000000</td>\n",
       "      <td>0.059983</td>\n",
       "      <td>0.0</td>\n",
       "      <td>0.0</td>\n",
       "      <td>0.0</td>\n",
       "      <td>0.0</td>\n",
       "      <td>0.008278</td>\n",
       "      <td>0.000000</td>\n",
       "      <td>0.000000</td>\n",
       "      <td>0.000000</td>\n",
       "      <td>0.0</td>\n",
       "      <td>0.0</td>\n",
       "      <td>0.0</td>\n",
       "      <td>0.023620</td>\n",
       "      <td>0.0</td>\n",
       "      <td>0.0</td>\n",
       "      <td>0.000000</td>\n",
       "      <td>0.014339</td>\n",
       "      <td>0.000000</td>\n",
       "      <td>0.0</td>\n",
       "      <td>0.0</td>\n",
       "      <td>0.014012</td>\n",
       "      <td>0.0</td>\n",
       "      <td>0.0</td>\n",
       "      <td>0.000000</td>\n",
       "      <td>0.0</td>\n",
       "      <td>0.0</td>\n",
       "      <td>0.000000</td>\n",
       "      <td>0.0</td>\n",
       "      <td>0.00000</td>\n",
       "      <td>0.000000</td>\n",
       "      <td>0.0</td>\n",
       "      <td>0.000000</td>\n",
       "      <td>0.0</td>\n",
       "      <td>0.0</td>\n",
       "      <td>0.021434</td>\n",
       "      <td>0.019230</td>\n",
       "      <td>0.0</td>\n",
       "      <td>0.0</td>\n",
       "      <td>11 Unusual Tips for How to Wake Up Early</td>\n",
       "      <td>213</td>\n",
       "    </tr>\n",
       "    <tr>\n",
       "      <th>207</th>\n",
       "      <td>0.000000</td>\n",
       "      <td>0.0</td>\n",
       "      <td>0.0</td>\n",
       "      <td>0.0</td>\n",
       "      <td>0.000000</td>\n",
       "      <td>0.0</td>\n",
       "      <td>0.007900</td>\n",
       "      <td>0.0</td>\n",
       "      <td>0.0</td>\n",
       "      <td>0.0</td>\n",
       "      <td>0.0</td>\n",
       "      <td>0.0</td>\n",
       "      <td>0.000000</td>\n",
       "      <td>0.000000</td>\n",
       "      <td>0.0</td>\n",
       "      <td>0.0</td>\n",
       "      <td>0.0</td>\n",
       "      <td>0.0</td>\n",
       "      <td>0.000000</td>\n",
       "      <td>0.000000</td>\n",
       "      <td>0.0</td>\n",
       "      <td>0.0</td>\n",
       "      <td>0.0</td>\n",
       "      <td>0.000000</td>\n",
       "      <td>0.0</td>\n",
       "      <td>0.0</td>\n",
       "      <td>0.0</td>\n",
       "      <td>0.0</td>\n",
       "      <td>0.0</td>\n",
       "      <td>0.0</td>\n",
       "      <td>0.009377</td>\n",
       "      <td>0.0</td>\n",
       "      <td>0.000000</td>\n",
       "      <td>0.0</td>\n",
       "      <td>0.0</td>\n",
       "      <td>0.000000</td>\n",
       "      <td>0.0</td>\n",
       "      <td>0.0</td>\n",
       "      <td>0.0</td>\n",
       "      <td>0.0</td>\n",
       "      <td>0.0</td>\n",
       "      <td>0.0</td>\n",
       "      <td>0.0</td>\n",
       "      <td>0.0</td>\n",
       "      <td>0.000000</td>\n",
       "      <td>0.000000</td>\n",
       "      <td>0.000000</td>\n",
       "      <td>0.0</td>\n",
       "      <td>0.000000</td>\n",
       "      <td>0.0</td>\n",
       "      <td>...</td>\n",
       "      <td>0.0</td>\n",
       "      <td>0.0</td>\n",
       "      <td>0.0</td>\n",
       "      <td>0.000000</td>\n",
       "      <td>0.0</td>\n",
       "      <td>0.072839</td>\n",
       "      <td>0.000000</td>\n",
       "      <td>0.0</td>\n",
       "      <td>0.0</td>\n",
       "      <td>0.025332</td>\n",
       "      <td>0.010870</td>\n",
       "      <td>0.0</td>\n",
       "      <td>0.0</td>\n",
       "      <td>0.0</td>\n",
       "      <td>0.0</td>\n",
       "      <td>0.000000</td>\n",
       "      <td>0.017845</td>\n",
       "      <td>0.000000</td>\n",
       "      <td>0.000000</td>\n",
       "      <td>0.0</td>\n",
       "      <td>0.0</td>\n",
       "      <td>0.0</td>\n",
       "      <td>0.014268</td>\n",
       "      <td>0.0</td>\n",
       "      <td>0.0</td>\n",
       "      <td>0.010315</td>\n",
       "      <td>0.000000</td>\n",
       "      <td>0.000000</td>\n",
       "      <td>0.0</td>\n",
       "      <td>0.0</td>\n",
       "      <td>0.006348</td>\n",
       "      <td>0.0</td>\n",
       "      <td>0.0</td>\n",
       "      <td>0.021471</td>\n",
       "      <td>0.0</td>\n",
       "      <td>0.0</td>\n",
       "      <td>0.040204</td>\n",
       "      <td>0.0</td>\n",
       "      <td>0.00000</td>\n",
       "      <td>0.000000</td>\n",
       "      <td>0.0</td>\n",
       "      <td>0.000000</td>\n",
       "      <td>0.0</td>\n",
       "      <td>0.0</td>\n",
       "      <td>0.000000</td>\n",
       "      <td>0.000000</td>\n",
       "      <td>0.0</td>\n",
       "      <td>0.0</td>\n",
       "      <td>The 3 Biggest Mistakes Women Make On The Ketog...</td>\n",
       "      <td>214</td>\n",
       "    </tr>\n",
       "  </tbody>\n",
       "</table>\n",
       "<p>208 rows × 3709 columns</p>\n",
       "</div>"
      ],
      "text/plain": [
       "           00  000   01   05        06   07        10  100  1000  101  10k  \\\n",
       "0    0.000000  0.0  0.0  0.0  0.000000  0.0  0.000000  0.0   0.0  0.0  0.0   \n",
       "1    0.000000  0.0  0.0  0.0  0.000000  0.0  0.000000  0.0   0.0  0.0  0.0   \n",
       "2    0.000000  0.0  0.0  0.0  0.019288  0.0  0.008322  0.0   0.0  0.0  0.0   \n",
       "3    0.000000  0.0  0.0  0.0  0.000000  0.0  0.000000  0.0   0.0  0.0  0.0   \n",
       "4    0.000000  0.0  0.0  0.0  0.000000  0.0  0.000000  0.0   0.0  0.0  0.0   \n",
       "..        ...  ...  ...  ...       ...  ...       ...  ...   ...  ...  ...   \n",
       "203  0.015118  0.0  0.0  0.0  0.000000  0.0  0.006343  0.0   0.0  0.0  0.0   \n",
       "204  0.000000  0.0  0.0  0.0  0.000000  0.0  0.000000  0.0   0.0  0.0  0.0   \n",
       "205  0.000000  0.0  0.0  0.0  0.000000  0.0  0.016279  0.0   0.0  0.0  0.0   \n",
       "206  0.000000  0.0  0.0  0.0  0.000000  0.0  0.043596  0.0   0.0  0.0  0.0   \n",
       "207  0.000000  0.0  0.0  0.0  0.000000  0.0  0.007900  0.0   0.0  0.0  0.0   \n",
       "\n",
       "     10x        11        12  120  125  128   13        14        15  150  \\\n",
       "0    0.0  0.000000  0.000000  0.0  0.0  0.0  0.0  0.000000  0.000000  0.0   \n",
       "1    0.0  0.000000  0.000000  0.0  0.0  0.0  0.0  0.000000  0.000000  0.0   \n",
       "2    0.0  0.000000  0.000000  0.0  0.0  0.0  0.0  0.000000  0.000000  0.0   \n",
       "3    0.0  0.006738  0.000000  0.0  0.0  0.0  0.0  0.008670  0.006796  0.0   \n",
       "4    0.0  0.000000  0.000000  0.0  0.0  0.0  0.0  0.000000  0.000000  0.0   \n",
       "..   ...       ...       ...  ...  ...  ...  ...       ...       ...  ...   \n",
       "203  0.0  0.000000  0.008093  0.0  0.0  0.0  0.0  0.000000  0.000000  0.0   \n",
       "204  0.0  0.000000  0.019866  0.0  0.0  0.0  0.0  0.027918  0.000000  0.0   \n",
       "205  0.0  0.022684  0.020770  0.0  0.0  0.0  0.0  0.000000  0.000000  0.0   \n",
       "206  0.0  0.000000  0.000000  0.0  0.0  0.0  0.0  0.000000  0.036765  0.0   \n",
       "207  0.0  0.000000  0.000000  0.0  0.0  0.0  0.0  0.000000  0.000000  0.0   \n",
       "\n",
       "      16   17        18   19  1980  1989  1990   1k  1st        20  200  \\\n",
       "0    0.0  0.0  0.000000  0.0   0.0   0.0   0.0  0.0  0.0  0.000000  0.0   \n",
       "1    0.0  0.0  0.000000  0.0   0.0   0.0   0.0  0.0  0.0  0.000000  0.0   \n",
       "2    0.0  0.0  0.000000  0.0   0.0   0.0   0.0  0.0  0.0  0.000000  0.0   \n",
       "3    0.0  0.0  0.000000  0.0   0.0   0.0   0.0  0.0  0.0  0.000000  0.0   \n",
       "4    0.0  0.0  0.000000  0.0   0.0   0.0   0.0  0.0  0.0  0.000000  0.0   \n",
       "..   ...  ...       ...  ...   ...   ...   ...  ...  ...       ...  ...   \n",
       "203  0.0  0.0  0.000000  0.0   0.0   0.0   0.0  0.0  0.0  0.007529  0.0   \n",
       "204  0.0  0.0  0.000000  0.0   0.0   0.0   0.0  0.0  0.0  0.000000  0.0   \n",
       "205  0.0  0.0  0.000000  0.0   0.0   0.0   0.0  0.0  0.0  0.000000  0.0   \n",
       "206  0.0  0.0  0.031268  0.0   0.0   0.0   0.0  0.0  0.0  0.000000  0.0   \n",
       "207  0.0  0.0  0.000000  0.0   0.0   0.0   0.0  0.0  0.0  0.009377  0.0   \n",
       "\n",
       "         2000  2001  2005      2008  2009  2010  2011  2012  2013  2014  2015  \\\n",
       "0    0.000000   0.0   0.0  0.000000   0.0   0.0   0.0   0.0   0.0   0.0   0.0   \n",
       "1    0.000000   0.0   0.0  0.000000   0.0   0.0   0.0   0.0   0.0   0.0   0.0   \n",
       "2    0.000000   0.0   0.0  0.000000   0.0   0.0   0.0   0.0   0.0   0.0   0.0   \n",
       "3    0.000000   0.0   0.0  0.000000   0.0   0.0   0.0   0.0   0.0   0.0   0.0   \n",
       "4    0.000000   0.0   0.0  0.000000   0.0   0.0   0.0   0.0   0.0   0.0   0.0   \n",
       "..        ...   ...   ...       ...   ...   ...   ...   ...   ...   ...   ...   \n",
       "203  0.012889   0.0   0.0  0.013989   0.0   0.0   0.0   0.0   0.0   0.0   0.0   \n",
       "204  0.000000   0.0   0.0  0.000000   0.0   0.0   0.0   0.0   0.0   0.0   0.0   \n",
       "205  0.000000   0.0   0.0  0.000000   0.0   0.0   0.0   0.0   0.0   0.0   0.0   \n",
       "206  0.000000   0.0   0.0  0.000000   0.0   0.0   0.0   0.0   0.0   0.0   0.0   \n",
       "207  0.000000   0.0   0.0  0.000000   0.0   0.0   0.0   0.0   0.0   0.0   0.0   \n",
       "\n",
       "     2016      2017      2018      2019  2020      2021   21  ...  winter  \\\n",
       "0     0.0  0.000000  0.000000  0.000000   0.0  0.000000  0.0  ...     0.0   \n",
       "1     0.0  0.000000  0.000000  0.000000   0.0  0.000000  0.0  ...     0.0   \n",
       "2     0.0  0.000000  0.000000  0.000000   0.0  0.014724  0.0  ...     0.0   \n",
       "3     0.0  0.000000  0.000000  0.000000   0.0  0.000000  0.0  ...     0.0   \n",
       "4     0.0  0.034284  0.000000  0.039491   0.0  0.000000  0.0  ...     0.0   \n",
       "..    ...       ...       ...       ...   ...       ...  ...  ...     ...   \n",
       "203   0.0  0.000000  0.011077  0.000000   0.0  0.000000  0.0  ...     0.0   \n",
       "204   0.0  0.000000  0.000000  0.000000   0.0  0.000000  0.0  ...     0.0   \n",
       "205   0.0  0.000000  0.000000  0.000000   0.0  0.000000  0.0  ...     0.0   \n",
       "206   0.0  0.014853  0.000000  0.000000   0.0  0.000000  0.0  ...     0.0   \n",
       "207   0.0  0.000000  0.000000  0.000000   0.0  0.000000  0.0  ...     0.0   \n",
       "\n",
       "     wire  wise      wish  withdraw     woman    wonder  wonderful  wood  \\\n",
       "0     0.0   0.0  0.000000       0.0  0.000000  0.000000        0.0   0.0   \n",
       "1     0.0   0.0  0.000000       0.0  0.000000  0.000000        0.0   0.0   \n",
       "2     0.0   0.0  0.000000       0.0  0.000000  0.000000        0.0   0.0   \n",
       "3     0.0   0.0  0.000000       0.0  0.000000  0.000000        0.0   0.0   \n",
       "4     0.0   0.0  0.034284       0.0  0.000000  0.000000        0.0   0.0   \n",
       "..    ...   ...       ...       ...       ...       ...        ...   ...   \n",
       "203   0.0   0.0  0.000000       0.0  0.000000  0.010314        0.0   0.0   \n",
       "204   0.0   0.0  0.000000       0.0  0.000000  0.025320        0.0   0.0   \n",
       "205   0.0   0.0  0.000000       0.0  0.000000  0.000000        0.0   0.0   \n",
       "206   0.0   0.0  0.000000       0.0  0.000000  0.000000        0.0   0.0   \n",
       "207   0.0   0.0  0.000000       0.0  0.072839  0.000000        0.0   0.0   \n",
       "\n",
       "         word      work  worker  workflow  working  workout     world  \\\n",
       "0    0.008056  0.005185     0.0       0.0      0.0      0.0  0.000000   \n",
       "1    0.000000  0.000000     0.0       0.0      0.0      0.0  0.000000   \n",
       "2    0.000000  0.022901     0.0       0.0      0.0      0.0  0.000000   \n",
       "3    0.000000  0.013306     0.0       0.0      0.0      0.0  0.013772   \n",
       "4    0.021512  0.027692     0.0       0.0      0.0      0.0  0.000000   \n",
       "..        ...       ...     ...       ...      ...      ...       ...   \n",
       "203  0.000000  0.017453     0.0       0.0      0.0      0.0  0.000000   \n",
       "204  0.000000  0.042845     0.0       0.0      0.0      0.0  0.000000   \n",
       "205  0.000000  0.000000     0.0       0.0      0.0      0.0  0.000000   \n",
       "206  0.000000  0.059983     0.0       0.0      0.0      0.0  0.008278   \n",
       "207  0.025332  0.010870     0.0       0.0      0.0      0.0  0.000000   \n",
       "\n",
       "      worried     worry    worsen  worth  wow  wrap     write  writer  \\\n",
       "0    0.000000  0.000000  0.000000    0.0  0.0   0.0  0.013613     0.0   \n",
       "1    0.000000  0.000000  0.000000    0.0  0.0   0.0  0.014092     0.0   \n",
       "2    0.000000  0.000000  0.000000    0.0  0.0   0.0  0.015030     0.0   \n",
       "3    0.000000  0.008339  0.000000    0.0  0.0   0.0  0.017465     0.0   \n",
       "4    0.000000  0.000000  0.000000    0.0  0.0   0.0  0.000000     0.0   \n",
       "..        ...       ...       ...    ...  ...   ...       ...     ...   \n",
       "203  0.000000  0.000000  0.015592    0.0  0.0   0.0  0.005727     0.0   \n",
       "204  0.000000  0.000000  0.000000    0.0  0.0   0.0  0.000000     0.0   \n",
       "205  0.000000  0.000000  0.000000    0.0  0.0   0.0  0.000000     0.0   \n",
       "206  0.000000  0.000000  0.000000    0.0  0.0   0.0  0.023620     0.0   \n",
       "207  0.017845  0.000000  0.000000    0.0  0.0   0.0  0.014268     0.0   \n",
       "\n",
       "     writing     wrong       www   xgboost   xi  yeah      year  yearly  \\\n",
       "0        0.0  0.000000  0.000000  0.009264  0.0   0.0  0.000000     0.0   \n",
       "1        0.0  0.000000  0.025664  0.000000  0.0   0.0  0.000000     0.0   \n",
       "2        0.0  0.010865  0.013686  0.000000  0.0   0.0  0.006687     0.0   \n",
       "3        0.0  0.000000  0.000000  0.000000  0.0   0.0  0.000000     0.0   \n",
       "4        0.0  0.000000  0.000000  0.000000  0.0   0.0  0.000000     0.0   \n",
       "..       ...       ...       ...       ...  ...   ...       ...     ...   \n",
       "203      0.0  0.024843  0.000000  0.000000  0.0   0.0  0.020386     0.0   \n",
       "204      0.0  0.040656  0.076815  0.000000  0.0   0.0  0.012511     0.0   \n",
       "205      0.0  0.000000  0.000000  0.000000  0.0   0.0  0.000000     0.0   \n",
       "206      0.0  0.000000  0.014339  0.000000  0.0   0.0  0.014012     0.0   \n",
       "207      0.0  0.010315  0.000000  0.000000  0.0   0.0  0.006348     0.0   \n",
       "\n",
       "     yellow       yes  yesterday  yield        yo  york      you     young  \\\n",
       "0       0.0  0.000000        0.0    0.0  0.000000   0.0  0.00000  0.000000   \n",
       "1       0.0  0.000000        0.0    0.0  0.000000   0.0  0.00000  0.000000   \n",
       "2       0.0  0.000000        0.0    0.0  0.000000   0.0  0.00000  0.000000   \n",
       "3       0.0  0.006571        0.0    0.0  0.000000   0.0  0.00000  0.000000   \n",
       "4       0.0  0.000000        0.0    0.0  0.000000   0.0  0.00000  0.000000   \n",
       "..      ...       ...        ...    ...       ...   ...      ...       ...   \n",
       "203     0.0  0.000000        0.0    0.0  0.000000   0.0  0.00000  0.010093   \n",
       "204     0.0  0.021158        0.0    0.0  0.000000   0.0  0.03434  0.000000   \n",
       "205     0.0  0.000000        0.0    0.0  0.000000   0.0  0.00000  0.000000   \n",
       "206     0.0  0.000000        0.0    0.0  0.000000   0.0  0.00000  0.000000   \n",
       "207     0.0  0.021471        0.0    0.0  0.040204   0.0  0.00000  0.000000   \n",
       "\n",
       "     youtube      zero  zhou  zip    zombie      zone  zoom  zuckerberg  \\\n",
       "0        0.0  0.000000   0.0  0.0  0.000000  0.000000   0.0         0.0   \n",
       "1        0.0  0.000000   0.0  0.0  0.000000  0.000000   0.0         0.0   \n",
       "2        0.0  0.000000   0.0  0.0  0.000000  0.000000   0.0         0.0   \n",
       "3        0.0  0.006363   0.0  0.0  0.000000  0.000000   0.0         0.0   \n",
       "4        0.0  0.000000   0.0  0.0  0.000000  0.000000   0.0         0.0   \n",
       "..       ...       ...   ...  ...       ...       ...   ...         ...   \n",
       "203      0.0  0.000000   0.0  0.0  0.000000  0.000000   0.0         0.0   \n",
       "204      0.0  0.000000   0.0  0.0  0.000000  0.068679   0.0         0.0   \n",
       "205      0.0  0.021420   0.0  0.0  0.000000  0.000000   0.0         0.0   \n",
       "206      0.0  0.000000   0.0  0.0  0.021434  0.019230   0.0         0.0   \n",
       "207      0.0  0.000000   0.0  0.0  0.000000  0.000000   0.0         0.0   \n",
       "\n",
       "                                                 TITLE   ID  \n",
       "0     Ensemble methods: bagging, boosting and stacking    1  \n",
       "1                        Understanding AUC - ROC Curve    2  \n",
       "2    How to work with object detection datasets in ...    3  \n",
       "3    11 Dimensionality reduction techniques you sho...    4  \n",
       "4                          The Time Series Transformer    5  \n",
       "..                                                 ...  ...  \n",
       "203    Type 2 Diabetes Reversal  The Quick Start Guide  210  \n",
       "204            How a 22 Day Water Fast Changed My Life  211  \n",
       "205                                 Breaking Your Fast  212  \n",
       "206           11 Unusual Tips for How to Wake Up Early  213  \n",
       "207  The 3 Biggest Mistakes Women Make On The Ketog...  214  \n",
       "\n",
       "[208 rows x 3709 columns]"
      ]
     },
     "metadata": {},
     "output_type": "display_data"
    }
   ],
   "source": [
    "# TF-IDF representation of the dataset Using TfidfVectorizer from scikit-learn\n",
    "tfidf_vectorizer = TfidfVectorizer(min_df=5)\n",
    "# min_df: ignore terms that have a document frequency strictly lower than the given threshold.\n",
    "tfidf_features = tfidf_vectorizer.fit_transform(articles[\"processed_text\"]).todense()  # todense() returns a matrix\n",
    "# create dataframe\n",
    "tfidf_features_df = pd.DataFrame(tfidf_features)\n",
    "tfidf_features_df.columns = tfidf_vectorizer.get_feature_names_out()  # Get output feature names for dataframe columns.\n",
    "tfidf_features_df[\"TITLE\"] = articles[\"title\"]\n",
    "tfidf_features_df[\"ID\"] = articles[\"id\"]\n",
    "display(tfidf_features_df)"
   ]
  },
  {
   "cell_type": "code",
   "execution_count": 28,
   "metadata": {},
   "outputs": [
    {
     "data": {
      "text/html": [
       "<div>\n",
       "<style scoped>\n",
       "    .dataframe tbody tr th:only-of-type {\n",
       "        vertical-align: middle;\n",
       "    }\n",
       "\n",
       "    .dataframe tbody tr th {\n",
       "        vertical-align: top;\n",
       "    }\n",
       "\n",
       "    .dataframe thead th {\n",
       "        text-align: right;\n",
       "    }\n",
       "</style>\n",
       "<table border=\"1\" class=\"dataframe\">\n",
       "  <thead>\n",
       "    <tr style=\"text-align: right;\">\n",
       "      <th></th>\n",
       "      <th>C1</th>\n",
       "      <th>C2</th>\n",
       "      <th>TITLE</th>\n",
       "    </tr>\n",
       "  </thead>\n",
       "  <tbody>\n",
       "    <tr>\n",
       "      <th>0</th>\n",
       "      <td>4.594442</td>\n",
       "      <td>-17.164526</td>\n",
       "      <td>Ensemble methods: bagging, boosting and stacking</td>\n",
       "    </tr>\n",
       "    <tr>\n",
       "      <th>1</th>\n",
       "      <td>9.094215</td>\n",
       "      <td>-19.818073</td>\n",
       "      <td>Understanding AUC - ROC Curve</td>\n",
       "    </tr>\n",
       "    <tr>\n",
       "      <th>2</th>\n",
       "      <td>2.201585</td>\n",
       "      <td>-9.697381</td>\n",
       "      <td>How to work with object detection datasets in ...</td>\n",
       "    </tr>\n",
       "    <tr>\n",
       "      <th>3</th>\n",
       "      <td>8.018794</td>\n",
       "      <td>-12.832398</td>\n",
       "      <td>11 Dimensionality reduction techniques you sho...</td>\n",
       "    </tr>\n",
       "    <tr>\n",
       "      <th>4</th>\n",
       "      <td>-2.673004</td>\n",
       "      <td>-15.714199</td>\n",
       "      <td>The Time Series Transformer</td>\n",
       "    </tr>\n",
       "    <tr>\n",
       "      <th>...</th>\n",
       "      <td>...</td>\n",
       "      <td>...</td>\n",
       "      <td>...</td>\n",
       "    </tr>\n",
       "    <tr>\n",
       "      <th>203</th>\n",
       "      <td>4.754317</td>\n",
       "      <td>22.501987</td>\n",
       "      <td>Type 2 Diabetes Reversal  The Quick Start Guide</td>\n",
       "    </tr>\n",
       "    <tr>\n",
       "      <th>204</th>\n",
       "      <td>3.297285</td>\n",
       "      <td>18.342972</td>\n",
       "      <td>How a 22 Day Water Fast Changed My Life</td>\n",
       "    </tr>\n",
       "    <tr>\n",
       "      <th>205</th>\n",
       "      <td>4.289151</td>\n",
       "      <td>18.891865</td>\n",
       "      <td>Breaking Your Fast</td>\n",
       "    </tr>\n",
       "    <tr>\n",
       "      <th>206</th>\n",
       "      <td>3.465235</td>\n",
       "      <td>13.650113</td>\n",
       "      <td>11 Unusual Tips for How to Wake Up Early</td>\n",
       "    </tr>\n",
       "    <tr>\n",
       "      <th>207</th>\n",
       "      <td>6.369584</td>\n",
       "      <td>19.806555</td>\n",
       "      <td>The 3 Biggest Mistakes Women Make On The Ketog...</td>\n",
       "    </tr>\n",
       "  </tbody>\n",
       "</table>\n",
       "<p>208 rows × 3 columns</p>\n",
       "</div>"
      ],
      "text/plain": [
       "           C1         C2                                              TITLE\n",
       "0    4.594442 -17.164526   Ensemble methods: bagging, boosting and stacking\n",
       "1    9.094215 -19.818073                      Understanding AUC - ROC Curve\n",
       "2    2.201585  -9.697381  How to work with object detection datasets in ...\n",
       "3    8.018794 -12.832398  11 Dimensionality reduction techniques you sho...\n",
       "4   -2.673004 -15.714199                        The Time Series Transformer\n",
       "..        ...        ...                                                ...\n",
       "203  4.754317  22.501987    Type 2 Diabetes Reversal  The Quick Start Guide\n",
       "204  3.297285  18.342972            How a 22 Day Water Fast Changed My Life\n",
       "205  4.289151  18.891865                                 Breaking Your Fast\n",
       "206  3.465235  13.650113           11 Unusual Tips for How to Wake Up Early\n",
       "207  6.369584  19.806555  The 3 Biggest Mistakes Women Make On The Ketog...\n",
       "\n",
       "[208 rows x 3 columns]"
      ]
     },
     "metadata": {},
     "output_type": "display_data"
    }
   ],
   "source": [
    "tsne = TSNE(n_components=2)\n",
    "tsne_tfidf_features = tsne.fit_transform(tfidf_features_df[tfidf_vectorizer.get_feature_names_out()].values)\n",
    "tsne_tfidf_features_df = pd.DataFrame(tsne_tfidf_features)\n",
    "tsne_tfidf_features_df.columns = [\"C1\", \"C2\"]\n",
    "tsne_tfidf_features_df[\"TITLE\"] = tfidf_features_df[\"TITLE\"]\n",
    "display(tsne_tfidf_features_df)"
   ]
  },
  {
   "cell_type": "code",
   "execution_count": 29,
   "metadata": {},
   "outputs": [
    {
     "data": {
      "application/vnd.plotly.v1+json": {
       "config": {
        "plotlyServerURL": "https://plot.ly"
       },
       "data": [
        {
         "customdata": [
          [
           "Ensemble methods: bagging, boosting and stacking"
          ],
          [
           "Understanding AUC - ROC Curve"
          ],
          [
           "How to work with object detection datasets in COCO format"
          ],
          [
           "11 Dimensionality reduction techniques you should know in 2021"
          ],
          [
           "The Time Series Transformer"
          ],
          [
           "Learning a Personalized Homepage"
          ],
          [
           "6 Data Science Certificates To Level Up Your Career"
          ],
          [
           "Transformers Explained Visually (Part 2): How it works, step-by-step"
          ],
          [
           "60 Python Projects with Source Code"
          ],
          [
           "Geometric foundations of Deep Learning"
          ],
          [
           "Machine Learning Basics with the K-Nearest Neighbors Algorithm"
          ],
          [
           "Building RNN, LSTM, and GRU for time series using PyTorch"
          ],
          [
           "Algorithms of the Mind"
          ],
          [
           "4 Reasons Why Economists Make Great Data Scientists (And Why No One Tells Them)"
          ],
          [
           "How To Create A Chatbot with Python & Deep Learning In Less Than An Hour"
          ],
          [
           "Machine Learning is Fun Part 5: Language Translation with Deep Learning and the Magic of Sequences"
          ],
          [
           "Illustrated Guide to LSTM's and GRU's: A step by step explanation"
          ],
          [
           "How to go from a Python newbie to a Google Certified TensorFlow Developer under two months"
          ],
          [
           "17 Clustering Algorithms Used In Data Science and Mining"
          ],
          [
           "Introduction to Genetic Algorithms  Including Example Code"
          ],
          [
           "Photoreal Roman Emperor Project"
          ],
          [
           "Fundamental Techniques of Feature Engineering for Machine Learning"
          ],
          [
           "How I Got a Job at DeepMind as a Research Engineer (without a Machine Learning Degree!)"
          ],
          [
           "Towards the end of deep learning and the beginning of AGI"
          ],
          [
           "Tutorial: Document Classification using WEKA"
          ],
          [
           "Understanding Random Forest"
          ],
          [
           "Probability concepts explained: Maximum likelihood estimation"
          ],
          [
           "Transformers Explained Visually (Part 3): Multi-head Attention, deep dive"
          ],
          [
           "180 Data Science and Machine Learning Projects with Python"
          ],
          [
           "5 Online Courses I Took as a Self-Taught Data Scientist"
          ],
          [
           "Machine Learning is Fun! Part 4: Modern Face Recognition with Deep Learning"
          ],
          [
           "9 Distance Measures in Data Science"
          ],
          [
           "The Sexiest Job of the 21st Century Isn't \"Sexy\" Anymore"
          ],
          [
           "Machine Learning is Fun! Part 3: Deep Learning and Convolutional Neural Networks"
          ],
          [
           "A Comprehensive Guide to Convolutional Neural Networks  the ELI5 way"
          ],
          [
           "20 Necessary Requirements of a Perfect Laptop for Data Science and Machine Learning Tasks"
          ],
          [
           "3 Beginner Mistakes I've Made in My Data Science Career"
          ],
          [
           "Understanding Variational Autoencoders (VAEs)"
          ],
          [
           "Setting Up a New M1 MacBook for Data Science"
          ],
          [
           "Are The New M1 Macbooks Any Good for Data Science? Let's Find Out"
          ],
          [
           "Simple and Multiple Linear Regression in Python"
          ],
          [
           "I tripled my income with data science. Here's how."
          ],
          [
           "Keyword Extraction process in Python with Natural Language Processing(NLP)"
          ],
          [
           "Machine learning models for 100% better returns in Algo-trading"
          ],
          [
           "How to Install Ubuntu Desktop With a Graphical User Interface in WSL2"
          ],
          [
           "Understanding Contrastive Learning"
          ],
          [
           "Understanding Semantic Segmentation with UNET"
          ],
          [
           "How Transformers Work"
          ],
          [
           "Yes you should understand backprop"
          ],
          [
           "PCA using Python (scikit-learn)"
          ],
          [
           "Hyperparameter Tuning the Random Forest in Python"
          ],
          [
           "Top 3 Reasons Why I Sold My M1 Macbook Pro as a Data Scientist"
          ],
          [
           "TRAIN A CUSTOM YOLOv4 OBJECT DETECTOR (Using Google Colab)"
          ],
          [
           "6 Machine Learning Certificates to Pursue in 2021"
          ],
          [
           "What to do with \"small\" data?"
          ],
          [
           "Time Series Forecasting with PyCaret Regression Module"
          ],
          [
           "15 Habits I Learned from Highly Effective Data Scientists"
          ],
          [
           "OVER 100 Data Scientist Interview Questions and Answers!"
          ],
          [
           "Activation Functions in Neural Networks"
          ],
          [
           "A One-Stop Shop for Principal Component Analysis"
          ],
          [
           "5 Things You Should Know About Covariance"
          ],
          [
           "How to build your own Neural Network from scratch in Python"
          ],
          [
           "The best explanation of Convolutional Neural Networks on the Internet!"
          ],
          [
           "Lambda Functions with Practical Examples in Python"
          ],
          [
           "The Complete Guide to Time Series Analysis and Forecasting"
          ],
          [
           "8 Ways to Filter Pandas Dataframes"
          ],
          [
           "Standing with Dr. Timnit Gebru  #ISupportTimnit #BelieveBlackWomen"
          ],
          [
           "Visualising high-dimensional datasets using PCA and t-SNE in Python"
          ],
          [
           "How to Study for the Google Data Analytics Professional Certificate"
          ],
          [
           "Is Data Science Still a Rising Career in 2021"
          ],
          [
           "Simple Reinforcement Learning with Tensorflow Part 0: Q-Learning with Tables and Neural Networks"
          ],
          [
           "How To Grow From Non-Coder to Data Scientist in 6 Months"
          ],
          [
           "Apple's New M1 Chip is a Machine Learning Beast"
          ],
          [
           "Train/Test Split and Cross Validation in Python"
          ],
          [
           "Text Classification with NLP: Tf-Idf vs Word2Vec vs BERT"
          ],
          [
           "The 5 Clustering Algorithms Data Scientists Need to Know"
          ],
          [
           "Building A Logistic Regression in Python, Step by Step"
          ],
          [
           "Springer has released 65 Machine Learning and Data books for free"
          ],
          [
           "Every single Machine Learning course on the internet, ranked by your reviews"
          ],
          [
           "TensorFlow Tutorial Part 1"
          ],
          [
           "The 7 Best Data Science and Machine Learning Podcasts"
          ],
          [
           "Random Forest in Python"
          ],
          [
           "How to Land a Data Analytics Job in 6 Months"
          ],
          [
           "What is a Transformer?"
          ],
          [
           "Fundamentals Of Statistics For Data Scientists and Analysts"
          ],
          [
           "Is Google's AI research about to implode?"
          ],
          [
           "Machine Learning is Fun! Part 2"
          ],
          [
           "Understanding Generative Adversarial Networks (GANs)"
          ],
          [
           "17 types of similarity and dissimilarity measures used in data science."
          ],
          [
           "Deep Learning Is Going to Teach Us All the Lesson of Our Lives: Jobs Are for Machines"
          ],
          [
           "I interviewed at five top companies in Silicon Valley in five days, and luckily got five job offers"
          ],
          [
           "Advantages and Disadvantages of Artificial Intelligence"
          ],
          [
           "Could Nim Replace Python?"
          ],
          [
           "An End-to-End Project on Time Series Analysis and Forecasting with Python"
          ],
          [
           "Data Scientists Will be Extinct in 10 Years"
          ],
          [
           "Import all Python libraries in one line of code"
          ],
          [
           "Enchanted Random Forest"
          ],
          [
           "Machine Learning in a Week"
          ],
          [
           "50+ Statistics Interview Questions and Answers for Data Scientists for 2022"
          ],
          [
           "Top 10 Data Science Projects for Beginners"
          ],
          [
           "Check For a Substring in a Pandas DataFrame Column"
          ],
          [
           "Machine Learning is Fun Part 6: How to do Speech Recognition with Deep Learning"
          ],
          [
           "Everything You Need to Know About Artificial Neural Networks"
          ],
          [
           "Ways to Detect and Remove the Outliers"
          ],
          [
           "How to Crush the Crypto Market, Quit Your Job, Move to Paradise and Do Whatever You Want the Rest of Your Life"
          ],
          [
           "Bitcoin Is Venice"
          ],
          [
           "How I Built a Net Worth of $500,000 Before Age 30"
          ],
          [
           "Nassim Nicholas Taleb on Self-Education and Doing the Math (Ep. 41  Live at Mercatus)"
          ],
          [
           "Public Mint Polkastarter IDO: Launching 23rd of February, Whitelist Now Open!"
          ],
          [
           "This is How I Made $40k In Passive Income By Age 26"
          ],
          [
           "Introducing The Iron Bank"
          ],
          [
           "I used Acorns, Robinhood, and Stash for 2 years. This is what I learned and earned."
          ],
          [
           "Explaining blockchain  how proof of work enables trustless consensus"
          ],
          [
           "Wealthfront:Silicon Valley Tech at Wall Street Prices"
          ],
          [
           "Crypto Trading Bots  A helpful guide for beginners [2020]"
          ],
          [
           "Why People Still Don't Get Cryptocurrency"
          ],
          [
           "Australia's Economy is a House of Cards"
          ],
          [
           "My First Two Months Trading Stocks with Robinhood"
          ],
          [
           "What It Takes to Go from $0 to $1 Million in Less Than One Year"
          ],
          [
           "Tesla Is Dead (And Elon Musk Knows It)"
          ],
          [
           "Uber's Credit Card Is Bankrupting Restaurants... and It's All Your Fault"
          ],
          [
           "A Quick Starter Guide to Leveraged Trading at BitMEX"
          ],
          [
           "I Made $3 Million in Crypto. These are the 26 Rules I Learned."
          ],
          [
           "The Black-Scholes formula, explained"
          ],
          [
           "You Will Never Be Rich If You Keep Doing These 10 things"
          ],
          [
           "Heroes Give, Superheroes Borrow"
          ],
          [
           "Could Bitcoin's Bull Market End Next Month?"
          ],
          [
           "The Exact Steps I Followed to Make $1,500+ of Passive Income Every Month"
          ],
          [
           "You May Have A Poor Person's Mindset And Not Know It"
          ],
          [
           "A Definitive Guide to Why Life Is So Terrible for Most Millennials"
          ],
          [
           "The Berkshire Hathaway of The Internet"
          ],
          [
           "How to invest in Bitcoin properly. Blockchain and other cryptocurrencies"
          ],
          [
           "Machine learning in finance: Why, what & how"
          ],
          [
           "Minimum Wage Artists"
          ],
          [
           "Richart + @GoGo "
          ],
          [
           "How to store Bitcoins and other cryptocurrencies properly."
          ],
          [
           "I was wrong about Ethereum"
          ],
          [
           "Deep Learning the Stock Market"
          ],
          [
           "Financial Fridays: It's Financial Suicide To Own A House"
          ],
          [
           "Gauge Theory Does Not Fix This"
          ],
          [
           "High Frequency Trading on the Coinbase Exchange"
          ],
          [
           "A $1000 Bitcoin Investment Won't Make You Rich"
          ],
          [
           "How To Legally Own Another Person"
          ],
          [
           "5 Things NOT to Do in the Robinhood App for Stock Trading"
          ],
          [
           "The One Word That Explains Why Economics Professors Are Not Billionaires"
          ],
          [
           "Building your credit history"
          ],
          [
           "I Retired at 35  Here Are 5 Lessons from My First 6 Months of Freedom"
          ],
          [
           "Why you should never use Upwork, ever."
          ],
          [
           "Facebook Can't Be Fixed."
          ],
          [
           "A comprehensive guide to downloading stock prices in Python"
          ],
          [
           "Detecting Credit Card Fraud Using Machine Learning"
          ],
          [
           "2018  & : KOKO COMBO icash "
          ],
          [
           "Is Wealthfront Worth it?"
          ],
          [
           "How I Slowly Became A \"Middle-Class\" Millionaire"
          ],
          [
           "SPY vs. QQQ: Investing in Different Indexes"
          ],
          [
           "I Won $104 Million for Blowing the Whistle on My CompanyBut Somehow I Was the Only One Who Went to Jail"
          ],
          [
           "Robinhood Lends \"Your\" Shares to Short Sellers (and Keeps All the Proceeds)"
          ],
          [
           "The Secret to Making 2000% in Stocks Overnight, the Anavex story."
          ],
          [
           "4 Unusual Side Hustles I Do to Earn an Extra $1,500 a Month"
          ],
          [
           "Meet 'Spoofy'. How a Single entity dominates the price of Bitcoin."
          ],
          [
           "How I Started Saving a TON of Money."
          ],
          [
           "How I transformed $6,000 to $3,000,000"
          ],
          [
           "Cliff Asness on Marvel vs. DC and Why Never to Share a Gym with Cirque du Soleil (Ep. 5  Live at Mason)"
          ],
          [
           "Paypal froze our funds, then offered us a business loan"
          ],
          [
           "A Visual Explanation of Algorithmic Stablecoins"
          ],
          [
           "Algorithmic Trading Bot: Python"
          ],
          [
           "Chernobyl's Blown Up Reactor 4 Just Woke Up"
          ],
          [
           "The Unexpected Case of the Disappearing Flu"
          ],
          [
           "The Diet & Workout Plan of a Full-Time Traveling Family  HIS"
          ],
          [
           "The Cult of Work You Never Meant to Join"
          ],
          [
           "5 Things to do in the First 24 Hours of a Cold or Flu"
          ],
          [
           "The Sweet Spot for Intermittent Fasting"
          ],
          [
           "The 6 Types of ICU Nurse"
          ],
          [
           "How to biohack your intelligence  with everything from sex to modafinil to MDMA"
          ],
          [
           "8 Common Arguments Against Vaccines"
          ],
          [
           "A Reasonably Detailed Guide to Optimizing Your iPhone for Productivity, Focus and Your Own Health"
          ],
          [
           "The cure for type 2 diabetes is known, but few are aware"
          ],
          [
           "Face mapping: how to deal with acne like a true detective"
          ],
          [
           "I'm 32 and spent $200k on biohacking. Became calmer, thinner, extroverted, healthier & happier."
          ],
          [
           "I need more iron"
          ],
          [
           "What I Learned From Quitting Coffee After 15 Years Of Daily Consumption"
          ],
          [
           "The forgotten art of untucking the tail"
          ],
          [
           "Hip Replacement Isn't What It Used To Be 12 Weeks Ago"
          ],
          [
           "Coronavirus: Why You Must Act Now"
          ],
          [
           "Manufacturers have been using nanotechnology-derived graphene in face masks  now there are safety concerns"
          ],
          [
           "Eben Byers: The Man Who Drank Radioactive Water Until His Jaw Fell Off"
          ],
          [
           "My Intermittent Fasting Lifestyle: How I Dropped 50 Pounds"
          ],
          [
           "I Stopped Drinking for 30 Days. Here's What Happened."
          ],
          [
           "How to lose 10+ pounds of fat a month- even if you have a slow metabolism"
          ],
          [
           "If You're Buying Your Weed Solely Based on the THC Level, You're Doing it Wrong."
          ],
          [
           "2016 Is Not Killing People"
          ],
          [
           "How I Learned to Sleep Only Three Hours Per Night (and Why You Should Too)"
          ],
          [
           "I fasted for 11 days, here is what happened."
          ],
          [
           "Coronavirus: The Hammer and the Dance"
          ],
          [
           "What Happens in Your Body When You Quit Drinking"
          ],
          [
           "The Science Behind Fat Metabolism"
          ],
          [
           "The Easiest Way to Lose 125 Pounds Is to Gain 175 Pounds"
          ],
          [
           "7 things I did to reboot my life."
          ],
          [
           "How I lost 10kg in 60 days: My 7-step weight loss plan"
          ],
          [
           "The Foo Fighters' AIDS denialism should be on the record"
          ],
          [
           "The Uncut History of Male Circumcision"
          ],
          [
           "10 Things You Can Do This Morning To Heal Your Anxiety"
          ],
          [
           "I just lost 100 pounds. Here's whyalmost nobody else will!"
          ],
          [
           "Type 2 Diabetes Reversal  The Quick Start Guide"
          ],
          [
           "How a 22 Day Water Fast Changed My Life"
          ],
          [
           "Breaking Your Fast"
          ],
          [
           "11 Unusual Tips for How to Wake Up Early"
          ],
          [
           "The 3 Biggest Mistakes Women Make On The Ketogenic Diet (And How To Fix Them)"
          ]
         ],
         "hovertemplate": "C1=%{x}<br>C2=%{y}<br>TITLE=%{customdata[0]}<extra></extra>",
         "legendgroup": "",
         "marker": {
          "color": "#636efa",
          "symbol": "circle"
         },
         "mode": "markers",
         "name": "",
         "orientation": "v",
         "showlegend": false,
         "type": "scatter",
         "x": [
          4.594442367553711,
          9.094215393066406,
          2.201585054397583,
          8.018794059753418,
          -2.673004150390625,
          -6.36542272567749,
          6.4664788246154785,
          -3.141641616821289,
          11.543255805969238,
          -6.298095703125,
          -0.5441528558731079,
          1.6992460489273071,
          -5.25051212310791,
          4.534816741943359,
          -0.2724059224128723,
          -3.4363961219787598,
          -5.127010345458984,
          8.178556442260742,
          5.767486572265625,
          9.731232643127441,
          6.194342613220215,
          2.6455955505371094,
          3.466538667678833,
          -3.330911874771118,
          0.7911274433135986,
          2.578800678253174,
          7.490738868713379,
          -3.3056423664093018,
          10.750710487365723,
          5.893754482269287,
          -7.275402545928955,
          -1.612903118133545,
          5.789931774139404,
          -7.0754265785217285,
          -8.620637893676758,
          -3.3949530124664307,
          3.805201292037964,
          5.700313568115234,
          -1.9064096212387085,
          -1.4362435340881348,
          7.75849723815918,
          4.411008358001709,
          12.870813369750977,
          -7.899501800537109,
          0.7604539394378662,
          -4.832827091217041,
          -8.550125122070312,
          -3.2408523559570312,
          10.683775901794434,
          8.137125968933105,
          3.0223324298858643,
          -2.121154308319092,
          1.5165308713912964,
          6.199000358581543,
          4.543756008148193,
          2.626363754272461,
          6.519839286804199,
          6.340140342712402,
          -7.654476165771484,
          8.97968578338623,
          10.017346382141113,
          -7.150128364562988,
          -8.272408485412598,
          -7.478614330291748,
          0.3046944737434387,
          -5.957308292388916,
          2.308173418045044,
          8.12132740020752,
          6.776788711547852,
          5.5504865646362305,
          -7.455023288726807,
          5.582653522491455,
          -2.108860492706299,
          3.2184693813323975,
          -1.0740864276885986,
          5.787981986999512,
          6.930098056793213,
          1.9821034669876099,
          4.675187110900879,
          8.495185852050781,
          3.1752235889434814,
          2.4533121585845947,
          7.6167426109313965,
          -2.653887987136841,
          7.685371398925781,
          -2.3926565647125244,
          -2.2083048820495605,
          6.181065082550049,
          -1.46548593044281,
          0.4749528467655182,
          3.5224344730377197,
          0.16581043601036072,
          11.909032821655273,
          0.11574171483516693,
          6.855034828186035,
          -7.094234466552734,
          2.473390579223633,
          3.843663215637207,
          6.666146278381348,
          8.103642463684082,
          -5.634186744689941,
          -5.9897236824035645,
          -7.700489521026611,
          3.8171544075012207,
          -8.359820365905762,
          -11.548513412475586,
          -2.0199456214904785,
          -6.796279430389404,
          -15.647998809814453,
          -5.157008647918701,
          8.158151626586914,
          -5.161498069763184,
          -12.752318382263184,
          -4.6228742599487305,
          -13.396017074584961,
          -6.436772346496582,
          -3.387690544128418,
          -5.614009380340576,
          0.1574358493089676,
          -9.050092697143555,
          -3.6335511207580566,
          -10.6187744140625,
          -10.558090209960938,
          -9.36709976196289,
          -3.808372974395752,
          -7.858520984649658,
          -12.175764083862305,
          -1.6582410335540771,
          -5.755732536315918,
          -1.8362585306167603,
          -8.16207218170166,
          -12.544973373413086,
          3.299804449081421,
          -0.25072553753852844,
          4.0309624671936035,
          -13.618292808532715,
          -13.889809608459473,
          -2.196164608001709,
          -3.3478026390075684,
          -10.292112350463867,
          -13.330058097839355,
          -11.812994003295898,
          -5.743177890777588,
          -6.050708293914795,
          -5.166744709014893,
          2.6534242630004883,
          -3.1631455421447754,
          -0.23601996898651123,
          -9.084644317626953,
          -7.796576023101807,
          5.225199222564697,
          4.350100994110107,
          -6.003412246704102,
          -3.3713631629943848,
          -6.489904403686523,
          -2.498450994491577,
          -4.89992618560791,
          -7.771500110626221,
          -0.5431045293807983,
          -12.125404357910156,
          -4.107349872589111,
          -7.465005397796631,
          -6.613103866577148,
          2.428274154663086,
          7.339907646179199,
          -7.4418463706970215,
          11.36578369140625,
          -5.482372283935547,
          1.9501067399978638,
          1.6674482822418213,
          -4.13637638092041,
          6.589159965515137,
          -0.8244970440864563,
          2.6982614994049072,
          -7.627923011779785,
          3.3058409690856934,
          5.199753284454346,
          7.2474589347839355,
          3.1798830032348633,
          8.806376457214355,
          7.450125694274902,
          1.3772244453430176,
          -0.5758032202720642,
          -5.6944499015808105,
          10.515003204345703,
          0.8487961292266846,
          4.100955009460449,
          6.643463611602783,
          3.819222927093506,
          -2.1268346309661865,
          -3.182020664215088,
          2.395519733428955,
          2.1753294467926025,
          -5.810756683349609,
          6.408121109008789,
          6.06395149230957,
          1.109805941581726,
          1.1301300525665283,
          2.956007480621338,
          -3.1896228790283203,
          -2.0099968910217285,
          4.278592109680176,
          2.4503002166748047,
          4.754316806793213,
          3.2972846031188965,
          4.289151191711426,
          3.4652349948883057,
          6.369584083557129
         ],
         "xaxis": "x",
         "y": [
          -17.164525985717773,
          -19.818073272705078,
          -9.697381019592285,
          -12.832398414611816,
          -15.71419906616211,
          -20.183223724365234,
          -5.925168037414551,
          -14.321925163269043,
          -3.3724613189697266,
          -10.655452728271484,
          -18.898622512817383,
          -13.595824241638184,
          -8.826204299926758,
          -2.389862537384033,
          -9.715018272399902,
          -11.342920303344727,
          -13.150217056274414,
          -6.559042453765869,
          -10.370647430419922,
          -17.57265281677246,
          -22.6980037689209,
          -12.998295783996582,
          3.553513526916504,
          -7.235141754150391,
          -11.320496559143066,
          -19.143625259399414,
          -18.535594940185547,
          -14.8660888671875,
          -3.4774930477142334,
          -3.225306987762451,
          -7.993505001068115,
          -20.27774429321289,
          -0.48654991388320923,
          -9.167223930358887,
          -9.359130859375,
          -3.1511056423187256,
          -1.136614203453064,
          -20.111967086791992,
          -1.9886763095855713,
          -3.5711543560028076,
          -15.283768653869629,
          0.44955524802207947,
          -4.243484020233154,
          1.4078980684280396,
          -8.53215503692627,
          -9.210453987121582,
          -8.95136833190918,
          -12.836690902709961,
          -9.510977745056152,
          -12.369484901428223,
          -16.484031677246094,
          -3.408601760864258,
          -9.376401901245117,
          -5.775585174560547,
          -15.733986854553223,
          -14.657508850097656,
          0.571365475654602,
          -16.764497756958008,
          -16.387502670288086,
          -14.140480995178223,
          -14.944202423095703,
          -11.983720779418945,
          -10.553262710571289,
          -16.814502716064453,
          -15.535218238830566,
          -19.14080810546875,
          -1.0896137952804565,
          -11.759305953979492,
          -3.78961443901062,
          -0.7843114733695984,
          -13.147433280944824,
          -2.031838893890381,
          -2.0883545875549316,
          -15.201416015625,
          -12.026290893554688,
          -10.228937149047852,
          -14.78019905090332,
          -21.32093620300293,
          -4.660216331481934,
          -7.235105037689209,
          -3.2590885162353516,
          -16.57209014892578,
          -2.958634853363037,
          -13.959480285644531,
          -16.645023345947266,
          -9.005963325500488,
          -9.582832336425781,
          -20.500062942504883,
          -20.08420181274414,
          1.3719611167907715,
          3.6192517280578613,
          1.060245394706726,
          -3.059237480163574,
          -15.795703887939453,
          -0.5943658351898193,
          -2.1988723278045654,
          -19.491764068603516,
          -5.814953804016113,
          -16.928239822387695,
          -2.44085955619812,
          -18.79483413696289,
          -6.9296112060546875,
          -11.222330093383789,
          -12.540704727172852,
          8.326457023620605,
          6.691678047180176,
          10.773967742919922,
          9.102263450622559,
          8.787871360778809,
          7.503420352935791,
          7.286051273345947,
          4.225191593170166,
          3.370410442352295,
          6.570074558258057,
          11.6787691116333,
          11.4537992477417,
          8.301915168762207,
          3.2891862392425537,
          4.830470085144043,
          3.3654515743255615,
          14.951191902160645,
          9.603275299072266,
          8.69586181640625,
          1.4150707721710205,
          11.372764587402344,
          13.299986839294434,
          7.642076015472412,
          12.243459701538086,
          12.332836151123047,
          9.507940292358398,
          10.435944557189941,
          6.00310754776001,
          -4.794668197631836,
          10.272753715515137,
          10.029043197631836,
          5.593196392059326,
          8.23280143737793,
          -12.309221267700195,
          8.940218925476074,
          6.006130695343018,
          11.600179672241211,
          7.361856937408447,
          9.62228775024414,
          3.1963346004486084,
          11.3970308303833,
          6.931511402130127,
          11.846988677978516,
          6.564730644226074,
          12.960261344909668,
          -0.442272424697876,
          -13.302800178527832,
          9.640863418579102,
          7.026299476623535,
          10.156643867492676,
          5.920181751251221,
          7.075052738189697,
          2.398279905319214,
          4.345242977142334,
          8.321964263916016,
          9.424714088439941,
          13.167806625366211,
          3.456697463989258,
          8.002009391784668,
          6.875303268432617,
          6.890142440795898,
          0.9018831849098206,
          12.452634811401367,
          19.200180053710938,
          21.018278121948242,
          14.034468650817871,
          19.356468200683594,
          21.736238479614258,
          15.604653358459473,
          15.38652515411377,
          17.762521743774414,
          10.961613655090332,
          21.251691818237305,
          12.2127046585083,
          16.19417381286621,
          7.690633296966553,
          15.652647972106934,
          22.3228759765625,
          16.589292526245117,
          17.65353012084961,
          12.378076553344727,
          18.709514617919922,
          18.206106185913086,
          16.119237899780273,
          20.4349422454834,
          4.66306209564209,
          22.168617248535156,
          13.773626327514648,
          18.2310848236084,
          17.96168327331543,
          16.727882385253906,
          20.298547744750977,
          16.633590698242188,
          15.469813346862793,
          20.818225860595703,
          21.664888381958008,
          19.718555450439453,
          13.58902359008789,
          19.821020126342773,
          22.50198745727539,
          18.342971801757812,
          18.891864776611328,
          13.650113105773926,
          19.806554794311523
         ],
         "yaxis": "y"
        }
       ],
       "layout": {
        "legend": {
         "tracegroupgap": 0
        },
        "template": {
         "data": {
          "bar": [
           {
            "error_x": {
             "color": "#2a3f5f"
            },
            "error_y": {
             "color": "#2a3f5f"
            },
            "marker": {
             "line": {
              "color": "#E5ECF6",
              "width": 0.5
             },
             "pattern": {
              "fillmode": "overlay",
              "size": 10,
              "solidity": 0.2
             }
            },
            "type": "bar"
           }
          ],
          "barpolar": [
           {
            "marker": {
             "line": {
              "color": "#E5ECF6",
              "width": 0.5
             },
             "pattern": {
              "fillmode": "overlay",
              "size": 10,
              "solidity": 0.2
             }
            },
            "type": "barpolar"
           }
          ],
          "carpet": [
           {
            "aaxis": {
             "endlinecolor": "#2a3f5f",
             "gridcolor": "white",
             "linecolor": "white",
             "minorgridcolor": "white",
             "startlinecolor": "#2a3f5f"
            },
            "baxis": {
             "endlinecolor": "#2a3f5f",
             "gridcolor": "white",
             "linecolor": "white",
             "minorgridcolor": "white",
             "startlinecolor": "#2a3f5f"
            },
            "type": "carpet"
           }
          ],
          "choropleth": [
           {
            "colorbar": {
             "outlinewidth": 0,
             "ticks": ""
            },
            "type": "choropleth"
           }
          ],
          "contour": [
           {
            "colorbar": {
             "outlinewidth": 0,
             "ticks": ""
            },
            "colorscale": [
             [
              0,
              "#0d0887"
             ],
             [
              0.1111111111111111,
              "#46039f"
             ],
             [
              0.2222222222222222,
              "#7201a8"
             ],
             [
              0.3333333333333333,
              "#9c179e"
             ],
             [
              0.4444444444444444,
              "#bd3786"
             ],
             [
              0.5555555555555556,
              "#d8576b"
             ],
             [
              0.6666666666666666,
              "#ed7953"
             ],
             [
              0.7777777777777778,
              "#fb9f3a"
             ],
             [
              0.8888888888888888,
              "#fdca26"
             ],
             [
              1,
              "#f0f921"
             ]
            ],
            "type": "contour"
           }
          ],
          "contourcarpet": [
           {
            "colorbar": {
             "outlinewidth": 0,
             "ticks": ""
            },
            "type": "contourcarpet"
           }
          ],
          "heatmap": [
           {
            "colorbar": {
             "outlinewidth": 0,
             "ticks": ""
            },
            "colorscale": [
             [
              0,
              "#0d0887"
             ],
             [
              0.1111111111111111,
              "#46039f"
             ],
             [
              0.2222222222222222,
              "#7201a8"
             ],
             [
              0.3333333333333333,
              "#9c179e"
             ],
             [
              0.4444444444444444,
              "#bd3786"
             ],
             [
              0.5555555555555556,
              "#d8576b"
             ],
             [
              0.6666666666666666,
              "#ed7953"
             ],
             [
              0.7777777777777778,
              "#fb9f3a"
             ],
             [
              0.8888888888888888,
              "#fdca26"
             ],
             [
              1,
              "#f0f921"
             ]
            ],
            "type": "heatmap"
           }
          ],
          "heatmapgl": [
           {
            "colorbar": {
             "outlinewidth": 0,
             "ticks": ""
            },
            "colorscale": [
             [
              0,
              "#0d0887"
             ],
             [
              0.1111111111111111,
              "#46039f"
             ],
             [
              0.2222222222222222,
              "#7201a8"
             ],
             [
              0.3333333333333333,
              "#9c179e"
             ],
             [
              0.4444444444444444,
              "#bd3786"
             ],
             [
              0.5555555555555556,
              "#d8576b"
             ],
             [
              0.6666666666666666,
              "#ed7953"
             ],
             [
              0.7777777777777778,
              "#fb9f3a"
             ],
             [
              0.8888888888888888,
              "#fdca26"
             ],
             [
              1,
              "#f0f921"
             ]
            ],
            "type": "heatmapgl"
           }
          ],
          "histogram": [
           {
            "marker": {
             "pattern": {
              "fillmode": "overlay",
              "size": 10,
              "solidity": 0.2
             }
            },
            "type": "histogram"
           }
          ],
          "histogram2d": [
           {
            "colorbar": {
             "outlinewidth": 0,
             "ticks": ""
            },
            "colorscale": [
             [
              0,
              "#0d0887"
             ],
             [
              0.1111111111111111,
              "#46039f"
             ],
             [
              0.2222222222222222,
              "#7201a8"
             ],
             [
              0.3333333333333333,
              "#9c179e"
             ],
             [
              0.4444444444444444,
              "#bd3786"
             ],
             [
              0.5555555555555556,
              "#d8576b"
             ],
             [
              0.6666666666666666,
              "#ed7953"
             ],
             [
              0.7777777777777778,
              "#fb9f3a"
             ],
             [
              0.8888888888888888,
              "#fdca26"
             ],
             [
              1,
              "#f0f921"
             ]
            ],
            "type": "histogram2d"
           }
          ],
          "histogram2dcontour": [
           {
            "colorbar": {
             "outlinewidth": 0,
             "ticks": ""
            },
            "colorscale": [
             [
              0,
              "#0d0887"
             ],
             [
              0.1111111111111111,
              "#46039f"
             ],
             [
              0.2222222222222222,
              "#7201a8"
             ],
             [
              0.3333333333333333,
              "#9c179e"
             ],
             [
              0.4444444444444444,
              "#bd3786"
             ],
             [
              0.5555555555555556,
              "#d8576b"
             ],
             [
              0.6666666666666666,
              "#ed7953"
             ],
             [
              0.7777777777777778,
              "#fb9f3a"
             ],
             [
              0.8888888888888888,
              "#fdca26"
             ],
             [
              1,
              "#f0f921"
             ]
            ],
            "type": "histogram2dcontour"
           }
          ],
          "mesh3d": [
           {
            "colorbar": {
             "outlinewidth": 0,
             "ticks": ""
            },
            "type": "mesh3d"
           }
          ],
          "parcoords": [
           {
            "line": {
             "colorbar": {
              "outlinewidth": 0,
              "ticks": ""
             }
            },
            "type": "parcoords"
           }
          ],
          "pie": [
           {
            "automargin": true,
            "type": "pie"
           }
          ],
          "scatter": [
           {
            "fillpattern": {
             "fillmode": "overlay",
             "size": 10,
             "solidity": 0.2
            },
            "type": "scatter"
           }
          ],
          "scatter3d": [
           {
            "line": {
             "colorbar": {
              "outlinewidth": 0,
              "ticks": ""
             }
            },
            "marker": {
             "colorbar": {
              "outlinewidth": 0,
              "ticks": ""
             }
            },
            "type": "scatter3d"
           }
          ],
          "scattercarpet": [
           {
            "marker": {
             "colorbar": {
              "outlinewidth": 0,
              "ticks": ""
             }
            },
            "type": "scattercarpet"
           }
          ],
          "scattergeo": [
           {
            "marker": {
             "colorbar": {
              "outlinewidth": 0,
              "ticks": ""
             }
            },
            "type": "scattergeo"
           }
          ],
          "scattergl": [
           {
            "marker": {
             "colorbar": {
              "outlinewidth": 0,
              "ticks": ""
             }
            },
            "type": "scattergl"
           }
          ],
          "scattermapbox": [
           {
            "marker": {
             "colorbar": {
              "outlinewidth": 0,
              "ticks": ""
             }
            },
            "type": "scattermapbox"
           }
          ],
          "scatterpolar": [
           {
            "marker": {
             "colorbar": {
              "outlinewidth": 0,
              "ticks": ""
             }
            },
            "type": "scatterpolar"
           }
          ],
          "scatterpolargl": [
           {
            "marker": {
             "colorbar": {
              "outlinewidth": 0,
              "ticks": ""
             }
            },
            "type": "scatterpolargl"
           }
          ],
          "scatterternary": [
           {
            "marker": {
             "colorbar": {
              "outlinewidth": 0,
              "ticks": ""
             }
            },
            "type": "scatterternary"
           }
          ],
          "surface": [
           {
            "colorbar": {
             "outlinewidth": 0,
             "ticks": ""
            },
            "colorscale": [
             [
              0,
              "#0d0887"
             ],
             [
              0.1111111111111111,
              "#46039f"
             ],
             [
              0.2222222222222222,
              "#7201a8"
             ],
             [
              0.3333333333333333,
              "#9c179e"
             ],
             [
              0.4444444444444444,
              "#bd3786"
             ],
             [
              0.5555555555555556,
              "#d8576b"
             ],
             [
              0.6666666666666666,
              "#ed7953"
             ],
             [
              0.7777777777777778,
              "#fb9f3a"
             ],
             [
              0.8888888888888888,
              "#fdca26"
             ],
             [
              1,
              "#f0f921"
             ]
            ],
            "type": "surface"
           }
          ],
          "table": [
           {
            "cells": {
             "fill": {
              "color": "#EBF0F8"
             },
             "line": {
              "color": "white"
             }
            },
            "header": {
             "fill": {
              "color": "#C8D4E3"
             },
             "line": {
              "color": "white"
             }
            },
            "type": "table"
           }
          ]
         },
         "layout": {
          "annotationdefaults": {
           "arrowcolor": "#2a3f5f",
           "arrowhead": 0,
           "arrowwidth": 1
          },
          "autotypenumbers": "strict",
          "coloraxis": {
           "colorbar": {
            "outlinewidth": 0,
            "ticks": ""
           }
          },
          "colorscale": {
           "diverging": [
            [
             0,
             "#8e0152"
            ],
            [
             0.1,
             "#c51b7d"
            ],
            [
             0.2,
             "#de77ae"
            ],
            [
             0.3,
             "#f1b6da"
            ],
            [
             0.4,
             "#fde0ef"
            ],
            [
             0.5,
             "#f7f7f7"
            ],
            [
             0.6,
             "#e6f5d0"
            ],
            [
             0.7,
             "#b8e186"
            ],
            [
             0.8,
             "#7fbc41"
            ],
            [
             0.9,
             "#4d9221"
            ],
            [
             1,
             "#276419"
            ]
           ],
           "sequential": [
            [
             0,
             "#0d0887"
            ],
            [
             0.1111111111111111,
             "#46039f"
            ],
            [
             0.2222222222222222,
             "#7201a8"
            ],
            [
             0.3333333333333333,
             "#9c179e"
            ],
            [
             0.4444444444444444,
             "#bd3786"
            ],
            [
             0.5555555555555556,
             "#d8576b"
            ],
            [
             0.6666666666666666,
             "#ed7953"
            ],
            [
             0.7777777777777778,
             "#fb9f3a"
            ],
            [
             0.8888888888888888,
             "#fdca26"
            ],
            [
             1,
             "#f0f921"
            ]
           ],
           "sequentialminus": [
            [
             0,
             "#0d0887"
            ],
            [
             0.1111111111111111,
             "#46039f"
            ],
            [
             0.2222222222222222,
             "#7201a8"
            ],
            [
             0.3333333333333333,
             "#9c179e"
            ],
            [
             0.4444444444444444,
             "#bd3786"
            ],
            [
             0.5555555555555556,
             "#d8576b"
            ],
            [
             0.6666666666666666,
             "#ed7953"
            ],
            [
             0.7777777777777778,
             "#fb9f3a"
            ],
            [
             0.8888888888888888,
             "#fdca26"
            ],
            [
             1,
             "#f0f921"
            ]
           ]
          },
          "colorway": [
           "#636efa",
           "#EF553B",
           "#00cc96",
           "#ab63fa",
           "#FFA15A",
           "#19d3f3",
           "#FF6692",
           "#B6E880",
           "#FF97FF",
           "#FECB52"
          ],
          "font": {
           "color": "#2a3f5f"
          },
          "geo": {
           "bgcolor": "white",
           "lakecolor": "white",
           "landcolor": "#E5ECF6",
           "showlakes": true,
           "showland": true,
           "subunitcolor": "white"
          },
          "hoverlabel": {
           "align": "left"
          },
          "hovermode": "closest",
          "mapbox": {
           "style": "light"
          },
          "paper_bgcolor": "white",
          "plot_bgcolor": "#E5ECF6",
          "polar": {
           "angularaxis": {
            "gridcolor": "white",
            "linecolor": "white",
            "ticks": ""
           },
           "bgcolor": "#E5ECF6",
           "radialaxis": {
            "gridcolor": "white",
            "linecolor": "white",
            "ticks": ""
           }
          },
          "scene": {
           "xaxis": {
            "backgroundcolor": "#E5ECF6",
            "gridcolor": "white",
            "gridwidth": 2,
            "linecolor": "white",
            "showbackground": true,
            "ticks": "",
            "zerolinecolor": "white"
           },
           "yaxis": {
            "backgroundcolor": "#E5ECF6",
            "gridcolor": "white",
            "gridwidth": 2,
            "linecolor": "white",
            "showbackground": true,
            "ticks": "",
            "zerolinecolor": "white"
           },
           "zaxis": {
            "backgroundcolor": "#E5ECF6",
            "gridcolor": "white",
            "gridwidth": 2,
            "linecolor": "white",
            "showbackground": true,
            "ticks": "",
            "zerolinecolor": "white"
           }
          },
          "shapedefaults": {
           "line": {
            "color": "#2a3f5f"
           }
          },
          "ternary": {
           "aaxis": {
            "gridcolor": "white",
            "linecolor": "white",
            "ticks": ""
           },
           "baxis": {
            "gridcolor": "white",
            "linecolor": "white",
            "ticks": ""
           },
           "bgcolor": "#E5ECF6",
           "caxis": {
            "gridcolor": "white",
            "linecolor": "white",
            "ticks": ""
           }
          },
          "title": {
           "x": 0.05
          },
          "xaxis": {
           "automargin": true,
           "gridcolor": "white",
           "linecolor": "white",
           "ticks": "",
           "title": {
            "standoff": 15
           },
           "zerolinecolor": "white",
           "zerolinewidth": 2
          },
          "yaxis": {
           "automargin": true,
           "gridcolor": "white",
           "linecolor": "white",
           "ticks": "",
           "title": {
            "standoff": 15
           },
           "zerolinecolor": "white",
           "zerolinewidth": 2
          }
         }
        },
        "title": {
         "text": "T-distributed Stochastic Neighbor Embedding for TFIDF document representation"
        },
        "xaxis": {
         "anchor": "y",
         "domain": [
          0,
          1
         ],
         "title": {
          "text": "C1"
         }
        },
        "yaxis": {
         "anchor": "x",
         "domain": [
          0,
          1
         ],
         "title": {
          "text": "C2"
         }
        }
       }
      }
     },
     "metadata": {},
     "output_type": "display_data"
    }
   ],
   "source": [
    "title = \"T-distributed Stochastic Neighbor Embedding for TFIDF document representation\"\n",
    "fig = px.scatter(tsne_tfidf_features_df, x=\"C1\", y=\"C2\", hover_data=['TITLE'], title=title)\n",
    "fig.show()"
   ]
  }
 ],
 "metadata": {
  "kernelspec": {
   "display_name": "Python 3",
   "language": "python",
   "name": "python3"
  },
  "language_info": {
   "codemirror_mode": {
    "name": "ipython",
    "version": 3
   },
   "file_extension": ".py",
   "mimetype": "text/x-python",
   "name": "python",
   "nbconvert_exporter": "python",
   "pygments_lexer": "ipython3",
   "version": "3.12.4"
  }
 },
 "nbformat": 4,
 "nbformat_minor": 2
}
